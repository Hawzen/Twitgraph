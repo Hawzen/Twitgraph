{
 "cells": [
  {
   "cell_type": "code",
   "execution_count": 270,
   "metadata": {},
   "outputs": [],
   "source": [
    "from saving_and_loading import *\n",
    "from argparse import ArgumentParser, RawTextHelpFormatter\n",
    "from warnings import warn\n",
    "from os.path import abspath\n",
    "from automate import automate\n",
    "import pandas as pd\n",
    "import numpy as np\n",
    "import plotly.express as px"
   ]
  },
  {
   "cell_type": "code",
   "execution_count": 271,
   "metadata": {},
   "outputs": [],
   "source": [
    "from sklearn.metrics import silhouette_score\n",
    "from sklearn.cluster import k_means, spectral_clustering, DBSCAN\n",
    "from spectral_clustering import createAdjacency\n",
    "from hdbscan import HDBSCAN\n",
    "import umap"
   ]
  },
  {
   "cell_type": "code",
   "execution_count": 272,
   "metadata": {},
   "outputs": [],
   "source": [
    "graph = db[\"mohe_sa\"]"
   ]
  },
  {
   "cell_type": "markdown",
   "metadata": {},
   "source": [
    "![_](https://i.stack.imgur.com/LnmZC.png)"
   ]
  },
  {
   "cell_type": "code",
   "execution_count": 273,
   "metadata": {},
   "outputs": [],
   "source": [
    "graph.fullEdgeSearch(-1)\n",
    "adj = createAdjacency(graph.nodes)"
   ]
  },
  {
   "cell_type": "code",
   "execution_count": 274,
   "metadata": {},
   "outputs": [
    {
     "name": "stdout",
     "output_type": "stream",
     "text": [
      "2 0.1162686590536455\n",
      "3 -0.15597260457959738\n",
      "4 -0.1740512060036333\n",
      "5 -0.16008720657102582\n",
      "6 -0.13710491064640726\n",
      "7 -0.13067401872626494\n",
      "8 -0.12078008682519069\n",
      "9 -0.167234762235586\n",
      "10 -0.19602617858365873\n",
      "11 -0.19058673933446846\n",
      "12 -0.1757923459288438\n",
      "13 -0.17033673598743249\n",
      "14 -0.19825049193769995\n",
      "15 -0.19239781290908825\n",
      "16 -0.22264816228497808\n",
      "17 -0.20385075197644925\n",
      "18 -0.2021165563368881\n",
      "19 -0.2181930591397395\n",
      "20 -0.2211185697925393\n",
      "21 -0.19307397507293225\n",
      "22 -0.21522470415839048\n",
      "23 -0.18963321415773418\n",
      "24 -0.22656998521474817\n",
      "25 -0.2099730144442157\n",
      "26 -0.18423961883398776\n",
      "27 -0.2088475857149586\n",
      "28 -0.20871814821311588\n",
      "29 -0.21630802321591644\n"
     ]
    }
   ],
   "source": [
    "for i in range(2, 30):\n",
    "    clustering = spectral_clustering(adj, n_clusters=i)\n",
    "    print(i, silhouette_score(adj, clustering))"
   ]
  },
  {
   "cell_type": "code",
   "execution_count": 275,
   "metadata": {},
   "outputs": [
    {
     "name": "stdout",
     "output_type": "stream",
     "text": [
      "2 -0.21556888367808205\n"
     ]
    }
   ],
   "source": [
    "for i in range(2, 3):\n",
    "    hdbscanner = HDBSCAN(\n",
    "                min_cluster_size=i, \n",
    "                cluster_selection_epsilon=1, \n",
    "                cluster_selection_method=\"leaf\",\n",
    "                metric=\"manhattan\",\n",
    "                )\n",
    "    hdb_clustering = hdbscanner.fit_predict(adj)\n",
    "    print(i, silhouette_score(adj, hdb_clustering))"
   ]
  },
  {
   "cell_type": "code",
   "execution_count": 276,
   "metadata": {},
   "outputs": [
    {
     "name": "stdout",
     "output_type": "stream",
     "text": [
      "\u001b[1;31mInit signature:\u001b[0m\n",
      "\u001b[0mHDBSCAN\u001b[0m\u001b[1;33m(\u001b[0m\u001b[1;33m\n",
      "\u001b[0m    \u001b[0mmin_cluster_size\u001b[0m\u001b[1;33m=\u001b[0m\u001b[1;36m5\u001b[0m\u001b[1;33m,\u001b[0m\u001b[1;33m\n",
      "\u001b[0m    \u001b[0mmin_samples\u001b[0m\u001b[1;33m=\u001b[0m\u001b[1;32mNone\u001b[0m\u001b[1;33m,\u001b[0m\u001b[1;33m\n",
      "\u001b[0m    \u001b[0mcluster_selection_epsilon\u001b[0m\u001b[1;33m=\u001b[0m\u001b[1;36m0.0\u001b[0m\u001b[1;33m,\u001b[0m\u001b[1;33m\n",
      "\u001b[0m    \u001b[0mmetric\u001b[0m\u001b[1;33m=\u001b[0m\u001b[1;34m'euclidean'\u001b[0m\u001b[1;33m,\u001b[0m\u001b[1;33m\n",
      "\u001b[0m    \u001b[0malpha\u001b[0m\u001b[1;33m=\u001b[0m\u001b[1;36m1.0\u001b[0m\u001b[1;33m,\u001b[0m\u001b[1;33m\n",
      "\u001b[0m    \u001b[0mp\u001b[0m\u001b[1;33m=\u001b[0m\u001b[1;32mNone\u001b[0m\u001b[1;33m,\u001b[0m\u001b[1;33m\n",
      "\u001b[0m    \u001b[0malgorithm\u001b[0m\u001b[1;33m=\u001b[0m\u001b[1;34m'best'\u001b[0m\u001b[1;33m,\u001b[0m\u001b[1;33m\n",
      "\u001b[0m    \u001b[0mleaf_size\u001b[0m\u001b[1;33m=\u001b[0m\u001b[1;36m40\u001b[0m\u001b[1;33m,\u001b[0m\u001b[1;33m\n",
      "\u001b[0m    \u001b[0mmemory\u001b[0m\u001b[1;33m=\u001b[0m\u001b[0mMemory\u001b[0m\u001b[1;33m(\u001b[0m\u001b[0mlocation\u001b[0m\u001b[1;33m=\u001b[0m\u001b[1;32mNone\u001b[0m\u001b[1;33m)\u001b[0m\u001b[1;33m,\u001b[0m\u001b[1;33m\n",
      "\u001b[0m    \u001b[0mapprox_min_span_tree\u001b[0m\u001b[1;33m=\u001b[0m\u001b[1;32mTrue\u001b[0m\u001b[1;33m,\u001b[0m\u001b[1;33m\n",
      "\u001b[0m    \u001b[0mgen_min_span_tree\u001b[0m\u001b[1;33m=\u001b[0m\u001b[1;32mFalse\u001b[0m\u001b[1;33m,\u001b[0m\u001b[1;33m\n",
      "\u001b[0m    \u001b[0mcore_dist_n_jobs\u001b[0m\u001b[1;33m=\u001b[0m\u001b[1;36m4\u001b[0m\u001b[1;33m,\u001b[0m\u001b[1;33m\n",
      "\u001b[0m    \u001b[0mcluster_selection_method\u001b[0m\u001b[1;33m=\u001b[0m\u001b[1;34m'eom'\u001b[0m\u001b[1;33m,\u001b[0m\u001b[1;33m\n",
      "\u001b[0m    \u001b[0mallow_single_cluster\u001b[0m\u001b[1;33m=\u001b[0m\u001b[1;32mFalse\u001b[0m\u001b[1;33m,\u001b[0m\u001b[1;33m\n",
      "\u001b[0m    \u001b[0mprediction_data\u001b[0m\u001b[1;33m=\u001b[0m\u001b[1;32mFalse\u001b[0m\u001b[1;33m,\u001b[0m\u001b[1;33m\n",
      "\u001b[0m    \u001b[0mmatch_reference_implementation\u001b[0m\u001b[1;33m=\u001b[0m\u001b[1;32mFalse\u001b[0m\u001b[1;33m,\u001b[0m\u001b[1;33m\n",
      "\u001b[0m    \u001b[1;33m**\u001b[0m\u001b[0mkwargs\u001b[0m\u001b[1;33m,\u001b[0m\u001b[1;33m\n",
      "\u001b[0m\u001b[1;33m)\u001b[0m\u001b[1;33m\u001b[0m\u001b[1;33m\u001b[0m\u001b[0m\n",
      "\u001b[1;31mDocstring:\u001b[0m     \n",
      "Perform HDBSCAN clustering from vector array or distance matrix.\n",
      "\n",
      "HDBSCAN - Hierarchical Density-Based Spatial Clustering of Applications\n",
      "with Noise. Performs DBSCAN over varying epsilon values and integrates\n",
      "the result to find a clustering that gives the best stability over epsilon.\n",
      "This allows HDBSCAN to find clusters of varying densities (unlike DBSCAN),\n",
      "and be more robust to parameter selection.\n",
      "\n",
      "Parameters\n",
      "----------\n",
      "min_cluster_size : int, optional (default=5)\n",
      "    The minimum size of clusters; single linkage splits that contain\n",
      "    fewer points than this will be considered points \"falling out\" of a\n",
      "    cluster rather than a cluster splitting into two new clusters.\n",
      "\n",
      "min_samples : int, optional (default=None)\n",
      "    The number of samples in a neighbourhood for a point to be\n",
      "    considered a core point.\n",
      "\n",
      "metric : string, or callable, optional (default='euclidean')\n",
      "    The metric to use when calculating distance between instances in a\n",
      "    feature array. If metric is a string or callable, it must be one of\n",
      "    the options allowed by metrics.pairwise.pairwise_distances for its\n",
      "    metric parameter.\n",
      "    If metric is \"precomputed\", X is assumed to be a distance matrix and\n",
      "    must be square.\n",
      "\n",
      "p : int, optional (default=None)\n",
      "    p value to use if using the minkowski metric.\n",
      "\n",
      "alpha : float, optional (default=1.0)\n",
      "    A distance scaling parameter as used in robust single linkage.\n",
      "    See [3]_ for more information.\n",
      "\n",
      "cluster_selection_epsilon: float, optional (default=0.0)\n",
      "            A distance threshold. Clusters below this value will be merged.\n",
      "    See [5]_ for more information.\n",
      "\n",
      "algorithm : string, optional (default='best')\n",
      "    Exactly which algorithm to use; hdbscan has variants specialised\n",
      "    for different characteristics of the data. By default this is set\n",
      "    to ``best`` which chooses the \"best\" algorithm given the nature of\n",
      "    the data. You can force other options if you believe you know\n",
      "    better. Options are:\n",
      "        * ``best``\n",
      "        * ``generic``\n",
      "        * ``prims_kdtree``\n",
      "        * ``prims_balltree``\n",
      "        * ``boruvka_kdtree``\n",
      "        * ``boruvka_balltree``\n",
      "\n",
      "leaf_size: int, optional (default=40)\n",
      "    If using a space tree algorithm (kdtree, or balltree) the number\n",
      "    of points ina leaf node of the tree. This does not alter the\n",
      "    resulting clustering, but may have an effect on the runtime\n",
      "    of the algorithm.\n",
      "\n",
      "memory : Instance of joblib.Memory or string (optional)\n",
      "    Used to cache the output of the computation of the tree.\n",
      "    By default, no caching is done. If a string is given, it is the\n",
      "    path to the caching directory.\n",
      "\n",
      "approx_min_span_tree : bool, optional (default=True)\n",
      "    Whether to accept an only approximate minimum spanning tree.\n",
      "    For some algorithms this can provide a significant speedup, but\n",
      "    the resulting clustering may be of marginally lower quality.\n",
      "    If you are willing to sacrifice speed for correctness you may want\n",
      "    to explore this; in general this should be left at the default True.\n",
      "\n",
      "gen_min_span_tree: bool, optional (default=False)\n",
      "    Whether to generate the minimum spanning tree with regard\n",
      "    to mutual reachability distance for later analysis.\n",
      "\n",
      "core_dist_n_jobs : int, optional (default=4)\n",
      "    Number of parallel jobs to run in core distance computations (if\n",
      "    supported by the specific algorithm). For ``core_dist_n_jobs``\n",
      "    below -1, (n_cpus + 1 + core_dist_n_jobs) are used.\n",
      "\n",
      "cluster_selection_method : string, optional (default='eom')\n",
      "    The method used to select clusters from the condensed tree. The\n",
      "    standard approach for HDBSCAN* is to use an Excess of Mass algorithm\n",
      "    to find the most persistent clusters. Alternatively you can instead\n",
      "    select the clusters at the leaves of the tree -- this provides the\n",
      "    most fine grained and homogeneous clusters. Options are:\n",
      "        * ``eom``\n",
      "        * ``leaf``\n",
      "\n",
      "allow_single_cluster : bool, optional (default=False)\n",
      "    By default HDBSCAN* will not produce a single cluster, setting this\n",
      "    to True will override this and allow single cluster results in\n",
      "    the case that you feel this is a valid result for your dataset.\n",
      "\n",
      "prediction_data : boolean, optional\n",
      "    Whether to generate extra cached data for predicting labels or\n",
      "    membership vectors few new unseen points later. If you wish to\n",
      "    persist the clustering object for later re-use you probably want\n",
      "    to set this to True.\n",
      "    (default False)\n",
      "\n",
      "match_reference_implementation : bool, optional (default=False)\n",
      "    There exist some interpretational differences between this\n",
      "    HDBSCAN* implementation and the original authors reference\n",
      "    implementation in Java. This can result in very minor differences\n",
      "    in clustering results. Setting this flag to True will, at a some\n",
      "    performance cost, ensure that the clustering results match the\n",
      "    reference implementation.\n",
      "\n",
      "**kwargs : optional\n",
      "    Arguments passed to the distance metric\n",
      "\n",
      "Attributes\n",
      "----------\n",
      "labels_ : ndarray, shape (n_samples, )\n",
      "    Cluster labels for each point in the dataset given to fit().\n",
      "    Noisy samples are given the label -1.\n",
      "\n",
      "probabilities_ : ndarray, shape (n_samples, )\n",
      "    The strength with which each sample is a member of its assigned\n",
      "    cluster. Noise points have probability zero; points in clusters\n",
      "    have values assigned proportional to the degree that they\n",
      "    persist as part of the cluster.\n",
      "\n",
      "cluster_persistence_ : ndarray, shape (n_clusters, )\n",
      "    A score of how persistent each cluster is. A score of 1.0 represents\n",
      "    a perfectly stable cluster that persists over all distance scales,\n",
      "    while a score of 0.0 represents a perfectly ephemeral cluster. These\n",
      "    scores can be guage the relative coherence of the clusters output\n",
      "    by the algorithm.\n",
      "\n",
      "condensed_tree_ : CondensedTree object\n",
      "    The condensed tree produced by HDBSCAN. The object has methods\n",
      "    for converting to pandas, networkx, and plotting.\n",
      "\n",
      "single_linkage_tree_ : SingleLinkageTree object\n",
      "    The single linkage tree produced by HDBSCAN. The object has methods\n",
      "    for converting to pandas, networkx, and plotting.\n",
      "\n",
      "minimum_spanning_tree_ : MinimumSpanningTree object\n",
      "    The minimum spanning tree of the mutual reachability graph generated\n",
      "    by HDBSCAN. Note that this is not generated by default and will only\n",
      "    be available if `gen_min_span_tree` was set to True on object creation.\n",
      "    Even then in some optimized cases a tre may not be generated.\n",
      "\n",
      "outlier_scores_ : ndarray, shape (n_samples, )\n",
      "    Outlier scores for clustered points; the larger the score the more\n",
      "    outlier-like the point. Useful as an outlier detection technique.\n",
      "    Based on the GLOSH algorithm by Campello, Moulavi, Zimek and Sander.\n",
      "\n",
      "prediction_data_ : PredictionData object\n",
      "    Cached data used for predicting the cluster labels of new or\n",
      "    unseen points. Necessary only if you are using functions from\n",
      "    ``hdbscan.prediction`` (see\n",
      "    :func:`~hdbscan.prediction.approximate_predict`,\n",
      "    :func:`~hdbscan.prediction.membership_vector`,\n",
      "    and :func:`~hdbscan.prediction.all_points_membership_vectors`).\n",
      "\n",
      "exemplars_ : list\n",
      "    A list of exemplar points for clusters. Since HDBSCAN supports\n",
      "    arbitrary shapes for clusters we cannot provide a single cluster\n",
      "    exemplar per cluster. Instead a list is returned with each element\n",
      "    of the list being a numpy array of exemplar points for a cluster --\n",
      "    these points are the \"most representative\" points of the cluster.\n",
      "\n",
      "relative_validity_ : float\n",
      "    A fast approximation of the Density Based Cluster Validity (DBCV)\n",
      "    score [4]. The only differece, and the speed, comes from the fact\n",
      "    that this relative_validity_ is computed using the mutual-\n",
      "    reachability minimum spanning tree, i.e. minimum_spanning_tree_,\n",
      "    instead of the all-points minimum spanning tree used in the\n",
      "    reference. This score might not be an objective measure of the\n",
      "    goodness of clusterering. It may only be used to compare results\n",
      "    across different choices of hyper-parameters, therefore is only a\n",
      "    relative score.\n",
      "\n",
      "References\n",
      "----------\n",
      "\n",
      ".. [1] Campello, R. J., Moulavi, D., & Sander, J. (2013, April).\n",
      "   Density-based clustering based on hierarchical density estimates.\n",
      "   In Pacific-Asia Conference on Knowledge Discovery and Data Mining\n",
      "   (pp. 160-172). Springer Berlin Heidelberg.\n",
      "\n",
      ".. [2] Campello, R. J., Moulavi, D., Zimek, A., & Sander, J. (2015).\n",
      "   Hierarchical density estimates for data clustering, visualization,\n",
      "   and outlier detection. ACM Transactions on Knowledge Discovery\n",
      "   from Data (TKDD), 10(1), 5.\n",
      "\n",
      ".. [3] Chaudhuri, K., & Dasgupta, S. (2010). Rates of convergence for the\n",
      "   cluster tree. In Advances in Neural Information Processing Systems\n",
      "   (pp. 343-351).\n",
      "\n",
      ".. [4] Moulavi, D., Jaskowiak, P.A., Campello, R.J., Zimek, A. and\n",
      "   Sander, J., 2014. Density-Based Clustering Validation. In SDM\n",
      "   (pp. 839-847).\n",
      "\n",
      ".. [5] Malzer, C., & Baum, M. (2019). A Hybrid Approach To Hierarchical \n",
      "       Density-based Cluster Selection. arxiv preprint 1911.02282.\n",
      "\u001b[1;31mFile:\u001b[0m           d:\\softwarez\\anaconda\\lib\\site-packages\\hdbscan\\hdbscan_.py\n",
      "\u001b[1;31mType:\u001b[0m           type\n",
      "\u001b[1;31mSubclasses:\u001b[0m     \n"
     ]
    }
   ],
   "source": [
    "HDBSCAN?"
   ]
  },
  {
   "cell_type": "code",
   "execution_count": 277,
   "metadata": {},
   "outputs": [
    {
     "name": "stdout",
     "output_type": "stream",
     "text": [
      "\u001b[1;31mInit signature:\u001b[0m\n",
      "\u001b[0mHDBSCAN\u001b[0m\u001b[1;33m(\u001b[0m\u001b[1;33m\n",
      "\u001b[0m    \u001b[0mmin_cluster_size\u001b[0m\u001b[1;33m=\u001b[0m\u001b[1;36m5\u001b[0m\u001b[1;33m,\u001b[0m\u001b[1;33m\n",
      "\u001b[0m    \u001b[0mmin_samples\u001b[0m\u001b[1;33m=\u001b[0m\u001b[1;32mNone\u001b[0m\u001b[1;33m,\u001b[0m\u001b[1;33m\n",
      "\u001b[0m    \u001b[0mcluster_selection_epsilon\u001b[0m\u001b[1;33m=\u001b[0m\u001b[1;36m0.0\u001b[0m\u001b[1;33m,\u001b[0m\u001b[1;33m\n",
      "\u001b[0m    \u001b[0mmetric\u001b[0m\u001b[1;33m=\u001b[0m\u001b[1;34m'euclidean'\u001b[0m\u001b[1;33m,\u001b[0m\u001b[1;33m\n",
      "\u001b[0m    \u001b[0malpha\u001b[0m\u001b[1;33m=\u001b[0m\u001b[1;36m1.0\u001b[0m\u001b[1;33m,\u001b[0m\u001b[1;33m\n",
      "\u001b[0m    \u001b[0mp\u001b[0m\u001b[1;33m=\u001b[0m\u001b[1;32mNone\u001b[0m\u001b[1;33m,\u001b[0m\u001b[1;33m\n",
      "\u001b[0m    \u001b[0malgorithm\u001b[0m\u001b[1;33m=\u001b[0m\u001b[1;34m'best'\u001b[0m\u001b[1;33m,\u001b[0m\u001b[1;33m\n",
      "\u001b[0m    \u001b[0mleaf_size\u001b[0m\u001b[1;33m=\u001b[0m\u001b[1;36m40\u001b[0m\u001b[1;33m,\u001b[0m\u001b[1;33m\n",
      "\u001b[0m    \u001b[0mmemory\u001b[0m\u001b[1;33m=\u001b[0m\u001b[0mMemory\u001b[0m\u001b[1;33m(\u001b[0m\u001b[0mlocation\u001b[0m\u001b[1;33m=\u001b[0m\u001b[1;32mNone\u001b[0m\u001b[1;33m)\u001b[0m\u001b[1;33m,\u001b[0m\u001b[1;33m\n",
      "\u001b[0m    \u001b[0mapprox_min_span_tree\u001b[0m\u001b[1;33m=\u001b[0m\u001b[1;32mTrue\u001b[0m\u001b[1;33m,\u001b[0m\u001b[1;33m\n",
      "\u001b[0m    \u001b[0mgen_min_span_tree\u001b[0m\u001b[1;33m=\u001b[0m\u001b[1;32mFalse\u001b[0m\u001b[1;33m,\u001b[0m\u001b[1;33m\n",
      "\u001b[0m    \u001b[0mcore_dist_n_jobs\u001b[0m\u001b[1;33m=\u001b[0m\u001b[1;36m4\u001b[0m\u001b[1;33m,\u001b[0m\u001b[1;33m\n",
      "\u001b[0m    \u001b[0mcluster_selection_method\u001b[0m\u001b[1;33m=\u001b[0m\u001b[1;34m'eom'\u001b[0m\u001b[1;33m,\u001b[0m\u001b[1;33m\n",
      "\u001b[0m    \u001b[0mallow_single_cluster\u001b[0m\u001b[1;33m=\u001b[0m\u001b[1;32mFalse\u001b[0m\u001b[1;33m,\u001b[0m\u001b[1;33m\n",
      "\u001b[0m    \u001b[0mprediction_data\u001b[0m\u001b[1;33m=\u001b[0m\u001b[1;32mFalse\u001b[0m\u001b[1;33m,\u001b[0m\u001b[1;33m\n",
      "\u001b[0m    \u001b[0mmatch_reference_implementation\u001b[0m\u001b[1;33m=\u001b[0m\u001b[1;32mFalse\u001b[0m\u001b[1;33m,\u001b[0m\u001b[1;33m\n",
      "\u001b[0m    \u001b[1;33m**\u001b[0m\u001b[0mkwargs\u001b[0m\u001b[1;33m,\u001b[0m\u001b[1;33m\n",
      "\u001b[0m\u001b[1;33m)\u001b[0m\u001b[1;33m\u001b[0m\u001b[1;33m\u001b[0m\u001b[0m\n",
      "\u001b[1;31mDocstring:\u001b[0m     \n",
      "Perform HDBSCAN clustering from vector array or distance matrix.\n",
      "\n",
      "HDBSCAN - Hierarchical Density-Based Spatial Clustering of Applications\n",
      "with Noise. Performs DBSCAN over varying epsilon values and integrates\n",
      "the result to find a clustering that gives the best stability over epsilon.\n",
      "This allows HDBSCAN to find clusters of varying densities (unlike DBSCAN),\n",
      "and be more robust to parameter selection.\n",
      "\n",
      "Parameters\n",
      "----------\n",
      "min_cluster_size : int, optional (default=5)\n",
      "    The minimum size of clusters; single linkage splits that contain\n",
      "    fewer points than this will be considered points \"falling out\" of a\n",
      "    cluster rather than a cluster splitting into two new clusters.\n",
      "\n",
      "min_samples : int, optional (default=None)\n",
      "    The number of samples in a neighbourhood for a point to be\n",
      "    considered a core point.\n",
      "\n",
      "metric : string, or callable, optional (default='euclidean')\n",
      "    The metric to use when calculating distance between instances in a\n",
      "    feature array. If metric is a string or callable, it must be one of\n",
      "    the options allowed by metrics.pairwise.pairwise_distances for its\n",
      "    metric parameter.\n",
      "    If metric is \"precomputed\", X is assumed to be a distance matrix and\n",
      "    must be square.\n",
      "\n",
      "p : int, optional (default=None)\n",
      "    p value to use if using the minkowski metric.\n",
      "\n",
      "alpha : float, optional (default=1.0)\n",
      "    A distance scaling parameter as used in robust single linkage.\n",
      "    See [3]_ for more information.\n",
      "\n",
      "cluster_selection_epsilon: float, optional (default=0.0)\n",
      "            A distance threshold. Clusters below this value will be merged.\n",
      "    See [5]_ for more information.\n",
      "\n",
      "algorithm : string, optional (default='best')\n",
      "    Exactly which algorithm to use; hdbscan has variants specialised\n",
      "    for different characteristics of the data. By default this is set\n",
      "    to ``best`` which chooses the \"best\" algorithm given the nature of\n",
      "    the data. You can force other options if you believe you know\n",
      "    better. Options are:\n",
      "        * ``best``\n",
      "        * ``generic``\n",
      "        * ``prims_kdtree``\n",
      "        * ``prims_balltree``\n",
      "        * ``boruvka_kdtree``\n",
      "        * ``boruvka_balltree``\n",
      "\n",
      "leaf_size: int, optional (default=40)\n",
      "    If using a space tree algorithm (kdtree, or balltree) the number\n",
      "    of points ina leaf node of the tree. This does not alter the\n",
      "    resulting clustering, but may have an effect on the runtime\n",
      "    of the algorithm.\n",
      "\n",
      "memory : Instance of joblib.Memory or string (optional)\n",
      "    Used to cache the output of the computation of the tree.\n",
      "    By default, no caching is done. If a string is given, it is the\n",
      "    path to the caching directory.\n",
      "\n",
      "approx_min_span_tree : bool, optional (default=True)\n",
      "    Whether to accept an only approximate minimum spanning tree.\n",
      "    For some algorithms this can provide a significant speedup, but\n",
      "    the resulting clustering may be of marginally lower quality.\n",
      "    If you are willing to sacrifice speed for correctness you may want\n",
      "    to explore this; in general this should be left at the default True.\n",
      "\n",
      "gen_min_span_tree: bool, optional (default=False)\n",
      "    Whether to generate the minimum spanning tree with regard\n",
      "    to mutual reachability distance for later analysis.\n",
      "\n",
      "core_dist_n_jobs : int, optional (default=4)\n",
      "    Number of parallel jobs to run in core distance computations (if\n",
      "    supported by the specific algorithm). For ``core_dist_n_jobs``\n",
      "    below -1, (n_cpus + 1 + core_dist_n_jobs) are used.\n",
      "\n",
      "cluster_selection_method : string, optional (default='eom')\n",
      "    The method used to select clusters from the condensed tree. The\n",
      "    standard approach for HDBSCAN* is to use an Excess of Mass algorithm\n",
      "    to find the most persistent clusters. Alternatively you can instead\n",
      "    select the clusters at the leaves of the tree -- this provides the\n",
      "    most fine grained and homogeneous clusters. Options are:\n",
      "        * ``eom``\n",
      "        * ``leaf``\n",
      "\n",
      "allow_single_cluster : bool, optional (default=False)\n",
      "    By default HDBSCAN* will not produce a single cluster, setting this\n",
      "    to True will override this and allow single cluster results in\n",
      "    the case that you feel this is a valid result for your dataset.\n",
      "\n",
      "prediction_data : boolean, optional\n",
      "    Whether to generate extra cached data for predicting labels or\n",
      "    membership vectors few new unseen points later. If you wish to\n",
      "    persist the clustering object for later re-use you probably want\n",
      "    to set this to True.\n",
      "    (default False)\n",
      "\n",
      "match_reference_implementation : bool, optional (default=False)\n",
      "    There exist some interpretational differences between this\n",
      "    HDBSCAN* implementation and the original authors reference\n",
      "    implementation in Java. This can result in very minor differences\n",
      "    in clustering results. Setting this flag to True will, at a some\n",
      "    performance cost, ensure that the clustering results match the\n",
      "    reference implementation.\n",
      "\n",
      "**kwargs : optional\n",
      "    Arguments passed to the distance metric\n",
      "\n",
      "Attributes\n",
      "----------\n",
      "labels_ : ndarray, shape (n_samples, )\n",
      "    Cluster labels for each point in the dataset given to fit().\n",
      "    Noisy samples are given the label -1.\n",
      "\n",
      "probabilities_ : ndarray, shape (n_samples, )\n",
      "    The strength with which each sample is a member of its assigned\n",
      "    cluster. Noise points have probability zero; points in clusters\n",
      "    have values assigned proportional to the degree that they\n",
      "    persist as part of the cluster.\n",
      "\n",
      "cluster_persistence_ : ndarray, shape (n_clusters, )\n",
      "    A score of how persistent each cluster is. A score of 1.0 represents\n",
      "    a perfectly stable cluster that persists over all distance scales,\n",
      "    while a score of 0.0 represents a perfectly ephemeral cluster. These\n",
      "    scores can be guage the relative coherence of the clusters output\n",
      "    by the algorithm.\n",
      "\n",
      "condensed_tree_ : CondensedTree object\n",
      "    The condensed tree produced by HDBSCAN. The object has methods\n",
      "    for converting to pandas, networkx, and plotting.\n",
      "\n",
      "single_linkage_tree_ : SingleLinkageTree object\n",
      "    The single linkage tree produced by HDBSCAN. The object has methods\n",
      "    for converting to pandas, networkx, and plotting.\n",
      "\n",
      "minimum_spanning_tree_ : MinimumSpanningTree object\n",
      "    The minimum spanning tree of the mutual reachability graph generated\n",
      "    by HDBSCAN. Note that this is not generated by default and will only\n",
      "    be available if `gen_min_span_tree` was set to True on object creation.\n",
      "    Even then in some optimized cases a tre may not be generated.\n",
      "\n",
      "outlier_scores_ : ndarray, shape (n_samples, )\n",
      "    Outlier scores for clustered points; the larger the score the more\n",
      "    outlier-like the point. Useful as an outlier detection technique.\n",
      "    Based on the GLOSH algorithm by Campello, Moulavi, Zimek and Sander.\n",
      "\n",
      "prediction_data_ : PredictionData object\n",
      "    Cached data used for predicting the cluster labels of new or\n",
      "    unseen points. Necessary only if you are using functions from\n",
      "    ``hdbscan.prediction`` (see\n",
      "    :func:`~hdbscan.prediction.approximate_predict`,\n",
      "    :func:`~hdbscan.prediction.membership_vector`,\n",
      "    and :func:`~hdbscan.prediction.all_points_membership_vectors`).\n",
      "\n",
      "exemplars_ : list\n",
      "    A list of exemplar points for clusters. Since HDBSCAN supports\n",
      "    arbitrary shapes for clusters we cannot provide a single cluster\n",
      "    exemplar per cluster. Instead a list is returned with each element\n",
      "    of the list being a numpy array of exemplar points for a cluster --\n",
      "    these points are the \"most representative\" points of the cluster.\n",
      "\n",
      "relative_validity_ : float\n",
      "    A fast approximation of the Density Based Cluster Validity (DBCV)\n",
      "    score [4]. The only differece, and the speed, comes from the fact\n",
      "    that this relative_validity_ is computed using the mutual-\n",
      "    reachability minimum spanning tree, i.e. minimum_spanning_tree_,\n",
      "    instead of the all-points minimum spanning tree used in the\n",
      "    reference. This score might not be an objective measure of the\n",
      "    goodness of clusterering. It may only be used to compare results\n",
      "    across different choices of hyper-parameters, therefore is only a\n",
      "    relative score.\n",
      "\n",
      "References\n",
      "----------\n",
      "\n",
      ".. [1] Campello, R. J., Moulavi, D., & Sander, J. (2013, April).\n",
      "   Density-based clustering based on hierarchical density estimates.\n",
      "   In Pacific-Asia Conference on Knowledge Discovery and Data Mining\n",
      "   (pp. 160-172). Springer Berlin Heidelberg.\n",
      "\n",
      ".. [2] Campello, R. J., Moulavi, D., Zimek, A., & Sander, J. (2015).\n",
      "   Hierarchical density estimates for data clustering, visualization,\n",
      "   and outlier detection. ACM Transactions on Knowledge Discovery\n",
      "   from Data (TKDD), 10(1), 5.\n",
      "\n",
      ".. [3] Chaudhuri, K., & Dasgupta, S. (2010). Rates of convergence for the\n",
      "   cluster tree. In Advances in Neural Information Processing Systems\n",
      "   (pp. 343-351).\n",
      "\n",
      ".. [4] Moulavi, D., Jaskowiak, P.A., Campello, R.J., Zimek, A. and\n",
      "   Sander, J., 2014. Density-Based Clustering Validation. In SDM\n",
      "   (pp. 839-847).\n",
      "\n",
      ".. [5] Malzer, C., & Baum, M. (2019). A Hybrid Approach To Hierarchical \n",
      "       Density-based Cluster Selection. arxiv preprint 1911.02282.\n",
      "\u001b[1;31mFile:\u001b[0m           d:\\softwarez\\anaconda\\lib\\site-packages\\hdbscan\\hdbscan_.py\n",
      "\u001b[1;31mType:\u001b[0m           type\n",
      "\u001b[1;31mSubclasses:\u001b[0m     \n"
     ]
    }
   ],
   "source": [
    "HDBSCAN?"
   ]
  },
  {
   "cell_type": "code",
   "execution_count": 278,
   "metadata": {},
   "outputs": [
    {
     "name": "stdout",
     "output_type": "stream",
     "text": [
      "-0.2749648107839792\n",
      "-0.2749648107839792\n",
      "-0.27931880948105525\n",
      "-0.2838072265370667\n",
      "-0.2838072265370667\n",
      "-0.2838072265370667\n",
      "-0.2860150373013509\n",
      "-0.2860150373013509\n",
      "-0.28018386460062006\n",
      "-0.28018386460062006\n",
      "-0.28018386460062006\n",
      "-0.28018386460062006\n",
      "-0.28018386460062006\n"
     ]
    }
   ],
   "source": [
    "for i in range(2, 15):\n",
    "    adj = createAdjacency(graph.nodes)\n",
    "    clustering = DBSCAN(eps=1, min_samples=i).fit_predict(adj)\n",
    "    print(silhouette_score(adj, clustering))"
   ]
  },
  {
   "cell_type": "code",
   "execution_count": 279,
   "metadata": {},
   "outputs": [
    {
     "name": "stdout",
     "output_type": "stream",
     "text": [
      "2 0.2980504171171696\n",
      "3 0.1690233318043332\n",
      "4 0.18034704470947482\n",
      "5 0.19061292142733258\n",
      "6 0.16792734918723176\n",
      "7 0.19056049405601577\n",
      "8 0.18543140603722358\n",
      "9 0.18808558828509073\n",
      "10 0.18387785256481315\n",
      "11 0.029181866339874674\n",
      "12 0.1848953914553448\n",
      "13 0.035371391154128656\n",
      "14 0.08111945456023613\n"
     ]
    }
   ],
   "source": [
    "for i in range(2, 15):\n",
    "    clustering = k_means(adj, n_clusters=i)[1]\n",
    "    print(i, silhouette_score(adj, clustering))"
   ]
  },
  {
   "cell_type": "code",
   "execution_count": 280,
   "metadata": {},
   "outputs": [
    {
     "data": {
      "application/vnd.plotly.v1+json": {
       "config": {
        "plotlyServerURL": "https://plot.ly"
       },
       "data": [
        {
         "hovertemplate": "color=141477247\tmohe_sa\t(True, True)<br>0=%{x}<br>1=%{y}<extra></extra>",
         "legendgroup": "141477247\tmohe_sa\t(True, True)",
         "marker": {
          "color": "#636efa",
          "symbol": "circle"
         },
         "mode": "markers",
         "name": "141477247\tmohe_sa\t(True, True)",
         "orientation": "v",
         "showlegend": true,
         "type": "scatter",
         "x": [
          3.2049739360809326
         ],
         "xaxis": "x",
         "y": [
          3.701524496078491
         ],
         "yaxis": "y"
        },
        {
         "hovertemplate": "color=383112039\tspagov\t(True, False)<br>0=%{x}<br>1=%{y}<extra></extra>",
         "legendgroup": "383112039\tspagov\t(True, False)",
         "marker": {
          "color": "#EF553B",
          "symbol": "circle"
         },
         "mode": "markers",
         "name": "383112039\tspagov\t(True, False)",
         "orientation": "v",
         "showlegend": true,
         "type": "scatter",
         "x": [
          2.7144172191619873
         ],
         "xaxis": "x",
         "y": [
          2.0649657249450684
         ],
         "yaxis": "y"
        },
        {
         "hovertemplate": "color=4424006902\tUoHB_Official\t(True, False)<br>0=%{x}<br>1=%{y}<extra></extra>",
         "legendgroup": "4424006902\tUoHB_Official\t(True, False)",
         "marker": {
          "color": "#00cc96",
          "symbol": "circle"
         },
         "mode": "markers",
         "name": "4424006902\tUoHB_Official\t(True, False)",
         "orientation": "v",
         "showlegend": true,
         "type": "scatter",
         "x": [
          3.419494390487671
         ],
         "xaxis": "x",
         "y": [
          4.7069478034973145
         ],
         "yaxis": "y"
        },
        {
         "hovertemplate": "color=3412515313\tBisha_U\t(True, False)<br>0=%{x}<br>1=%{y}<extra></extra>",
         "legendgroup": "3412515313\tBisha_U\t(True, False)",
         "marker": {
          "color": "#ab63fa",
          "symbol": "circle"
         },
         "mode": "markers",
         "name": "3412515313\tBisha_U\t(True, False)",
         "orientation": "v",
         "showlegend": true,
         "type": "scatter",
         "x": [
          6.183526515960693
         ],
         "xaxis": "x",
         "y": [
          7.384113311767578
         ],
         "yaxis": "y"
        },
        {
         "hovertemplate": "color=1127675149149450240\tvice_higher_edu\t(True, False)<br>0=%{x}<br>1=%{y}<extra></extra>",
         "legendgroup": "1127675149149450240\tvice_higher_edu\t(True, False)",
         "marker": {
          "color": "#FFA15A",
          "symbol": "circle"
         },
         "mode": "markers",
         "name": "1127675149149450240\tvice_higher_edu\t(True, False)",
         "orientation": "v",
         "showlegend": true,
         "type": "scatter",
         "x": [
          3.234715223312378
         ],
         "xaxis": "x",
         "y": [
          3.7513482570648193
         ],
         "yaxis": "y"
        },
        {
         "hovertemplate": "color=1128267690026643456\tspokesp_moe\t(True, False)<br>0=%{x}<br>1=%{y}<extra></extra>",
         "legendgroup": "1128267690026643456\tspokesp_moe\t(True, False)",
         "marker": {
          "color": "#19d3f3",
          "symbol": "circle"
         },
         "mode": "markers",
         "name": "1128267690026643456\tspokesp_moe\t(True, False)",
         "orientation": "v",
         "showlegend": true,
         "type": "scatter",
         "x": [
          3.2174956798553467
         ],
         "xaxis": "x",
         "y": [
          3.6132023334503174
         ],
         "yaxis": "y"
        },
        {
         "hovertemplate": "color=1164137376664498177\tspokesp_mohe\t(True, False)<br>0=%{x}<br>1=%{y}<extra></extra>",
         "legendgroup": "1164137376664498177\tspokesp_mohe\t(True, False)",
         "marker": {
          "color": "#FF6692",
          "symbol": "circle"
         },
         "mode": "markers",
         "name": "1164137376664498177\tspokesp_mohe\t(True, False)",
         "orientation": "v",
         "showlegend": true,
         "type": "scatter",
         "x": [
          3.2952704429626465
         ],
         "xaxis": "x",
         "y": [
          3.799403429031372
         ],
         "yaxis": "y"
        },
        {
         "hovertemplate": "color=1079752320211144706\tminister_moe_sa\t(True, False)<br>0=%{x}<br>1=%{y}<extra></extra>",
         "legendgroup": "1079752320211144706\tminister_moe_sa\t(True, False)",
         "marker": {
          "color": "#B6E880",
          "symbol": "circle"
         },
         "mode": "markers",
         "name": "1079752320211144706\tminister_moe_sa\t(True, False)",
         "orientation": "v",
         "showlegend": true,
         "type": "scatter",
         "x": [
          3.2831242084503174
         ],
         "xaxis": "x",
         "y": [
          3.7649221420288086
         ],
         "yaxis": "y"
        },
        {
         "hovertemplate": "color=805289527833141248\tNBU_KSA\t(True, False)<br>0=%{x}<br>1=%{y}<extra></extra>",
         "legendgroup": "805289527833141248\tNBU_KSA\t(True, False)",
         "marker": {
          "color": "#FF97FF",
          "symbol": "circle"
         },
         "mode": "markers",
         "name": "805289527833141248\tNBU_KSA\t(True, False)",
         "orientation": "v",
         "showlegend": true,
         "type": "scatter",
         "x": [
          3.2453858852386475
         ],
         "xaxis": "x",
         "y": [
          5.033036231994629
         ],
         "yaxis": "y"
        },
        {
         "hovertemplate": "color=809815275369615361\tSA_Scholarships\t(True, False)<br>0=%{x}<br>1=%{y}<extra></extra>",
         "legendgroup": "809815275369615361\tSA_Scholarships\t(True, False)",
         "marker": {
          "color": "#FECB52",
          "symbol": "circle"
         },
         "mode": "markers",
         "name": "809815275369615361\tSA_Scholarships\t(True, False)",
         "orientation": "v",
         "showlegend": true,
         "type": "scatter",
         "x": [
          3.2415692806243896
         ],
         "xaxis": "x",
         "y": [
          -0.6619752645492554
         ],
         "yaxis": "y"
        },
        {
         "hovertemplate": "color=2976329490\tUOfjeddah\t(True, False)<br>0=%{x}<br>1=%{y}<extra></extra>",
         "legendgroup": "2976329490\tUOfjeddah\t(True, False)",
         "marker": {
          "color": "#636efa",
          "symbol": "circle"
         },
         "mode": "markers",
         "name": "2976329490\tUOfjeddah\t(True, False)",
         "orientation": "v",
         "showlegend": true,
         "type": "scatter",
         "x": [
          8.339543342590332
         ],
         "xaxis": "x",
         "y": [
          0.4556815028190613
         ],
         "yaxis": "y"
        },
        {
         "hovertemplate": "color=144444555\tTaifUniversity\t(True, False)<br>0=%{x}<br>1=%{y}<extra></extra>",
         "legendgroup": "144444555\tTaifUniversity\t(True, False)",
         "marker": {
          "color": "#EF553B",
          "symbol": "circle"
         },
         "mode": "markers",
         "name": "144444555\tTaifUniversity\t(True, False)",
         "orientation": "v",
         "showlegend": true,
         "type": "scatter",
         "x": [
          3.3279314041137695
         ],
         "xaxis": "x",
         "y": [
          4.798590660095215
         ],
         "yaxis": "y"
        },
        {
         "hovertemplate": "color=2183880204\tBahaUniversity\t(True, False)<br>0=%{x}<br>1=%{y}<extra></extra>",
         "legendgroup": "2183880204\tBahaUniversity\t(True, False)",
         "marker": {
          "color": "#00cc96",
          "symbol": "circle"
         },
         "mode": "markers",
         "name": "2183880204\tBahaUniversity\t(True, False)",
         "orientation": "v",
         "showlegend": true,
         "type": "scatter",
         "x": [
          2.928140878677368
         ],
         "xaxis": "x",
         "y": [
          4.961958885192871
         ],
         "yaxis": "y"
        },
        {
         "hovertemplate": "color=227944601\tKSAMOFA\t(True, False)<br>0=%{x}<br>1=%{y}<extra></extra>",
         "legendgroup": "227944601\tKSAMOFA\t(True, False)",
         "marker": {
          "color": "#ab63fa",
          "symbol": "circle"
         },
         "mode": "markers",
         "name": "227944601\tKSAMOFA\t(True, False)",
         "orientation": "v",
         "showlegend": true,
         "type": "scatter",
         "x": [
          2.702338218688965
         ],
         "xaxis": "x",
         "y": [
          2.058748483657837
         ],
         "yaxis": "y"
        },
        {
         "hovertemplate": "color=1438772720\t_PNU_KSA\t(True, False)<br>0=%{x}<br>1=%{y}<extra></extra>",
         "legendgroup": "1438772720\t_PNU_KSA\t(True, False)",
         "marker": {
          "color": "#FFA15A",
          "symbol": "circle"
         },
         "mode": "markers",
         "name": "1438772720\t_PNU_KSA\t(True, False)",
         "orientation": "v",
         "showlegend": true,
         "type": "scatter",
         "x": [
          5.5367231369018555
         ],
         "xaxis": "x",
         "y": [
          -1.8054174184799194
         ],
         "yaxis": "y"
        },
        {
         "hovertemplate": "color=1286791038\tShaqraUni\t(True, False)<br>0=%{x}<br>1=%{y}<extra></extra>",
         "legendgroup": "1286791038\tShaqraUni\t(True, False)",
         "marker": {
          "color": "#19d3f3",
          "symbol": "circle"
         },
         "mode": "markers",
         "name": "1286791038\tShaqraUni\t(True, False)",
         "orientation": "v",
         "showlegend": true,
         "type": "scatter",
         "x": [
          3.6468029022216797
         ],
         "xaxis": "x",
         "y": [
          4.794225215911865
         ],
         "yaxis": "y"
        },
        {
         "hovertemplate": "color=179012688\tKFUPM\t(True, False)<br>0=%{x}<br>1=%{y}<extra></extra>",
         "legendgroup": "179012688\tKFUPM\t(True, False)",
         "marker": {
          "color": "#FF6692",
          "symbol": "circle"
         },
         "mode": "markers",
         "name": "179012688\tKFUPM\t(True, False)",
         "orientation": "v",
         "showlegend": true,
         "type": "scatter",
         "x": [
          3.1914455890655518
         ],
         "xaxis": "x",
         "y": [
          5.024398326873779
         ],
         "yaxis": "y"
        },
        {
         "hovertemplate": "color=1217822562\ttc_mohe\t(True, False)<br>0=%{x}<br>1=%{y}<extra></extra>",
         "legendgroup": "1217822562\ttc_mohe\t(True, False)",
         "marker": {
          "color": "#B6E880",
          "symbol": "circle"
         },
         "mode": "markers",
         "name": "1217822562\ttc_mohe\t(True, False)",
         "orientation": "v",
         "showlegend": true,
         "type": "scatter",
         "x": [
          4.136683464050293
         ],
         "xaxis": "x",
         "y": [
          4.0503363609313965
         ],
         "yaxis": "y"
        },
        {
         "hovertemplate": "color=91770158\tuqu_edu\t(True, False)<br>0=%{x}<br>1=%{y}<extra></extra>",
         "legendgroup": "91770158\tuqu_edu\t(True, False)",
         "marker": {
          "color": "#FF97FF",
          "symbol": "circle"
         },
         "mode": "markers",
         "name": "91770158\tuqu_edu\t(True, False)",
         "orientation": "v",
         "showlegend": true,
         "type": "scatter",
         "x": [
          3.1147913932800293
         ],
         "xaxis": "x",
         "y": [
          4.916923522949219
         ],
         "yaxis": "y"
        },
        {
         "hovertemplate": "color=260324273\tJoufUniversity\t(True, False)<br>0=%{x}<br>1=%{y}<extra></extra>",
         "legendgroup": "260324273\tJoufUniversity\t(True, False)",
         "marker": {
          "color": "#FECB52",
          "symbol": "circle"
         },
         "mode": "markers",
         "name": "260324273\tJoufUniversity\t(True, False)",
         "orientation": "v",
         "showlegend": true,
         "type": "scatter",
         "x": [
          3.0651681423187256
         ],
         "xaxis": "x",
         "y": [
          5.044703960418701
         ],
         "yaxis": "y"
        },
        {
         "hovertemplate": "color=61321142\tJazanUniversity\t(True, False)<br>0=%{x}<br>1=%{y}<extra></extra>",
         "legendgroup": "61321142\tJazanUniversity\t(True, False)",
         "marker": {
          "color": "#636efa",
          "symbol": "circle"
         },
         "mode": "markers",
         "name": "61321142\tJazanUniversity\t(True, False)",
         "orientation": "v",
         "showlegend": true,
         "type": "scatter",
         "x": [
          2.976849317550659
         ],
         "xaxis": "x",
         "y": [
          4.95615816116333
         ],
         "yaxis": "y"
        },
        {
         "hovertemplate": "color=282975267\tumajmaah\t(True, False)<br>0=%{x}<br>1=%{y}<extra></extra>",
         "legendgroup": "282975267\tumajmaah\t(True, False)",
         "marker": {
          "color": "#EF553B",
          "symbol": "circle"
         },
         "mode": "markers",
         "name": "282975267\tumajmaah\t(True, False)",
         "orientation": "v",
         "showlegend": true,
         "type": "scatter",
         "x": [
          3.0748977661132812
         ],
         "xaxis": "x",
         "y": [
          5.101626873016357
         ],
         "yaxis": "y"
        },
        {
         "hovertemplate": "color=371800222\tQassimUniv1\t(True, False)<br>0=%{x}<br>1=%{y}<extra></extra>",
         "legendgroup": "371800222\tQassimUniv1\t(True, False)",
         "marker": {
          "color": "#00cc96",
          "symbol": "circle"
         },
         "mode": "markers",
         "name": "371800222\tQassimUniv1\t(True, False)",
         "orientation": "v",
         "showlegend": true,
         "type": "scatter",
         "x": [
          2.935260772705078
         ],
         "xaxis": "x",
         "y": [
          5.063983917236328
         ],
         "yaxis": "y"
        },
        {
         "hovertemplate": "color=333312086\t_UOH\t(True, False)<br>0=%{x}<br>1=%{y}<extra></extra>",
         "legendgroup": "333312086\t_UOH\t(True, False)",
         "marker": {
          "color": "#ab63fa",
          "symbol": "circle"
         },
         "mode": "markers",
         "name": "333312086\t_UOH\t(True, False)",
         "orientation": "v",
         "showlegend": true,
         "type": "scatter",
         "x": [
          3.495995044708252
         ],
         "xaxis": "x",
         "y": [
          5.8122663497924805
         ],
         "yaxis": "y"
        },
        {
         "hovertemplate": "color=497108000\tiu_edu\t(True, False)<br>0=%{x}<br>1=%{y}<extra></extra>",
         "legendgroup": "497108000\tiu_edu\t(True, False)",
         "marker": {
          "color": "#FFA15A",
          "symbol": "circle"
         },
         "mode": "markers",
         "name": "497108000\tiu_edu\t(True, False)",
         "orientation": "v",
         "showlegend": true,
         "type": "scatter",
         "x": [
          12.912550926208496
         ],
         "xaxis": "x",
         "y": [
          1.8191397190093994
         ],
         "yaxis": "y"
        },
        {
         "hovertemplate": "color=386010890\tU_Tabuk\t(True, False)<br>0=%{x}<br>1=%{y}<extra></extra>",
         "legendgroup": "386010890\tU_Tabuk\t(True, False)",
         "marker": {
          "color": "#19d3f3",
          "symbol": "circle"
         },
         "mode": "markers",
         "name": "386010890\tU_Tabuk\t(True, False)",
         "orientation": "v",
         "showlegend": true,
         "type": "scatter",
         "x": [
          2.9859330654144287
         ],
         "xaxis": "x",
         "y": [
          5.012758255004883
         ],
         "yaxis": "y"
        },
        {
         "hovertemplate": "color=254105358\tKSAU_HS\t(True, False)<br>0=%{x}<br>1=%{y}<extra></extra>",
         "legendgroup": "254105358\tKSAU_HS\t(True, False)",
         "marker": {
          "color": "#FF6692",
          "symbol": "circle"
         },
         "mode": "markers",
         "name": "254105358\tKSAU_HS\t(True, False)",
         "orientation": "v",
         "showlegend": true,
         "type": "scatter",
         "x": [
          2.1842684745788574
         ],
         "xaxis": "x",
         "y": [
          0.45987725257873535
         ],
         "yaxis": "y"
        },
        {
         "hovertemplate": "color=90921204\tkauweb\t(True, False)<br>0=%{x}<br>1=%{y}<extra></extra>",
         "legendgroup": "90921204\tkauweb\t(True, False)",
         "marker": {
          "color": "#B6E880",
          "symbol": "circle"
         },
         "mode": "markers",
         "name": "90921204\tkauweb\t(True, False)",
         "orientation": "v",
         "showlegend": true,
         "type": "scatter",
         "x": [
          3.137385368347168
         ],
         "xaxis": "x",
         "y": [
          3.2002038955688477
         ],
         "yaxis": "y"
        },
        {
         "hovertemplate": "color=532118577\tpsau_edu_sa\t(True, False)<br>0=%{x}<br>1=%{y}<extra></extra>",
         "legendgroup": "532118577\tpsau_edu_sa\t(True, False)",
         "marker": {
          "color": "#FF97FF",
          "symbol": "circle"
         },
         "mode": "markers",
         "name": "532118577\tpsau_edu_sa\t(True, False)",
         "orientation": "v",
         "showlegend": true,
         "type": "scatter",
         "x": [
          3.0805182456970215
         ],
         "xaxis": "x",
         "y": [
          5.049498081207275
         ],
         "yaxis": "y"
        },
        {
         "hovertemplate": "color=551671525\tSaudi_EUni\t(True, False)<br>0=%{x}<br>1=%{y}<extra></extra>",
         "legendgroup": "551671525\tSaudi_EUni\t(True, False)",
         "marker": {
          "color": "#FECB52",
          "symbol": "circle"
         },
         "mode": "markers",
         "name": "551671525\tSaudi_EUni\t(True, False)",
         "orientation": "v",
         "showlegend": true,
         "type": "scatter",
         "x": [
          3.6982405185699463
         ],
         "xaxis": "x",
         "y": [
          4.93397855758667
         ],
         "yaxis": "y"
        },
        {
         "hovertemplate": "color=40443411\tuksacborg\t(True, False)<br>0=%{x}<br>1=%{y}<extra></extra>",
         "legendgroup": "40443411\tuksacborg\t(True, False)",
         "marker": {
          "color": "#636efa",
          "symbol": "circle"
         },
         "mode": "markers",
         "name": "40443411\tuksacborg\t(True, False)",
         "orientation": "v",
         "showlegend": true,
         "type": "scatter",
         "x": [
          3.8765459060668945
         ],
         "xaxis": "x",
         "y": [
          4.200137615203857
         ],
         "yaxis": "y"
        },
        {
         "hovertemplate": "color=584596191\tSACM_AU\t(True, False)<br>0=%{x}<br>1=%{y}<extra></extra>",
         "legendgroup": "584596191\tSACM_AU\t(True, False)",
         "marker": {
          "color": "#EF553B",
          "symbol": "circle"
         },
         "mode": "markers",
         "name": "584596191\tSACM_AU\t(True, False)",
         "orientation": "v",
         "showlegend": true,
         "type": "scatter",
         "x": [
          4.050212383270264
         ],
         "xaxis": "x",
         "y": [
          4.266195774078369
         ],
         "yaxis": "y"
        },
        {
         "hovertemplate": "color=790285874\tSACM_USA\t(True, False)<br>0=%{x}<br>1=%{y}<extra></extra>",
         "legendgroup": "790285874\tSACM_USA\t(True, False)",
         "marker": {
          "color": "#00cc96",
          "symbol": "circle"
         },
         "mode": "markers",
         "name": "790285874\tSACM_USA\t(True, False)",
         "orientation": "v",
         "showlegend": true,
         "type": "scatter",
         "x": [
          4.141274452209473
         ],
         "xaxis": "x",
         "y": [
          4.081252574920654
         ],
         "yaxis": "y"
        },
        {
         "hovertemplate": "color=208523378\tKFUniversity\t(True, False)<br>0=%{x}<br>1=%{y}<extra></extra>",
         "legendgroup": "208523378\tKFUniversity\t(True, False)",
         "marker": {
          "color": "#ab63fa",
          "symbol": "circle"
         },
         "mode": "markers",
         "name": "208523378\tKFUniversity\t(True, False)",
         "orientation": "v",
         "showlegend": true,
         "type": "scatter",
         "x": [
          3.0364584922790527
         ],
         "xaxis": "x",
         "y": [
          4.9540252685546875
         ],
         "yaxis": "y"
        },
        {
         "hovertemplate": "color=245260910\tNajran_Univers\t(True, False)<br>0=%{x}<br>1=%{y}<extra></extra>",
         "legendgroup": "245260910\tNajran_Univers\t(True, False)",
         "marker": {
          "color": "#FFA15A",
          "symbol": "circle"
         },
         "mode": "markers",
         "name": "245260910\tNajran_Univers\t(True, False)",
         "orientation": "v",
         "showlegend": true,
         "type": "scatter",
         "x": [
          3.169224977493286
         ],
         "xaxis": "x",
         "y": [
          4.949110507965088
         ],
         "yaxis": "y"
        },
        {
         "hovertemplate": "color=132390438\ttaibahu\t(True, False)<br>0=%{x}<br>1=%{y}<extra></extra>",
         "legendgroup": "132390438\ttaibahu\t(True, False)",
         "marker": {
          "color": "#19d3f3",
          "symbol": "circle"
         },
         "mode": "markers",
         "name": "132390438\ttaibahu\t(True, False)",
         "orientation": "v",
         "showlegend": true,
         "type": "scatter",
         "x": [
          2.9536614418029785
         ],
         "xaxis": "x",
         "y": [
          4.966039180755615
         ],
         "yaxis": "y"
        },
        {
         "hovertemplate": "color=600811706\tIAU_KSA\t(True, False)<br>0=%{x}<br>1=%{y}<extra></extra>",
         "legendgroup": "600811706\tIAU_KSA\t(True, False)",
         "marker": {
          "color": "#FF6692",
          "symbol": "circle"
         },
         "mode": "markers",
         "name": "600811706\tIAU_KSA\t(True, False)",
         "orientation": "v",
         "showlegend": true,
         "type": "scatter",
         "x": [
          3.348935604095459
         ],
         "xaxis": "x",
         "y": [
          4.837281227111816
         ],
         "yaxis": "y"
        },
        {
         "hovertemplate": "color=1167850387\tkkueduksa\t(True, False)<br>0=%{x}<br>1=%{y}<extra></extra>",
         "legendgroup": "1167850387\tkkueduksa\t(True, False)",
         "marker": {
          "color": "#B6E880",
          "symbol": "circle"
         },
         "mode": "markers",
         "name": "1167850387\tkkueduksa\t(True, False)",
         "orientation": "v",
         "showlegend": true,
         "type": "scatter",
         "x": [
          3.0692594051361084
         ],
         "xaxis": "x",
         "y": [
          5.035769939422607
         ],
         "yaxis": "y"
        },
        {
         "hovertemplate": "color=341410751\tSDL_sa\t(True, False)<br>0=%{x}<br>1=%{y}<extra></extra>",
         "legendgroup": "341410751\tSDL_sa\t(True, False)",
         "marker": {
          "color": "#FF97FF",
          "symbol": "circle"
         },
         "mode": "markers",
         "name": "341410751\tSDL_sa\t(True, False)",
         "orientation": "v",
         "showlegend": true,
         "type": "scatter",
         "x": [
          3.818880796432495
         ],
         "xaxis": "x",
         "y": [
          4.2287702560424805
         ],
         "yaxis": "y"
        },
        {
         "hovertemplate": "color=2883295602\tIMSIU_edu_sa\t(True, False)<br>0=%{x}<br>1=%{y}<extra></extra>",
         "legendgroup": "2883295602\tIMSIU_edu_sa\t(True, False)",
         "marker": {
          "color": "#FECB52",
          "symbol": "circle"
         },
         "mode": "markers",
         "name": "2883295602\tIMSIU_edu_sa\t(True, False)",
         "orientation": "v",
         "showlegend": true,
         "type": "scatter",
         "x": [
          3.040269613265991
         ],
         "xaxis": "x",
         "y": [
          4.985611915588379
         ],
         "yaxis": "y"
        },
        {
         "hovertemplate": "color=18916965\t_KSU\t(True, False)<br>0=%{x}<br>1=%{y}<extra></extra>",
         "legendgroup": "18916965\t_KSU\t(True, False)",
         "marker": {
          "color": "#636efa",
          "symbol": "circle"
         },
         "mode": "markers",
         "name": "18916965\t_KSU\t(True, False)",
         "orientation": "v",
         "showlegend": true,
         "type": "scatter",
         "x": [
          2.9341742992401123
         ],
         "xaxis": "x",
         "y": [
          4.988358974456787
         ],
         "yaxis": "y"
        },
        {
         "hovertemplate": "color=1072915220\tKingSalman\t(True, False)<br>0=%{x}<br>1=%{y}<extra></extra>",
         "legendgroup": "1072915220\tKingSalman\t(True, False)",
         "marker": {
          "color": "#EF553B",
          "symbol": "circle"
         },
         "mode": "markers",
         "name": "1072915220\tKingSalman\t(True, False)",
         "orientation": "v",
         "showlegend": true,
         "type": "scatter",
         "x": [
          3.0478217601776123
         ],
         "xaxis": "x",
         "y": [
          3.4008235931396484
         ],
         "yaxis": "y"
        },
        {
         "hovertemplate": "color=2189938194\tmoe_gov_sa\t(True, False)<br>0=%{x}<br>1=%{y}<extra></extra>",
         "legendgroup": "2189938194\tmoe_gov_sa\t(True, False)",
         "marker": {
          "color": "#00cc96",
          "symbol": "circle"
         },
         "mode": "markers",
         "name": "2189938194\tmoe_gov_sa\t(True, False)",
         "orientation": "v",
         "showlegend": true,
         "type": "scatter",
         "x": [
          3.177020788192749
         ],
         "xaxis": "x",
         "y": [
          3.3041114807128906
         ],
         "yaxis": "y"
        },
        {
         "hovertemplate": "color=1372500130193145856\tsu_newspaper\t(True, False)<br>0=%{x}<br>1=%{y}<extra></extra>",
         "legendgroup": "1372500130193145856\tsu_newspaper\t(True, False)",
         "marker": {
          "color": "#ab63fa",
          "symbol": "circle"
         },
         "mode": "markers",
         "name": "1372500130193145856\tsu_newspaper\t(True, False)",
         "orientation": "v",
         "showlegend": true,
         "type": "scatter",
         "x": [
          3.916640520095825
         ],
         "xaxis": "x",
         "y": [
          4.644051551818848
         ],
         "yaxis": "y"
        },
        {
         "hovertemplate": "color=949747355322126337\tCGCSaudi\t(True, False)<br>0=%{x}<br>1=%{y}<extra></extra>",
         "legendgroup": "949747355322126337\tCGCSaudi\t(True, False)",
         "marker": {
          "color": "#FFA15A",
          "symbol": "circle"
         },
         "mode": "markers",
         "name": "949747355322126337\tCGCSaudi\t(True, False)",
         "orientation": "v",
         "showlegend": true,
         "type": "scatter",
         "x": [
          3.1685404777526855
         ],
         "xaxis": "x",
         "y": [
          2.1766083240509033
         ],
         "yaxis": "y"
        },
        {
         "hovertemplate": "color=1372493068893577219\tSU_cmm\t(True, False)<br>0=%{x}<br>1=%{y}<extra></extra>",
         "legendgroup": "1372493068893577219\tSU_cmm\t(True, False)",
         "marker": {
          "color": "#19d3f3",
          "symbol": "circle"
         },
         "mode": "markers",
         "name": "1372493068893577219\tSU_cmm\t(True, False)",
         "orientation": "v",
         "showlegend": true,
         "type": "scatter",
         "x": [
          3.9004268646240234
         ],
         "xaxis": "x",
         "y": [
          4.655553817749023
         ],
         "yaxis": "y"
        },
        {
         "hovertemplate": "color=721125353851326464\tSaudiVision2030\t(True, False)<br>0=%{x}<br>1=%{y}<extra></extra>",
         "legendgroup": "721125353851326464\tSaudiVision2030\t(True, False)",
         "marker": {
          "color": "#FF6692",
          "symbol": "circle"
         },
         "mode": "markers",
         "name": "721125353851326464\tSaudiVision2030\t(True, False)",
         "orientation": "v",
         "showlegend": true,
         "type": "scatter",
         "x": [
          2.9183666706085205
         ],
         "xaxis": "x",
         "y": [
          2.22298264503479
         ],
         "yaxis": "y"
        },
        {
         "hovertemplate": "color=1171056150999158791\tSPAregions\t(True, False)<br>0=%{x}<br>1=%{y}<extra></extra>",
         "legendgroup": "1171056150999158791\tSPAregions\t(True, False)",
         "marker": {
          "color": "#B6E880",
          "symbol": "circle"
         },
         "mode": "markers",
         "name": "1171056150999158791\tSPAregions\t(True, False)",
         "orientation": "v",
         "showlegend": true,
         "type": "scatter",
         "x": [
          5.249492168426514
         ],
         "xaxis": "x",
         "y": [
          2.749136209487915
         ],
         "yaxis": "y"
        },
        {
         "hovertemplate": "color=1371938891121500167\tSU_Care1\t(True, False)<br>0=%{x}<br>1=%{y}<extra></extra>",
         "legendgroup": "1371938891121500167\tSU_Care1\t(True, False)",
         "marker": {
          "color": "#FF97FF",
          "symbol": "circle"
         },
         "mode": "markers",
         "name": "1371938891121500167\tSU_Care1\t(True, False)",
         "orientation": "v",
         "showlegend": true,
         "type": "scatter",
         "x": [
          3.9442977905273438
         ],
         "xaxis": "x",
         "y": [
          4.6438493728637695
         ],
         "yaxis": "y"
        },
        {
         "hovertemplate": "color=2347335081\tdra1sm1\t(True, False)<br>0=%{x}<br>1=%{y}<extra></extra>",
         "legendgroup": "2347335081\tdra1sm1\t(True, False)",
         "marker": {
          "color": "#FECB52",
          "symbol": "circle"
         },
         "mode": "markers",
         "name": "2347335081\tdra1sm1\t(True, False)",
         "orientation": "v",
         "showlegend": true,
         "type": "scatter",
         "x": [
          4.041247367858887
         ],
         "xaxis": "x",
         "y": [
          4.624094009399414
         ],
         "yaxis": "y"
        },
        {
         "hovertemplate": "color=224132267\tdralseaf\t(True, False)<br>0=%{x}<br>1=%{y}<extra></extra>",
         "legendgroup": "224132267\tdralseaf\t(True, False)",
         "marker": {
          "color": "#636efa",
          "symbol": "circle"
         },
         "mode": "markers",
         "name": "224132267\tdralseaf\t(True, False)",
         "orientation": "v",
         "showlegend": true,
         "type": "scatter",
         "x": [
          3.8671886920928955
         ],
         "xaxis": "x",
         "y": [
          4.686902046203613
         ],
         "yaxis": "y"
        },
        {
         "hovertemplate": "color=280172306\tSaudiMOH\t(True, False)<br>0=%{x}<br>1=%{y}<extra></extra>",
         "legendgroup": "280172306\tSaudiMOH\t(True, False)",
         "marker": {
          "color": "#EF553B",
          "symbol": "circle"
         },
         "mode": "markers",
         "name": "280172306\tSaudiMOH\t(True, False)",
         "orientation": "v",
         "showlegend": true,
         "type": "scatter",
         "x": [
          2.5278704166412354
         ],
         "xaxis": "x",
         "y": [
          1.9127126932144165
         ],
         "yaxis": "y"
        },
        {
         "hovertemplate": "color=1271613812\tdlsu4\t(True, False)<br>0=%{x}<br>1=%{y}<extra></extra>",
         "legendgroup": "1271613812\tdlsu4\t(True, False)",
         "marker": {
          "color": "#00cc96",
          "symbol": "circle"
         },
         "mode": "markers",
         "name": "1271613812\tdlsu4\t(True, False)",
         "orientation": "v",
         "showlegend": true,
         "type": "scatter",
         "x": [
          4.006170272827148
         ],
         "xaxis": "x",
         "y": [
          4.451029300689697
         ],
         "yaxis": "y"
        },
        {
         "hovertemplate": "color=419547700\tiEN_tv\t(True, False)<br>0=%{x}<br>1=%{y}<extra></extra>",
         "legendgroup": "419547700\tiEN_tv\t(True, False)",
         "marker": {
          "color": "#ab63fa",
          "symbol": "circle"
         },
         "mode": "markers",
         "name": "419547700\tiEN_tv\t(True, False)",
         "orientation": "v",
         "showlegend": true,
         "type": "scatter",
         "x": [
          3.6753969192504883
         ],
         "xaxis": "x",
         "y": [
          3.9731273651123047
         ],
         "yaxis": "y"
        },
        {
         "hovertemplate": "color=2824567128\t1_dsa1\t(True, False)<br>0=%{x}<br>1=%{y}<extra></extra>",
         "legendgroup": "2824567128\t1_dsa1\t(True, False)",
         "marker": {
          "color": "#FFA15A",
          "symbol": "circle"
         },
         "mode": "markers",
         "name": "2824567128\t1_dsa1\t(True, False)",
         "orientation": "v",
         "showlegend": true,
         "type": "scatter",
         "x": [
          3.832529306411743
         ],
         "xaxis": "x",
         "y": [
          4.625697612762451
         ],
         "yaxis": "y"
        },
        {
         "hovertemplate": "color=1184545608557891584\tSusfchannel\t(True, False)<br>0=%{x}<br>1=%{y}<extra></extra>",
         "legendgroup": "1184545608557891584\tSusfchannel\t(True, False)",
         "marker": {
          "color": "#19d3f3",
          "symbol": "circle"
         },
         "mode": "markers",
         "name": "1184545608557891584\tSusfchannel\t(True, False)",
         "orientation": "v",
         "showlegend": true,
         "type": "scatter",
         "x": [
          4.790894031524658
         ],
         "xaxis": "x",
         "y": [
          3.845832347869873
         ],
         "yaxis": "y"
        },
        {
         "hovertemplate": "color=1425495130014986240\tPresident_Uhb\t(True, False)<br>0=%{x}<br>1=%{y}<extra></extra>",
         "legendgroup": "1425495130014986240\tPresident_Uhb\t(True, False)",
         "marker": {
          "color": "#FF6692",
          "symbol": "circle"
         },
         "mode": "markers",
         "name": "1425495130014986240\tPresident_Uhb\t(True, False)",
         "orientation": "v",
         "showlegend": true,
         "type": "scatter",
         "x": [
          4.2732954025268555
         ],
         "xaxis": "x",
         "y": [
          3.981194019317627
         ],
         "yaxis": "y"
        },
        {
         "hovertemplate": "color=424164325\tEtecNcaaa\t(True, False)<br>0=%{x}<br>1=%{y}<extra></extra>",
         "legendgroup": "424164325\tEtecNcaaa\t(True, False)",
         "marker": {
          "color": "#B6E880",
          "symbol": "circle"
         },
         "mode": "markers",
         "name": "424164325\tEtecNcaaa\t(True, False)",
         "orientation": "v",
         "showlegend": true,
         "type": "scatter",
         "x": [
          3.079589366912842
         ],
         "xaxis": "x",
         "y": [
          0.233560711145401
         ],
         "yaxis": "y"
        },
        {
         "hovertemplate": "color=223529895\tSALEH_ALSAqqER\t(True, False)<br>0=%{x}<br>1=%{y}<extra></extra>",
         "legendgroup": "223529895\tSALEH_ALSAqqER\t(True, False)",
         "marker": {
          "color": "#FF97FF",
          "symbol": "circle"
         },
         "mode": "markers",
         "name": "223529895\tSALEH_ALSAqqER\t(True, False)",
         "orientation": "v",
         "showlegend": true,
         "type": "scatter",
         "x": [
          4.411754131317139
         ],
         "xaxis": "x",
         "y": [
          3.824392795562744
         ],
         "yaxis": "y"
        },
        {
         "hovertemplate": "color=2321495687\temara_sharqia\t(True, False)<br>0=%{x}<br>1=%{y}<extra></extra>",
         "legendgroup": "2321495687\temara_sharqia\t(True, False)",
         "marker": {
          "color": "#FECB52",
          "symbol": "circle"
         },
         "mode": "markers",
         "name": "2321495687\temara_sharqia\t(True, False)",
         "orientation": "v",
         "showlegend": true,
         "type": "scatter",
         "x": [
          5.620975017547607
         ],
         "xaxis": "x",
         "y": [
          3.2553842067718506
         ],
         "yaxis": "y"
        },
        {
         "hovertemplate": "color=4171270379\tREG_UOHB\t(True, False)<br>0=%{x}<br>1=%{y}<extra></extra>",
         "legendgroup": "4171270379\tREG_UOHB\t(True, False)",
         "marker": {
          "color": "#636efa",
          "symbol": "circle"
         },
         "mode": "markers",
         "name": "4171270379\tREG_UOHB\t(True, False)",
         "orientation": "v",
         "showlegend": true,
         "type": "scatter",
         "x": [
          4.5142903327941895
         ],
         "xaxis": "x",
         "y": [
          3.728987216949463
         ],
         "yaxis": "y"
        },
        {
         "hovertemplate": "color=497778366\taljumaiahe\t(True, False)<br>0=%{x}<br>1=%{y}<extra></extra>",
         "legendgroup": "497778366\taljumaiahe\t(True, False)",
         "marker": {
          "color": "#EF553B",
          "symbol": "circle"
         },
         "mode": "markers",
         "name": "497778366\taljumaiahe\t(True, False)",
         "orientation": "v",
         "showlegend": true,
         "type": "scatter",
         "x": [
          5.359879493713379
         ],
         "xaxis": "x",
         "y": [
          1.5252593755722046
         ],
         "yaxis": "y"
        },
        {
         "hovertemplate": "color=551449089\tkau_media\t(True, False)<br>0=%{x}<br>1=%{y}<extra></extra>",
         "legendgroup": "551449089\tkau_media\t(True, False)",
         "marker": {
          "color": "#00cc96",
          "symbol": "circle"
         },
         "mode": "markers",
         "name": "551449089\tkau_media\t(True, False)",
         "orientation": "v",
         "showlegend": true,
         "type": "scatter",
         "x": [
          3.4795331954956055
         ],
         "xaxis": "x",
         "y": [
          2.690697193145752
         ],
         "yaxis": "y"
        },
        {
         "hovertemplate": "color=63796828\tverified\t(True, False)<br>0=%{x}<br>1=%{y}<extra></extra>",
         "legendgroup": "63796828\tverified\t(True, False)",
         "marker": {
          "color": "#ab63fa",
          "symbol": "circle"
         },
         "mode": "markers",
         "name": "63796828\tverified\t(True, False)",
         "orientation": "v",
         "showlegend": true,
         "type": "scatter",
         "x": [
          6.486588001251221
         ],
         "xaxis": "x",
         "y": [
          4.323707580566406
         ],
         "yaxis": "y"
        },
        {
         "hovertemplate": "color=769467426677325824\tstudents1438\t(True, False)<br>0=%{x}<br>1=%{y}<extra></extra>",
         "legendgroup": "769467426677325824\tstudents1438\t(True, False)",
         "marker": {
          "color": "#FFA15A",
          "symbol": "circle"
         },
         "mode": "markers",
         "name": "769467426677325824\tstudents1438\t(True, False)",
         "orientation": "v",
         "showlegend": true,
         "type": "scatter",
         "x": [
          6.330414295196533
         ],
         "xaxis": "x",
         "y": [
          6.75028133392334
         ],
         "yaxis": "y"
        },
        {
         "hovertemplate": "color=791709025343791104\tUb_Edu07\t(True, False)<br>0=%{x}<br>1=%{y}<extra></extra>",
         "legendgroup": "791709025343791104\tUb_Edu07\t(True, False)",
         "marker": {
          "color": "#19d3f3",
          "symbol": "circle"
         },
         "mode": "markers",
         "name": "791709025343791104\tUb_Edu07\t(True, False)",
         "orientation": "v",
         "showlegend": true,
         "type": "scatter",
         "x": [
          6.287057876586914
         ],
         "xaxis": "x",
         "y": [
          6.408900260925293
         ],
         "yaxis": "y"
        },
        {
         "hovertemplate": "color=1092135468530061312\ttathlithub1\t(True, False)<br>0=%{x}<br>1=%{y}<extra></extra>",
         "legendgroup": "1092135468530061312\ttathlithub1\t(True, False)",
         "marker": {
          "color": "#FF6692",
          "symbol": "circle"
         },
         "mode": "markers",
         "name": "1092135468530061312\ttathlithub1\t(True, False)",
         "orientation": "v",
         "showlegend": true,
         "type": "scatter",
         "x": [
          6.431443214416504
         ],
         "xaxis": "x",
         "y": [
          6.790771007537842
         ],
         "yaxis": "y"
        },
        {
         "hovertemplate": "color=1181483292136222721\tAUAS_Bisha\t(True, False)<br>0=%{x}<br>1=%{y}<extra></extra>",
         "legendgroup": "1181483292136222721\tAUAS_Bisha\t(True, False)",
         "marker": {
          "color": "#B6E880",
          "symbol": "circle"
         },
         "mode": "markers",
         "name": "1181483292136222721\tAUAS_Bisha\t(True, False)",
         "orientation": "v",
         "showlegend": true,
         "type": "scatter",
         "x": [
          6.262425422668457
         ],
         "xaxis": "x",
         "y": [
          7.260000705718994
         ],
         "yaxis": "y"
        },
        {
         "hovertemplate": "color=958007851947053061\tUB_ENG\t(True, False)<br>0=%{x}<br>1=%{y}<extra></extra>",
         "legendgroup": "958007851947053061\tUB_ENG\t(True, False)",
         "marker": {
          "color": "#FF97FF",
          "symbol": "circle"
         },
         "mode": "markers",
         "name": "958007851947053061\tUB_ENG\t(True, False)",
         "orientation": "v",
         "showlegend": true,
         "type": "scatter",
         "x": [
          6.307439804077148
         ],
         "xaxis": "x",
         "y": [
          5.557803153991699
         ],
         "yaxis": "y"
        },
        {
         "hovertemplate": "color=1298758367620542470\tGestenUB\t(True, False)<br>0=%{x}<br>1=%{y}<extra></extra>",
         "legendgroup": "1298758367620542470\tGestenUB\t(True, False)",
         "marker": {
          "color": "#FECB52",
          "symbol": "circle"
         },
         "mode": "markers",
         "name": "1298758367620542470\tGestenUB\t(True, False)",
         "orientation": "v",
         "showlegend": true,
         "type": "scatter",
         "x": [
          6.348932266235352
         ],
         "xaxis": "x",
         "y": [
          5.36983060836792
         ],
         "yaxis": "y"
        },
        {
         "hovertemplate": "color=1060996954820435969\tbishasciences\t(True, False)<br>0=%{x}<br>1=%{y}<extra></extra>",
         "legendgroup": "1060996954820435969\tbishasciences\t(True, False)",
         "marker": {
          "color": "#636efa",
          "symbol": "circle"
         },
         "mode": "markers",
         "name": "1060996954820435969\tbishasciences\t(True, False)",
         "orientation": "v",
         "showlegend": true,
         "type": "scatter",
         "x": [
          6.321523189544678
         ],
         "xaxis": "x",
         "y": [
          5.42421817779541
         ],
         "yaxis": "y"
        },
        {
         "hovertemplate": "color=1246199142331944968\tUB_PRD\t(True, False)<br>0=%{x}<br>1=%{y}<extra></extra>",
         "legendgroup": "1246199142331944968\tUB_PRD\t(True, False)",
         "marker": {
          "color": "#EF553B",
          "symbol": "circle"
         },
         "mode": "markers",
         "name": "1246199142331944968\tUB_PRD\t(True, False)",
         "orientation": "v",
         "showlegend": true,
         "type": "scatter",
         "x": [
          6.3411478996276855
         ],
         "xaxis": "x",
         "y": [
          7.15476131439209
         ],
         "yaxis": "y"
        },
        {
         "hovertemplate": "color=1263584715153367045\tub_admission\t(True, False)<br>0=%{x}<br>1=%{y}<extra></extra>",
         "legendgroup": "1263584715153367045\tub_admission\t(True, False)",
         "marker": {
          "color": "#00cc96",
          "symbol": "circle"
         },
         "mode": "markers",
         "name": "1263584715153367045\tub_admission\t(True, False)",
         "orientation": "v",
         "showlegend": true,
         "type": "scatter",
         "x": [
          6.271160125732422
         ],
         "xaxis": "x",
         "y": [
          7.258339881896973
         ],
         "yaxis": "y"
        },
        {
         "hovertemplate": "color=1184166401193467906\tDsrBisha\t(True, False)<br>0=%{x}<br>1=%{y}<extra></extra>",
         "legendgroup": "1184166401193467906\tDsrBisha\t(True, False)",
         "marker": {
          "color": "#ab63fa",
          "symbol": "circle"
         },
         "mode": "markers",
         "name": "1184166401193467906\tDsrBisha\t(True, False)",
         "orientation": "v",
         "showlegend": true,
         "type": "scatter",
         "x": [
          6.334251403808594
         ],
         "xaxis": "x",
         "y": [
          6.959985256195068
         ],
         "yaxis": "y"
        },
        {
         "hovertemplate": "color=951408969481900034\tUB_journal_EH\t(True, False)<br>0=%{x}<br>1=%{y}<extra></extra>",
         "legendgroup": "951408969481900034\tUB_journal_EH\t(True, False)",
         "marker": {
          "color": "#FFA15A",
          "symbol": "circle"
         },
         "mode": "markers",
         "name": "951408969481900034\tUB_journal_EH\t(True, False)",
         "orientation": "v",
         "showlegend": true,
         "type": "scatter",
         "x": [
          6.398281097412109
         ],
         "xaxis": "x",
         "y": [
          6.957973003387451
         ],
         "yaxis": "y"
        },
        {
         "hovertemplate": "color=1150964412456611845\tcob_ub\t(True, False)<br>0=%{x}<br>1=%{y}<extra></extra>",
         "legendgroup": "1150964412456611845\tcob_ub\t(True, False)",
         "marker": {
          "color": "#19d3f3",
          "symbol": "circle"
         },
         "mode": "markers",
         "name": "1150964412456611845\tcob_ub\t(True, False)",
         "orientation": "v",
         "showlegend": true,
         "type": "scatter",
         "x": [
          6.411175727844238
         ],
         "xaxis": "x",
         "y": [
          6.755613327026367
         ],
         "yaxis": "y"
        },
        {
         "hovertemplate": "color=913665546243145728\tFCITUB\t(True, False)<br>0=%{x}<br>1=%{y}<extra></extra>",
         "legendgroup": "913665546243145728\tFCITUB\t(True, False)",
         "marker": {
          "color": "#FF6692",
          "symbol": "circle"
         },
         "mode": "markers",
         "name": "913665546243145728\tFCITUB\t(True, False)",
         "orientation": "v",
         "showlegend": true,
         "type": "scatter",
         "x": [
          6.357736110687256
         ],
         "xaxis": "x",
         "y": [
          6.781046390533447
         ],
         "yaxis": "y"
        },
        {
         "hovertemplate": "color=752763431531474944\tdfpp2030\t(True, False)<br>0=%{x}<br>1=%{y}<extra></extra>",
         "legendgroup": "752763431531474944\tdfpp2030\t(True, False)",
         "marker": {
          "color": "#B6E880",
          "symbol": "circle"
         },
         "mode": "markers",
         "name": "752763431531474944\tdfpp2030\t(True, False)",
         "orientation": "v",
         "showlegend": true,
         "type": "scatter",
         "x": [
          6.347800254821777
         ],
         "xaxis": "x",
         "y": [
          7.012387752532959
         ],
         "yaxis": "y"
        },
        {
         "hovertemplate": "color=992440698371825664\tartsbisha\t(True, False)<br>0=%{x}<br>1=%{y}<extra></extra>",
         "legendgroup": "992440698371825664\tartsbisha\t(True, False)",
         "marker": {
          "color": "#FF97FF",
          "symbol": "circle"
         },
         "mode": "markers",
         "name": "992440698371825664\tartsbisha\t(True, False)",
         "orientation": "v",
         "showlegend": true,
         "type": "scatter",
         "x": [
          6.432454586029053
         ],
         "xaxis": "x",
         "y": [
          6.848613262176514
         ],
         "yaxis": "y"
        },
        {
         "hovertemplate": "color=742303526106345472\tdqubisha\t(True, False)<br>0=%{x}<br>1=%{y}<extra></extra>",
         "legendgroup": "742303526106345472\tdqubisha\t(True, False)",
         "marker": {
          "color": "#FECB52",
          "symbol": "circle"
         },
         "mode": "markers",
         "name": "742303526106345472\tdqubisha\t(True, False)",
         "orientation": "v",
         "showlegend": true,
         "type": "scatter",
         "x": [
          6.208947658538818
         ],
         "xaxis": "x",
         "y": [
          7.225719451904297
         ],
         "yaxis": "y"
        },
        {
         "hovertemplate": "color=1172215193901907968\tUBCOM_BISHA\t(True, False)<br>0=%{x}<br>1=%{y}<extra></extra>",
         "legendgroup": "1172215193901907968\tUBCOM_BISHA\t(True, False)",
         "marker": {
          "color": "#636efa",
          "symbol": "circle"
         },
         "mode": "markers",
         "name": "1172215193901907968\tUBCOM_BISHA\t(True, False)",
         "orientation": "v",
         "showlegend": true,
         "type": "scatter",
         "x": [
          6.415539264678955
         ],
         "xaxis": "x",
         "y": [
          6.851223945617676
         ],
         "yaxis": "y"
        },
        {
         "hovertemplate": "color=2847964352\tScoutsUB\t(True, False)<br>0=%{x}<br>1=%{y}<extra></extra>",
         "legendgroup": "2847964352\tScoutsUB\t(True, False)",
         "marker": {
          "color": "#EF553B",
          "symbol": "circle"
         },
         "mode": "markers",
         "name": "2847964352\tScoutsUB\t(True, False)",
         "orientation": "v",
         "showlegend": true,
         "type": "scatter",
         "x": [
          6.279284477233887
         ],
         "xaxis": "x",
         "y": [
          7.170032978057861
         ],
         "yaxis": "y"
        },
        {
         "hovertemplate": "color=1519449026\temartasir\t(True, False)<br>0=%{x}<br>1=%{y}<extra></extra>",
         "legendgroup": "1519449026\temartasir\t(True, False)",
         "marker": {
          "color": "#00cc96",
          "symbol": "circle"
         },
         "mode": "markers",
         "name": "1519449026\temartasir\t(True, False)",
         "orientation": "v",
         "showlegend": true,
         "type": "scatter",
         "x": [
          5.599575996398926
         ],
         "xaxis": "x",
         "y": [
          4.176113605499268
         ],
         "yaxis": "y"
        },
        {
         "hovertemplate": "color=1010816196\tbalgarnub\t(True, False)<br>0=%{x}<br>1=%{y}<extra></extra>",
         "legendgroup": "1010816196\tbalgarnub\t(True, False)",
         "marker": {
          "color": "#ab63fa",
          "symbol": "circle"
         },
         "mode": "markers",
         "name": "1010816196\tbalgarnub\t(True, False)",
         "orientation": "v",
         "showlegend": true,
         "type": "scatter",
         "x": [
          6.21968936920166
         ],
         "xaxis": "x",
         "y": [
          7.328817844390869
         ],
         "yaxis": "y"
        },
        {
         "hovertemplate": "color=782276812307107840\tedubishaa\t(True, False)<br>0=%{x}<br>1=%{y}<extra></extra>",
         "legendgroup": "782276812307107840\tedubishaa\t(True, False)",
         "marker": {
          "color": "#FFA15A",
          "symbol": "circle"
         },
         "mode": "markers",
         "name": "782276812307107840\tedubishaa\t(True, False)",
         "orientation": "v",
         "showlegend": true,
         "type": "scatter",
         "x": [
          6.295499801635742
         ],
         "xaxis": "x",
         "y": [
          6.854202747344971
         ],
         "yaxis": "y"
        },
        {
         "hovertemplate": "color=3434984784\tstubisha\t(True, False)<br>0=%{x}<br>1=%{y}<extra></extra>",
         "legendgroup": "3434984784\tstubisha\t(True, False)",
         "marker": {
          "color": "#19d3f3",
          "symbol": "circle"
         },
         "mode": "markers",
         "name": "3434984784\tstubisha\t(True, False)",
         "orientation": "v",
         "showlegend": true,
         "type": "scatter",
         "x": [
          6.261873245239258
         ],
         "xaxis": "x",
         "y": [
          7.324132919311523
         ],
         "yaxis": "y"
        },
        {
         "hovertemplate": "color=1063483113345597440\tBishaCollege\t(True, False)<br>0=%{x}<br>1=%{y}<extra></extra>",
         "legendgroup": "1063483113345597440\tBishaCollege\t(True, False)",
         "marker": {
          "color": "#FF6692",
          "symbol": "circle"
         },
         "mode": "markers",
         "name": "1063483113345597440\tBishaCollege\t(True, False)",
         "orientation": "v",
         "showlegend": true,
         "type": "scatter",
         "x": [
          6.236105442047119
         ],
         "xaxis": "x",
         "y": [
          7.3335676193237305
         ],
         "yaxis": "y"
        },
        {
         "hovertemplate": "color=4264514013\telearningub\t(True, False)<br>0=%{x}<br>1=%{y}<extra></extra>",
         "legendgroup": "4264514013\telearningub\t(True, False)",
         "marker": {
          "color": "#B6E880",
          "symbol": "circle"
         },
         "mode": "markers",
         "name": "4264514013\telearningub\t(True, False)",
         "orientation": "v",
         "showlegend": true,
         "type": "scatter",
         "x": [
          6.2001261711120605
         ],
         "xaxis": "x",
         "y": [
          7.234826564788818
         ],
         "yaxis": "y"
        },
        {
         "hovertemplate": "color=930887547668107264\tbishamedical\t(True, False)<br>0=%{x}<br>1=%{y}<extra></extra>",
         "legendgroup": "930887547668107264\tbishamedical\t(True, False)",
         "marker": {
          "color": "#FF97FF",
          "symbol": "circle"
         },
         "mode": "markers",
         "name": "930887547668107264\tbishamedical\t(True, False)",
         "orientation": "v",
         "showlegend": true,
         "type": "scatter",
         "x": [
          6.346341609954834
         ],
         "xaxis": "x",
         "y": [
          6.744479656219482
         ],
         "yaxis": "y"
        },
        {
         "hovertemplate": "color=859814759864180736\tUB_DLA\t(True, False)<br>0=%{x}<br>1=%{y}<extra></extra>",
         "legendgroup": "859814759864180736\tUB_DLA\t(True, False)",
         "marker": {
          "color": "#FECB52",
          "symbol": "circle"
         },
         "mode": "markers",
         "name": "859814759864180736\tUB_DLA\t(True, False)",
         "orientation": "v",
         "showlegend": true,
         "type": "scatter",
         "x": [
          6.256340026855469
         ],
         "xaxis": "x",
         "y": [
          7.327034950256348
         ],
         "yaxis": "y"
        },
        {
         "hovertemplate": "color=1132561021376376832\tub_dgs\t(True, False)<br>0=%{x}<br>1=%{y}<extra></extra>",
         "legendgroup": "1132561021376376832\tub_dgs\t(True, False)",
         "marker": {
          "color": "#636efa",
          "symbol": "circle"
         },
         "mode": "markers",
         "name": "1132561021376376832\tub_dgs\t(True, False)",
         "orientation": "v",
         "showlegend": true,
         "type": "scatter",
         "x": [
          6.413112640380859
         ],
         "xaxis": "x",
         "y": [
          6.944388389587402
         ],
         "yaxis": "y"
        },
        {
         "hovertemplate": "color=1097441836828975104\ttawasulub\t(True, False)<br>0=%{x}<br>1=%{y}<extra></extra>",
         "legendgroup": "1097441836828975104\ttawasulub\t(True, False)",
         "marker": {
          "color": "#EF553B",
          "symbol": "circle"
         },
         "mode": "markers",
         "name": "1097441836828975104\ttawasulub\t(True, False)",
         "orientation": "v",
         "showlegend": true,
         "type": "scatter",
         "x": [
          6.35540246963501
         ],
         "xaxis": "x",
         "y": [
          7.007887840270996
         ],
         "yaxis": "y"
        },
        {
         "hovertemplate": "color=844101159900069888\tPNPWE_KSA\t(True, False)<br>0=%{x}<br>1=%{y}<extra></extra>",
         "legendgroup": "844101159900069888\tPNPWE_KSA\t(True, False)",
         "marker": {
          "color": "#00cc96",
          "symbol": "circle"
         },
         "mode": "markers",
         "name": "844101159900069888\tPNPWE_KSA\t(True, False)",
         "orientation": "v",
         "showlegend": true,
         "type": "scatter",
         "x": [
          5.2964043617248535
         ],
         "xaxis": "x",
         "y": [
          -1.5758992433547974
         ],
         "yaxis": "y"
        },
        {
         "hovertemplate": "color=2197742657\tdsa_pnu\t(True, False)<br>0=%{x}<br>1=%{y}<extra></extra>",
         "legendgroup": "2197742657\tdsa_pnu\t(True, False)",
         "marker": {
          "color": "#ab63fa",
          "symbol": "circle"
         },
         "mode": "markers",
         "name": "2197742657\tdsa_pnu\t(True, False)",
         "orientation": "v",
         "showlegend": true,
         "type": "scatter",
         "x": [
          5.472390651702881
         ],
         "xaxis": "x",
         "y": [
          -1.7418596744537354
         ],
         "yaxis": "y"
        },
        {
         "hovertemplate": "color=1293569063579521026\tPNU_EVENTS\t(True, False)<br>0=%{x}<br>1=%{y}<extra></extra>",
         "legendgroup": "1293569063579521026\tPNU_EVENTS\t(True, False)",
         "marker": {
          "color": "#FFA15A",
          "symbol": "circle"
         },
         "mode": "markers",
         "name": "1293569063579521026\tPNU_EVENTS\t(True, False)",
         "orientation": "v",
         "showlegend": true,
         "type": "scatter",
         "x": [
          5.310984134674072
         ],
         "xaxis": "x",
         "y": [
          -1.5858854055404663
         ],
         "yaxis": "y"
        },
        {
         "hovertemplate": "color=2575281986\tKAAUH_PNU\t(True, False)<br>0=%{x}<br>1=%{y}<extra></extra>",
         "legendgroup": "2575281986\tKAAUH_PNU\t(True, False)",
         "marker": {
          "color": "#19d3f3",
          "symbol": "circle"
         },
         "mode": "markers",
         "name": "2575281986\tKAAUH_PNU\t(True, False)",
         "orientation": "v",
         "showlegend": true,
         "type": "scatter",
         "x": [
          5.369513034820557
         ],
         "xaxis": "x",
         "y": [
          -1.649787187576294
         ],
         "yaxis": "y"
        },
        {
         "hovertemplate": "color=636041926\tpnu_live\t(True, False)<br>0=%{x}<br>1=%{y}<extra></extra>",
         "legendgroup": "636041926\tpnu_live\t(True, False)",
         "marker": {
          "color": "#FF6692",
          "symbol": "circle"
         },
         "mode": "markers",
         "name": "636041926\tpnu_live\t(True, False)",
         "orientation": "v",
         "showlegend": true,
         "type": "scatter",
         "x": [
          5.489826679229736
         ],
         "xaxis": "x",
         "y": [
          -1.762749195098877
         ],
         "yaxis": "y"
        },
        {
         "hovertemplate": "color=3251574823\tDgs_Pnu\t(True, False)<br>0=%{x}<br>1=%{y}<extra></extra>",
         "legendgroup": "3251574823\tDgs_Pnu\t(True, False)",
         "marker": {
          "color": "#B6E880",
          "symbol": "circle"
         },
         "mode": "markers",
         "name": "3251574823\tDgs_Pnu\t(True, False)",
         "orientation": "v",
         "showlegend": true,
         "type": "scatter",
         "x": [
          5.436216354370117
         ],
         "xaxis": "x",
         "y": [
          -1.6391524076461792
         ],
         "yaxis": "y"
        },
        {
         "hovertemplate": "color=1886340584\tAdmission_pnu\t(True, False)<br>0=%{x}<br>1=%{y}<extra></extra>",
         "legendgroup": "1886340584\tAdmission_pnu\t(True, False)",
         "marker": {
          "color": "#FF97FF",
          "symbol": "circle"
         },
         "mode": "markers",
         "name": "1886340584\tAdmission_pnu\t(True, False)",
         "orientation": "v",
         "showlegend": true,
         "type": "scatter",
         "x": [
          5.522133827209473
         ],
         "xaxis": "x",
         "y": [
          -1.751686692237854
         ],
         "yaxis": "y"
        },
        {
         "hovertemplate": "color=1860947594\tdla_pnu\t(True, False)<br>0=%{x}<br>1=%{y}<extra></extra>",
         "legendgroup": "1860947594\tdla_pnu\t(True, False)",
         "marker": {
          "color": "#FECB52",
          "symbol": "circle"
         },
         "mode": "markers",
         "name": "1860947594\tdla_pnu\t(True, False)",
         "orientation": "v",
         "showlegend": true,
         "type": "scatter",
         "x": [
          5.419849395751953
         ],
         "xaxis": "x",
         "y": [
          -1.717421293258667
         ],
         "yaxis": "y"
        },
        {
         "hovertemplate": "color=3261165109\tvgs_pnu\t(True, False)<br>0=%{x}<br>1=%{y}<extra></extra>",
         "legendgroup": "3261165109\tvgs_pnu\t(True, False)",
         "marker": {
          "color": "#636efa",
          "symbol": "circle"
         },
         "mode": "markers",
         "name": "3261165109\tvgs_pnu\t(True, False)",
         "orientation": "v",
         "showlegend": true,
         "type": "scatter",
         "x": [
          5.498782157897949
         ],
         "xaxis": "x",
         "y": [
          -1.760681390762329
         ],
         "yaxis": "y"
        },
        {
         "hovertemplate": "color=2162282934\tDcscePnu\t(True, False)<br>0=%{x}<br>1=%{y}<extra></extra>",
         "legendgroup": "2162282934\tDcscePnu\t(True, False)",
         "marker": {
          "color": "#EF553B",
          "symbol": "circle"
         },
         "mode": "markers",
         "name": "2162282934\tDcscePnu\t(True, False)",
         "orientation": "v",
         "showlegend": true,
         "type": "scatter",
         "x": [
          5.398299217224121
         ],
         "xaxis": "x",
         "y": [
          -1.6580541133880615
         ],
         "yaxis": "y"
        },
        {
         "hovertemplate": "color=3414775006\thrd_pnu\t(True, False)<br>0=%{x}<br>1=%{y}<extra></extra>",
         "legendgroup": "3414775006\thrd_pnu\t(True, False)",
         "marker": {
          "color": "#00cc96",
          "symbol": "circle"
         },
         "mode": "markers",
         "name": "3414775006\thrd_pnu\t(True, False)",
         "orientation": "v",
         "showlegend": true,
         "type": "scatter",
         "x": [
          5.402109146118164
         ],
         "xaxis": "x",
         "y": [
          -1.6804289817810059
         ],
         "yaxis": "y"
        },
        {
         "hovertemplate": "color=1171057673598623744\tSPAqualitylife\t(True, False)<br>0=%{x}<br>1=%{y}<extra></extra>",
         "legendgroup": "1171057673598623744\tSPAqualitylife\t(True, False)",
         "marker": {
          "color": "#ab63fa",
          "symbol": "circle"
         },
         "mode": "markers",
         "name": "1171057673598623744\tSPAqualitylife\t(True, False)",
         "orientation": "v",
         "showlegend": true,
         "type": "scatter",
         "x": [
          5.353647232055664
         ],
         "xaxis": "x",
         "y": [
          2.8786611557006836
         ],
         "yaxis": "y"
        },
        {
         "hovertemplate": "color=1171059959695650817\tSPAeconomic\t(True, False)<br>0=%{x}<br>1=%{y}<extra></extra>",
         "legendgroup": "1171059959695650817\tSPAeconomic\t(True, False)",
         "marker": {
          "color": "#FFA15A",
          "symbol": "circle"
         },
         "mode": "markers",
         "name": "1171059959695650817\tSPAeconomic\t(True, False)",
         "orientation": "v",
         "showlegend": true,
         "type": "scatter",
         "x": [
          5.445995807647705
         ],
         "xaxis": "x",
         "y": [
          2.9573748111724854
         ],
         "yaxis": "y"
        },
        {
         "hovertemplate": "color=773822165598822400\tspafr4\t(True, False)<br>0=%{x}<br>1=%{y}<extra></extra>",
         "legendgroup": "773822165598822400\tspafr4\t(True, False)",
         "marker": {
          "color": "#19d3f3",
          "symbol": "circle"
         },
         "mode": "markers",
         "name": "773822165598822400\tspafr4\t(True, False)",
         "orientation": "v",
         "showlegend": true,
         "type": "scatter",
         "x": [
          5.505678653717041
         ],
         "xaxis": "x",
         "y": [
          2.9934439659118652
         ],
         "yaxis": "y"
        },
        {
         "hovertemplate": "color=1171062925488001025\tSPA_Spor\t(True, False)<br>0=%{x}<br>1=%{y}<extra></extra>",
         "legendgroup": "1171062925488001025\tSPA_Spor\t(True, False)",
         "marker": {
          "color": "#FF6692",
          "symbol": "circle"
         },
         "mode": "markers",
         "name": "1171062925488001025\tSPA_Spor\t(True, False)",
         "orientation": "v",
         "showlegend": true,
         "type": "scatter",
         "x": [
          5.3761091232299805
         ],
         "xaxis": "x",
         "y": [
          2.9113399982452393
         ],
         "yaxis": "y"
        },
        {
         "hovertemplate": "color=3481182319\tSpa_Eng\t(True, False)<br>0=%{x}<br>1=%{y}<extra></extra>",
         "legendgroup": "3481182319\tSpa_Eng\t(True, False)",
         "marker": {
          "color": "#B6E880",
          "symbol": "circle"
         },
         "mode": "markers",
         "name": "3481182319\tSpa_Eng\t(True, False)",
         "orientation": "v",
         "showlegend": true,
         "type": "scatter",
         "x": [
          5.636486053466797
         ],
         "xaxis": "x",
         "y": [
          3.056727170944214
         ],
         "yaxis": "y"
        },
        {
         "hovertemplate": "color=3491699774\tspa_persian\t(True, False)<br>0=%{x}<br>1=%{y}<extra></extra>",
         "legendgroup": "3491699774\tspa_persian\t(True, False)",
         "marker": {
          "color": "#FF97FF",
          "symbol": "circle"
         },
         "mode": "markers",
         "name": "3491699774\tspa_persian\t(True, False)",
         "orientation": "v",
         "showlegend": true,
         "type": "scatter",
         "x": [
          5.473348617553711
         ],
         "xaxis": "x",
         "y": [
          2.9902851581573486
         ],
         "yaxis": "y"
        },
        {
         "hovertemplate": "color=937651649484554240\tDeloitteKSA\t(True, False)<br>0=%{x}<br>1=%{y}<extra></extra>",
         "legendgroup": "937651649484554240\tDeloitteKSA\t(True, False)",
         "marker": {
          "color": "#FECB52",
          "symbol": "circle"
         },
         "mode": "markers",
         "name": "937651649484554240\tDeloitteKSA\t(True, False)",
         "orientation": "v",
         "showlegend": true,
         "type": "scatter",
         "x": [
          5.362738132476807
         ],
         "xaxis": "x",
         "y": [
          4.00379753112793
         ],
         "yaxis": "y"
        },
        {
         "hovertemplate": "color=1239647956577460224\tRSI_SEU\t(True, False)<br>0=%{x}<br>1=%{y}<extra></extra>",
         "legendgroup": "1239647956577460224\tRSI_SEU\t(True, False)",
         "marker": {
          "color": "#636efa",
          "symbol": "circle"
         },
         "mode": "markers",
         "name": "1239647956577460224\tRSI_SEU\t(True, False)",
         "orientation": "v",
         "showlegend": true,
         "type": "scatter",
         "x": [
          4.91542387008667
         ],
         "xaxis": "x",
         "y": [
          4.764261245727539
         ],
         "yaxis": "y"
        },
        {
         "hovertemplate": "color=1280499192243400707\tinspirethewld\t(True, False)<br>0=%{x}<br>1=%{y}<extra></extra>",
         "legendgroup": "1280499192243400707\tinspirethewld\t(True, False)",
         "marker": {
          "color": "#EF553B",
          "symbol": "circle"
         },
         "mode": "markers",
         "name": "1280499192243400707\tinspirethewld\t(True, False)",
         "orientation": "v",
         "showlegend": true,
         "type": "scatter",
         "x": [
          3.2258894443511963
         ],
         "xaxis": "x",
         "y": [
          2.3700921535491943
         ],
         "yaxis": "y"
        },
        {
         "hovertemplate": "color=1278995982156529667\tLilacSeu\t(True, False)<br>0=%{x}<br>1=%{y}<extra></extra>",
         "legendgroup": "1278995982156529667\tLilacSeu\t(True, False)",
         "marker": {
          "color": "#00cc96",
          "symbol": "circle"
         },
         "mode": "markers",
         "name": "1278995982156529667\tLilacSeu\t(True, False)",
         "orientation": "v",
         "showlegend": true,
         "type": "scatter",
         "x": [
          4.74894905090332
         ],
         "xaxis": "x",
         "y": [
          4.750328063964844
         ],
         "yaxis": "y"
        },
        {
         "hovertemplate": "color=1059721776966627329\tEmediaSEU\t(True, False)<br>0=%{x}<br>1=%{y}<extra></extra>",
         "legendgroup": "1059721776966627329\tEmediaSEU\t(True, False)",
         "marker": {
          "color": "#ab63fa",
          "symbol": "circle"
         },
         "mode": "markers",
         "name": "1059721776966627329\tEmediaSEU\t(True, False)",
         "orientation": "v",
         "showlegend": true,
         "type": "scatter",
         "x": [
          5.013688564300537
         ],
         "xaxis": "x",
         "y": [
          4.785470485687256
         ],
         "yaxis": "y"
        },
        {
         "hovertemplate": "color=846278247667159040\tBACEC_SEU\t(True, False)<br>0=%{x}<br>1=%{y}<extra></extra>",
         "legendgroup": "846278247667159040\tBACEC_SEU\t(True, False)",
         "marker": {
          "color": "#FFA15A",
          "symbol": "circle"
         },
         "mode": "markers",
         "name": "846278247667159040\tBACEC_SEU\t(True, False)",
         "orientation": "v",
         "showlegend": true,
         "type": "scatter",
         "x": [
          5.041819095611572
         ],
         "xaxis": "x",
         "y": [
          4.574143409729004
         ],
         "yaxis": "y"
        },
        {
         "hovertemplate": "color=1412696964567863308\tGTEL_SA\t(True, False)<br>0=%{x}<br>1=%{y}<extra></extra>",
         "legendgroup": "1412696964567863308\tGTEL_SA\t(True, False)",
         "marker": {
          "color": "#19d3f3",
          "symbol": "circle"
         },
         "mode": "markers",
         "name": "1412696964567863308\tGTEL_SA\t(True, False)",
         "orientation": "v",
         "showlegend": true,
         "type": "scatter",
         "x": [
          4.95336389541626
         ],
         "xaxis": "x",
         "y": [
          4.670876979827881
         ],
         "yaxis": "y"
        },
        {
         "hovertemplate": "color=2165825188\tPYD_SEU\t(True, False)<br>0=%{x}<br>1=%{y}<extra></extra>",
         "legendgroup": "2165825188\tPYD_SEU\t(True, False)",
         "marker": {
          "color": "#FF6692",
          "symbol": "circle"
         },
         "mode": "markers",
         "name": "2165825188\tPYD_SEU\t(True, False)",
         "orientation": "v",
         "showlegend": true,
         "type": "scatter",
         "x": [
          4.845668315887451
         ],
         "xaxis": "x",
         "y": [
          4.763951301574707
         ],
         "yaxis": "y"
        },
        {
         "hovertemplate": "color=4722560301\tAttentiveSeu\t(True, False)<br>0=%{x}<br>1=%{y}<extra></extra>",
         "legendgroup": "4722560301\tAttentiveSeu\t(True, False)",
         "marker": {
          "color": "#B6E880",
          "symbol": "circle"
         },
         "mode": "markers",
         "name": "4722560301\tAttentiveSeu\t(True, False)",
         "orientation": "v",
         "showlegend": true,
         "type": "scatter",
         "x": [
          4.858382225036621
         ],
         "xaxis": "x",
         "y": [
          4.696169853210449
         ],
         "yaxis": "y"
        },
        {
         "hovertemplate": "color=3243431478\tSEU_Care\t(True, False)<br>0=%{x}<br>1=%{y}<extra></extra>",
         "legendgroup": "3243431478\tSEU_Care\t(True, False)",
         "marker": {
          "color": "#FF97FF",
          "symbol": "circle"
         },
         "mode": "markers",
         "name": "3243431478\tSEU_Care\t(True, False)",
         "orientation": "v",
         "showlegend": true,
         "type": "scatter",
         "x": [
          4.814231872558594
         ],
         "xaxis": "x",
         "y": [
          4.588644504547119
         ],
         "yaxis": "y"
        },
        {
         "hovertemplate": "color=2522628416\tICD_PS\t(True, False)<br>0=%{x}<br>1=%{y}<extra></extra>",
         "legendgroup": "2522628416\tICD_PS\t(True, False)",
         "marker": {
          "color": "#FECB52",
          "symbol": "circle"
         },
         "mode": "markers",
         "name": "2522628416\tICD_PS\t(True, False)",
         "orientation": "v",
         "showlegend": true,
         "type": "scatter",
         "x": [
          5.233924388885498
         ],
         "xaxis": "x",
         "y": [
          4.176050186157227
         ],
         "yaxis": "y"
        },
        {
         "hovertemplate": "color=1682846546\tJisr_news\t(True, False)<br>0=%{x}<br>1=%{y}<extra></extra>",
         "legendgroup": "1682846546\tJisr_news\t(True, False)",
         "marker": {
          "color": "#636efa",
          "symbol": "circle"
         },
         "mode": "markers",
         "name": "1682846546\tJisr_news\t(True, False)",
         "orientation": "v",
         "showlegend": true,
         "type": "scatter",
         "x": [
          4.781377792358398
         ],
         "xaxis": "x",
         "y": [
          4.728917121887207
         ],
         "yaxis": "y"
        },
        {
         "hovertemplate": "color=2226516824\tdgs_seu\t(True, False)<br>0=%{x}<br>1=%{y}<extra></extra>",
         "legendgroup": "2226516824\tdgs_seu\t(True, False)",
         "marker": {
          "color": "#EF553B",
          "symbol": "circle"
         },
         "mode": "markers",
         "name": "2226516824\tdgs_seu\t(True, False)",
         "orientation": "v",
         "showlegend": true,
         "type": "scatter",
         "x": [
          4.840724468231201
         ],
         "xaxis": "x",
         "y": [
          4.743234634399414
         ],
         "yaxis": "y"
        },
        {
         "hovertemplate": "color=1127670607221612544\tMinisterVice\t(True, False)<br>0=%{x}<br>1=%{y}<extra></extra>",
         "legendgroup": "1127670607221612544\tMinisterVice\t(True, False)",
         "marker": {
          "color": "#00cc96",
          "symbol": "circle"
         },
         "mode": "markers",
         "name": "1127670607221612544\tMinisterVice\t(True, False)",
         "orientation": "v",
         "showlegend": true,
         "type": "scatter",
         "x": [
          3.396710157394409
         ],
         "xaxis": "x",
         "y": [
          3.821831226348877
         ],
         "yaxis": "y"
        },
        {
         "hovertemplate": "color=1127677941746475008\tAssistantMinis\t(True, False)<br>0=%{x}<br>1=%{y}<extra></extra>",
         "legendgroup": "1127677941746475008\tAssistantMinis\t(True, False)",
         "marker": {
          "color": "#ab63fa",
          "symbol": "circle"
         },
         "mode": "markers",
         "name": "1127677941746475008\tAssistantMinis\t(True, False)",
         "orientation": "v",
         "showlegend": true,
         "type": "scatter",
         "x": [
          3.2800803184509277
         ],
         "xaxis": "x",
         "y": [
          3.73508620262146
         ],
         "yaxis": "y"
        },
        {
         "hovertemplate": "color=839794914363916288\tkh_alibrahim\t(True, False)<br>0=%{x}<br>1=%{y}<extra></extra>",
         "legendgroup": "839794914363916288\tkh_alibrahim\t(True, False)",
         "marker": {
          "color": "#FFA15A",
          "symbol": "circle"
         },
         "mode": "markers",
         "name": "839794914363916288\tkh_alibrahim\t(True, False)",
         "orientation": "v",
         "showlegend": true,
         "type": "scatter",
         "x": [
          4.152823448181152
         ],
         "xaxis": "x",
         "y": [
          5.132693767547607
         ],
         "yaxis": "y"
        },
        {
         "hovertemplate": "color=758445711637749760\t_uoh_5\t(True, False)<br>0=%{x}<br>1=%{y}<extra></extra>",
         "legendgroup": "758445711637749760\t_uoh_5\t(True, False)",
         "marker": {
          "color": "#19d3f3",
          "symbol": "circle"
         },
         "mode": "markers",
         "name": "758445711637749760\t_uoh_5\t(True, False)",
         "orientation": "v",
         "showlegend": true,
         "type": "scatter",
         "x": [
          3.703026056289673
         ],
         "xaxis": "x",
         "y": [
          6.155439853668213
         ],
         "yaxis": "y"
        },
        {
         "hovertemplate": "color=758444484719943680\t_uoh_4\t(True, False)<br>0=%{x}<br>1=%{y}<extra></extra>",
         "legendgroup": "758444484719943680\t_uoh_4\t(True, False)",
         "marker": {
          "color": "#FF6692",
          "symbol": "circle"
         },
         "mode": "markers",
         "name": "758444484719943680\t_uoh_4\t(True, False)",
         "orientation": "v",
         "showlegend": true,
         "type": "scatter",
         "x": [
          3.69114351272583
         ],
         "xaxis": "x",
         "y": [
          6.170994758605957
         ],
         "yaxis": "y"
        },
        {
         "hovertemplate": "color=758439810239455233\t_uoh_3\t(True, False)<br>0=%{x}<br>1=%{y}<extra></extra>",
         "legendgroup": "758439810239455233\t_uoh_3\t(True, False)",
         "marker": {
          "color": "#B6E880",
          "symbol": "circle"
         },
         "mode": "markers",
         "name": "758439810239455233\t_uoh_3\t(True, False)",
         "orientation": "v",
         "showlegend": true,
         "type": "scatter",
         "x": [
          3.6818900108337402
         ],
         "xaxis": "x",
         "y": [
          6.128231048583984
         ],
         "yaxis": "y"
        },
        {
         "hovertemplate": "color=758303464199946240\t_uoh_2\t(True, False)<br>0=%{x}<br>1=%{y}<extra></extra>",
         "legendgroup": "758303464199946240\t_uoh_2\t(True, False)",
         "marker": {
          "color": "#FF97FF",
          "symbol": "circle"
         },
         "mode": "markers",
         "name": "758303464199946240\t_uoh_2\t(True, False)",
         "orientation": "v",
         "showlegend": true,
         "type": "scatter",
         "x": [
          3.690721273422241
         ],
         "xaxis": "x",
         "y": [
          6.1336588859558105
         ],
         "yaxis": "y"
        },
        {
         "hovertemplate": "color=755659905336565761\tUOH_SPK\t(True, False)<br>0=%{x}<br>1=%{y}<extra></extra>",
         "legendgroup": "755659905336565761\tUOH_SPK\t(True, False)",
         "marker": {
          "color": "#FECB52",
          "symbol": "circle"
         },
         "mode": "markers",
         "name": "755659905336565761\tUOH_SPK\t(True, False)",
         "orientation": "v",
         "showlegend": true,
         "type": "scatter",
         "x": [
          3.7179713249206543
         ],
         "xaxis": "x",
         "y": [
          6.0920915603637695
         ],
         "yaxis": "y"
        },
        {
         "hovertemplate": "color=424494872\tUoHDCSCE\t(True, False)<br>0=%{x}<br>1=%{y}<extra></extra>",
         "legendgroup": "424494872\tUoHDCSCE\t(True, False)",
         "marker": {
          "color": "#636efa",
          "symbol": "circle"
         },
         "mode": "markers",
         "name": "424494872\tUoHDCSCE\t(True, False)",
         "orientation": "v",
         "showlegend": true,
         "type": "scatter",
         "x": [
          6.214245796203613
         ],
         "xaxis": "x",
         "y": [
          4.005711078643799
         ],
         "yaxis": "y"
        },
        {
         "hovertemplate": "color=2433060921\tManarauoh\t(True, False)<br>0=%{x}<br>1=%{y}<extra></extra>",
         "legendgroup": "2433060921\tManarauoh\t(True, False)",
         "marker": {
          "color": "#EF553B",
          "symbol": "circle"
         },
         "mode": "markers",
         "name": "2433060921\tManarauoh\t(True, False)",
         "orientation": "v",
         "showlegend": true,
         "type": "scatter",
         "x": [
          3.747854471206665
         ],
         "xaxis": "x",
         "y": [
          6.18300199508667
         ],
         "yaxis": "y"
        },
        {
         "hovertemplate": "color=3291089610\t_UOH_C\t(True, False)<br>0=%{x}<br>1=%{y}<extra></extra>",
         "legendgroup": "3291089610\t_UOH_C\t(True, False)",
         "marker": {
          "color": "#00cc96",
          "symbol": "circle"
         },
         "mode": "markers",
         "name": "3291089610\t_UOH_C\t(True, False)",
         "orientation": "v",
         "showlegend": true,
         "type": "scatter",
         "x": [
          3.728325366973877
         ],
         "xaxis": "x",
         "y": [
          6.171765327453613
         ],
         "yaxis": "y"
        },
        {
         "hovertemplate": "color=413182285\tdrsaud2012\t(True, False)<br>0=%{x}<br>1=%{y}<extra></extra>",
         "legendgroup": "413182285\tdrsaud2012\t(True, False)",
         "marker": {
          "color": "#ab63fa",
          "symbol": "circle"
         },
         "mode": "markers",
         "name": "413182285\tdrsaud2012\t(True, False)",
         "orientation": "v",
         "showlegend": true,
         "type": "scatter",
         "x": [
          6.259871006011963
         ],
         "xaxis": "x",
         "y": [
          4.111958026885986
         ],
         "yaxis": "y"
        },
        {
         "hovertemplate": "color=533402971\talamr_abdulaziz\t(True, False)<br>0=%{x}<br>1=%{y}<extra></extra>",
         "legendgroup": "533402971\talamr_abdulaziz\t(True, False)",
         "marker": {
          "color": "#FFA15A",
          "symbol": "circle"
         },
         "mode": "markers",
         "name": "533402971\talamr_abdulaziz\t(True, False)",
         "orientation": "v",
         "showlegend": true,
         "type": "scatter",
         "x": [
          6.2659735679626465
         ],
         "xaxis": "x",
         "y": [
          4.011436462402344
         ],
         "yaxis": "y"
        },
        {
         "hovertemplate": "color=2895356540\temara_hail\t(True, False)<br>0=%{x}<br>1=%{y}<extra></extra>",
         "legendgroup": "2895356540\temara_hail\t(True, False)",
         "marker": {
          "color": "#19d3f3",
          "symbol": "circle"
         },
         "mode": "markers",
         "name": "2895356540\temara_hail\t(True, False)",
         "orientation": "v",
         "showlegend": true,
         "type": "scatter",
         "x": [
          5.910080909729004
         ],
         "xaxis": "x",
         "y": [
          3.1354236602783203
         ],
         "yaxis": "y"
        },
        {
         "hovertemplate": "color=781846391635185664\tMiskCommunity\t(True, False)<br>0=%{x}<br>1=%{y}<extra></extra>",
         "legendgroup": "781846391635185664\tMiskCommunity\t(True, False)",
         "marker": {
          "color": "#FF6692",
          "symbol": "circle"
         },
         "mode": "markers",
         "name": "781846391635185664\tMiskCommunity\t(True, False)",
         "orientation": "v",
         "showlegend": true,
         "type": "scatter",
         "x": [
          2.7192230224609375
         ],
         "xaxis": "x",
         "y": [
          0.523684561252594
         ],
         "yaxis": "y"
        },
        {
         "hovertemplate": "color=1452514135393062913\tKFUPM_DBEC\t(True, False)<br>0=%{x}<br>1=%{y}<extra></extra>",
         "legendgroup": "1452514135393062913\tKFUPM_DBEC\t(True, False)",
         "marker": {
          "color": "#B6E880",
          "symbol": "circle"
         },
         "mode": "markers",
         "name": "1452514135393062913\tKFUPM_DBEC\t(True, False)",
         "orientation": "v",
         "showlegend": true,
         "type": "scatter",
         "x": [
          5.625646591186523
         ],
         "xaxis": "x",
         "y": [
          3.5867652893066406
         ],
         "yaxis": "y"
        },
        {
         "hovertemplate": "color=1020455583902765057\tTAQA\t(True, False)<br>0=%{x}<br>1=%{y}<extra></extra>",
         "legendgroup": "1020455583902765057\tTAQA\t(True, False)",
         "marker": {
          "color": "#FF97FF",
          "symbol": "circle"
         },
         "mode": "markers",
         "name": "1020455583902765057\tTAQA\t(True, False)",
         "orientation": "v",
         "showlegend": true,
         "type": "scatter",
         "x": [
          5.503722667694092
         ],
         "xaxis": "x",
         "y": [
          2.508265495300293
         ],
         "yaxis": "y"
        },
        {
         "hovertemplate": "color=1201752118455091200\tBadriManagement\t(True, False)<br>0=%{x}<br>1=%{y}<extra></extra>",
         "legendgroup": "1201752118455091200\tBadriManagement\t(True, False)",
         "marker": {
          "color": "#FECB52",
          "symbol": "circle"
         },
         "mode": "markers",
         "name": "1201752118455091200\tBadriManagement\t(True, False)",
         "orientation": "v",
         "showlegend": true,
         "type": "scatter",
         "x": [
          5.7532525062561035
         ],
         "xaxis": "x",
         "y": [
          3.5336673259735107
         ],
         "yaxis": "y"
        },
        {
         "hovertemplate": "color=1445037597517099010\tkfupm_kikx\t(True, False)<br>0=%{x}<br>1=%{y}<extra></extra>",
         "legendgroup": "1445037597517099010\tkfupm_kikx\t(True, False)",
         "marker": {
          "color": "#636efa",
          "symbol": "circle"
         },
         "mode": "markers",
         "name": "1445037597517099010\tkfupm_kikx\t(True, False)",
         "orientation": "v",
         "showlegend": true,
         "type": "scatter",
         "x": [
          5.753545761108398
         ],
         "xaxis": "x",
         "y": [
          3.578777313232422
         ],
         "yaxis": "y"
        },
        {
         "hovertemplate": "color=915551376679284742\tLMMiddleEast\t(True, False)<br>0=%{x}<br>1=%{y}<extra></extra>",
         "legendgroup": "915551376679284742\tLMMiddleEast\t(True, False)",
         "marker": {
          "color": "#EF553B",
          "symbol": "circle"
         },
         "mode": "markers",
         "name": "915551376679284742\tLMMiddleEast\t(True, False)",
         "orientation": "v",
         "showlegend": true,
         "type": "scatter",
         "x": [
          5.41481351852417
         ],
         "xaxis": "x",
         "y": [
          2.175694465637207
         ],
         "yaxis": "y"
        },
        {
         "hovertemplate": "color=930450544208039937\tSAFCSP\t(True, False)<br>0=%{x}<br>1=%{y}<extra></extra>",
         "legendgroup": "930450544208039937\tSAFCSP\t(True, False)",
         "marker": {
          "color": "#00cc96",
          "symbol": "circle"
         },
         "mode": "markers",
         "name": "930450544208039937\tSAFCSP\t(True, False)",
         "orientation": "v",
         "showlegend": true,
         "type": "scatter",
         "x": [
          3.147630214691162
         ],
         "xaxis": "x",
         "y": [
          2.1493725776672363
         ],
         "yaxis": "y"
        },
        {
         "hovertemplate": "color=1285309715631820800\tSadc2020\t(True, False)<br>0=%{x}<br>1=%{y}<extra></extra>",
         "legendgroup": "1285309715631820800\tSadc2020\t(True, False)",
         "marker": {
          "color": "#ab63fa",
          "symbol": "circle"
         },
         "mode": "markers",
         "name": "1285309715631820800\tSadc2020\t(True, False)",
         "orientation": "v",
         "showlegend": true,
         "type": "scatter",
         "x": [
          5.05135440826416
         ],
         "xaxis": "x",
         "y": [
          3.5873725414276123
         ],
         "yaxis": "y"
        },
        {
         "hovertemplate": "color=1453020405434826759\tAlsayyariDr\t(True, False)<br>0=%{x}<br>1=%{y}<extra></extra>",
         "legendgroup": "1453020405434826759\tAlsayyariDr\t(True, False)",
         "marker": {
          "color": "#FFA15A",
          "symbol": "circle"
         },
         "mode": "markers",
         "name": "1453020405434826759\tAlsayyariDr\t(True, False)",
         "orientation": "v",
         "showlegend": true,
         "type": "scatter",
         "x": [
          3.9995319843292236
         ],
         "xaxis": "x",
         "y": [
          4.610013961791992
         ],
         "yaxis": "y"
        },
        {
         "hovertemplate": "color=993040744767205376\tibnsinacollege\t(True, False)<br>0=%{x}<br>1=%{y}<extra></extra>",
         "legendgroup": "993040744767205376\tibnsinacollege\t(True, False)",
         "marker": {
          "color": "#19d3f3",
          "symbol": "circle"
         },
         "mode": "markers",
         "name": "993040744767205376\tibnsinacollege\t(True, False)",
         "orientation": "v",
         "showlegend": true,
         "type": "scatter",
         "x": [
          4.288092613220215
         ],
         "xaxis": "x",
         "y": [
          2.788705587387085
         ],
         "yaxis": "y"
        },
        {
         "hovertemplate": "color=1330413205080985601\tnashtsport\t(True, False)<br>0=%{x}<br>1=%{y}<extra></extra>",
         "legendgroup": "1330413205080985601\tnashtsport\t(True, False)",
         "marker": {
          "color": "#FF6692",
          "symbol": "circle"
         },
         "mode": "markers",
         "name": "1330413205080985601\tnashtsport\t(True, False)",
         "orientation": "v",
         "showlegend": true,
         "type": "scatter",
         "x": [
          4.829847812652588
         ],
         "xaxis": "x",
         "y": [
          2.539734125137329
         ],
         "yaxis": "y"
        },
        {
         "hovertemplate": "color=506482816\tsaudiFF\t(True, False)<br>0=%{x}<br>1=%{y}<extra></extra>",
         "legendgroup": "506482816\tsaudiFF\t(True, False)",
         "marker": {
          "color": "#B6E880",
          "symbol": "circle"
         },
         "mode": "markers",
         "name": "506482816\tsaudiFF\t(True, False)",
         "orientation": "v",
         "showlegend": true,
         "type": "scatter",
         "x": [
          4.397349834442139
         ],
         "xaxis": "x",
         "y": [
          2.563612222671509
         ],
         "yaxis": "y"
        },
        {
         "hovertemplate": "color=934013675089907712\tKSAchess\t(True, False)<br>0=%{x}<br>1=%{y}<extra></extra>",
         "legendgroup": "934013675089907712\tKSAchess\t(True, False)",
         "marker": {
          "color": "#FF97FF",
          "symbol": "circle"
         },
         "mode": "markers",
         "name": "934013675089907712\tKSAchess\t(True, False)",
         "orientation": "v",
         "showlegend": true,
         "type": "scatter",
         "x": [
          4.507828712463379
         ],
         "xaxis": "x",
         "y": [
          2.8858964443206787
         ],
         "yaxis": "y"
        },
        {
         "hovertemplate": "color=722742125616607232\tKFU_st_affairs\t(True, False)<br>0=%{x}<br>1=%{y}<extra></extra>",
         "legendgroup": "722742125616607232\tKFU_st_affairs\t(True, False)",
         "marker": {
          "color": "#FECB52",
          "symbol": "circle"
         },
         "mode": "markers",
         "name": "722742125616607232\tKFU_st_affairs\t(True, False)",
         "orientation": "v",
         "showlegend": true,
         "type": "scatter",
         "x": [
          4.332408428192139
         ],
         "xaxis": "x",
         "y": [
          3.3259005546569824
         ],
         "yaxis": "y"
        },
        {
         "hovertemplate": "color=993085000747835393\tmuvrfsa\t(True, False)<br>0=%{x}<br>1=%{y}<extra></extra>",
         "legendgroup": "993085000747835393\tmuvrfsa\t(True, False)",
         "marker": {
          "color": "#636efa",
          "symbol": "circle"
         },
         "mode": "markers",
         "name": "993085000747835393\tmuvrfsa\t(True, False)",
         "orientation": "v",
         "showlegend": true,
         "type": "scatter",
         "x": [
          4.276486873626709
         ],
         "xaxis": "x",
         "y": [
          3.5451200008392334
         ],
         "yaxis": "y"
        },
        {
         "hovertemplate": "color=934854358239506432\tdsa_ut\t(True, False)<br>0=%{x}<br>1=%{y}<extra></extra>",
         "legendgroup": "934854358239506432\tdsa_ut\t(True, False)",
         "marker": {
          "color": "#EF553B",
          "symbol": "circle"
         },
         "mode": "markers",
         "name": "934854358239506432\tdsa_ut\t(True, False)",
         "orientation": "v",
         "showlegend": true,
         "type": "scatter",
         "x": [
          4.3259735107421875
         ],
         "xaxis": "x",
         "y": [
          3.166552782058716
         ],
         "yaxis": "y"
        },
        {
         "hovertemplate": "color=1118796776729976833\ttaibahuvpea\t(True, False)<br>0=%{x}<br>1=%{y}<extra></extra>",
         "legendgroup": "1118796776729976833\ttaibahuvpea\t(True, False)",
         "marker": {
          "color": "#00cc96",
          "symbol": "circle"
         },
         "mode": "markers",
         "name": "1118796776729976833\ttaibahuvpea\t(True, False)",
         "orientation": "v",
         "showlegend": true,
         "type": "scatter",
         "x": [
          4.319757461547852
         ],
         "xaxis": "x",
         "y": [
          3.060356616973877
         ],
         "yaxis": "y"
        },
        {
         "hovertemplate": "color=803874164335579136\tNBU_ACT\t(True, False)<br>0=%{x}<br>1=%{y}<extra></extra>",
         "legendgroup": "803874164335579136\tNBU_ACT\t(True, False)",
         "marker": {
          "color": "#ab63fa",
          "symbol": "circle"
         },
         "mode": "markers",
         "name": "803874164335579136\tNBU_ACT\t(True, False)",
         "orientation": "v",
         "showlegend": true,
         "type": "scatter",
         "x": [
          4.565982341766357
         ],
         "xaxis": "x",
         "y": [
          3.334409475326538
         ],
         "yaxis": "y"
        },
        {
         "hovertemplate": "color=568251152\tmu_dsa\t(True, False)<br>0=%{x}<br>1=%{y}<extra></extra>",
         "legendgroup": "568251152\tmu_dsa\t(True, False)",
         "marker": {
          "color": "#FFA15A",
          "symbol": "circle"
         },
         "mode": "markers",
         "name": "568251152\tmu_dsa\t(True, False)",
         "orientation": "v",
         "showlegend": true,
         "type": "scatter",
         "x": [
          4.248683452606201
         ],
         "xaxis": "x",
         "y": [
          3.1304712295532227
         ],
         "yaxis": "y"
        },
        {
         "hovertemplate": "color=384361597\tIMSIU_SD\t(True, False)<br>0=%{x}<br>1=%{y}<extra></extra>",
         "legendgroup": "384361597\tIMSIU_SD\t(True, False)",
         "marker": {
          "color": "#19d3f3",
          "symbol": "circle"
         },
         "mode": "markers",
         "name": "384361597\tIMSIU_SD\t(True, False)",
         "orientation": "v",
         "showlegend": true,
         "type": "scatter",
         "x": [
          4.247768878936768
         ],
         "xaxis": "x",
         "y": [
          3.0865888595581055
         ],
         "yaxis": "y"
        },
        {
         "hovertemplate": "color=610660887\tdsa_iau\t(True, False)<br>0=%{x}<br>1=%{y}<extra></extra>",
         "legendgroup": "610660887\tdsa_iau\t(True, False)",
         "marker": {
          "color": "#FF6692",
          "symbol": "circle"
         },
         "mode": "markers",
         "name": "610660887\tdsa_iau\t(True, False)",
         "orientation": "v",
         "showlegend": true,
         "type": "scatter",
         "x": [
          4.094253063201904
         ],
         "xaxis": "x",
         "y": [
          3.6504740715026855
         ],
         "yaxis": "y"
        },
        {
         "hovertemplate": "color=174992802\tdau_university\t(True, False)<br>0=%{x}<br>1=%{y}<extra></extra>",
         "legendgroup": "174992802\tdau_university\t(True, False)",
         "marker": {
          "color": "#B6E880",
          "symbol": "circle"
         },
         "mode": "markers",
         "name": "174992802\tdau_university\t(True, False)",
         "orientation": "v",
         "showlegend": true,
         "type": "scatter",
         "x": [
          4.560741901397705
         ],
         "xaxis": "x",
         "y": [
          3.494279384613037
         ],
         "yaxis": "y"
        },
        {
         "hovertemplate": "color=992097943648985088\tLDI_SAUDI\t(True, False)<br>0=%{x}<br>1=%{y}<extra></extra>",
         "legendgroup": "992097943648985088\tLDI_SAUDI\t(True, False)",
         "marker": {
          "color": "#FF97FF",
          "symbol": "circle"
         },
         "mode": "markers",
         "name": "992097943648985088\tLDI_SAUDI\t(True, False)",
         "orientation": "v",
         "showlegend": true,
         "type": "scatter",
         "x": [
          4.525646686553955
         ],
         "xaxis": "x",
         "y": [
          2.867948293685913
         ],
         "yaxis": "y"
        },
        {
         "hovertemplate": "color=1680353844\tnu_edu_sa\t(True, False)<br>0=%{x}<br>1=%{y}<extra></extra>",
         "legendgroup": "1680353844\tnu_edu_sa\t(True, False)",
         "marker": {
          "color": "#FECB52",
          "symbol": "circle"
         },
         "mode": "markers",
         "name": "1680353844\tnu_edu_sa\t(True, False)",
         "orientation": "v",
         "showlegend": true,
         "type": "scatter",
         "x": [
          4.245296001434326
         ],
         "xaxis": "x",
         "y": [
          3.450544595718384
         ],
         "yaxis": "y"
        },
        {
         "hovertemplate": "color=403019829\tkau_sport\t(True, False)<br>0=%{x}<br>1=%{y}<extra></extra>",
         "legendgroup": "403019829\tkau_sport\t(True, False)",
         "marker": {
          "color": "#636efa",
          "symbol": "circle"
         },
         "mode": "markers",
         "name": "403019829\tkau_sport\t(True, False)",
         "orientation": "v",
         "showlegend": true,
         "type": "scatter",
         "x": [
          3.9720895290374756
         ],
         "xaxis": "x",
         "y": [
          2.3353381156921387
         ],
         "yaxis": "y"
        },
        {
         "hovertemplate": "color=1220794494\tdsa_uj\t(True, False)<br>0=%{x}<br>1=%{y}<extra></extra>",
         "legendgroup": "1220794494\tdsa_uj\t(True, False)",
         "marker": {
          "color": "#EF553B",
          "symbol": "circle"
         },
         "mode": "markers",
         "name": "1220794494\tdsa_uj\t(True, False)",
         "orientation": "v",
         "showlegend": true,
         "type": "scatter",
         "x": [
          8.333041191101074
         ],
         "xaxis": "x",
         "y": [
          0.4691128134727478
         ],
         "yaxis": "y"
        },
        {
         "hovertemplate": "color=1651779264\tstujazanu\t(True, False)<br>0=%{x}<br>1=%{y}<extra></extra>",
         "legendgroup": "1651779264\tstujazanu\t(True, False)",
         "marker": {
          "color": "#00cc96",
          "symbol": "circle"
         },
         "mode": "markers",
         "name": "1651779264\tstujazanu\t(True, False)",
         "orientation": "v",
         "showlegend": true,
         "type": "scatter",
         "x": [
          4.782916069030762
         ],
         "xaxis": "x",
         "y": [
          2.9715476036071777
         ],
         "yaxis": "y"
        },
        {
         "hovertemplate": "color=377320264\tksudsa1\t(True, False)<br>0=%{x}<br>1=%{y}<extra></extra>",
         "legendgroup": "377320264\tksudsa1\t(True, False)",
         "marker": {
          "color": "#ab63fa",
          "symbol": "circle"
         },
         "mode": "markers",
         "name": "377320264\tksudsa1\t(True, False)",
         "orientation": "v",
         "showlegend": true,
         "type": "scatter",
         "x": [
          4.218924522399902
         ],
         "xaxis": "x",
         "y": [
          3.1071114540100098
         ],
         "yaxis": "y"
        },
        {
         "hovertemplate": "color=786975580625506304\tdsa_uhb\t(True, False)<br>0=%{x}<br>1=%{y}<extra></extra>",
         "legendgroup": "786975580625506304\tdsa_uhb\t(True, False)",
         "marker": {
          "color": "#FFA15A",
          "symbol": "circle"
         },
         "mode": "markers",
         "name": "786975580625506304\tdsa_uhb\t(True, False)",
         "orientation": "v",
         "showlegend": true,
         "type": "scatter",
         "x": [
          4.378341197967529
         ],
         "xaxis": "x",
         "y": [
          3.3841419219970703
         ],
         "yaxis": "y"
        },
        {
         "hovertemplate": "color=813252301\tdssa_jouf\t(True, False)<br>0=%{x}<br>1=%{y}<extra></extra>",
         "legendgroup": "813252301\tdssa_jouf\t(True, False)",
         "marker": {
          "color": "#19d3f3",
          "symbol": "circle"
         },
         "mode": "markers",
         "name": "813252301\tdssa_jouf\t(True, False)",
         "orientation": "v",
         "showlegend": true,
         "type": "scatter",
         "x": [
          4.386665344238281
         ],
         "xaxis": "x",
         "y": [
          2.998988389968872
         ],
         "yaxis": "y"
        },
        {
         "hovertemplate": "color=872584014\tQU_sport\t(True, False)<br>0=%{x}<br>1=%{y}<extra></extra>",
         "legendgroup": "872584014\tQU_sport\t(True, False)",
         "marker": {
          "color": "#FF6692",
          "symbol": "circle"
         },
         "mode": "markers",
         "name": "872584014\tQU_sport\t(True, False)",
         "orientation": "v",
         "showlegend": true,
         "type": "scatter",
         "x": [
          4.389759063720703
         ],
         "xaxis": "x",
         "y": [
          2.8875935077667236
         ],
         "yaxis": "y"
        },
        {
         "hovertemplate": "color=3304177357\tprnusa1\t(True, False)<br>0=%{x}<br>1=%{y}<extra></extra>",
         "legendgroup": "3304177357\tprnusa1\t(True, False)",
         "marker": {
          "color": "#B6E880",
          "symbol": "circle"
         },
         "mode": "markers",
         "name": "3304177357\tprnusa1\t(True, False)",
         "orientation": "v",
         "showlegend": true,
         "type": "scatter",
         "x": [
          4.84050989151001
         ],
         "xaxis": "x",
         "y": [
          3.2335214614868164
         ],
         "yaxis": "y"
        },
        {
         "hovertemplate": "color=784434006\tUBT_EDU\t(True, False)<br>0=%{x}<br>1=%{y}<extra></extra>",
         "legendgroup": "784434006\tUBT_EDU\t(True, False)",
         "marker": {
          "color": "#FF97FF",
          "symbol": "circle"
         },
         "mode": "markers",
         "name": "784434006\tUBT_EDU\t(True, False)",
         "orientation": "v",
         "showlegend": true,
         "type": "scatter",
         "x": [
          4.69502067565918
         ],
         "xaxis": "x",
         "y": [
          3.4017698764801025
         ],
         "yaxis": "y"
        },
        {
         "hovertemplate": "color=2335426013\tksauhs_sports\t(True, False)<br>0=%{x}<br>1=%{y}<extra></extra>",
         "legendgroup": "2335426013\tksauhs_sports\t(True, False)",
         "marker": {
          "color": "#FECB52",
          "symbol": "circle"
         },
         "mode": "markers",
         "name": "2335426013\tksauhs_sports\t(True, False)",
         "orientation": "v",
         "showlegend": true,
         "type": "scatter",
         "x": [
          4.726390838623047
         ],
         "xaxis": "x",
         "y": [
          3.1194746494293213
         ],
         "yaxis": "y"
        },
        {
         "hovertemplate": "color=1670019805\tksusport1\t(True, False)<br>0=%{x}<br>1=%{y}<extra></extra>",
         "legendgroup": "1670019805\tksusport1\t(True, False)",
         "marker": {
          "color": "#636efa",
          "symbol": "circle"
         },
         "mode": "markers",
         "name": "1670019805\tksusport1\t(True, False)",
         "orientation": "v",
         "showlegend": true,
         "type": "scatter",
         "x": [
          4.634598731994629
         ],
         "xaxis": "x",
         "y": [
          3.171781063079834
         ],
         "yaxis": "y"
        },
        {
         "hovertemplate": "color=2769465696\tdsauqu\t(True, False)<br>0=%{x}<br>1=%{y}<extra></extra>",
         "legendgroup": "2769465696\tdsauqu\t(True, False)",
         "marker": {
          "color": "#EF553B",
          "symbol": "circle"
         },
         "mode": "markers",
         "name": "2769465696\tdsauqu\t(True, False)",
         "orientation": "v",
         "showlegend": true,
         "type": "scatter",
         "x": [
          5.86264705657959
         ],
         "xaxis": "x",
         "y": [
          5.003601551055908
         ],
         "yaxis": "y"
        },
        {
         "hovertemplate": "color=2362432488\tSaudi_SFA\t(True, False)<br>0=%{x}<br>1=%{y}<extra></extra>",
         "legendgroup": "2362432488\tSaudi_SFA\t(True, False)",
         "marker": {
          "color": "#00cc96",
          "symbol": "circle"
         },
         "mode": "markers",
         "name": "2362432488\tSaudi_SFA\t(True, False)",
         "orientation": "v",
         "showlegend": true,
         "type": "scatter",
         "x": [
          4.707049369812012
         ],
         "xaxis": "x",
         "y": [
          2.917205810546875
         ],
         "yaxis": "y"
        },
        {
         "hovertemplate": "color=2811128552\tpsau_dsa\t(True, False)<br>0=%{x}<br>1=%{y}<extra></extra>",
         "legendgroup": "2811128552\tpsau_dsa\t(True, False)",
         "marker": {
          "color": "#ab63fa",
          "symbol": "circle"
         },
         "mode": "markers",
         "name": "2811128552\tpsau_dsa\t(True, False)",
         "orientation": "v",
         "showlegend": true,
         "type": "scatter",
         "x": [
          4.351350784301758
         ],
         "xaxis": "x",
         "y": [
          3.2913053035736084
         ],
         "yaxis": "y"
        },
        {
         "hovertemplate": "color=128184428\tsafkku\t(True, False)<br>0=%{x}<br>1=%{y}<extra></extra>",
         "legendgroup": "128184428\tsafkku\t(True, False)",
         "marker": {
          "color": "#FFA15A",
          "symbol": "circle"
         },
         "mode": "markers",
         "name": "128184428\tsafkku\t(True, False)",
         "orientation": "v",
         "showlegend": true,
         "type": "scatter",
         "x": [
          4.353672981262207
         ],
         "xaxis": "x",
         "y": [
          3.05915904045105
         ],
         "yaxis": "y"
        },
        {
         "hovertemplate": "color=257372526\tProfAlmuzaini\t(True, False)<br>0=%{x}<br>1=%{y}<extra></extra>",
         "legendgroup": "257372526\tProfAlmuzaini\t(True, False)",
         "marker": {
          "color": "#19d3f3",
          "symbol": "circle"
         },
         "mode": "markers",
         "name": "257372526\tProfAlmuzaini\t(True, False)",
         "orientation": "v",
         "showlegend": true,
         "type": "scatter",
         "x": [
          4.3998589515686035
         ],
         "xaxis": "x",
         "y": [
          2.907492160797119
         ],
         "yaxis": "y"
        },
        {
         "hovertemplate": "color=2177748980\tIUStudentAffair\t(True, False)<br>0=%{x}<br>1=%{y}<extra></extra>",
         "legendgroup": "2177748980\tIUStudentAffair\t(True, False)",
         "marker": {
          "color": "#FF6692",
          "symbol": "circle"
         },
         "mode": "markers",
         "name": "2177748980\tIUStudentAffair\t(True, False)",
         "orientation": "v",
         "showlegend": true,
         "type": "scatter",
         "x": [
          12.893450736999512
         ],
         "xaxis": "x",
         "y": [
          1.777450442314148
         ],
         "yaxis": "y"
        },
        {
         "hovertemplate": "color=922916341\tqunsad\t(True, False)<br>0=%{x}<br>1=%{y}<extra></extra>",
         "legendgroup": "922916341\tqunsad\t(True, False)",
         "marker": {
          "color": "#B6E880",
          "symbol": "circle"
         },
         "mode": "markers",
         "name": "922916341\tqunsad\t(True, False)",
         "orientation": "v",
         "showlegend": true,
         "type": "scatter",
         "x": [
          4.583312034606934
         ],
         "xaxis": "x",
         "y": [
          3.1721689701080322
         ],
         "yaxis": "y"
        },
        {
         "hovertemplate": "color=2246786042\tcsspa_ksu\t(True, False)<br>0=%{x}<br>1=%{y}<extra></extra>",
         "legendgroup": "2246786042\tcsspa_ksu\t(True, False)",
         "marker": {
          "color": "#FF97FF",
          "symbol": "circle"
         },
         "mode": "markers",
         "name": "2246786042\tcsspa_ksu\t(True, False)",
         "orientation": "v",
         "showlegend": true,
         "type": "scatter",
         "x": [
          4.560138702392578
         ],
         "xaxis": "x",
         "y": [
          3.231022596359253
         ],
         "yaxis": "y"
        },
        {
         "hovertemplate": "color=3590207355\tstudentun11\t(True, False)<br>0=%{x}<br>1=%{y}<extra></extra>",
         "legendgroup": "3590207355\tstudentun11\t(True, False)",
         "marker": {
          "color": "#FECB52",
          "symbol": "circle"
         },
         "mode": "markers",
         "name": "3590207355\tstudentun11\t(True, False)",
         "orientation": "v",
         "showlegend": true,
         "type": "scatter",
         "x": [
          5.370794296264648
         ],
         "xaxis": "x",
         "y": [
          4.446314334869385
         ],
         "yaxis": "y"
        },
        {
         "hovertemplate": "color=291887869\triyadiyatv\t(True, False)<br>0=%{x}<br>1=%{y}<extra></extra>",
         "legendgroup": "291887869\triyadiyatv\t(True, False)",
         "marker": {
          "color": "#636efa",
          "symbol": "circle"
         },
         "mode": "markers",
         "name": "291887869\triyadiyatv\t(True, False)",
         "orientation": "v",
         "showlegend": true,
         "type": "scatter",
         "x": [
          4.302501678466797
         ],
         "xaxis": "x",
         "y": [
          2.440363883972168
         ],
         "yaxis": "y"
        },
        {
         "hovertemplate": "color=1440354630991372310\tscbisha\t(True, False)<br>0=%{x}<br>1=%{y}<extra></extra>",
         "legendgroup": "1440354630991372310\tscbisha\t(True, False)",
         "marker": {
          "color": "#EF553B",
          "symbol": "circle"
         },
         "mode": "markers",
         "name": "1440354630991372310\tscbisha\t(True, False)",
         "orientation": "v",
         "showlegend": true,
         "type": "scatter",
         "x": [
          6.369478702545166
         ],
         "xaxis": "x",
         "y": [
          4.070036888122559
         ],
         "yaxis": "y"
        },
        {
         "hovertemplate": "color=921735019693051904\tNEOM\t(True, False)<br>0=%{x}<br>1=%{y}<extra></extra>",
         "legendgroup": "921735019693051904\tNEOM\t(True, False)",
         "marker": {
          "color": "#00cc96",
          "symbol": "circle"
         },
         "mode": "markers",
         "name": "921735019693051904\tNEOM\t(True, False)",
         "orientation": "v",
         "showlegend": true,
         "type": "scatter",
         "x": [
          3.0658676624298096
         ],
         "xaxis": "x",
         "y": [
          2.191145420074463
         ],
         "yaxis": "y"
        },
        {
         "hovertemplate": "color=946231624550797312\tNCA_KSA\t(True, False)<br>0=%{x}<br>1=%{y}<extra></extra>",
         "legendgroup": "946231624550797312\tNCA_KSA\t(True, False)",
         "marker": {
          "color": "#ab63fa",
          "symbol": "circle"
         },
         "mode": "markers",
         "name": "946231624550797312\tNCA_KSA\t(True, False)",
         "orientation": "v",
         "showlegend": true,
         "type": "scatter",
         "x": [
          3.153339147567749
         ],
         "xaxis": "x",
         "y": [
          1.9601478576660156
         ],
         "yaxis": "y"
        },
        {
         "hovertemplate": "color=867471154746884096\tNDU_KSA\t(True, False)<br>0=%{x}<br>1=%{y}<extra></extra>",
         "legendgroup": "867471154746884096\tNDU_KSA\t(True, False)",
         "marker": {
          "color": "#FFA15A",
          "symbol": "circle"
         },
         "mode": "markers",
         "name": "867471154746884096\tNDU_KSA\t(True, False)",
         "orientation": "v",
         "showlegend": true,
         "type": "scatter",
         "x": [
          5.175587177276611
         ],
         "xaxis": "x",
         "y": [
          3.608203887939453
         ],
         "yaxis": "y"
        },
        {
         "hovertemplate": "color=1363643975899492352\tDGASaudi\t(True, False)<br>0=%{x}<br>1=%{y}<extra></extra>",
         "legendgroup": "1363643975899492352\tDGASaudi\t(True, False)",
         "marker": {
          "color": "#19d3f3",
          "symbol": "circle"
         },
         "mode": "markers",
         "name": "1363643975899492352\tDGASaudi\t(True, False)",
         "orientation": "v",
         "showlegend": true,
         "type": "scatter",
         "x": [
          4.168945789337158
         ],
         "xaxis": "x",
         "y": [
          2.590724229812622
         ],
         "yaxis": "y"
        },
        {
         "hovertemplate": "color=1401171256737677316\tKhabbaabAbuu\t(True, False)<br>0=%{x}<br>1=%{y}<extra></extra>",
         "legendgroup": "1401171256737677316\tKhabbaabAbuu\t(True, False)",
         "marker": {
          "color": "#FF6692",
          "symbol": "circle"
         },
         "mode": "markers",
         "name": "1401171256737677316\tKhabbaabAbuu\t(True, False)",
         "orientation": "v",
         "showlegend": true,
         "type": "scatter",
         "x": [
          12.519399642944336
         ],
         "xaxis": "x",
         "y": [
          1.4267256259918213
         ],
         "yaxis": "y"
        },
        {
         "hovertemplate": "color=1168810187957919744\tSDAIA_SA\t(True, False)<br>0=%{x}<br>1=%{y}<extra></extra>",
         "legendgroup": "1168810187957919744\tSDAIA_SA\t(True, False)",
         "marker": {
          "color": "#B6E880",
          "symbol": "circle"
         },
         "mode": "markers",
         "name": "1168810187957919744\tSDAIA_SA\t(True, False)",
         "orientation": "v",
         "showlegend": true,
         "type": "scatter",
         "x": [
          4.078348159790039
         ],
         "xaxis": "x",
         "y": [
          2.4500982761383057
         ],
         "yaxis": "y"
        },
        {
         "hovertemplate": "color=1249002930977607680\tDEL_KFU\t(True, False)<br>0=%{x}<br>1=%{y}<extra></extra>",
         "legendgroup": "1249002930977607680\tDEL_KFU\t(True, False)",
         "marker": {
          "color": "#FF97FF",
          "symbol": "circle"
         },
         "mode": "markers",
         "name": "1249002930977607680\tDEL_KFU\t(True, False)",
         "orientation": "v",
         "showlegend": true,
         "type": "scatter",
         "x": [
          4.710328102111816
         ],
         "xaxis": "x",
         "y": [
          3.943244695663452
         ],
         "yaxis": "y"
        },
        {
         "hovertemplate": "color=2257647368\tEtecKsa\t(True, False)<br>0=%{x}<br>1=%{y}<extra></extra>",
         "legendgroup": "2257647368\tEtecKsa\t(True, False)",
         "marker": {
          "color": "#FECB52",
          "symbol": "circle"
         },
         "mode": "markers",
         "name": "2257647368\tEtecKsa\t(True, False)",
         "orientation": "v",
         "showlegend": true,
         "type": "scatter",
         "x": [
          5.424106121063232
         ],
         "xaxis": "x",
         "y": [
          4.190572738647461
         ],
         "yaxis": "y"
        },
        {
         "hovertemplate": "color=1307969745539473408\tUB_GACIT\t(True, False)<br>0=%{x}<br>1=%{y}<extra></extra>",
         "legendgroup": "1307969745539473408\tUB_GACIT\t(True, False)",
         "marker": {
          "color": "#636efa",
          "symbol": "circle"
         },
         "mode": "markers",
         "name": "1307969745539473408\tUB_GACIT\t(True, False)",
         "orientation": "v",
         "showlegend": true,
         "type": "scatter",
         "x": [
          6.2965006828308105
         ],
         "xaxis": "x",
         "y": [
          7.268136024475098
         ],
         "yaxis": "y"
        },
        {
         "hovertemplate": "color=831230028214050817\tuqu_admission\t(True, False)<br>0=%{x}<br>1=%{y}<extra></extra>",
         "legendgroup": "831230028214050817\tuqu_admission\t(True, False)",
         "marker": {
          "color": "#EF553B",
          "symbol": "circle"
         },
         "mode": "markers",
         "name": "831230028214050817\tuqu_admission\t(True, False)",
         "orientation": "v",
         "showlegend": true,
         "type": "scatter",
         "x": [
          5.866318225860596
         ],
         "xaxis": "x",
         "y": [
          5.002525329589844
         ],
         "yaxis": "y"
        },
        {
         "hovertemplate": "color=224020488\tFahad_Alhmari\t(True, False)<br>0=%{x}<br>1=%{y}<extra></extra>",
         "legendgroup": "224020488\tFahad_Alhmari\t(True, False)",
         "marker": {
          "color": "#00cc96",
          "symbol": "circle"
         },
         "mode": "markers",
         "name": "224020488\tFahad_Alhmari\t(True, False)",
         "orientation": "v",
         "showlegend": true,
         "type": "scatter",
         "x": [
          4.880695343017578
         ],
         "xaxis": "x",
         "y": [
          4.022091388702393
         ],
         "yaxis": "y"
        },
        {
         "hovertemplate": "color=186952723\telearningarab\t(True, False)<br>0=%{x}<br>1=%{y}<extra></extra>",
         "legendgroup": "186952723\telearningarab\t(True, False)",
         "marker": {
          "color": "#ab63fa",
          "symbol": "circle"
         },
         "mode": "markers",
         "name": "186952723\telearningarab\t(True, False)",
         "orientation": "v",
         "showlegend": true,
         "type": "scatter",
         "x": [
          4.545585632324219
         ],
         "xaxis": "x",
         "y": [
          4.153199672698975
         ],
         "yaxis": "y"
        },
        {
         "hovertemplate": "color=3190100625\tacademicres3\t(True, False)<br>0=%{x}<br>1=%{y}<extra></extra>",
         "legendgroup": "3190100625\tacademicres3\t(True, False)",
         "marker": {
          "color": "#FFA15A",
          "symbol": "circle"
         },
         "mode": "markers",
         "name": "3190100625\tacademicres3\t(True, False)",
         "orientation": "v",
         "showlegend": true,
         "type": "scatter",
         "x": [
          5.667911529541016
         ],
         "xaxis": "x",
         "y": [
          4.14609956741333
         ],
         "yaxis": "y"
        },
        {
         "hovertemplate": "color=834371155016482819\temkaanaat\t(True, False)<br>0=%{x}<br>1=%{y}<extra></extra>",
         "legendgroup": "834371155016482819\temkaanaat\t(True, False)",
         "marker": {
          "color": "#19d3f3",
          "symbol": "circle"
         },
         "mode": "markers",
         "name": "834371155016482819\temkaanaat\t(True, False)",
         "orientation": "v",
         "showlegend": true,
         "type": "scatter",
         "x": [
          6.197932243347168
         ],
         "xaxis": "x",
         "y": [
          6.433673858642578
         ],
         "yaxis": "y"
        },
        {
         "hovertemplate": "color=49083811\talwalidi\t(True, False)<br>0=%{x}<br>1=%{y}<extra></extra>",
         "legendgroup": "49083811\talwalidi\t(True, False)",
         "marker": {
          "color": "#FF6692",
          "symbol": "circle"
         },
         "mode": "markers",
         "name": "49083811\talwalidi\t(True, False)",
         "orientation": "v",
         "showlegend": true,
         "type": "scatter",
         "x": [
          4.935065746307373
         ],
         "xaxis": "x",
         "y": [
          4.073940753936768
         ],
         "yaxis": "y"
        },
        {
         "hovertemplate": "color=4555931303\tDR__ag\t(True, False)<br>0=%{x}<br>1=%{y}<extra></extra>",
         "legendgroup": "4555931303\tDR__ag\t(True, False)",
         "marker": {
          "color": "#B6E880",
          "symbol": "circle"
         },
         "mode": "markers",
         "name": "4555931303\tDR__ag\t(True, False)",
         "orientation": "v",
         "showlegend": true,
         "type": "scatter",
         "x": [
          5.227158069610596
         ],
         "xaxis": "x",
         "y": [
          3.8235480785369873
         ],
         "yaxis": "y"
        },
        {
         "hovertemplate": "color=1044091436\tcollegebelgarn\t(True, False)<br>0=%{x}<br>1=%{y}<extra></extra>",
         "legendgroup": "1044091436\tcollegebelgarn\t(True, False)",
         "marker": {
          "color": "#FF97FF",
          "symbol": "circle"
         },
         "mode": "markers",
         "name": "1044091436\tcollegebelgarn\t(True, False)",
         "orientation": "v",
         "showlegend": true,
         "type": "scatter",
         "x": [
          6.184175491333008
         ],
         "xaxis": "x",
         "y": [
          6.151765823364258
         ],
         "yaxis": "y"
        },
        {
         "hovertemplate": "color=933584793538834432\tMaeenNetwork\t(True, False)<br>0=%{x}<br>1=%{y}<extra></extra>",
         "legendgroup": "933584793538834432\tMaeenNetwork\t(True, False)",
         "marker": {
          "color": "#FECB52",
          "symbol": "circle"
         },
         "mode": "markers",
         "name": "933584793538834432\tMaeenNetwork\t(True, False)",
         "orientation": "v",
         "showlegend": true,
         "type": "scatter",
         "x": [
          5.471456527709961
         ],
         "xaxis": "x",
         "y": [
          3.660470724105835
         ],
         "yaxis": "y"
        },
        {
         "hovertemplate": "color=303164731\tNCEL_SA\t(True, False)<br>0=%{x}<br>1=%{y}<extra></extra>",
         "legendgroup": "303164731\tNCEL_SA\t(True, False)",
         "marker": {
          "color": "#636efa",
          "symbol": "circle"
         },
         "mode": "markers",
         "name": "303164731\tNCEL_SA\t(True, False)",
         "orientation": "v",
         "showlegend": true,
         "type": "scatter",
         "x": [
          4.711795806884766
         ],
         "xaxis": "x",
         "y": [
          4.153199672698975
         ],
         "yaxis": "y"
        },
        {
         "hovertemplate": "color=928543925048107008\tEthraiSA\t(True, False)<br>0=%{x}<br>1=%{y}<extra></extra>",
         "legendgroup": "928543925048107008\tEthraiSA\t(True, False)",
         "marker": {
          "color": "#EF553B",
          "symbol": "circle"
         },
         "mode": "markers",
         "name": "928543925048107008\tEthraiSA\t(True, False)",
         "orientation": "v",
         "showlegend": true,
         "type": "scatter",
         "x": [
          5.636096954345703
         ],
         "xaxis": "x",
         "y": [
          3.980882406234741
         ],
         "yaxis": "y"
        },
        {
         "hovertemplate": "color=52014528\tCITC_SA\t(True, False)<br>0=%{x}<br>1=%{y}<extra></extra>",
         "legendgroup": "52014528\tCITC_SA\t(True, False)",
         "marker": {
          "color": "#00cc96",
          "symbol": "circle"
         },
         "mode": "markers",
         "name": "52014528\tCITC_SA\t(True, False)",
         "orientation": "v",
         "showlegend": true,
         "type": "scatter",
         "x": [
          3.2817940711975098
         ],
         "xaxis": "x",
         "y": [
          1.9689831733703613
         ],
         "yaxis": "y"
        },
        {
         "hovertemplate": "color=982115930749595648\tDLPI2030\t(True, False)<br>0=%{x}<br>1=%{y}<extra></extra>",
         "legendgroup": "982115930749595648\tDLPI2030\t(True, False)",
         "marker": {
          "color": "#ab63fa",
          "symbol": "circle"
         },
         "mode": "markers",
         "name": "982115930749595648\tDLPI2030\t(True, False)",
         "orientation": "v",
         "showlegend": true,
         "type": "scatter",
         "x": [
          4.616715431213379
         ],
         "xaxis": "x",
         "y": [
          4.079375267028809
         ],
         "yaxis": "y"
        },
        {
         "hovertemplate": "color=474886468\tSaudiNews50\t(True, False)<br>0=%{x}<br>1=%{y}<extra></extra>",
         "legendgroup": "474886468\tSaudiNews50\t(True, False)",
         "marker": {
          "color": "#FFA15A",
          "symbol": "circle"
         },
         "mode": "markers",
         "name": "474886468\tSaudiNews50\t(True, False)",
         "orientation": "v",
         "showlegend": true,
         "type": "scatter",
         "x": [
          2.606761932373047
         ],
         "xaxis": "x",
         "y": [
          1.798407793045044
         ],
         "yaxis": "y"
        },
        {
         "hovertemplate": "color=60327493\tsabqorg\t(True, False)<br>0=%{x}<br>1=%{y}<extra></extra>",
         "legendgroup": "60327493\tsabqorg\t(True, False)",
         "marker": {
          "color": "#19d3f3",
          "symbol": "circle"
         },
         "mode": "markers",
         "name": "60327493\tsabqorg\t(True, False)",
         "orientation": "v",
         "showlegend": true,
         "type": "scatter",
         "x": [
          2.618353843688965
         ],
         "xaxis": "x",
         "y": [
          1.7864280939102173
         ],
         "yaxis": "y"
        },
        {
         "hovertemplate": "color=4084229447\tUb_namas\t(True, False)<br>0=%{x}<br>1=%{y}<extra></extra>",
         "legendgroup": "4084229447\tUb_namas\t(True, False)",
         "marker": {
          "color": "#FF6692",
          "symbol": "circle"
         },
         "mode": "markers",
         "name": "4084229447\tUb_namas\t(True, False)",
         "orientation": "v",
         "showlegend": true,
         "type": "scatter",
         "x": [
          6.272306442260742
         ],
         "xaxis": "x",
         "y": [
          6.438902854919434
         ],
         "yaxis": "y"
        },
        {
         "hovertemplate": "color=929374538\tElearningUQU\t(True, False)<br>0=%{x}<br>1=%{y}<extra></extra>",
         "legendgroup": "929374538\tElearningUQU\t(True, False)",
         "marker": {
          "color": "#B6E880",
          "symbol": "circle"
         },
         "mode": "markers",
         "name": "929374538\tElearningUQU\t(True, False)",
         "orientation": "v",
         "showlegend": true,
         "type": "scatter",
         "x": [
          5.994679927825928
         ],
         "xaxis": "x",
         "y": [
          4.811405181884766
         ],
         "yaxis": "y"
        },
        {
         "hovertemplate": "color=4707819083\tzaferamg2\t(True, False)<br>0=%{x}<br>1=%{y}<extra></extra>",
         "legendgroup": "4707819083\tzaferamg2\t(True, False)",
         "marker": {
          "color": "#FF97FF",
          "symbol": "circle"
         },
         "mode": "markers",
         "name": "4707819083\tzaferamg2\t(True, False)",
         "orientation": "v",
         "showlegend": true,
         "type": "scatter",
         "x": [
          5.3115363121032715
         ],
         "xaxis": "x",
         "y": [
          3.8186991214752197
         ],
         "yaxis": "y"
        },
        {
         "hovertemplate": "color=1331877450\tBandar_Alabdaly\t(True, False)<br>0=%{x}<br>1=%{y}<extra></extra>",
         "legendgroup": "1331877450\tBandar_Alabdaly\t(True, False)",
         "marker": {
          "color": "#FECB52",
          "symbol": "circle"
         },
         "mode": "markers",
         "name": "1331877450\tBandar_Alabdaly\t(True, False)",
         "orientation": "v",
         "showlegend": true,
         "type": "scatter",
         "x": [
          4.813570022583008
         ],
         "xaxis": "x",
         "y": [
          3.8683857917785645
         ],
         "yaxis": "y"
        },
        {
         "hovertemplate": "color=256930894\tAJELNEWS24\t(True, False)<br>0=%{x}<br>1=%{y}<extra></extra>",
         "legendgroup": "256930894\tAJELNEWS24\t(True, False)",
         "marker": {
          "color": "#636efa",
          "symbol": "circle"
         },
         "mode": "markers",
         "name": "256930894\tAJELNEWS24\t(True, False)",
         "orientation": "v",
         "showlegend": true,
         "type": "scatter",
         "x": [
          2.6445112228393555
         ],
         "xaxis": "x",
         "y": [
          1.7377517223358154
         ],
         "yaxis": "y"
        },
        {
         "hovertemplate": "color=1094544720\tIthra\t(True, False)<br>0=%{x}<br>1=%{y}<extra></extra>",
         "legendgroup": "1094544720\tIthra\t(True, False)",
         "marker": {
          "color": "#EF553B",
          "symbol": "circle"
         },
         "mode": "markers",
         "name": "1094544720\tIthra\t(True, False)",
         "orientation": "v",
         "showlegend": true,
         "type": "scatter",
         "x": [
          5.744047164916992
         ],
         "xaxis": "x",
         "y": [
          4.002789497375488
         ],
         "yaxis": "y"
        },
        {
         "hovertemplate": "color=99311315\tKKUELD\t(True, False)<br>0=%{x}<br>1=%{y}<extra></extra>",
         "legendgroup": "99311315\tKKUELD\t(True, False)",
         "marker": {
          "color": "#00cc96",
          "symbol": "circle"
         },
         "mode": "markers",
         "name": "99311315\tKKUELD\t(True, False)",
         "orientation": "v",
         "showlegend": true,
         "type": "scatter",
         "x": [
          5.153479099273682
         ],
         "xaxis": "x",
         "y": [
          4.052789688110352
         ],
         "yaxis": "y"
        },
        {
         "hovertemplate": "color=467239131\tMarefaDatabase\t(True, False)<br>0=%{x}<br>1=%{y}<extra></extra>",
         "legendgroup": "467239131\tMarefaDatabase\t(True, False)",
         "marker": {
          "color": "#ab63fa",
          "symbol": "circle"
         },
         "mode": "markers",
         "name": "467239131\tMarefaDatabase\t(True, False)",
         "orientation": "v",
         "showlegend": true,
         "type": "scatter",
         "x": [
          4.503635406494141
         ],
         "xaxis": "x",
         "y": [
          4.410396099090576
         ],
         "yaxis": "y"
        },
        {
         "hovertemplate": "color=1335361885\tQualityBalgarn\t(True, False)<br>0=%{x}<br>1=%{y}<extra></extra>",
         "legendgroup": "1335361885\tQualityBalgarn\t(True, False)",
         "marker": {
          "color": "#FFA15A",
          "symbol": "circle"
         },
         "mode": "markers",
         "name": "1335361885\tQualityBalgarn\t(True, False)",
         "orientation": "v",
         "showlegend": true,
         "type": "scatter",
         "x": [
          6.290704727172852
         ],
         "xaxis": "x",
         "y": [
          6.930570602416992
         ],
         "yaxis": "y"
        },
        {
         "hovertemplate": "color=227974754\tDAHUniversity\t(True, False)<br>0=%{x}<br>1=%{y}<extra></extra>",
         "legendgroup": "227974754\tDAHUniversity\t(True, False)",
         "marker": {
          "color": "#19d3f3",
          "symbol": "circle"
         },
         "mode": "markers",
         "name": "227974754\tDAHUniversity\t(True, False)",
         "orientation": "v",
         "showlegend": true,
         "type": "scatter",
         "x": [
          5.5756001472473145
         ],
         "xaxis": "x",
         "y": [
          3.997323513031006
         ],
         "yaxis": "y"
        },
        {
         "hovertemplate": "color=929634606479011840\tcmc_ub\t(True, False)<br>0=%{x}<br>1=%{y}<extra></extra>",
         "legendgroup": "929634606479011840\tcmc_ub\t(True, False)",
         "marker": {
          "color": "#FF6692",
          "symbol": "circle"
         },
         "mode": "markers",
         "name": "929634606479011840\tcmc_ub\t(True, False)",
         "orientation": "v",
         "showlegend": true,
         "type": "scatter",
         "x": [
          6.447490692138672
         ],
         "xaxis": "x",
         "y": [
          6.565425395965576
         ],
         "yaxis": "y"
        },
        {
         "hovertemplate": "color=714967268\tElearning_nu\t(True, False)<br>0=%{x}<br>1=%{y}<extra></extra>",
         "legendgroup": "714967268\tElearning_nu\t(True, False)",
         "marker": {
          "color": "#B6E880",
          "symbol": "circle"
         },
         "mode": "markers",
         "name": "714967268\tElearning_nu\t(True, False)",
         "orientation": "v",
         "showlegend": true,
         "type": "scatter",
         "x": [
          5.2310075759887695
         ],
         "xaxis": "x",
         "y": [
          4.2448039054870605
         ],
         "yaxis": "y"
        },
        {
         "hovertemplate": "color=1210946671\tMOE_BIA\t(True, False)<br>0=%{x}<br>1=%{y}<extra></extra>",
         "legendgroup": "1210946671\tMOE_BIA\t(True, False)",
         "marker": {
          "color": "#FF97FF",
          "symbol": "circle"
         },
         "mode": "markers",
         "name": "1210946671\tMOE_BIA\t(True, False)",
         "orientation": "v",
         "showlegend": true,
         "type": "scatter",
         "x": [
          5.9709906578063965
         ],
         "xaxis": "x",
         "y": [
          4.144073009490967
         ],
         "yaxis": "y"
        },
        {
         "hovertemplate": "color=20248693\tamegren\t(True, False)<br>0=%{x}<br>1=%{y}<extra></extra>",
         "legendgroup": "20248693\tamegren\t(True, False)",
         "marker": {
          "color": "#FECB52",
          "symbol": "circle"
         },
         "mode": "markers",
         "name": "20248693\tamegren\t(True, False)",
         "orientation": "v",
         "showlegend": true,
         "type": "scatter",
         "x": [
          5.059313774108887
         ],
         "xaxis": "x",
         "y": [
          1.8483119010925293
         ],
         "yaxis": "y"
        },
        {
         "hovertemplate": "color=2240469493\tdistancelearniu\t(True, False)<br>0=%{x}<br>1=%{y}<extra></extra>",
         "legendgroup": "2240469493\tdistancelearniu\t(True, False)",
         "marker": {
          "color": "#636efa",
          "symbol": "circle"
         },
         "mode": "markers",
         "name": "2240469493\tdistancelearniu\t(True, False)",
         "orientation": "v",
         "showlegend": true,
         "type": "scatter",
         "x": [
          12.493463516235352
         ],
         "xaxis": "x",
         "y": [
          1.3257825374603271
         ],
         "yaxis": "y"
        },
        {
         "hovertemplate": "color=82334456\tSaudiAcademics\t(True, False)<br>0=%{x}<br>1=%{y}<extra></extra>",
         "legendgroup": "82334456\tSaudiAcademics\t(True, False)",
         "marker": {
          "color": "#EF553B",
          "symbol": "circle"
         },
         "mode": "markers",
         "name": "82334456\tSaudiAcademics\t(True, False)",
         "orientation": "v",
         "showlegend": true,
         "type": "scatter",
         "x": [
          2.447943925857544
         ],
         "xaxis": "x",
         "y": [
          0.07759226858615875
         ],
         "yaxis": "y"
        },
        {
         "hovertemplate": "color=291576316\tEffatUniversity\t(True, False)<br>0=%{x}<br>1=%{y}<extra></extra>",
         "legendgroup": "291576316\tEffatUniversity\t(True, False)",
         "marker": {
          "color": "#00cc96",
          "symbol": "circle"
         },
         "mode": "markers",
         "name": "291576316\tEffatUniversity\t(True, False)",
         "orientation": "v",
         "showlegend": true,
         "type": "scatter",
         "x": [
          4.8610100746154785
         ],
         "xaxis": "x",
         "y": [
          3.7342610359191895
         ],
         "yaxis": "y"
        },
        {
         "hovertemplate": "color=3187905661\tREG_UB\t(True, False)<br>0=%{x}<br>1=%{y}<extra></extra>",
         "legendgroup": "3187905661\tREG_UB\t(True, False)",
         "marker": {
          "color": "#ab63fa",
          "symbol": "circle"
         },
         "mode": "markers",
         "name": "3187905661\tREG_UB\t(True, False)",
         "orientation": "v",
         "showlegend": true,
         "type": "scatter",
         "x": [
          6.105547904968262
         ],
         "xaxis": "x",
         "y": [
          6.093641757965088
         ],
         "yaxis": "y"
        },
        {
         "hovertemplate": "color=976003977061064704\tqu_e_learning\t(True, False)<br>0=%{x}<br>1=%{y}<extra></extra>",
         "legendgroup": "976003977061064704\tqu_e_learning\t(True, False)",
         "marker": {
          "color": "#FFA15A",
          "symbol": "circle"
         },
         "mode": "markers",
         "name": "976003977061064704\tqu_e_learning\t(True, False)",
         "orientation": "v",
         "showlegend": true,
         "type": "scatter",
         "x": [
          4.8929595947265625
         ],
         "xaxis": "x",
         "y": [
          3.6706199645996094
         ],
         "yaxis": "y"
        },
        {
         "hovertemplate": "color=823487523347464193\tkkuxedu\t(True, False)<br>0=%{x}<br>1=%{y}<extra></extra>",
         "legendgroup": "823487523347464193\tkkuxedu\t(True, False)",
         "marker": {
          "color": "#19d3f3",
          "symbol": "circle"
         },
         "mode": "markers",
         "name": "823487523347464193\tkkuxedu\t(True, False)",
         "orientation": "v",
         "showlegend": true,
         "type": "scatter",
         "x": [
          5.453778266906738
         ],
         "xaxis": "x",
         "y": [
          3.941589593887329
         ],
         "yaxis": "y"
        },
        {
         "hovertemplate": "color=1421600878964924416\tSlaGulf\t(True, False)<br>0=%{x}<br>1=%{y}<extra></extra>",
         "legendgroup": "1421600878964924416\tSlaGulf\t(True, False)",
         "marker": {
          "color": "#FF6692",
          "symbol": "circle"
         },
         "mode": "markers",
         "name": "1421600878964924416\tSlaGulf\t(True, False)",
         "orientation": "v",
         "showlegend": true,
         "type": "scatter",
         "x": [
          5.856741905212402
         ],
         "xaxis": "x",
         "y": [
          4.320314884185791
         ],
         "yaxis": "y"
        },
        {
         "hovertemplate": "color=1034753292352544768\tReadWhat_IRead\t(True, False)<br>0=%{x}<br>1=%{y}<extra></extra>",
         "legendgroup": "1034753292352544768\tReadWhat_IRead\t(True, False)",
         "marker": {
          "color": "#B6E880",
          "symbol": "circle"
         },
         "mode": "markers",
         "name": "1034753292352544768\tReadWhat_IRead\t(True, False)",
         "orientation": "v",
         "showlegend": true,
         "type": "scatter",
         "x": [
          5.783076286315918
         ],
         "xaxis": "x",
         "y": [
          4.29943323135376
         ],
         "yaxis": "y"
        },
        {
         "hovertemplate": "color=986661474880950274\tmaktabt\t(True, False)<br>0=%{x}<br>1=%{y}<extra></extra>",
         "legendgroup": "986661474880950274\tmaktabt\t(True, False)",
         "marker": {
          "color": "#FF97FF",
          "symbol": "circle"
         },
         "mode": "markers",
         "name": "986661474880950274\tmaktabt\t(True, False)",
         "orientation": "v",
         "showlegend": true,
         "type": "scatter",
         "x": [
          5.977036476135254
         ],
         "xaxis": "x",
         "y": [
          4.167941093444824
         ],
         "yaxis": "y"
        },
        {
         "hovertemplate": "color=970703654079619073\tAttaa_SA\t(True, False)<br>0=%{x}<br>1=%{y}<extra></extra>",
         "legendgroup": "970703654079619073\tAttaa_SA\t(True, False)",
         "marker": {
          "color": "#FECB52",
          "symbol": "circle"
         },
         "mode": "markers",
         "name": "970703654079619073\tAttaa_SA\t(True, False)",
         "orientation": "v",
         "showlegend": true,
         "type": "scatter",
         "x": [
          5.839253902435303
         ],
         "xaxis": "x",
         "y": [
          4.2544660568237305
         ],
         "yaxis": "y"
        },
        {
         "hovertemplate": "color=871970443577700354\tqindeel_dist\t(True, False)<br>0=%{x}<br>1=%{y}<extra></extra>",
         "legendgroup": "871970443577700354\tqindeel_dist\t(True, False)",
         "marker": {
          "color": "#636efa",
          "symbol": "circle"
         },
         "mode": "markers",
         "name": "871970443577700354\tqindeel_dist\t(True, False)",
         "orientation": "v",
         "showlegend": true,
         "type": "scatter",
         "x": [
          5.7822346687316895
         ],
         "xaxis": "x",
         "y": [
          4.055080890655518
         ],
         "yaxis": "y"
        },
        {
         "hovertemplate": "color=1201346868489392134\tlibnusa\t(True, False)<br>0=%{x}<br>1=%{y}<extra></extra>",
         "legendgroup": "1201346868489392134\tlibnusa\t(True, False)",
         "marker": {
          "color": "#EF553B",
          "symbol": "circle"
         },
         "mode": "markers",
         "name": "1201346868489392134\tlibnusa\t(True, False)",
         "orientation": "v",
         "showlegend": true,
         "type": "scatter",
         "x": [
          5.432406425476074
         ],
         "xaxis": "x",
         "y": [
          4.399417400360107
         ],
         "yaxis": "y"
        },
        {
         "hovertemplate": "color=1184029416965455873\talsharekh_org\t(True, False)<br>0=%{x}<br>1=%{y}<extra></extra>",
         "legendgroup": "1184029416965455873\talsharekh_org\t(True, False)",
         "marker": {
          "color": "#00cc96",
          "symbol": "circle"
         },
         "mode": "markers",
         "name": "1184029416965455873\talsharekh_org\t(True, False)",
         "orientation": "v",
         "showlegend": true,
         "type": "scatter",
         "x": [
          5.878960609436035
         ],
         "xaxis": "x",
         "y": [
          4.1380181312561035
         ],
         "yaxis": "y"
        },
        {
         "hovertemplate": "color=828863993678807041\tKAUST_NewsAR\t(True, False)<br>0=%{x}<br>1=%{y}<extra></extra>",
         "legendgroup": "828863993678807041\tKAUST_NewsAR\t(True, False)",
         "marker": {
          "color": "#ab63fa",
          "symbol": "circle"
         },
         "mode": "markers",
         "name": "828863993678807041\tKAUST_NewsAR\t(True, False)",
         "orientation": "v",
         "showlegend": true,
         "type": "scatter",
         "x": [
          2.353700637817383
         ],
         "xaxis": "x",
         "y": [
          0.33507680892944336
         ],
         "yaxis": "y"
        },
        {
         "hovertemplate": "color=2148258831\tLove_Arabic2\t(True, False)<br>0=%{x}<br>1=%{y}<extra></extra>",
         "legendgroup": "2148258831\tLove_Arabic2\t(True, False)",
         "marker": {
          "color": "#FFA15A",
          "symbol": "circle"
         },
         "mode": "markers",
         "name": "2148258831\tLove_Arabic2\t(True, False)",
         "orientation": "v",
         "showlegend": true,
         "type": "scatter",
         "x": [
          6.0456037521362305
         ],
         "xaxis": "x",
         "y": [
          4.359255313873291
         ],
         "yaxis": "y"
        },
        {
         "hovertemplate": "color=1108378853486088199\tFaaliat\t(True, False)<br>0=%{x}<br>1=%{y}<extra></extra>",
         "legendgroup": "1108378853486088199\tFaaliat\t(True, False)",
         "marker": {
          "color": "#19d3f3",
          "symbol": "circle"
         },
         "mode": "markers",
         "name": "1108378853486088199\tFaaliat\t(True, False)",
         "orientation": "v",
         "showlegend": true,
         "type": "scatter",
         "x": [
          5.864658832550049
         ],
         "xaxis": "x",
         "y": [
          4.243345737457275
         ],
         "yaxis": "y"
        },
        {
         "hovertemplate": "color=2166237709\twai_bisha\t(True, False)<br>0=%{x}<br>1=%{y}<extra></extra>",
         "legendgroup": "2166237709\twai_bisha\t(True, False)",
         "marker": {
          "color": "#FF6692",
          "symbol": "circle"
         },
         "mode": "markers",
         "name": "2166237709\twai_bisha\t(True, False)",
         "orientation": "v",
         "showlegend": true,
         "type": "scatter",
         "x": [
          5.536427021026611
         ],
         "xaxis": "x",
         "y": [
          2.078242301940918
         ],
         "yaxis": "y"
        },
        {
         "hovertemplate": "color=454697502\tkacstac\t(True, False)<br>0=%{x}<br>1=%{y}<extra></extra>",
         "legendgroup": "454697502\tkacstac\t(True, False)",
         "marker": {
          "color": "#B6E880",
          "symbol": "circle"
         },
         "mode": "markers",
         "name": "454697502\tkacstac\t(True, False)",
         "orientation": "v",
         "showlegend": true,
         "type": "scatter",
         "x": [
          5.877978324890137
         ],
         "xaxis": "x",
         "y": [
          4.185184955596924
         ],
         "yaxis": "y"
        },
        {
         "hovertemplate": "color=370127401\tthmarat\t(True, False)<br>0=%{x}<br>1=%{y}<extra></extra>",
         "legendgroup": "370127401\tthmarat\t(True, False)",
         "marker": {
          "color": "#FF97FF",
          "symbol": "circle"
         },
         "mode": "markers",
         "name": "370127401\tthmarat\t(True, False)",
         "orientation": "v",
         "showlegend": true,
         "type": "scatter",
         "x": [
          5.979735374450684
         ],
         "xaxis": "x",
         "y": [
          4.324306964874268
         ],
         "yaxis": "y"
        },
        {
         "hovertemplate": "color=950283391198466048\talamalkutub17\t(True, False)<br>0=%{x}<br>1=%{y}<extra></extra>",
         "legendgroup": "950283391198466048\talamalkutub17\t(True, False)",
         "marker": {
          "color": "#FECB52",
          "symbol": "circle"
         },
         "mode": "markers",
         "name": "950283391198466048\talamalkutub17\t(True, False)",
         "orientation": "v",
         "showlegend": true,
         "type": "scatter",
         "x": [
          5.492843151092529
         ],
         "xaxis": "x",
         "y": [
          2.1184499263763428
         ],
         "yaxis": "y"
        },
        {
         "hovertemplate": "color=14412844\tthomsonreuters\t(True, False)<br>0=%{x}<br>1=%{y}<extra></extra>",
         "legendgroup": "14412844\tthomsonreuters\t(True, False)",
         "marker": {
          "color": "#636efa",
          "symbol": "circle"
         },
         "mode": "markers",
         "name": "14412844\tthomsonreuters\t(True, False)",
         "orientation": "v",
         "showlegend": true,
         "type": "scatter",
         "x": [
          6.027498245239258
         ],
         "xaxis": "x",
         "y": [
          4.345362186431885
         ],
         "yaxis": "y"
        },
        {
         "hovertemplate": "color=2256347188\tdaralfarouk\t(True, False)<br>0=%{x}<br>1=%{y}<extra></extra>",
         "legendgroup": "2256347188\tdaralfarouk\t(True, False)",
         "marker": {
          "color": "#EF553B",
          "symbol": "circle"
         },
         "mode": "markers",
         "name": "2256347188\tdaralfarouk\t(True, False)",
         "orientation": "v",
         "showlegend": true,
         "type": "scatter",
         "x": [
          5.9305620193481445
         ],
         "xaxis": "x",
         "y": [
          4.291404724121094
         ],
         "yaxis": "y"
        },
        {
         "hovertemplate": "color=41561657\tBioMedCentral\t(True, False)<br>0=%{x}<br>1=%{y}<extra></extra>",
         "legendgroup": "41561657\tBioMedCentral\t(True, False)",
         "marker": {
          "color": "#00cc96",
          "symbol": "circle"
         },
         "mode": "markers",
         "name": "41561657\tBioMedCentral\t(True, False)",
         "orientation": "v",
         "showlegend": true,
         "type": "scatter",
         "x": [
          3.6749794483184814
         ],
         "xaxis": "x",
         "y": [
          -1.2997866868972778
         ],
         "yaxis": "y"
        },
        {
         "hovertemplate": "color=1241460055091884032\tPrinceMohmmedB1\t(True, False)<br>0=%{x}<br>1=%{y}<extra></extra>",
         "legendgroup": "1241460055091884032\tPrinceMohmmedB1\t(True, False)",
         "marker": {
          "color": "#ab63fa",
          "symbol": "circle"
         },
         "mode": "markers",
         "name": "1241460055091884032\tPrinceMohmmedB1\t(True, False)",
         "orientation": "v",
         "showlegend": true,
         "type": "scatter",
         "x": [
          5.260214805603027
         ],
         "xaxis": "x",
         "y": [
          2.5924949645996094
         ],
         "yaxis": "y"
        },
        {
         "hovertemplate": "color=745200204496920576\thbaalkthab\t(True, False)<br>0=%{x}<br>1=%{y}<extra></extra>",
         "legendgroup": "745200204496920576\thbaalkthab\t(True, False)",
         "marker": {
          "color": "#FFA15A",
          "symbol": "circle"
         },
         "mode": "markers",
         "name": "745200204496920576\thbaalkthab\t(True, False)",
         "orientation": "v",
         "showlegend": true,
         "type": "scatter",
         "x": [
          5.1823835372924805
         ],
         "xaxis": "x",
         "y": [
          2.610240936279297
         ],
         "yaxis": "y"
        },
        {
         "hovertemplate": "color=898958554014593025\tbu_dsa1\t(True, False)<br>0=%{x}<br>1=%{y}<extra></extra>",
         "legendgroup": "898958554014593025\tbu_dsa1\t(True, False)",
         "marker": {
          "color": "#19d3f3",
          "symbol": "circle"
         },
         "mode": "markers",
         "name": "898958554014593025\tbu_dsa1\t(True, False)",
         "orientation": "v",
         "showlegend": true,
         "type": "scatter",
         "x": [
          4.39945125579834
         ],
         "xaxis": "x",
         "y": [
          3.3747777938842773
         ],
         "yaxis": "y"
        },
        {
         "hovertemplate": "color=4793906310\tDSA_NBU\t(True, False)<br>0=%{x}<br>1=%{y}<extra></extra>",
         "legendgroup": "4793906310\tDSA_NBU\t(True, False)",
         "marker": {
          "color": "#FF6692",
          "symbol": "circle"
         },
         "mode": "markers",
         "name": "4793906310\tDSA_NBU\t(True, False)",
         "orientation": "v",
         "showlegend": true,
         "type": "scatter",
         "x": [
          5.274180889129639
         ],
         "xaxis": "x",
         "y": [
          3.587555408477783
         ],
         "yaxis": "y"
        },
        {
         "hovertemplate": "color=1901259133\tKSAU_DSA\t(True, False)<br>0=%{x}<br>1=%{y}<extra></extra>",
         "legendgroup": "1901259133\tKSAU_DSA\t(True, False)",
         "marker": {
          "color": "#B6E880",
          "symbol": "circle"
         },
         "mode": "markers",
         "name": "1901259133\tKSAU_DSA\t(True, False)",
         "orientation": "v",
         "showlegend": true,
         "type": "scatter",
         "x": [
          5.1308817863464355
         ],
         "xaxis": "x",
         "y": [
          3.353645086288452
         ],
         "yaxis": "y"
        },
        {
         "hovertemplate": "color=446835271\tst_affairs\t(True, False)<br>0=%{x}<br>1=%{y}<extra></extra>",
         "legendgroup": "446835271\tst_affairs\t(True, False)",
         "marker": {
          "color": "#FF97FF",
          "symbol": "circle"
         },
         "mode": "markers",
         "name": "446835271\tst_affairs\t(True, False)",
         "orientation": "v",
         "showlegend": true,
         "type": "scatter",
         "x": [
          3.8094139099121094
         ],
         "xaxis": "x",
         "y": [
          2.933529853820801
         ],
         "yaxis": "y"
        },
        {
         "hovertemplate": "color=2788097617\tDsa_tu\t(True, False)<br>0=%{x}<br>1=%{y}<extra></extra>",
         "legendgroup": "2788097617\tDsa_tu\t(True, False)",
         "marker": {
          "color": "#FECB52",
          "symbol": "circle"
         },
         "mode": "markers",
         "name": "2788097617\tDsa_tu\t(True, False)",
         "orientation": "v",
         "showlegend": true,
         "type": "scatter",
         "x": [
          5.282684803009033
         ],
         "xaxis": "x",
         "y": [
          3.2580554485321045
         ],
         "yaxis": "y"
        },
        {
         "hovertemplate": "color=2434222935\tomohakami\t(True, False)<br>0=%{x}<br>1=%{y}<extra></extra>",
         "legendgroup": "2434222935\tomohakami\t(True, False)",
         "marker": {
          "color": "#636efa",
          "symbol": "circle"
         },
         "mode": "markers",
         "name": "2434222935\tomohakami\t(True, False)",
         "orientation": "v",
         "showlegend": true,
         "type": "scatter",
         "x": [
          5.056430339813232
         ],
         "xaxis": "x",
         "y": [
          2.618911027908325
         ],
         "yaxis": "y"
        },
        {
         "hovertemplate": "color=3124903911\tJazanYC\t(True, False)<br>0=%{x}<br>1=%{y}<extra></extra>",
         "legendgroup": "3124903911\tJazanYC\t(True, False)",
         "marker": {
          "color": "#EF553B",
          "symbol": "circle"
         },
         "mode": "markers",
         "name": "3124903911\tJazanYC\t(True, False)",
         "orientation": "v",
         "showlegend": true,
         "type": "scatter",
         "x": [
          5.137699127197266
         ],
         "xaxis": "x",
         "y": [
          2.8439972400665283
         ],
         "yaxis": "y"
        },
        {
         "hovertemplate": "color=3024845053\tdosataibahu\t(True, False)<br>0=%{x}<br>1=%{y}<extra></extra>",
         "legendgroup": "3024845053\tdosataibahu\t(True, False)",
         "marker": {
          "color": "#00cc96",
          "symbol": "circle"
         },
         "mode": "markers",
         "name": "3024845053\tdosataibahu\t(True, False)",
         "orientation": "v",
         "showlegend": true,
         "type": "scatter",
         "x": [
          4.935840129852295
         ],
         "xaxis": "x",
         "y": [
          3.2178757190704346
         ],
         "yaxis": "y"
        },
        {
         "hovertemplate": "color=975335524604043264\tSmWagf\t(True, False)<br>0=%{x}<br>1=%{y}<extra></extra>",
         "legendgroup": "975335524604043264\tSmWagf\t(True, False)",
         "marker": {
          "color": "#ab63fa",
          "symbol": "circle"
         },
         "mode": "markers",
         "name": "975335524604043264\tSmWagf\t(True, False)",
         "orientation": "v",
         "showlegend": true,
         "type": "scatter",
         "x": [
          7.640411376953125
         ],
         "xaxis": "x",
         "y": [
          1.1198192834854126
         ],
         "yaxis": "y"
        },
        {
         "hovertemplate": "color=1109112480419205120\tnjJ8GqHbmTusI8b\t(True, False)<br>0=%{x}<br>1=%{y}<extra></extra>",
         "legendgroup": "1109112480419205120\tnjJ8GqHbmTusI8b\t(True, False)",
         "marker": {
          "color": "#FFA15A",
          "symbol": "circle"
         },
         "mode": "markers",
         "name": "1109112480419205120\tnjJ8GqHbmTusI8b\t(True, False)",
         "orientation": "v",
         "showlegend": true,
         "type": "scatter",
         "x": [
          6.624232292175293
         ],
         "xaxis": "x",
         "y": [
          1.9046616554260254
         ],
         "yaxis": "y"
        },
        {
         "hovertemplate": "color=1236721561765363714\tElearnUj\t(True, False)<br>0=%{x}<br>1=%{y}<extra></extra>",
         "legendgroup": "1236721561765363714\tElearnUj\t(True, False)",
         "marker": {
          "color": "#19d3f3",
          "symbol": "circle"
         },
         "mode": "markers",
         "name": "1236721561765363714\tElearnUj\t(True, False)",
         "orientation": "v",
         "showlegend": true,
         "type": "scatter",
         "x": [
          7.29397439956665
         ],
         "xaxis": "x",
         "y": [
          1.0857881307601929
         ],
         "yaxis": "y"
        },
        {
         "hovertemplate": "color=863416057788329984\tCie_uj\t(True, False)<br>0=%{x}<br>1=%{y}<extra></extra>",
         "legendgroup": "863416057788329984\tCie_uj\t(True, False)",
         "marker": {
          "color": "#FF6692",
          "symbol": "circle"
         },
         "mode": "markers",
         "name": "863416057788329984\tCie_uj\t(True, False)",
         "orientation": "v",
         "showlegend": true,
         "type": "scatter",
         "x": [
          6.780572414398193
         ],
         "xaxis": "x",
         "y": [
          1.0427290201187134
         ],
         "yaxis": "y"
        },
        {
         "hovertemplate": "color=1093833259513982976\tHQIS_UJ\t(True, False)<br>0=%{x}<br>1=%{y}<extra></extra>",
         "legendgroup": "1093833259513982976\tHQIS_UJ\t(True, False)",
         "marker": {
          "color": "#B6E880",
          "symbol": "circle"
         },
         "mode": "markers",
         "name": "1093833259513982976\tHQIS_UJ\t(True, False)",
         "orientation": "v",
         "showlegend": true,
         "type": "scatter",
         "x": [
          7.331801414489746
         ],
         "xaxis": "x",
         "y": [
          1.0477526187896729
         ],
         "yaxis": "y"
        },
        {
         "hovertemplate": "color=936310521162358789\tjeddahawards\t(True, False)<br>0=%{x}<br>1=%{y}<extra></extra>",
         "legendgroup": "936310521162358789\tjeddahawards\t(True, False)",
         "marker": {
          "color": "#FF97FF",
          "symbol": "circle"
         },
         "mode": "markers",
         "name": "936310521162358789\tjeddahawards\t(True, False)",
         "orientation": "v",
         "showlegend": true,
         "type": "scatter",
         "x": [
          6.727113246917725
         ],
         "xaxis": "x",
         "y": [
          1.8698927164077759
         ],
         "yaxis": "y"
        },
        {
         "hovertemplate": "color=988367454211641345\tITC_UJ\t(True, False)<br>0=%{x}<br>1=%{y}<extra></extra>",
         "legendgroup": "988367454211641345\tITC_UJ\t(True, False)",
         "marker": {
          "color": "#FECB52",
          "symbol": "circle"
         },
         "mode": "markers",
         "name": "988367454211641345\tITC_UJ\t(True, False)",
         "orientation": "v",
         "showlegend": true,
         "type": "scatter",
         "x": [
          7.5096001625061035
         ],
         "xaxis": "x",
         "y": [
          0.9417257905006409
         ],
         "yaxis": "y"
        },
        {
         "hovertemplate": "color=1003403334554996737\tFCIT_KHB\t(True, False)<br>0=%{x}<br>1=%{y}<extra></extra>",
         "legendgroup": "1003403334554996737\tFCIT_KHB\t(True, False)",
         "marker": {
          "color": "#636efa",
          "symbol": "circle"
         },
         "mode": "markers",
         "name": "1003403334554996737\tFCIT_KHB\t(True, False)",
         "orientation": "v",
         "showlegend": true,
         "type": "scatter",
         "x": [
          6.986383438110352
         ],
         "xaxis": "x",
         "y": [
          1.7420119047164917
         ],
         "yaxis": "y"
        },
        {
         "hovertemplate": "color=728235816359759874\tyarana_co\t(True, False)<br>0=%{x}<br>1=%{y}<extra></extra>",
         "legendgroup": "728235816359759874\tyarana_co\t(True, False)",
         "marker": {
          "color": "#EF553B",
          "symbol": "circle"
         },
         "mode": "markers",
         "name": "728235816359759874\tyarana_co\t(True, False)",
         "orientation": "v",
         "showlegend": true,
         "type": "scatter",
         "x": [
          5.555827617645264
         ],
         "xaxis": "x",
         "y": [
          1.543566107749939
         ],
         "yaxis": "y"
        },
        {
         "hovertemplate": "color=1092948321159790593\tCSS_UJ\t(True, False)<br>0=%{x}<br>1=%{y}<extra></extra>",
         "legendgroup": "1092948321159790593\tCSS_UJ\t(True, False)",
         "marker": {
          "color": "#00cc96",
          "symbol": "circle"
         },
         "mode": "markers",
         "name": "1092948321159790593\tCSS_UJ\t(True, False)",
         "orientation": "v",
         "showlegend": true,
         "type": "scatter",
         "x": [
          7.501430511474609
         ],
         "xaxis": "x",
         "y": [
          0.9929373264312744
         ],
         "yaxis": "y"
        },
        {
         "hovertemplate": "color=843735377571696641\tUJ_KHB\t(True, False)<br>0=%{x}<br>1=%{y}<extra></extra>",
         "legendgroup": "843735377571696641\tUJ_KHB\t(True, False)",
         "marker": {
          "color": "#ab63fa",
          "symbol": "circle"
         },
         "mode": "markers",
         "name": "843735377571696641\tUJ_KHB\t(True, False)",
         "orientation": "v",
         "showlegend": true,
         "type": "scatter",
         "x": [
          7.864438056945801
         ],
         "xaxis": "x",
         "y": [
          0.5057495832443237
         ],
         "yaxis": "y"
        },
        {
         "hovertemplate": "color=274355847\tNCNC_sa\t(True, False)<br>0=%{x}<br>1=%{y}<extra></extra>",
         "legendgroup": "274355847\tNCNC_sa\t(True, False)",
         "marker": {
          "color": "#FFA15A",
          "symbol": "circle"
         },
         "mode": "markers",
         "name": "274355847\tNCNC_sa\t(True, False)",
         "orientation": "v",
         "showlegend": true,
         "type": "scatter",
         "x": [
          6.242397785186768
         ],
         "xaxis": "x",
         "y": [
          2.7143967151641846
         ],
         "yaxis": "y"
        },
        {
         "hovertemplate": "color=809330990652985344\tMultaqaMakkah\t(True, False)<br>0=%{x}<br>1=%{y}<extra></extra>",
         "legendgroup": "809330990652985344\tMultaqaMakkah\t(True, False)",
         "marker": {
          "color": "#19d3f3",
          "symbol": "circle"
         },
         "mode": "markers",
         "name": "809330990652985344\tMultaqaMakkah\t(True, False)",
         "orientation": "v",
         "showlegend": true,
         "type": "scatter",
         "x": [
          6.510708808898926
         ],
         "xaxis": "x",
         "y": [
          2.124105453491211
         ],
         "yaxis": "y"
        },
        {
         "hovertemplate": "color=783611468591800321\tUJCCSE\t(True, False)<br>0=%{x}<br>1=%{y}<extra></extra>",
         "legendgroup": "783611468591800321\tUJCCSE\t(True, False)",
         "marker": {
          "color": "#FF6692",
          "symbol": "circle"
         },
         "mode": "markers",
         "name": "783611468591800321\tUJCCSE\t(True, False)",
         "orientation": "v",
         "showlegend": true,
         "type": "scatter",
         "x": [
          7.425215721130371
         ],
         "xaxis": "x",
         "y": [
          1.105560541152954
         ],
         "yaxis": "y"
        },
        {
         "hovertemplate": "color=746897755294015488\tumscUJ\t(True, False)<br>0=%{x}<br>1=%{y}<extra></extra>",
         "legendgroup": "746897755294015488\tumscUJ\t(True, False)",
         "marker": {
          "color": "#B6E880",
          "symbol": "circle"
         },
         "mode": "markers",
         "name": "746897755294015488\tumscUJ\t(True, False)",
         "orientation": "v",
         "showlegend": true,
         "type": "scatter",
         "x": [
          7.789928913116455
         ],
         "xaxis": "x",
         "y": [
          0.6839394569396973
         ],
         "yaxis": "y"
        },
        {
         "hovertemplate": "color=803154430216507392\tCOE_UJ\t(True, False)<br>0=%{x}<br>1=%{y}<extra></extra>",
         "legendgroup": "803154430216507392\tCOE_UJ\t(True, False)",
         "marker": {
          "color": "#FF97FF",
          "symbol": "circle"
         },
         "mode": "markers",
         "name": "803154430216507392\tCOE_UJ\t(True, False)",
         "orientation": "v",
         "showlegend": true,
         "type": "scatter",
         "x": [
          7.936743259429932
         ],
         "xaxis": "x",
         "y": [
          0.43819451332092285
         ],
         "yaxis": "y"
        },
        {
         "hovertemplate": "color=2373528721\tsports_uj\t(True, False)<br>0=%{x}<br>1=%{y}<extra></extra>",
         "legendgroup": "2373528721\tsports_uj\t(True, False)",
         "marker": {
          "color": "#FECB52",
          "symbol": "circle"
         },
         "mode": "markers",
         "name": "2373528721\tsports_uj\t(True, False)",
         "orientation": "v",
         "showlegend": true,
         "type": "scatter",
         "x": [
          7.028962135314941
         ],
         "xaxis": "x",
         "y": [
          1.9714401960372925
         ],
         "yaxis": "y"
        },
        {
         "hovertemplate": "color=1095754683082256386\tFCM_UJ\t(True, False)<br>0=%{x}<br>1=%{y}<extra></extra>",
         "legendgroup": "1095754683082256386\tFCM_UJ\t(True, False)",
         "marker": {
          "color": "#636efa",
          "symbol": "circle"
         },
         "mode": "markers",
         "name": "1095754683082256386\tFCM_UJ\t(True, False)",
         "orientation": "v",
         "showlegend": true,
         "type": "scatter",
         "x": [
          7.463867664337158
         ],
         "xaxis": "x",
         "y": [
          1.0151844024658203
         ],
         "yaxis": "y"
        },
        {
         "hovertemplate": "color=3244867352\tLibraryUJ\t(True, False)<br>0=%{x}<br>1=%{y}<extra></extra>",
         "legendgroup": "3244867352\tLibraryUJ\t(True, False)",
         "marker": {
          "color": "#EF553B",
          "symbol": "circle"
         },
         "mode": "markers",
         "name": "3244867352\tLibraryUJ\t(True, False)",
         "orientation": "v",
         "showlegend": true,
         "type": "scatter",
         "x": [
          7.6269402503967285
         ],
         "xaxis": "x",
         "y": [
          1.00881826877594
         ],
         "yaxis": "y"
        },
        {
         "hovertemplate": "color=3185045156\tMOETawasul\t(True, False)<br>0=%{x}<br>1=%{y}<extra></extra>",
         "legendgroup": "3185045156\tMOETawasul\t(True, False)",
         "marker": {
          "color": "#00cc96",
          "symbol": "circle"
         },
         "mode": "markers",
         "name": "3185045156\tMOETawasul\t(True, False)",
         "orientation": "v",
         "showlegend": true,
         "type": "scatter",
         "x": [
          5.571969509124756
         ],
         "xaxis": "x",
         "y": [
          1.346687912940979
         ],
         "yaxis": "y"
        },
        {
         "hovertemplate": "color=4192650663\tUJ_ELI\t(True, False)<br>0=%{x}<br>1=%{y}<extra></extra>",
         "legendgroup": "4192650663\tUJ_ELI\t(True, False)",
         "marker": {
          "color": "#ab63fa",
          "symbol": "circle"
         },
         "mode": "markers",
         "name": "4192650663\tUJ_ELI\t(True, False)",
         "orientation": "v",
         "showlegend": true,
         "type": "scatter",
         "x": [
          7.9838480949401855
         ],
         "xaxis": "x",
         "y": [
          0.5018927454948425
         ],
         "yaxis": "y"
        },
        {
         "hovertemplate": "color=3245890694\tadmission_uj\t(True, False)<br>0=%{x}<br>1=%{y}<extra></extra>",
         "legendgroup": "3245890694\tadmission_uj\t(True, False)",
         "marker": {
          "color": "#FFA15A",
          "symbol": "circle"
         },
         "mode": "markers",
         "name": "3245890694\tadmission_uj\t(True, False)",
         "orientation": "v",
         "showlegend": true,
         "type": "scatter",
         "x": [
          8.338805198669434
         ],
         "xaxis": "x",
         "y": [
          0.4901110827922821
         ],
         "yaxis": "y"
        },
        {
         "hovertemplate": "color=561349289\tmersal59\t(True, False)<br>0=%{x}<br>1=%{y}<extra></extra>",
         "legendgroup": "561349289\tmersal59\t(True, False)",
         "marker": {
          "color": "#19d3f3",
          "symbol": "circle"
         },
         "mode": "markers",
         "name": "561349289\tmersal59\t(True, False)",
         "orientation": "v",
         "showlegend": true,
         "type": "scatter",
         "x": [
          7.210855007171631
         ],
         "xaxis": "x",
         "y": [
          0.5450062155723572
         ],
         "yaxis": "y"
        },
        {
         "hovertemplate": "color=3272974765\tMedicineUJ\t(True, False)<br>0=%{x}<br>1=%{y}<extra></extra>",
         "legendgroup": "3272974765\tMedicineUJ\t(True, False)",
         "marker": {
          "color": "#FF6692",
          "symbol": "circle"
         },
         "mode": "markers",
         "name": "3272974765\tMedicineUJ\t(True, False)",
         "orientation": "v",
         "showlegend": true,
         "type": "scatter",
         "x": [
          8.015521049499512
         ],
         "xaxis": "x",
         "y": [
          0.5821204781532288
         ],
         "yaxis": "y"
        },
        {
         "hovertemplate": "color=2960665267\tqurancomjed\t(True, False)<br>0=%{x}<br>1=%{y}<extra></extra>",
         "legendgroup": "2960665267\tqurancomjed\t(True, False)",
         "marker": {
          "color": "#B6E880",
          "symbol": "circle"
         },
         "mode": "markers",
         "name": "2960665267\tqurancomjed\t(True, False)",
         "orientation": "v",
         "showlegend": true,
         "type": "scatter",
         "x": [
          6.712615013122559
         ],
         "xaxis": "x",
         "y": [
          1.8761751651763916
         ],
         "yaxis": "y"
        },
        {
         "hovertemplate": "color=948799736072556544\tUJ_mus\t(True, False)<br>0=%{x}<br>1=%{y}<extra></extra>",
         "legendgroup": "948799736072556544\tUJ_mus\t(True, False)",
         "marker": {
          "color": "#FF97FF",
          "symbol": "circle"
         },
         "mode": "markers",
         "name": "948799736072556544\tUJ_mus\t(True, False)",
         "orientation": "v",
         "showlegend": true,
         "type": "scatter",
         "x": [
          7.2710981369018555
         ],
         "xaxis": "x",
         "y": [
          0.5003076791763306
         ],
         "yaxis": "y"
        },
        {
         "hovertemplate": "color=3317564096\tuj_community\t(True, False)<br>0=%{x}<br>1=%{y}<extra></extra>",
         "legendgroup": "3317564096\tuj_community\t(True, False)",
         "marker": {
          "color": "#FECB52",
          "symbol": "circle"
         },
         "mode": "markers",
         "name": "3317564096\tuj_community\t(True, False)",
         "orientation": "v",
         "showlegend": true,
         "type": "scatter",
         "x": [
          7.692079067230225
         ],
         "xaxis": "x",
         "y": [
          0.6990290880203247
         ],
         "yaxis": "y"
        },
        {
         "hovertemplate": "color=787739399970811904\tMediaCenterUJ\t(True, False)<br>0=%{x}<br>1=%{y}<extra></extra>",
         "legendgroup": "787739399970811904\tMediaCenterUJ\t(True, False)",
         "marker": {
          "color": "#636efa",
          "symbol": "circle"
         },
         "mode": "markers",
         "name": "787739399970811904\tMediaCenterUJ\t(True, False)",
         "orientation": "v",
         "showlegend": true,
         "type": "scatter",
         "x": [
          8.32626724243164
         ],
         "xaxis": "x",
         "y": [
          0.47203946113586426
         ],
         "yaxis": "y"
        },
        {
         "hovertemplate": "color=4742611395\tUJ_Alkamil\t(True, False)<br>0=%{x}<br>1=%{y}<extra></extra>",
         "legendgroup": "4742611395\tUJ_Alkamil\t(True, False)",
         "marker": {
          "color": "#EF553B",
          "symbol": "circle"
         },
         "mode": "markers",
         "name": "4742611395\tUJ_Alkamil\t(True, False)",
         "orientation": "v",
         "showlegend": true,
         "type": "scatter",
         "x": [
          7.618829727172852
         ],
         "xaxis": "x",
         "y": [
          0.8311343193054199
         ],
         "yaxis": "y"
        },
        {
         "hovertemplate": "color=1092498178975371265\tCOLJS1\t(True, False)<br>0=%{x}<br>1=%{y}<extra></extra>",
         "legendgroup": "1092498178975371265\tCOLJS1\t(True, False)",
         "marker": {
          "color": "#00cc96",
          "symbol": "circle"
         },
         "mode": "markers",
         "name": "1092498178975371265\tCOLJS1\t(True, False)",
         "orientation": "v",
         "showlegend": true,
         "type": "scatter",
         "x": [
          7.397340774536133
         ],
         "xaxis": "x",
         "y": [
          0.8027874827384949
         ],
         "yaxis": "y"
        },
        {
         "hovertemplate": "color=818885344334643200\tuj_dsr\t(True, False)<br>0=%{x}<br>1=%{y}<extra></extra>",
         "legendgroup": "818885344334643200\tuj_dsr\t(True, False)",
         "marker": {
          "color": "#ab63fa",
          "symbol": "circle"
         },
         "mode": "markers",
         "name": "818885344334643200\tuj_dsr\t(True, False)",
         "orientation": "v",
         "showlegend": true,
         "type": "scatter",
         "x": [
          7.425516128540039
         ],
         "xaxis": "x",
         "y": [
          0.9727467894554138
         ],
         "yaxis": "y"
        },
        {
         "hovertemplate": "color=4394542535\tDgsUJ\t(True, False)<br>0=%{x}<br>1=%{y}<extra></extra>",
         "legendgroup": "4394542535\tDgsUJ\t(True, False)",
         "marker": {
          "color": "#FFA15A",
          "symbol": "circle"
         },
         "mode": "markers",
         "name": "4394542535\tDgsUJ\t(True, False)",
         "orientation": "v",
         "showlegend": true,
         "type": "scatter",
         "x": [
          8.419431686401367
         ],
         "xaxis": "x",
         "y": [
          0.548610508441925
         ],
         "yaxis": "y"
        },
        {
         "hovertemplate": "color=3103638986\tcobuj\t(True, False)<br>0=%{x}<br>1=%{y}<extra></extra>",
         "legendgroup": "3103638986\tcobuj\t(True, False)",
         "marker": {
          "color": "#19d3f3",
          "symbol": "circle"
         },
         "mode": "markers",
         "name": "3103638986\tcobuj\t(True, False)",
         "orientation": "v",
         "showlegend": true,
         "type": "scatter",
         "x": [
          7.777130126953125
         ],
         "xaxis": "x",
         "y": [
          0.6537269353866577
         ],
         "yaxis": "y"
        },
        {
         "hovertemplate": "color=1126132320581320704\tLCBUSUJ\t(True, False)<br>0=%{x}<br>1=%{y}<extra></extra>",
         "legendgroup": "1126132320581320704\tLCBUSUJ\t(True, False)",
         "marker": {
          "color": "#FF6692",
          "symbol": "circle"
         },
         "mode": "markers",
         "name": "1126132320581320704\tLCBUSUJ\t(True, False)",
         "orientation": "v",
         "showlegend": true,
         "type": "scatter",
         "x": [
          6.589883327484131
         ],
         "xaxis": "x",
         "y": [
          1.2336459159851074
         ],
         "yaxis": "y"
        },
        {
         "hovertemplate": "color=945335132\tdsag_uj\t(True, False)<br>0=%{x}<br>1=%{y}<extra></extra>",
         "legendgroup": "945335132\tdsag_uj\t(True, False)",
         "marker": {
          "color": "#B6E880",
          "symbol": "circle"
         },
         "mode": "markers",
         "name": "945335132\tdsag_uj\t(True, False)",
         "orientation": "v",
         "showlegend": true,
         "type": "scatter",
         "x": [
          7.515310764312744
         ],
         "xaxis": "x",
         "y": [
          1.091064691543579
         ],
         "yaxis": "y"
        },
        {
         "hovertemplate": "color=1853769439\tHRDFKSA\t(True, False)<br>0=%{x}<br>1=%{y}<extra></extra>",
         "legendgroup": "1853769439\tHRDFKSA\t(True, False)",
         "marker": {
          "color": "#FF97FF",
          "symbol": "circle"
         },
         "mode": "markers",
         "name": "1853769439\tHRDFKSA\t(True, False)",
         "orientation": "v",
         "showlegend": true,
         "type": "scatter",
         "x": [
          6.425448894500732
         ],
         "xaxis": "x",
         "y": [
          2.032623052597046
         ],
         "yaxis": "y"
        },
        {
         "hovertemplate": "color=829652203\tAdnanAlhomaidan\t(True, False)<br>0=%{x}<br>1=%{y}<extra></extra>",
         "legendgroup": "829652203\tAdnanAlhomaidan\t(True, False)",
         "marker": {
          "color": "#FECB52",
          "symbol": "circle"
         },
         "mode": "markers",
         "name": "829652203\tAdnanAlhomaidan\t(True, False)",
         "orientation": "v",
         "showlegend": true,
         "type": "scatter",
         "x": [
          8.342302322387695
         ],
         "xaxis": "x",
         "y": [
          0.45371320843696594
         ],
         "yaxis": "y"
        },
        {
         "hovertemplate": "color=732162283\tsalehalqahtani9\t(True, False)<br>0=%{x}<br>1=%{y}<extra></extra>",
         "legendgroup": "732162283\tsalehalqahtani9\t(True, False)",
         "marker": {
          "color": "#636efa",
          "symbol": "circle"
         },
         "mode": "markers",
         "name": "732162283\tsalehalqahtani9\t(True, False)",
         "orientation": "v",
         "showlegend": true,
         "type": "scatter",
         "x": [
          7.211493968963623
         ],
         "xaxis": "x",
         "y": [
          0.95028156042099
         ],
         "yaxis": "y"
        },
        {
         "hovertemplate": "color=4869553143\tUJ_Eng\t(True, False)<br>0=%{x}<br>1=%{y}<extra></extra>",
         "legendgroup": "4869553143\tUJ_Eng\t(True, False)",
         "marker": {
          "color": "#EF553B",
          "symbol": "circle"
         },
         "mode": "markers",
         "name": "4869553143\tUJ_Eng\t(True, False)",
         "orientation": "v",
         "showlegend": true,
         "type": "scatter",
         "x": [
          8.064456939697266
         ],
         "xaxis": "x",
         "y": [
          0.5175634622573853
         ],
         "yaxis": "y"
        },
        {
         "hovertemplate": "color=451275900\tSaudiBiochemist\t(True, False)<br>0=%{x}<br>1=%{y}<extra></extra>",
         "legendgroup": "451275900\tSaudiBiochemist\t(True, False)",
         "marker": {
          "color": "#00cc96",
          "symbol": "circle"
         },
         "mode": "markers",
         "name": "451275900\tSaudiBiochemist\t(True, False)",
         "orientation": "v",
         "showlegend": true,
         "type": "scatter",
         "x": [
          6.592857360839844
         ],
         "xaxis": "x",
         "y": [
          1.0890463590621948
         ],
         "yaxis": "y"
        },
        {
         "hovertemplate": "color=788280080099381248\tQU_MCC\t(True, False)<br>0=%{x}<br>1=%{y}<extra></extra>",
         "legendgroup": "788280080099381248\tQU_MCC\t(True, False)",
         "marker": {
          "color": "#ab63fa",
          "symbol": "circle"
         },
         "mode": "markers",
         "name": "788280080099381248\tQU_MCC\t(True, False)",
         "orientation": "v",
         "showlegend": true,
         "type": "scatter",
         "x": [
          5.76879358291626
         ],
         "xaxis": "x",
         "y": [
          3.4518229961395264
         ],
         "yaxis": "y"
        },
        {
         "hovertemplate": "color=2998741201\tahmaldawood\t(True, False)<br>0=%{x}<br>1=%{y}<extra></extra>",
         "legendgroup": "2998741201\tahmaldawood\t(True, False)",
         "marker": {
          "color": "#FFA15A",
          "symbol": "circle"
         },
         "mode": "markers",
         "name": "2998741201\tahmaldawood\t(True, False)",
         "orientation": "v",
         "showlegend": true,
         "type": "scatter",
         "x": [
          5.138641357421875
         ],
         "xaxis": "x",
         "y": [
          3.7650809288024902
         ],
         "yaxis": "y"
        },
        {
         "hovertemplate": "color=1322794077927149569\tlibrariesiu\t(True, False)<br>0=%{x}<br>1=%{y}<extra></extra>",
         "legendgroup": "1322794077927149569\tlibrariesiu\t(True, False)",
         "marker": {
          "color": "#19d3f3",
          "symbol": "circle"
         },
         "mode": "markers",
         "name": "1322794077927149569\tlibrariesiu\t(True, False)",
         "orientation": "v",
         "showlegend": true,
         "type": "scatter",
         "x": [
          12.428916931152344
         ],
         "xaxis": "x",
         "y": [
          1.4228730201721191
         ],
         "yaxis": "y"
        },
        {
         "hovertemplate": "color=960447008640262144\tuca_iu\t(True, False)<br>0=%{x}<br>1=%{y}<extra></extra>",
         "legendgroup": "960447008640262144\tuca_iu\t(True, False)",
         "marker": {
          "color": "#FF6692",
          "symbol": "circle"
         },
         "mode": "markers",
         "name": "960447008640262144\tuca_iu\t(True, False)",
         "orientation": "v",
         "showlegend": true,
         "type": "scatter",
         "x": [
          12.44810676574707
         ],
         "xaxis": "x",
         "y": [
          1.6953723430633545
         ],
         "yaxis": "y"
        },
        {
         "hovertemplate": "color=1057902582285373441\tFLJS_iu\t(True, False)<br>0=%{x}<br>1=%{y}<extra></extra>",
         "legendgroup": "1057902582285373441\tFLJS_iu\t(True, False)",
         "marker": {
          "color": "#B6E880",
          "symbol": "circle"
         },
         "mode": "markers",
         "name": "1057902582285373441\tFLJS_iu\t(True, False)",
         "orientation": "v",
         "showlegend": true,
         "type": "scatter",
         "x": [
          12.441941261291504
         ],
         "xaxis": "x",
         "y": [
          1.4027578830718994
         ],
         "yaxis": "y"
        },
        {
         "hovertemplate": "color=1066978997534425089\tIUJournal1\t(True, False)<br>0=%{x}<br>1=%{y}<extra></extra>",
         "legendgroup": "1066978997534425089\tIUJournal1\t(True, False)",
         "marker": {
          "color": "#FF97FF",
          "symbol": "circle"
         },
         "mode": "markers",
         "name": "1066978997534425089\tIUJournal1\t(True, False)",
         "orientation": "v",
         "showlegend": true,
         "type": "scatter",
         "x": [
          12.327666282653809
         ],
         "xaxis": "x",
         "y": [
          1.299314260482788
         ],
         "yaxis": "y"
        },
        {
         "hovertemplate": "color=934665173532626944\tdar_hmd\t(True, False)<br>0=%{x}<br>1=%{y}<extra></extra>",
         "legendgroup": "934665173532626944\tdar_hmd\t(True, False)",
         "marker": {
          "color": "#FECB52",
          "symbol": "circle"
         },
         "mode": "markers",
         "name": "934665173532626944\tdar_hmd\t(True, False)",
         "orientation": "v",
         "showlegend": true,
         "type": "scatter",
         "x": [
          6.151728630065918
         ],
         "xaxis": "x",
         "y": [
          3.679903030395508
         ],
         "yaxis": "y"
        },
        {
         "hovertemplate": "color=839407028581896197\tresearch032\t(True, False)<br>0=%{x}<br>1=%{y}<extra></extra>",
         "legendgroup": "839407028581896197\tresearch032\t(True, False)",
         "marker": {
          "color": "#636efa",
          "symbol": "circle"
         },
         "mode": "markers",
         "name": "839407028581896197\tresearch032\t(True, False)",
         "orientation": "v",
         "showlegend": true,
         "type": "scatter",
         "x": [
          12.913341522216797
         ],
         "xaxis": "x",
         "y": [
          1.8341028690338135
         ],
         "yaxis": "y"
        },
        {
         "hovertemplate": "color=937251621746114561\tMenah_iu\t(True, False)<br>0=%{x}<br>1=%{y}<extra></extra>",
         "legendgroup": "937251621746114561\tMenah_iu\t(True, False)",
         "marker": {
          "color": "#EF553B",
          "symbol": "circle"
         },
         "mode": "markers",
         "name": "937251621746114561\tMenah_iu\t(True, False)",
         "orientation": "v",
         "showlegend": true,
         "type": "scatter",
         "x": [
          12.552223205566406
         ],
         "xaxis": "x",
         "y": [
          1.6168153285980225
         ],
         "yaxis": "y"
        },
        {
         "hovertemplate": "color=776851277460504576\tdar_alhadeth\t(True, False)<br>0=%{x}<br>1=%{y}<extra></extra>",
         "legendgroup": "776851277460504576\tdar_alhadeth\t(True, False)",
         "marker": {
          "color": "#00cc96",
          "symbol": "circle"
         },
         "mode": "markers",
         "name": "776851277460504576\tdar_alhadeth\t(True, False)",
         "orientation": "v",
         "showlegend": true,
         "type": "scatter",
         "x": [
          6.0063557624816895
         ],
         "xaxis": "x",
         "y": [
          3.6646671295166016
         ],
         "yaxis": "y"
        },
        {
         "hovertemplate": "color=919834896125890560\tEngFaculty_IU\t(True, False)<br>0=%{x}<br>1=%{y}<extra></extra>",
         "legendgroup": "919834896125890560\tEngFaculty_IU\t(True, False)",
         "marker": {
          "color": "#ab63fa",
          "symbol": "circle"
         },
         "mode": "markers",
         "name": "919834896125890560\tEngFaculty_IU\t(True, False)",
         "orientation": "v",
         "showlegend": true,
         "type": "scatter",
         "x": [
          12.609601020812988
         ],
         "xaxis": "x",
         "y": [
          1.4101815223693848
         ],
         "yaxis": "y"
        },
        {
         "hovertemplate": "color=846230769899069440\tfcis_iu\t(True, False)<br>0=%{x}<br>1=%{y}<extra></extra>",
         "legendgroup": "846230769899069440\tfcis_iu\t(True, False)",
         "marker": {
          "color": "#FFA15A",
          "symbol": "circle"
         },
         "mode": "markers",
         "name": "846230769899069440\tfcis_iu\t(True, False)",
         "orientation": "v",
         "showlegend": true,
         "type": "scatter",
         "x": [
          12.516969680786133
         ],
         "xaxis": "x",
         "y": [
          1.3719009160995483
         ],
         "yaxis": "y"
        },
        {
         "hovertemplate": "color=800987716829773825\tIU_Community\t(True, False)<br>0=%{x}<br>1=%{y}<extra></extra>",
         "legendgroup": "800987716829773825\tIU_Community\t(True, False)",
         "marker": {
          "color": "#19d3f3",
          "symbol": "circle"
         },
         "mode": "markers",
         "name": "800987716829773825\tIU_Community\t(True, False)",
         "orientation": "v",
         "showlegend": true,
         "type": "scatter",
         "x": [
          12.40666675567627
         ],
         "xaxis": "x",
         "y": [
          1.3566229343414307
         ],
         "yaxis": "y"
        },
        {
         "hovertemplate": "color=2241842953\tLibraries_iu\t(True, False)<br>0=%{x}<br>1=%{y}<extra></extra>",
         "legendgroup": "2241842953\tLibraries_iu\t(True, False)",
         "marker": {
          "color": "#FF6692",
          "symbol": "circle"
         },
         "mode": "markers",
         "name": "2241842953\tLibraries_iu\t(True, False)",
         "orientation": "v",
         "showlegend": true,
         "type": "scatter",
         "x": [
          12.556231498718262
         ],
         "xaxis": "x",
         "y": [
          1.4266808032989502
         ],
         "yaxis": "y"
        },
        {
         "hovertemplate": "color=910837176665067526\tJawallah_iu\t(True, False)<br>0=%{x}<br>1=%{y}<extra></extra>",
         "legendgroup": "910837176665067526\tJawallah_iu\t(True, False)",
         "marker": {
          "color": "#B6E880",
          "symbol": "circle"
         },
         "mode": "markers",
         "name": "910837176665067526\tJawallah_iu\t(True, False)",
         "orientation": "v",
         "showlegend": true,
         "type": "scatter",
         "x": [
          6.12637996673584
         ],
         "xaxis": "x",
         "y": [
          3.7670235633850098
         ],
         "yaxis": "y"
        },
        {
         "hovertemplate": "color=834046630089326593\tAL_Andiya\t(True, False)<br>0=%{x}<br>1=%{y}<extra></extra>",
         "legendgroup": "834046630089326593\tAL_Andiya\t(True, False)",
         "marker": {
          "color": "#FF97FF",
          "symbol": "circle"
         },
         "mode": "markers",
         "name": "834046630089326593\tAL_Andiya\t(True, False)",
         "orientation": "v",
         "showlegend": true,
         "type": "scatter",
         "x": [
          12.482871055603027
         ],
         "xaxis": "x",
         "y": [
          1.8594647645950317
         ],
         "yaxis": "y"
        },
        {
         "hovertemplate": "color=820557164704100354\thighstudies_iu\t(True, False)<br>0=%{x}<br>1=%{y}<extra></extra>",
         "legendgroup": "820557164704100354\thighstudies_iu\t(True, False)",
         "marker": {
          "color": "#FECB52",
          "symbol": "circle"
         },
         "mode": "markers",
         "name": "820557164704100354\thighstudies_iu\t(True, False)",
         "orientation": "v",
         "showlegend": true,
         "type": "scatter",
         "x": [
          12.64741325378418
         ],
         "xaxis": "x",
         "y": [
          1.721663475036621
         ],
         "yaxis": "y"
        },
        {
         "hovertemplate": "color=2237443718\tSciFaculty\t(True, False)<br>0=%{x}<br>1=%{y}<extra></extra>",
         "legendgroup": "2237443718\tSciFaculty\t(True, False)",
         "marker": {
          "color": "#636efa",
          "symbol": "circle"
         },
         "mode": "markers",
         "name": "2237443718\tSciFaculty\t(True, False)",
         "orientation": "v",
         "showlegend": true,
         "type": "scatter",
         "x": [
          12.621197700500488
         ],
         "xaxis": "x",
         "y": [
          1.5750106573104858
         ],
         "yaxis": "y"
        },
        {
         "hovertemplate": "color=821971292337356800\tIT_IU\t(True, False)<br>0=%{x}<br>1=%{y}<extra></extra>",
         "legendgroup": "821971292337356800\tIT_IU\t(True, False)",
         "marker": {
          "color": "#EF553B",
          "symbol": "circle"
         },
         "mode": "markers",
         "name": "821971292337356800\tIT_IU\t(True, False)",
         "orientation": "v",
         "showlegend": true,
         "type": "scatter",
         "x": [
          12.842599868774414
         ],
         "xaxis": "x",
         "y": [
          1.6586124897003174
         ],
         "yaxis": "y"
        },
        {
         "hovertemplate": "color=2189703199\tiu_m3had\t(True, False)<br>0=%{x}<br>1=%{y}<extra></extra>",
         "legendgroup": "2189703199\tiu_m3had\t(True, False)",
         "marker": {
          "color": "#00cc96",
          "symbol": "circle"
         },
         "mode": "markers",
         "name": "2189703199\tiu_m3had\t(True, False)",
         "orientation": "v",
         "showlegend": true,
         "type": "scatter",
         "x": [
          12.922810554504395
         ],
         "xaxis": "x",
         "y": [
          1.8231573104858398
         ],
         "yaxis": "y"
        },
        {
         "hovertemplate": "color=727196147912179712\tPYD_IU\t(True, False)<br>0=%{x}<br>1=%{y}<extra></extra>",
         "legendgroup": "727196147912179712\tPYD_IU\t(True, False)",
         "marker": {
          "color": "#ab63fa",
          "symbol": "circle"
         },
         "mode": "markers",
         "name": "727196147912179712\tPYD_IU\t(True, False)",
         "orientation": "v",
         "showlegend": true,
         "type": "scatter",
         "x": [
          12.714292526245117
         ],
         "xaxis": "x",
         "y": [
          1.6383228302001953
         ],
         "yaxis": "y"
        },
        {
         "hovertemplate": "color=4272101421\tStudCouns\t(True, False)<br>0=%{x}<br>1=%{y}<extra></extra>",
         "legendgroup": "4272101421\tStudCouns\t(True, False)",
         "marker": {
          "color": "#FFA15A",
          "symbol": "circle"
         },
         "mode": "markers",
         "name": "4272101421\tStudCouns\t(True, False)",
         "orientation": "v",
         "showlegend": true,
         "type": "scatter",
         "x": [
          12.691228866577148
         ],
         "xaxis": "x",
         "y": [
          1.4663746356964111
         ],
         "yaxis": "y"
        },
        {
         "hovertemplate": "color=2240474286\tQuality_iu\t(True, False)<br>0=%{x}<br>1=%{y}<extra></extra>",
         "legendgroup": "2240474286\tQuality_iu\t(True, False)",
         "marker": {
          "color": "#19d3f3",
          "symbol": "circle"
         },
         "mode": "markers",
         "name": "2240474286\tQuality_iu\t(True, False)",
         "orientation": "v",
         "showlegend": true,
         "type": "scatter",
         "x": [
          12.786581993103027
         ],
         "xaxis": "x",
         "y": [
          1.6054527759552002
         ],
         "yaxis": "y"
        },
        {
         "hovertemplate": "color=794633547495653377\tmiddle_iu\t(True, False)<br>0=%{x}<br>1=%{y}<extra></extra>",
         "legendgroup": "794633547495653377\tmiddle_iu\t(True, False)",
         "marker": {
          "color": "#FF6692",
          "symbol": "circle"
         },
         "mode": "markers",
         "name": "794633547495653377\tmiddle_iu\t(True, False)",
         "orientation": "v",
         "showlegend": true,
         "type": "scatter",
         "x": [
          6.031704902648926
         ],
         "xaxis": "x",
         "y": [
          3.6648051738739014
         ],
         "yaxis": "y"
        },
        {
         "hovertemplate": "color=1731577393\tarabic_iu\t(True, False)<br>0=%{x}<br>1=%{y}<extra></extra>",
         "legendgroup": "1731577393\tarabic_iu\t(True, False)",
         "marker": {
          "color": "#B6E880",
          "symbol": "circle"
         },
         "mode": "markers",
         "name": "1731577393\tarabic_iu\t(True, False)",
         "orientation": "v",
         "showlegend": true,
         "type": "scatter",
         "x": [
          12.8045654296875
         ],
         "xaxis": "x",
         "y": [
          1.6972423791885376
         ],
         "yaxis": "y"
        },
        {
         "hovertemplate": "color=2237406133\tHadithFaculty\t(True, False)<br>0=%{x}<br>1=%{y}<extra></extra>",
         "legendgroup": "2237406133\tHadithFaculty\t(True, False)",
         "marker": {
          "color": "#FF97FF",
          "symbol": "circle"
         },
         "mode": "markers",
         "name": "2237406133\tHadithFaculty\t(True, False)",
         "orientation": "v",
         "showlegend": true,
         "type": "scatter",
         "x": [
          12.66733455657959
         ],
         "xaxis": "x",
         "y": [
          1.513758897781372
         ],
         "yaxis": "y"
        },
        {
         "hovertemplate": "color=1775088956\tqurancollege\t(True, False)<br>0=%{x}<br>1=%{y}<extra></extra>",
         "legendgroup": "1775088956\tqurancollege\t(True, False)",
         "marker": {
          "color": "#FECB52",
          "symbol": "circle"
         },
         "mode": "markers",
         "name": "1775088956\tqurancollege\t(True, False)",
         "orientation": "v",
         "showlegend": true,
         "type": "scatter",
         "x": [
          12.72696304321289
         ],
         "xaxis": "x",
         "y": [
          1.572563886642456
         ],
         "yaxis": "y"
        },
        {
         "hovertemplate": "color=3056203333\tIU_mahrajan\t(True, False)<br>0=%{x}<br>1=%{y}<extra></extra>",
         "legendgroup": "3056203333\tIU_mahrajan\t(True, False)",
         "marker": {
          "color": "#636efa",
          "symbol": "circle"
         },
         "mode": "markers",
         "name": "3056203333\tIU_mahrajan\t(True, False)",
         "orientation": "v",
         "showlegend": true,
         "type": "scatter",
         "x": [
          6.19810152053833
         ],
         "xaxis": "x",
         "y": [
          3.7219033241271973
         ],
         "yaxis": "y"
        },
        {
         "hovertemplate": "color=2901764041\tdsaynb\t(True, False)<br>0=%{x}<br>1=%{y}<extra></extra>",
         "legendgroup": "2901764041\tdsaynb\t(True, False)",
         "marker": {
          "color": "#EF553B",
          "symbol": "circle"
         },
         "mode": "markers",
         "name": "2901764041\tdsaynb\t(True, False)",
         "orientation": "v",
         "showlegend": true,
         "type": "scatter",
         "x": [
          6.44066858291626
         ],
         "xaxis": "x",
         "y": [
          2.2882320880889893
         ],
         "yaxis": "y"
        },
        {
         "hovertemplate": "color=4181427153\tRouyaClub\t(True, False)<br>0=%{x}<br>1=%{y}<extra></extra>",
         "legendgroup": "4181427153\tRouyaClub\t(True, False)",
         "marker": {
          "color": "#00cc96",
          "symbol": "circle"
         },
         "mode": "markers",
         "name": "4181427153\tRouyaClub\t(True, False)",
         "orientation": "v",
         "showlegend": true,
         "type": "scatter",
         "x": [
          6.10629940032959
         ],
         "xaxis": "x",
         "y": [
          3.7891108989715576
         ],
         "yaxis": "y"
        },
        {
         "hovertemplate": "color=3155741138\tKhriej\t(True, False)<br>0=%{x}<br>1=%{y}<extra></extra>",
         "legendgroup": "3155741138\tKhriej\t(True, False)",
         "marker": {
          "color": "#ab63fa",
          "symbol": "circle"
         },
         "mode": "markers",
         "name": "3155741138\tKhriej\t(True, False)",
         "orientation": "v",
         "showlegend": true,
         "type": "scatter",
         "x": [
          12.550637245178223
         ],
         "xaxis": "x",
         "y": [
          1.4134001731872559
         ],
         "yaxis": "y"
        },
        {
         "hovertemplate": "color=571015255\timarat_almadina\t(True, False)<br>0=%{x}<br>1=%{y}<extra></extra>",
         "legendgroup": "571015255\timarat_almadina\t(True, False)",
         "marker": {
          "color": "#FFA15A",
          "symbol": "circle"
         },
         "mode": "markers",
         "name": "571015255\timarat_almadina\t(True, False)",
         "orientation": "v",
         "showlegend": true,
         "type": "scatter",
         "x": [
          6.03731632232666
         ],
         "xaxis": "x",
         "y": [
          3.7259607315063477
         ],
         "yaxis": "y"
        },
        {
         "hovertemplate": "color=2237418716\tDaawaFaculty\t(True, False)<br>0=%{x}<br>1=%{y}<extra></extra>",
         "legendgroup": "2237418716\tDaawaFaculty\t(True, False)",
         "marker": {
          "color": "#19d3f3",
          "symbol": "circle"
         },
         "mode": "markers",
         "name": "2237418716\tDaawaFaculty\t(True, False)",
         "orientation": "v",
         "showlegend": true,
         "type": "scatter",
         "x": [
          12.844253540039062
         ],
         "xaxis": "x",
         "y": [
          1.5941087007522583
         ],
         "yaxis": "y"
        },
        {
         "hovertemplate": "color=2237432924\tShariaFaculty\t(True, False)<br>0=%{x}<br>1=%{y}<extra></extra>",
         "legendgroup": "2237432924\tShariaFaculty\t(True, False)",
         "marker": {
          "color": "#FF6692",
          "symbol": "circle"
         },
         "mode": "markers",
         "name": "2237432924\tShariaFaculty\t(True, False)",
         "orientation": "v",
         "showlegend": true,
         "type": "scatter",
         "x": [
          12.700776100158691
         ],
         "xaxis": "x",
         "y": [
          1.6020666360855103
         ],
         "yaxis": "y"
        },
        {
         "hovertemplate": "color=2240454890\tDevelopment_iu\t(True, False)<br>0=%{x}<br>1=%{y}<extra></extra>",
         "legendgroup": "2240454890\tDevelopment_iu\t(True, False)",
         "marker": {
          "color": "#B6E880",
          "symbol": "circle"
         },
         "mode": "markers",
         "name": "2240454890\tDevelopment_iu\t(True, False)",
         "orientation": "v",
         "showlegend": true,
         "type": "scatter",
         "x": [
          12.708745956420898
         ],
         "xaxis": "x",
         "y": [
          1.7283273935317993
         ],
         "yaxis": "y"
        },
        {
         "hovertemplate": "color=2240487025\tAdmissDeanship\t(True, False)<br>0=%{x}<br>1=%{y}<extra></extra>",
         "legendgroup": "2240487025\tAdmissDeanship\t(True, False)",
         "marker": {
          "color": "#FF97FF",
          "symbol": "circle"
         },
         "mode": "markers",
         "name": "2240487025\tAdmissDeanship\t(True, False)",
         "orientation": "v",
         "showlegend": true,
         "type": "scatter",
         "x": [
          12.794882774353027
         ],
         "xaxis": "x",
         "y": [
          1.56709623336792
         ],
         "yaxis": "y"
        },
        {
         "hovertemplate": "color=2241843324\tres_cons_inst\t(True, False)<br>0=%{x}<br>1=%{y}<extra></extra>",
         "legendgroup": "2241843324\tres_cons_inst\t(True, False)",
         "marker": {
          "color": "#FECB52",
          "symbol": "circle"
         },
         "mode": "markers",
         "name": "2241843324\tres_cons_inst\t(True, False)",
         "orientation": "v",
         "showlegend": true,
         "type": "scatter",
         "x": [
          12.683859825134277
         ],
         "xaxis": "x",
         "y": [
          1.5986305475234985
         ],
         "yaxis": "y"
        },
        {
         "hovertemplate": "color=1306581808545509376\tiuCust\t(True, False)<br>0=%{x}<br>1=%{y}<extra></extra>",
         "legendgroup": "1306581808545509376\tiuCust\t(True, False)",
         "marker": {
          "color": "#636efa",
          "symbol": "circle"
         },
         "mode": "markers",
         "name": "1306581808545509376\tiuCust\t(True, False)",
         "orientation": "v",
         "showlegend": true,
         "type": "scatter",
         "x": [
          12.56782054901123
         ],
         "xaxis": "x",
         "y": [
          1.5207843780517578
         ],
         "yaxis": "y"
        },
        {
         "hovertemplate": "color=1256680243\taafaqkku\t(True, False)<br>0=%{x}<br>1=%{y}<extra></extra>",
         "legendgroup": "1256680243\taafaqkku\t(True, False)",
         "marker": {
          "color": "#EF553B",
          "symbol": "circle"
         },
         "mode": "markers",
         "name": "1256680243\taafaqkku\t(True, False)",
         "orientation": "v",
         "showlegend": true,
         "type": "scatter",
         "x": [
          5.334475994110107
         ],
         "xaxis": "x",
         "y": [
          4.019961357116699
         ],
         "yaxis": "y"
        },
        {
         "hovertemplate": "color=1437519431329067009\tpsaumedia\t(True, False)<br>0=%{x}<br>1=%{y}<extra></extra>",
         "legendgroup": "1437519431329067009\tpsaumedia\t(True, False)",
         "marker": {
          "color": "#00cc96",
          "symbol": "circle"
         },
         "mode": "markers",
         "name": "1437519431329067009\tpsaumedia\t(True, False)",
         "orientation": "v",
         "showlegend": true,
         "type": "scatter",
         "x": [
          5.943027496337891
         ],
         "xaxis": "x",
         "y": [
          3.689326286315918
         ],
         "yaxis": "y"
        },
        {
         "hovertemplate": "color=332500875\tDrAltalhi\t(True, False)<br>0=%{x}<br>1=%{y}<extra></extra>",
         "legendgroup": "332500875\tDrAltalhi\t(True, False)",
         "marker": {
          "color": "#ab63fa",
          "symbol": "circle"
         },
         "mode": "markers",
         "name": "332500875\tDrAltalhi\t(True, False)",
         "orientation": "v",
         "showlegend": true,
         "type": "scatter",
         "x": [
          5.4137420654296875
         ],
         "xaxis": "x",
         "y": [
          3.7758288383483887
         ],
         "yaxis": "y"
        },
        {
         "hovertemplate": "color=472349879\tDr_Thallab\t(True, False)<br>0=%{x}<br>1=%{y}<extra></extra>",
         "legendgroup": "472349879\tDr_Thallab\t(True, False)",
         "marker": {
          "color": "#FFA15A",
          "symbol": "circle"
         },
         "mode": "markers",
         "name": "472349879\tDr_Thallab\t(True, False)",
         "orientation": "v",
         "showlegend": true,
         "type": "scatter",
         "x": [
          4.5481109619140625
         ],
         "xaxis": "x",
         "y": [
          3.886988639831543
         ],
         "yaxis": "y"
        },
        {
         "hovertemplate": "color=784229785778126848\taly050868\t(True, False)<br>0=%{x}<br>1=%{y}<extra></extra>",
         "legendgroup": "784229785778126848\taly050868\t(True, False)",
         "marker": {
          "color": "#19d3f3",
          "symbol": "circle"
         },
         "mode": "markers",
         "name": "784229785778126848\taly050868\t(True, False)",
         "orientation": "v",
         "showlegend": true,
         "type": "scatter",
         "x": [
          6.240515232086182
         ],
         "xaxis": "x",
         "y": [
          4.613288879394531
         ],
         "yaxis": "y"
        },
        {
         "hovertemplate": "color=1339145612764344321\tUQUPresident\t(True, False)<br>0=%{x}<br>1=%{y}<extra></extra>",
         "legendgroup": "1339145612764344321\tUQUPresident\t(True, False)",
         "marker": {
          "color": "#FF6692",
          "symbol": "circle"
         },
         "mode": "markers",
         "name": "1339145612764344321\tUQUPresident\t(True, False)",
         "orientation": "v",
         "showlegend": true,
         "type": "scatter",
         "x": [
          5.772313594818115
         ],
         "xaxis": "x",
         "y": [
          4.963829517364502
         ],
         "yaxis": "y"
        },
        {
         "hovertemplate": "color=1036962874772606976\tMRCUQU\t(True, False)<br>0=%{x}<br>1=%{y}<extra></extra>",
         "legendgroup": "1036962874772606976\tMRCUQU\t(True, False)",
         "marker": {
          "color": "#B6E880",
          "symbol": "circle"
         },
         "mode": "markers",
         "name": "1036962874772606976\tMRCUQU\t(True, False)",
         "orientation": "v",
         "showlegend": true,
         "type": "scatter",
         "x": [
          6.129439353942871
         ],
         "xaxis": "x",
         "y": [
          4.72421932220459
         ],
         "yaxis": "y"
        },
        {
         "hovertemplate": "color=725130277958356992\tDr_Almaleki\t(True, False)<br>0=%{x}<br>1=%{y}<extra></extra>",
         "legendgroup": "725130277958356992\tDr_Almaleki\t(True, False)",
         "marker": {
          "color": "#FF97FF",
          "symbol": "circle"
         },
         "mode": "markers",
         "name": "725130277958356992\tDr_Almaleki\t(True, False)",
         "orientation": "v",
         "showlegend": true,
         "type": "scatter",
         "x": [
          5.799384593963623
         ],
         "xaxis": "x",
         "y": [
          4.903240203857422
         ],
         "yaxis": "y"
        },
        {
         "hovertemplate": "color=1124906976599859200\tvrf_uqu\t(True, False)<br>0=%{x}<br>1=%{y}<extra></extra>",
         "legendgroup": "1124906976599859200\tvrf_uqu\t(True, False)",
         "marker": {
          "color": "#FECB52",
          "symbol": "circle"
         },
         "mode": "markers",
         "name": "1124906976599859200\tvrf_uqu\t(True, False)",
         "orientation": "v",
         "showlegend": true,
         "type": "scatter",
         "x": [
          5.901501178741455
         ],
         "xaxis": "x",
         "y": [
          4.9791646003723145
         ],
         "yaxis": "y"
        },
        {
         "hovertemplate": "color=1356703605823275010\tLFRCUQU\t(True, False)<br>0=%{x}<br>1=%{y}<extra></extra>",
         "legendgroup": "1356703605823275010\tLFRCUQU\t(True, False)",
         "marker": {
          "color": "#636efa",
          "symbol": "circle"
         },
         "mode": "markers",
         "name": "1356703605823275010\tLFRCUQU\t(True, False)",
         "orientation": "v",
         "showlegend": true,
         "type": "scatter",
         "x": [
          6.087640762329102
         ],
         "xaxis": "x",
         "y": [
          4.793304443359375
         ],
         "yaxis": "y"
        },
        {
         "hovertemplate": "color=1057292367357767680\tuqudsfac\t(True, False)<br>0=%{x}<br>1=%{y}<extra></extra>",
         "legendgroup": "1057292367357767680\tuqudsfac\t(True, False)",
         "marker": {
          "color": "#EF553B",
          "symbol": "circle"
         },
         "mode": "markers",
         "name": "1057292367357767680\tuqudsfac\t(True, False)",
         "orientation": "v",
         "showlegend": true,
         "type": "scatter",
         "x": [
          5.895531177520752
         ],
         "xaxis": "x",
         "y": [
          4.964401721954346
         ],
         "yaxis": "y"
        },
        {
         "hovertemplate": "color=1291428580199727106\tNazahaUqu\t(True, False)<br>0=%{x}<br>1=%{y}<extra></extra>",
         "legendgroup": "1291428580199727106\tNazahaUqu\t(True, False)",
         "marker": {
          "color": "#00cc96",
          "symbol": "circle"
         },
         "mode": "markers",
         "name": "1291428580199727106\tNazahaUqu\t(True, False)",
         "orientation": "v",
         "showlegend": true,
         "type": "scatter",
         "x": [
          6.056483268737793
         ],
         "xaxis": "x",
         "y": [
          4.791590690612793
         ],
         "yaxis": "y"
        },
        {
         "hovertemplate": "color=141762227\tMohRefai\t(True, False)<br>0=%{x}<br>1=%{y}<extra></extra>",
         "legendgroup": "141762227\tMohRefai\t(True, False)",
         "marker": {
          "color": "#ab63fa",
          "symbol": "circle"
         },
         "mode": "markers",
         "name": "141762227\tMohRefai\t(True, False)",
         "orientation": "v",
         "showlegend": true,
         "type": "scatter",
         "x": [
          4.488027095794678
         ],
         "xaxis": "x",
         "y": [
          1.1286135911941528
         ],
         "yaxis": "y"
        },
        {
         "hovertemplate": "color=257774041\tmakkahregion\t(True, False)<br>0=%{x}<br>1=%{y}<extra></extra>",
         "legendgroup": "257774041\tmakkahregion\t(True, False)",
         "marker": {
          "color": "#FFA15A",
          "symbol": "circle"
         },
         "mode": "markers",
         "name": "257774041\tmakkahregion\t(True, False)",
         "orientation": "v",
         "showlegend": true,
         "type": "scatter",
         "x": [
          2.836304187774658
         ],
         "xaxis": "x",
         "y": [
          1.4881386756896973
         ],
         "yaxis": "y"
        },
        {
         "hovertemplate": "color=1455085041982267392\tsci_uj\t(True, False)<br>0=%{x}<br>1=%{y}<extra></extra>",
         "legendgroup": "1455085041982267392\tsci_uj\t(True, False)",
         "marker": {
          "color": "#19d3f3",
          "symbol": "circle"
         },
         "mode": "markers",
         "name": "1455085041982267392\tsci_uj\t(True, False)",
         "orientation": "v",
         "showlegend": true,
         "type": "scatter",
         "x": [
          3.535830497741699
         ],
         "xaxis": "x",
         "y": [
          -0.4692394435405731
         ],
         "yaxis": "y"
        },
        {
         "hovertemplate": "color=1312042830857109505\tccgr_uj\t(True, False)<br>0=%{x}<br>1=%{y}<extra></extra>",
         "legendgroup": "1312042830857109505\tccgr_uj\t(True, False)",
         "marker": {
          "color": "#FF6692",
          "symbol": "circle"
         },
         "mode": "markers",
         "name": "1312042830857109505\tccgr_uj\t(True, False)",
         "orientation": "v",
         "showlegend": true,
         "type": "scatter",
         "x": [
          6.959284782409668
         ],
         "xaxis": "x",
         "y": [
          0.9153881669044495
         ],
         "yaxis": "y"
        },
        {
         "hovertemplate": "color=1242369337895370752\tEDC_UJ\t(True, False)<br>0=%{x}<br>1=%{y}<extra></extra>",
         "legendgroup": "1242369337895370752\tEDC_UJ\t(True, False)",
         "marker": {
          "color": "#B6E880",
          "symbol": "circle"
         },
         "mode": "markers",
         "name": "1242369337895370752\tEDC_UJ\t(True, False)",
         "orientation": "v",
         "showlegend": true,
         "type": "scatter",
         "x": [
          7.029989719390869
         ],
         "xaxis": "x",
         "y": [
          0.754504382610321
         ],
         "yaxis": "y"
        },
        {
         "hovertemplate": "color=1052446618862190593\tFAMS_UJ\t(True, False)<br>0=%{x}<br>1=%{y}<extra></extra>",
         "legendgroup": "1052446618862190593\tFAMS_UJ\t(True, False)",
         "marker": {
          "color": "#FF97FF",
          "symbol": "circle"
         },
         "mode": "markers",
         "name": "1052446618862190593\tFAMS_UJ\t(True, False)",
         "orientation": "v",
         "showlegend": true,
         "type": "scatter",
         "x": [
          7.447484493255615
         ],
         "xaxis": "x",
         "y": [
          0.7988006472587585
         ],
         "yaxis": "y"
        },
        {
         "hovertemplate": "color=1173338249605058562\tUJGSSR\t(True, False)<br>0=%{x}<br>1=%{y}<extra></extra>",
         "legendgroup": "1173338249605058562\tUJGSSR\t(True, False)",
         "marker": {
          "color": "#FECB52",
          "symbol": "circle"
         },
         "mode": "markers",
         "name": "1173338249605058562\tUJGSSR\t(True, False)",
         "orientation": "v",
         "showlegend": true,
         "type": "scatter",
         "x": [
          8.035871505737305
         ],
         "xaxis": "x",
         "y": [
          0.4691348373889923
         ],
         "yaxis": "y"
        },
        {
         "hovertemplate": "color=1044813481713766403\tAbdullah_s_bm\t(True, False)<br>0=%{x}<br>1=%{y}<extra></extra>",
         "legendgroup": "1044813481713766403\tAbdullah_s_bm\t(True, False)",
         "marker": {
          "color": "#636efa",
          "symbol": "circle"
         },
         "mode": "markers",
         "name": "1044813481713766403\tAbdullah_s_bm\t(True, False)",
         "orientation": "v",
         "showlegend": true,
         "type": "scatter",
         "x": [
          6.716256618499756
         ],
         "xaxis": "x",
         "y": [
          1.2301124334335327
         ],
         "yaxis": "y"
        },
        {
         "hovertemplate": "color=122697743\tscicollege\t(True, False)<br>0=%{x}<br>1=%{y}<extra></extra>",
         "legendgroup": "122697743\tscicollege\t(True, False)",
         "marker": {
          "color": "#EF553B",
          "symbol": "circle"
         },
         "mode": "markers",
         "name": "122697743\tscicollege\t(True, False)",
         "orientation": "v",
         "showlegend": true,
         "type": "scatter",
         "x": [
          8.111858367919922
         ],
         "xaxis": "x",
         "y": [
          0.42524003982543945
         ],
         "yaxis": "y"
        },
        {
         "hovertemplate": "color=3462855312\tedu_uj_sa\t(True, False)<br>0=%{x}<br>1=%{y}<extra></extra>",
         "legendgroup": "3462855312\tedu_uj_sa\t(True, False)",
         "marker": {
          "color": "#00cc96",
          "symbol": "circle"
         },
         "mode": "markers",
         "name": "3462855312\tedu_uj_sa\t(True, False)",
         "orientation": "v",
         "showlegend": true,
         "type": "scatter",
         "x": [
          6.784679889678955
         ],
         "xaxis": "x",
         "y": [
          1.7649869918823242
         ],
         "yaxis": "y"
        },
        {
         "hovertemplate": "color=819092706798485506\tudc_uj\t(True, False)<br>0=%{x}<br>1=%{y}<extra></extra>",
         "legendgroup": "819092706798485506\tudc_uj\t(True, False)",
         "marker": {
          "color": "#ab63fa",
          "symbol": "circle"
         },
         "mode": "markers",
         "name": "819092706798485506\tudc_uj\t(True, False)",
         "orientation": "v",
         "showlegend": true,
         "type": "scatter",
         "x": [
          7.986927032470703
         ],
         "xaxis": "x",
         "y": [
          0.5204833149909973
         ],
         "yaxis": "y"
        },
        {
         "hovertemplate": "color=295082644\tLoaiKh\t(True, False)<br>0=%{x}<br>1=%{y}<extra></extra>",
         "legendgroup": "295082644\tLoaiKh\t(True, False)",
         "marker": {
          "color": "#FFA15A",
          "symbol": "circle"
         },
         "mode": "markers",
         "name": "295082644\tLoaiKh\t(True, False)",
         "orientation": "v",
         "showlegend": true,
         "type": "scatter",
         "x": [
          6.901340007781982
         ],
         "xaxis": "x",
         "y": [
          0.9577580690383911
         ],
         "yaxis": "y"
        },
        {
         "hovertemplate": "color=1105393710978736128\tcltujedu\t(True, False)<br>0=%{x}<br>1=%{y}<extra></extra>",
         "legendgroup": "1105393710978736128\tcltujedu\t(True, False)",
         "marker": {
          "color": "#19d3f3",
          "symbol": "circle"
         },
         "mode": "markers",
         "name": "1105393710978736128\tcltujedu\t(True, False)",
         "orientation": "v",
         "showlegend": true,
         "type": "scatter",
         "x": [
          6.975024223327637
         ],
         "xaxis": "x",
         "y": [
          2.2085931301116943
         ],
         "yaxis": "y"
        },
        {
         "hovertemplate": "color=1708155823\tObaidAlmodaf\t(True, False)<br>0=%{x}<br>1=%{y}<extra></extra>",
         "legendgroup": "1708155823\tObaidAlmodaf\t(True, False)",
         "marker": {
          "color": "#FF6692",
          "symbol": "circle"
         },
         "mode": "markers",
         "name": "1708155823\tObaidAlmodaf\t(True, False)",
         "orientation": "v",
         "showlegend": true,
         "type": "scatter",
         "x": [
          8.194121360778809
         ],
         "xaxis": "x",
         "y": [
          0.5892418026924133
         ],
         "yaxis": "y"
        },
        {
         "hovertemplate": "color=1030501367213899776\tSWEC_SEPCO\t(True, False)<br>0=%{x}<br>1=%{y}<extra></extra>",
         "legendgroup": "1030501367213899776\tSWEC_SEPCO\t(True, False)",
         "marker": {
          "color": "#B6E880",
          "symbol": "circle"
         },
         "mode": "markers",
         "name": "1030501367213899776\tSWEC_SEPCO\t(True, False)",
         "orientation": "v",
         "showlegend": true,
         "type": "scatter",
         "x": [
          5.661235809326172
         ],
         "xaxis": "x",
         "y": [
          2.7963693141937256
         ],
         "yaxis": "y"
        },
        {
         "hovertemplate": "color=818915130\tEng_Council\t(True, False)<br>0=%{x}<br>1=%{y}<extra></extra>",
         "legendgroup": "818915130\tEng_Council\t(True, False)",
         "marker": {
          "color": "#FF97FF",
          "symbol": "circle"
         },
         "mode": "markers",
         "name": "818915130\tEng_Council\t(True, False)",
         "orientation": "v",
         "showlegend": true,
         "type": "scatter",
         "x": [
          5.688277244567871
         ],
         "xaxis": "x",
         "y": [
          3.0246081352233887
         ],
         "yaxis": "y"
        },
        {
         "hovertemplate": "color=505252038\tssrubaiee\t(True, False)<br>0=%{x}<br>1=%{y}<extra></extra>",
         "legendgroup": "505252038\tssrubaiee\t(True, False)",
         "marker": {
          "color": "#FECB52",
          "symbol": "circle"
         },
         "mode": "markers",
         "name": "505252038\tssrubaiee\t(True, False)",
         "orientation": "v",
         "showlegend": true,
         "type": "scatter",
         "x": [
          7.032309055328369
         ],
         "xaxis": "x",
         "y": [
          0.6424872279167175
         ],
         "yaxis": "y"
        },
        {
         "hovertemplate": "color=48544729\tAlaAnas18\t(True, False)<br>0=%{x}<br>1=%{y}<extra></extra>",
         "legendgroup": "48544729\tAlaAnas18\t(True, False)",
         "marker": {
          "color": "#636efa",
          "symbol": "circle"
         },
         "mode": "markers",
         "name": "48544729\tAlaAnas18\t(True, False)",
         "orientation": "v",
         "showlegend": true,
         "type": "scatter",
         "x": [
          6.624701023101807
         ],
         "xaxis": "x",
         "y": [
          1.1018009185791016
         ],
         "yaxis": "y"
        },
        {
         "hovertemplate": "color=1230848275332423680\tUJEng_Club\t(True, False)<br>0=%{x}<br>1=%{y}<extra></extra>",
         "legendgroup": "1230848275332423680\tUJEng_Club\t(True, False)",
         "marker": {
          "color": "#EF553B",
          "symbol": "circle"
         },
         "mode": "markers",
         "name": "1230848275332423680\tUJEng_Club\t(True, False)",
         "orientation": "v",
         "showlegend": true,
         "type": "scatter",
         "x": [
          6.741360664367676
         ],
         "xaxis": "x",
         "y": [
          0.9911802411079407
         ],
         "yaxis": "y"
        },
        {
         "hovertemplate": "color=870591706307194880\tGiftedUJ\t(True, False)<br>0=%{x}<br>1=%{y}<extra></extra>",
         "legendgroup": "870591706307194880\tGiftedUJ\t(True, False)",
         "marker": {
          "color": "#00cc96",
          "symbol": "circle"
         },
         "mode": "markers",
         "name": "870591706307194880\tGiftedUJ\t(True, False)",
         "orientation": "v",
         "showlegend": true,
         "type": "scatter",
         "x": [
          8.00405502319336
         ],
         "xaxis": "x",
         "y": [
          0.4020099639892578
         ],
         "yaxis": "y"
        },
        {
         "hovertemplate": "color=922791907\tFEUJ_wcampus\t(True, False)<br>0=%{x}<br>1=%{y}<extra></extra>",
         "legendgroup": "922791907\tFEUJ_wcampus\t(True, False)",
         "marker": {
          "color": "#ab63fa",
          "symbol": "circle"
         },
         "mode": "markers",
         "name": "922791907\tFEUJ_wcampus\t(True, False)",
         "orientation": "v",
         "showlegend": true,
         "type": "scatter",
         "x": [
          7.4195451736450195
         ],
         "xaxis": "x",
         "y": [
          0.9781785607337952
         ],
         "yaxis": "y"
        },
        {
         "hovertemplate": "color=785154564802707456\tNOMAC_Ltd\t(True, False)<br>0=%{x}<br>1=%{y}<extra></extra>",
         "legendgroup": "785154564802707456\tNOMAC_Ltd\t(True, False)",
         "marker": {
          "color": "#FFA15A",
          "symbol": "circle"
         },
         "mode": "markers",
         "name": "785154564802707456\tNOMAC_Ltd\t(True, False)",
         "orientation": "v",
         "showlegend": true,
         "type": "scatter",
         "x": [
          6.317150115966797
         ],
         "xaxis": "x",
         "y": [
          3.5648915767669678
         ],
         "yaxis": "y"
        },
        {
         "hovertemplate": "color=1142707649034817536\tVolunteer_UJ\t(True, False)<br>0=%{x}<br>1=%{y}<extra></extra>",
         "legendgroup": "1142707649034817536\tVolunteer_UJ\t(True, False)",
         "marker": {
          "color": "#19d3f3",
          "symbol": "circle"
         },
         "mode": "markers",
         "name": "1142707649034817536\tVolunteer_UJ\t(True, False)",
         "orientation": "v",
         "showlegend": true,
         "type": "scatter",
         "x": [
          7.731640815734863
         ],
         "xaxis": "x",
         "y": [
          0.5241588950157166
         ],
         "yaxis": "y"
        },
        {
         "hovertemplate": "color=977118114449158145\tDrKhusaifan\t(True, False)<br>0=%{x}<br>1=%{y}<extra></extra>",
         "legendgroup": "977118114449158145\tDrKhusaifan\t(True, False)",
         "marker": {
          "color": "#FF6692",
          "symbol": "circle"
         },
         "mode": "markers",
         "name": "977118114449158145\tDrKhusaifan\t(True, False)",
         "orientation": "v",
         "showlegend": true,
         "type": "scatter",
         "x": [
          8.255607604980469
         ],
         "xaxis": "x",
         "y": [
          0.44385194778442383
         ],
         "yaxis": "y"
        },
        {
         "hovertemplate": "color=954810152087060480\tMr_Rami101\t(True, False)<br>0=%{x}<br>1=%{y}<extra></extra>",
         "legendgroup": "954810152087060480\tMr_Rami101\t(True, False)",
         "marker": {
          "color": "#B6E880",
          "symbol": "circle"
         },
         "mode": "markers",
         "name": "954810152087060480\tMr_Rami101\t(True, False)",
         "orientation": "v",
         "showlegend": true,
         "type": "scatter",
         "x": [
          7.128464698791504
         ],
         "xaxis": "x",
         "y": [
          3.3786001205444336
         ],
         "yaxis": "y"
        },
        {
         "hovertemplate": "color=1433048727770501120\tYD__37\t(True, False)<br>0=%{x}<br>1=%{y}<extra></extra>",
         "legendgroup": "1433048727770501120\tYD__37\t(True, False)",
         "marker": {
          "color": "#FF97FF",
          "symbol": "circle"
         },
         "mode": "markers",
         "name": "1433048727770501120\tYD__37\t(True, False)",
         "orientation": "v",
         "showlegend": true,
         "type": "scatter",
         "x": [
          7.051026344299316
         ],
         "xaxis": "x",
         "y": [
          3.4496219158172607
         ],
         "yaxis": "y"
        },
        {
         "hovertemplate": "color=1086001117962665984\tcrypto_q88\t(True, False)<br>0=%{x}<br>1=%{y}<extra></extra>",
         "legendgroup": "1086001117962665984\tcrypto_q88\t(True, False)",
         "marker": {
          "color": "#FECB52",
          "symbol": "circle"
         },
         "mode": "markers",
         "name": "1086001117962665984\tcrypto_q88\t(True, False)",
         "orientation": "v",
         "showlegend": true,
         "type": "scatter",
         "x": [
          7.059513092041016
         ],
         "xaxis": "x",
         "y": [
          3.4178073406219482
         ],
         "yaxis": "y"
        },
        {
         "hovertemplate": "color=1024975715941445633\tRabihKadi1\t(True, False)<br>0=%{x}<br>1=%{y}<extra></extra>",
         "legendgroup": "1024975715941445633\tRabihKadi1\t(True, False)",
         "marker": {
          "color": "#636efa",
          "symbol": "circle"
         },
         "mode": "markers",
         "name": "1024975715941445633\tRabihKadi1\t(True, False)",
         "orientation": "v",
         "showlegend": true,
         "type": "scatter",
         "x": [
          7.124608993530273
         ],
         "xaxis": "x",
         "y": [
          3.3838508129119873
         ],
         "yaxis": "y"
        },
        {
         "hovertemplate": "color=1404093375154995201\tdefieveryone\t(True, False)<br>0=%{x}<br>1=%{y}<extra></extra>",
         "legendgroup": "1404093375154995201\tdefieveryone\t(True, False)",
         "marker": {
          "color": "#EF553B",
          "symbol": "circle"
         },
         "mode": "markers",
         "name": "1404093375154995201\tdefieveryone\t(True, False)",
         "orientation": "v",
         "showlegend": true,
         "type": "scatter",
         "x": [
          6.881350040435791
         ],
         "xaxis": "x",
         "y": [
          3.4741225242614746
         ],
         "yaxis": "y"
        },
        {
         "hovertemplate": "color=1287863457522634754\t_ask_ksa_\t(True, False)<br>0=%{x}<br>1=%{y}<extra></extra>",
         "legendgroup": "1287863457522634754\t_ask_ksa_\t(True, False)",
         "marker": {
          "color": "#00cc96",
          "symbol": "circle"
         },
         "mode": "markers",
         "name": "1287863457522634754\t_ask_ksa_\t(True, False)",
         "orientation": "v",
         "showlegend": true,
         "type": "scatter",
         "x": [
          5.751476764678955
         ],
         "xaxis": "x",
         "y": [
          2.9408798217773438
         ],
         "yaxis": "y"
        },
        {
         "hovertemplate": "color=1138077862114709504\tIjllsJ\t(True, False)<br>0=%{x}<br>1=%{y}<extra></extra>",
         "legendgroup": "1138077862114709504\tIjllsJ\t(True, False)",
         "marker": {
          "color": "#ab63fa",
          "symbol": "circle"
         },
         "mode": "markers",
         "name": "1138077862114709504\tIjllsJ\t(True, False)",
         "orientation": "v",
         "showlegend": true,
         "type": "scatter",
         "x": [
          6.886716842651367
         ],
         "xaxis": "x",
         "y": [
          3.6498000621795654
         ],
         "yaxis": "y"
        },
        {
         "hovertemplate": "color=985157903849050112\tBasakranAli\t(True, False)<br>0=%{x}<br>1=%{y}<extra></extra>",
         "legendgroup": "985157903849050112\tBasakranAli\t(True, False)",
         "marker": {
          "color": "#FFA15A",
          "symbol": "circle"
         },
         "mode": "markers",
         "name": "985157903849050112\tBasakranAli\t(True, False)",
         "orientation": "v",
         "showlegend": true,
         "type": "scatter",
         "x": [
          6.738792419433594
         ],
         "xaxis": "x",
         "y": [
          3.236884117126465
         ],
         "yaxis": "y"
        },
        {
         "hovertemplate": "color=973475539544657920\tscu_uj\t(True, False)<br>0=%{x}<br>1=%{y}<extra></extra>",
         "legendgroup": "973475539544657920\tscu_uj\t(True, False)",
         "marker": {
          "color": "#19d3f3",
          "symbol": "circle"
         },
         "mode": "markers",
         "name": "973475539544657920\tscu_uj\t(True, False)",
         "orientation": "v",
         "showlegend": true,
         "type": "scatter",
         "x": [
          7.308339595794678
         ],
         "xaxis": "x",
         "y": [
          0.7904513478279114
         ],
         "yaxis": "y"
        },
        {
         "hovertemplate": "color=1401815680958316545\terl_psu\t(True, False)<br>0=%{x}<br>1=%{y}<extra></extra>",
         "legendgroup": "1401815680958316545\terl_psu\t(True, False)",
         "marker": {
          "color": "#FF6692",
          "symbol": "circle"
         },
         "mode": "markers",
         "name": "1401815680958316545\terl_psu\t(True, False)",
         "orientation": "v",
         "showlegend": true,
         "type": "scatter",
         "x": [
          6.380727291107178
         ],
         "xaxis": "x",
         "y": [
          3.1673760414123535
         ],
         "yaxis": "y"
        },
        {
         "hovertemplate": "color=1232972489715802114\tLdonkdoors\t(True, False)<br>0=%{x}<br>1=%{y}<extra></extra>",
         "legendgroup": "1232972489715802114\tLdonkdoors\t(True, False)",
         "marker": {
          "color": "#B6E880",
          "symbol": "circle"
         },
         "mode": "markers",
         "name": "1232972489715802114\tLdonkdoors\t(True, False)",
         "orientation": "v",
         "showlegend": true,
         "type": "scatter",
         "x": [
          6.778011322021484
         ],
         "xaxis": "x",
         "y": [
          3.1714096069335938
         ],
         "yaxis": "y"
        },
        {
         "hovertemplate": "color=1372573142657421323\tL2WR4SLA\t(True, False)<br>0=%{x}<br>1=%{y}<extra></extra>",
         "legendgroup": "1372573142657421323\tL2WR4SLA\t(True, False)",
         "marker": {
          "color": "#FF97FF",
          "symbol": "circle"
         },
         "mode": "markers",
         "name": "1372573142657421323\tL2WR4SLA\t(True, False)",
         "orientation": "v",
         "showlegend": true,
         "type": "scatter",
         "x": [
          6.821838855743408
         ],
         "xaxis": "x",
         "y": [
          3.577986717224121
         ],
         "yaxis": "y"
        },
        {
         "hovertemplate": "color=1385420223352877060\telwarsha75\t(True, False)<br>0=%{x}<br>1=%{y}<extra></extra>",
         "legendgroup": "1385420223352877060\telwarsha75\t(True, False)",
         "marker": {
          "color": "#FECB52",
          "symbol": "circle"
         },
         "mode": "markers",
         "name": "1385420223352877060\telwarsha75\t(True, False)",
         "orientation": "v",
         "showlegend": true,
         "type": "scatter",
         "x": [
          6.546484470367432
         ],
         "xaxis": "x",
         "y": [
          3.480254888534546
         ],
         "yaxis": "y"
        },
        {
         "hovertemplate": "color=2340183050\tCorporaJournal\t(True, False)<br>0=%{x}<br>1=%{y}<extra></extra>",
         "legendgroup": "2340183050\tCorporaJournal\t(True, False)",
         "marker": {
          "color": "#636efa",
          "symbol": "circle"
         },
         "mode": "markers",
         "name": "2340183050\tCorporaJournal\t(True, False)",
         "orientation": "v",
         "showlegend": true,
         "type": "scatter",
         "x": [
          6.90595006942749
         ],
         "xaxis": "x",
         "y": [
          3.4129178524017334
         ],
         "yaxis": "y"
        },
        {
         "hovertemplate": "color=1094334967746834438\tTyf_99\t(True, False)<br>0=%{x}<br>1=%{y}<extra></extra>",
         "legendgroup": "1094334967746834438\tTyf_99\t(True, False)",
         "marker": {
          "color": "#EF553B",
          "symbol": "circle"
         },
         "mode": "markers",
         "name": "1094334967746834438\tTyf_99\t(True, False)",
         "orientation": "v",
         "showlegend": true,
         "type": "scatter",
         "x": [
          6.542304039001465
         ],
         "xaxis": "x",
         "y": [
          3.3847544193267822
         ],
         "yaxis": "y"
        },
        {
         "hovertemplate": "color=1293631614661132291\tBAlmohsin1\t(True, False)<br>0=%{x}<br>1=%{y}<extra></extra>",
         "legendgroup": "1293631614661132291\tBAlmohsin1\t(True, False)",
         "marker": {
          "color": "#00cc96",
          "symbol": "circle"
         },
         "mode": "markers",
         "name": "1293631614661132291\tBAlmohsin1\t(True, False)",
         "orientation": "v",
         "showlegend": true,
         "type": "scatter",
         "x": [
          6.679917812347412
         ],
         "xaxis": "x",
         "y": [
          3.407341241836548
         ],
         "yaxis": "y"
        },
        {
         "hovertemplate": "color=835178034076467202\tarchesssa\t(True, False)<br>0=%{x}<br>1=%{y}<extra></extra>",
         "legendgroup": "835178034076467202\tarchesssa\t(True, False)",
         "marker": {
          "color": "#ab63fa",
          "symbol": "circle"
         },
         "mode": "markers",
         "name": "835178034076467202\tarchesssa\t(True, False)",
         "orientation": "v",
         "showlegend": true,
         "type": "scatter",
         "x": [
          6.633572101593018
         ],
         "xaxis": "x",
         "y": [
          3.3941967487335205
         ],
         "yaxis": "y"
        },
        {
         "hovertemplate": "color=3071499276\tAlgfariMussad\t(True, False)<br>0=%{x}<br>1=%{y}<extra></extra>",
         "legendgroup": "3071499276\tAlgfariMussad\t(True, False)",
         "marker": {
          "color": "#FFA15A",
          "symbol": "circle"
         },
         "mode": "markers",
         "name": "3071499276\tAlgfariMussad\t(True, False)",
         "orientation": "v",
         "showlegend": true,
         "type": "scatter",
         "x": [
          6.697080612182617
         ],
         "xaxis": "x",
         "y": [
          3.184009552001953
         ],
         "yaxis": "y"
        },
        {
         "hovertemplate": "color=3269416460\tMyMajor101\t(True, False)<br>0=%{x}<br>1=%{y}<extra></extra>",
         "legendgroup": "3269416460\tMyMajor101\t(True, False)",
         "marker": {
          "color": "#19d3f3",
          "symbol": "circle"
         },
         "mode": "markers",
         "name": "3269416460\tMyMajor101\t(True, False)",
         "orientation": "v",
         "showlegend": true,
         "type": "scatter",
         "x": [
          6.9500017166137695
         ],
         "xaxis": "x",
         "y": [
          3.4450764656066895
         ],
         "yaxis": "y"
        },
        {
         "hovertemplate": "color=830453269\tyzeeedvb\t(True, False)<br>0=%{x}<br>1=%{y}<extra></extra>",
         "legendgroup": "830453269\tyzeeedvb\t(True, False)",
         "marker": {
          "color": "#FF6692",
          "symbol": "circle"
         },
         "mode": "markers",
         "name": "830453269\tyzeeedvb\t(True, False)",
         "orientation": "v",
         "showlegend": true,
         "type": "scatter",
         "x": [
          6.5807929039001465
         ],
         "xaxis": "x",
         "y": [
          3.6034510135650635
         ],
         "yaxis": "y"
        },
        {
         "hovertemplate": "color=248140822\tmbalilah\t(True, False)<br>0=%{x}<br>1=%{y}<extra></extra>",
         "legendgroup": "248140822\tmbalilah\t(True, False)",
         "marker": {
          "color": "#B6E880",
          "symbol": "circle"
         },
         "mode": "markers",
         "name": "248140822\tmbalilah\t(True, False)",
         "orientation": "v",
         "showlegend": true,
         "type": "scatter",
         "x": [
          6.133175373077393
         ],
         "xaxis": "x",
         "y": [
          1.2178587913513184
         ],
         "yaxis": "y"
        },
        {
         "hovertemplate": "color=153337874\tPandaSaudi\t(True, False)<br>0=%{x}<br>1=%{y}<extra></extra>",
         "legendgroup": "153337874\tPandaSaudi\t(True, False)",
         "marker": {
          "color": "#FF97FF",
          "symbol": "circle"
         },
         "mode": "markers",
         "name": "153337874\tPandaSaudi\t(True, False)",
         "orientation": "v",
         "showlegend": true,
         "type": "scatter",
         "x": [
          3.3895251750946045
         ],
         "xaxis": "x",
         "y": [
          1.8085681200027466
         ],
         "yaxis": "y"
        },
        {
         "hovertemplate": "color=335395869\tabdulsalam1428\t(True, False)<br>0=%{x}<br>1=%{y}<extra></extra>",
         "legendgroup": "335395869\tabdulsalam1428\t(True, False)",
         "marker": {
          "color": "#FECB52",
          "symbol": "circle"
         },
         "mode": "markers",
         "name": "335395869\tabdulsalam1428\t(True, False)",
         "orientation": "v",
         "showlegend": true,
         "type": "scatter",
         "x": [
          6.657059192657471
         ],
         "xaxis": "x",
         "y": [
          2.786334753036499
         ],
         "yaxis": "y"
        },
        {
         "hovertemplate": "color=746099323151187974\teidelyehya\t(True, False)<br>0=%{x}<br>1=%{y}<extra></extra>",
         "legendgroup": "746099323151187974\teidelyehya\t(True, False)",
         "marker": {
          "color": "#636efa",
          "symbol": "circle"
         },
         "mode": "markers",
         "name": "746099323151187974\teidelyehya\t(True, False)",
         "orientation": "v",
         "showlegend": true,
         "type": "scatter",
         "x": [
          6.377217769622803
         ],
         "xaxis": "x",
         "y": [
          2.9532876014709473
         ],
         "yaxis": "y"
        },
        {
         "hovertemplate": "color=3001011750\tNebrasNCNC\t(True, False)<br>0=%{x}<br>1=%{y}<extra></extra>",
         "legendgroup": "3001011750\tNebrasNCNC\t(True, False)",
         "marker": {
          "color": "#EF553B",
          "symbol": "circle"
         },
         "mode": "markers",
         "name": "3001011750\tNebrasNCNC\t(True, False)",
         "orientation": "v",
         "showlegend": true,
         "type": "scatter",
         "x": [
          6.040197372436523
         ],
         "xaxis": "x",
         "y": [
          2.910198211669922
         ],
         "yaxis": "y"
        },
        {
         "hovertemplate": "color=332566057\tittihad\t(True, False)<br>0=%{x}<br>1=%{y}<extra></extra>",
         "legendgroup": "332566057\tittihad\t(True, False)",
         "marker": {
          "color": "#00cc96",
          "symbol": "circle"
         },
         "mode": "markers",
         "name": "332566057\tittihad\t(True, False)",
         "orientation": "v",
         "showlegend": true,
         "type": "scatter",
         "x": [
          6.411999702453613
         ],
         "xaxis": "x",
         "y": [
          2.9972739219665527
         ],
         "yaxis": "y"
        },
        {
         "hovertemplate": "color=571066924\tHasanKutbi\t(True, False)<br>0=%{x}<br>1=%{y}<extra></extra>",
         "legendgroup": "571066924\tHasanKutbi\t(True, False)",
         "marker": {
          "color": "#ab63fa",
          "symbol": "circle"
         },
         "mode": "markers",
         "name": "571066924\tHasanKutbi\t(True, False)",
         "orientation": "v",
         "showlegend": true,
         "type": "scatter",
         "x": [
          7.111823081970215
         ],
         "xaxis": "x",
         "y": [
          3.599526882171631
         ],
         "yaxis": "y"
        },
        {
         "hovertemplate": "color=2918975022\thalhummiany\t(True, False)<br>0=%{x}<br>1=%{y}<extra></extra>",
         "legendgroup": "2918975022\thalhummiany\t(True, False)",
         "marker": {
          "color": "#FFA15A",
          "symbol": "circle"
         },
         "mode": "markers",
         "name": "2918975022\thalhummiany\t(True, False)",
         "orientation": "v",
         "showlegend": true,
         "type": "scatter",
         "x": [
          7.922380447387695
         ],
         "xaxis": "x",
         "y": [
          0.3910323977470398
         ],
         "yaxis": "y"
        },
        {
         "hovertemplate": "color=3222089774\tKSRelief\t(True, False)<br>0=%{x}<br>1=%{y}<extra></extra>",
         "legendgroup": "3222089774\tKSRelief\t(True, False)",
         "marker": {
          "color": "#19d3f3",
          "symbol": "circle"
         },
         "mode": "markers",
         "name": "3222089774\tKSRelief\t(True, False)",
         "orientation": "v",
         "showlegend": true,
         "type": "scatter",
         "x": [
          6.116146564483643
         ],
         "xaxis": "x",
         "y": [
          3.0138020515441895
         ],
         "yaxis": "y"
        },
        {
         "hovertemplate": "color=936329779\tkt_tuwaijri\t(True, False)<br>0=%{x}<br>1=%{y}<extra></extra>",
         "legendgroup": "936329779\tkt_tuwaijri\t(True, False)",
         "marker": {
          "color": "#FF6692",
          "symbol": "circle"
         },
         "mode": "markers",
         "name": "936329779\tkt_tuwaijri\t(True, False)",
         "orientation": "v",
         "showlegend": true,
         "type": "scatter",
         "x": [
          5.881978511810303
         ],
         "xaxis": "x",
         "y": [
          2.2766616344451904
         ],
         "yaxis": "y"
        },
        {
         "hovertemplate": "color=559229497\tAnasBafaqeeh\t(True, False)<br>0=%{x}<br>1=%{y}<extra></extra>",
         "legendgroup": "559229497\tAnasBafaqeeh\t(True, False)",
         "marker": {
          "color": "#B6E880",
          "symbol": "circle"
         },
         "mode": "markers",
         "name": "559229497\tAnasBafaqeeh\t(True, False)",
         "orientation": "v",
         "showlegend": true,
         "type": "scatter",
         "x": [
          6.807920932769775
         ],
         "xaxis": "x",
         "y": [
          3.5074524879455566
         ],
         "yaxis": "y"
        },
        {
         "hovertemplate": "color=984759018349580288\tsjalghamdi\t(True, False)<br>0=%{x}<br>1=%{y}<extra></extra>",
         "legendgroup": "984759018349580288\tsjalghamdi\t(True, False)",
         "marker": {
          "color": "#FF97FF",
          "symbol": "circle"
         },
         "mode": "markers",
         "name": "984759018349580288\tsjalghamdi\t(True, False)",
         "orientation": "v",
         "showlegend": true,
         "type": "scatter",
         "x": [
          6.371683120727539
         ],
         "xaxis": "x",
         "y": [
          3.1439287662506104
         ],
         "yaxis": "y"
        },
        {
         "hovertemplate": "color=2429549629\tUniofJed\t(True, False)<br>0=%{x}<br>1=%{y}<extra></extra>",
         "legendgroup": "2429549629\tUniofJed\t(True, False)",
         "marker": {
          "color": "#FECB52",
          "symbol": "circle"
         },
         "mode": "markers",
         "name": "2429549629\tUniofJed\t(True, False)",
         "orientation": "v",
         "showlegend": true,
         "type": "scatter",
         "x": [
          8.075103759765625
         ],
         "xaxis": "x",
         "y": [
          0.4644968509674072
         ],
         "yaxis": "y"
        },
        {
         "hovertemplate": "color=630128702\tKSYC_KSA\t(True, False)<br>0=%{x}<br>1=%{y}<extra></extra>",
         "legendgroup": "630128702\tKSYC_KSA\t(True, False)",
         "marker": {
          "color": "#636efa",
          "symbol": "circle"
         },
         "mode": "markers",
         "name": "630128702\tKSYC_KSA\t(True, False)",
         "orientation": "v",
         "showlegend": true,
         "type": "scatter",
         "x": [
          6.145151138305664
         ],
         "xaxis": "x",
         "y": [
          2.9390149116516113
         ],
         "yaxis": "y"
        },
        {
         "hovertemplate": "color=407054921\tHashKSA\t(True, False)<br>0=%{x}<br>1=%{y}<extra></extra>",
         "legendgroup": "407054921\tHashKSA\t(True, False)",
         "marker": {
          "color": "#EF553B",
          "symbol": "circle"
         },
         "mode": "markers",
         "name": "407054921\tHashKSA\t(True, False)",
         "orientation": "v",
         "showlegend": true,
         "type": "scatter",
         "x": [
          2.7658534049987793
         ],
         "xaxis": "x",
         "y": [
          1.7143738269805908
         ],
         "yaxis": "y"
        },
        {
         "hovertemplate": "color=814797614831046656\tSaudi_TGA\t(True, False)<br>0=%{x}<br>1=%{y}<extra></extra>",
         "legendgroup": "814797614831046656\tSaudi_TGA\t(True, False)",
         "marker": {
          "color": "#00cc96",
          "symbol": "circle"
         },
         "mode": "markers",
         "name": "814797614831046656\tSaudi_TGA\t(True, False)",
         "orientation": "v",
         "showlegend": true,
         "type": "scatter",
         "x": [
          5.916108131408691
         ],
         "xaxis": "x",
         "y": [
          2.8453972339630127
         ],
         "yaxis": "y"
        },
        {
         "hovertemplate": "color=788941948887437312\tMedInfos\t(True, False)<br>0=%{x}<br>1=%{y}<extra></extra>",
         "legendgroup": "788941948887437312\tMedInfos\t(True, False)",
         "marker": {
          "color": "#ab63fa",
          "symbol": "circle"
         },
         "mode": "markers",
         "name": "788941948887437312\tMedInfos\t(True, False)",
         "orientation": "v",
         "showlegend": true,
         "type": "scatter",
         "x": [
          6.434455871582031
         ],
         "xaxis": "x",
         "y": [
          2.7987234592437744
         ],
         "yaxis": "y"
        },
        {
         "hovertemplate": "color=790798790739562496\tMySaudiStore\t(True, False)<br>0=%{x}<br>1=%{y}<extra></extra>",
         "legendgroup": "790798790739562496\tMySaudiStore\t(True, False)",
         "marker": {
          "color": "#FFA15A",
          "symbol": "circle"
         },
         "mode": "markers",
         "name": "790798790739562496\tMySaudiStore\t(True, False)",
         "orientation": "v",
         "showlegend": true,
         "type": "scatter",
         "x": [
          6.6176958084106445
         ],
         "xaxis": "x",
         "y": [
          3.3963065147399902
         ],
         "yaxis": "y"
        },
        {
         "hovertemplate": "color=354254925\tBadermasaker\t(True, False)<br>0=%{x}<br>1=%{y}<extra></extra>",
         "legendgroup": "354254925\tBadermasaker\t(True, False)",
         "marker": {
          "color": "#19d3f3",
          "symbol": "circle"
         },
         "mode": "markers",
         "name": "354254925\tBadermasaker\t(True, False)",
         "orientation": "v",
         "showlegend": true,
         "type": "scatter",
         "x": [
          2.9795846939086914
         ],
         "xaxis": "x",
         "y": [
          2.1128900051116943
         ],
         "yaxis": "y"
        },
        {
         "hovertemplate": "color=699229872548417536\tdralaaraj\t(True, False)<br>0=%{x}<br>1=%{y}<extra></extra>",
         "legendgroup": "699229872548417536\tdralaaraj\t(True, False)",
         "marker": {
          "color": "#FF6692",
          "symbol": "circle"
         },
         "mode": "markers",
         "name": "699229872548417536\tdralaaraj\t(True, False)",
         "orientation": "v",
         "showlegend": true,
         "type": "scatter",
         "x": [
          5.5119147300720215
         ],
         "xaxis": "x",
         "y": [
          2.0932044982910156
         ],
         "yaxis": "y"
        },
        {
         "hovertemplate": "color=288669778\tSABBBank\t(True, False)<br>0=%{x}<br>1=%{y}<extra></extra>",
         "legendgroup": "288669778\tSABBBank\t(True, False)",
         "marker": {
          "color": "#B6E880",
          "symbol": "circle"
         },
         "mode": "markers",
         "name": "288669778\tSABBBank\t(True, False)",
         "orientation": "v",
         "showlegend": true,
         "type": "scatter",
         "x": [
          6.555965900421143
         ],
         "xaxis": "x",
         "y": [
          3.2963716983795166
         ],
         "yaxis": "y"
        },
        {
         "hovertemplate": "color=484787286\tiwgwo\t(True, False)<br>0=%{x}<br>1=%{y}<extra></extra>",
         "legendgroup": "484787286\tiwgwo\t(True, False)",
         "marker": {
          "color": "#FF97FF",
          "symbol": "circle"
         },
         "mode": "markers",
         "name": "484787286\tiwgwo\t(True, False)",
         "orientation": "v",
         "showlegend": true,
         "type": "scatter",
         "x": [
          6.789831161499023
         ],
         "xaxis": "x",
         "y": [
          3.099325656890869
         ],
         "yaxis": "y"
        },
        {
         "hovertemplate": "color=981630038\tselteachers\t(True, False)<br>0=%{x}<br>1=%{y}<extra></extra>",
         "legendgroup": "981630038\tselteachers\t(True, False)",
         "marker": {
          "color": "#FECB52",
          "symbol": "circle"
         },
         "mode": "markers",
         "name": "981630038\tselteachers\t(True, False)",
         "orientation": "v",
         "showlegend": true,
         "type": "scatter",
         "x": [
          6.993712425231934
         ],
         "xaxis": "x",
         "y": [
          3.1761269569396973
         ],
         "yaxis": "y"
        },
        {
         "hovertemplate": "color=888392902774312960\thamdi_v3\t(True, False)<br>0=%{x}<br>1=%{y}<extra></extra>",
         "legendgroup": "888392902774312960\thamdi_v3\t(True, False)",
         "marker": {
          "color": "#636efa",
          "symbol": "circle"
         },
         "mode": "markers",
         "name": "888392902774312960\thamdi_v3\t(True, False)",
         "orientation": "v",
         "showlegend": true,
         "type": "scatter",
         "x": [
          5.955722808837891
         ],
         "xaxis": "x",
         "y": [
          2.7809088230133057
         ],
         "yaxis": "y"
        },
        {
         "hovertemplate": "color=922854814320644096\tDrFahdOlaqi\t(True, False)<br>0=%{x}<br>1=%{y}<extra></extra>",
         "legendgroup": "922854814320644096\tDrFahdOlaqi\t(True, False)",
         "marker": {
          "color": "#EF553B",
          "symbol": "circle"
         },
         "mode": "markers",
         "name": "922854814320644096\tDrFahdOlaqi\t(True, False)",
         "orientation": "v",
         "showlegend": true,
         "type": "scatter",
         "x": [
          6.821108818054199
         ],
         "xaxis": "x",
         "y": [
          1.4593466520309448
         ],
         "yaxis": "y"
        },
        {
         "hovertemplate": "color=509236835\tHabbasAlGrmool\t(True, False)<br>0=%{x}<br>1=%{y}<extra></extra>",
         "legendgroup": "509236835\tHabbasAlGrmool\t(True, False)",
         "marker": {
          "color": "#00cc96",
          "symbol": "circle"
         },
         "mode": "markers",
         "name": "509236835\tHabbasAlGrmool\t(True, False)",
         "orientation": "v",
         "showlegend": true,
         "type": "scatter",
         "x": [
          6.138224124908447
         ],
         "xaxis": "x",
         "y": [
          2.746269941329956
         ],
         "yaxis": "y"
        },
        {
         "hovertemplate": "color=444914277\tmakfor3\t(True, False)<br>0=%{x}<br>1=%{y}<extra></extra>",
         "legendgroup": "444914277\tmakfor3\t(True, False)",
         "marker": {
          "color": "#ab63fa",
          "symbol": "circle"
         },
         "mode": "markers",
         "name": "444914277\tmakfor3\t(True, False)",
         "orientation": "v",
         "showlegend": true,
         "type": "scatter",
         "x": [
          6.5113139152526855
         ],
         "xaxis": "x",
         "y": [
          3.1889584064483643
         ],
         "yaxis": "y"
        },
        {
         "hovertemplate": "color=2472158310\tHere_Maldives\t(True, False)<br>0=%{x}<br>1=%{y}<extra></extra>",
         "legendgroup": "2472158310\tHere_Maldives\t(True, False)",
         "marker": {
          "color": "#FFA15A",
          "symbol": "circle"
         },
         "mode": "markers",
         "name": "2472158310\tHere_Maldives\t(True, False)",
         "orientation": "v",
         "showlegend": true,
         "type": "scatter",
         "x": [
          6.219498634338379
         ],
         "xaxis": "x",
         "y": [
          3.036808967590332
         ],
         "yaxis": "y"
        },
        {
         "hovertemplate": "color=1237441256017596416\tID_ATHeeR\t(True, False)<br>0=%{x}<br>1=%{y}<extra></extra>",
         "legendgroup": "1237441256017596416\tID_ATHeeR\t(True, False)",
         "marker": {
          "color": "#19d3f3",
          "symbol": "circle"
         },
         "mode": "markers",
         "name": "1237441256017596416\tID_ATHeeR\t(True, False)",
         "orientation": "v",
         "showlegend": true,
         "type": "scatter",
         "x": [
          6.710018157958984
         ],
         "xaxis": "x",
         "y": [
          3.3344435691833496
         ],
         "yaxis": "y"
        },
        {
         "hovertemplate": "color=1337267821\teng_almater\t(True, False)<br>0=%{x}<br>1=%{y}<extra></extra>",
         "legendgroup": "1337267821\teng_almater\t(True, False)",
         "marker": {
          "color": "#FF6692",
          "symbol": "circle"
         },
         "mode": "markers",
         "name": "1337267821\teng_almater\t(True, False)",
         "orientation": "v",
         "showlegend": true,
         "type": "scatter",
         "x": [
          6.152205467224121
         ],
         "xaxis": "x",
         "y": [
          3.012052059173584
         ],
         "yaxis": "y"
        },
        {
         "hovertemplate": "color=264829960\tMOE_JDH\t(True, False)<br>0=%{x}<br>1=%{y}<extra></extra>",
         "legendgroup": "264829960\tMOE_JDH\t(True, False)",
         "marker": {
          "color": "#B6E880",
          "symbol": "circle"
         },
         "mode": "markers",
         "name": "264829960\tMOE_JDH\t(True, False)",
         "orientation": "v",
         "showlegend": true,
         "type": "scatter",
         "x": [
          6.359951972961426
         ],
         "xaxis": "x",
         "y": [
          3.4276015758514404
         ],
         "yaxis": "y"
        },
        {
         "hovertemplate": "color=478199920\t_Abo_Msaed\t(True, False)<br>0=%{x}<br>1=%{y}<extra></extra>",
         "legendgroup": "478199920\t_Abo_Msaed\t(True, False)",
         "marker": {
          "color": "#FF97FF",
          "symbol": "circle"
         },
         "mode": "markers",
         "name": "478199920\t_Abo_Msaed\t(True, False)",
         "orientation": "v",
         "showlegend": true,
         "type": "scatter",
         "x": [
          6.940755367279053
         ],
         "xaxis": "x",
         "y": [
          0.7959713339805603
         ],
         "yaxis": "y"
        },
        {
         "hovertemplate": "color=599181943\talhedaithi\t(True, False)<br>0=%{x}<br>1=%{y}<extra></extra>",
         "legendgroup": "599181943\talhedaithi\t(True, False)",
         "marker": {
          "color": "#FECB52",
          "symbol": "circle"
         },
         "mode": "markers",
         "name": "599181943\talhedaithi\t(True, False)",
         "orientation": "v",
         "showlegend": true,
         "type": "scatter",
         "x": [
          5.97019624710083
         ],
         "xaxis": "x",
         "y": [
          2.366020917892456
         ],
         "yaxis": "y"
        },
        {
         "hovertemplate": "color=619990648\tAbAmri\t(True, False)<br>0=%{x}<br>1=%{y}<extra></extra>",
         "legendgroup": "619990648\tAbAmri\t(True, False)",
         "marker": {
          "color": "#636efa",
          "symbol": "circle"
         },
         "mode": "markers",
         "name": "619990648\tAbAmri\t(True, False)",
         "orientation": "v",
         "showlegend": true,
         "type": "scatter",
         "x": [
          6.550777435302734
         ],
         "xaxis": "x",
         "y": [
          2.8498122692108154
         ],
         "yaxis": "y"
        },
        {
         "hovertemplate": "color=963161079424733184\tassrdesign\t(True, False)<br>0=%{x}<br>1=%{y}<extra></extra>",
         "legendgroup": "963161079424733184\tassrdesign\t(True, False)",
         "marker": {
          "color": "#EF553B",
          "symbol": "circle"
         },
         "mode": "markers",
         "name": "963161079424733184\tassrdesign\t(True, False)",
         "orientation": "v",
         "showlegend": true,
         "type": "scatter",
         "x": [
          6.722916603088379
         ],
         "xaxis": "x",
         "y": [
          3.2998697757720947
         ],
         "yaxis": "y"
        },
        {
         "hovertemplate": "color=1053852289\tlangtranskku\t(True, False)<br>0=%{x}<br>1=%{y}<extra></extra>",
         "legendgroup": "1053852289\tlangtranskku\t(True, False)",
         "marker": {
          "color": "#00cc96",
          "symbol": "circle"
         },
         "mode": "markers",
         "name": "1053852289\tlangtranskku\t(True, False)",
         "orientation": "v",
         "showlegend": true,
         "type": "scatter",
         "x": [
          4.723727226257324
         ],
         "xaxis": "x",
         "y": [
          4.04326868057251
         ],
         "yaxis": "y"
        },
        {
         "hovertemplate": "color=1125351341323358208\tJED_SEASON\t(True, False)<br>0=%{x}<br>1=%{y}<extra></extra>",
         "legendgroup": "1125351341323358208\tJED_SEASON\t(True, False)",
         "marker": {
          "color": "#ab63fa",
          "symbol": "circle"
         },
         "mode": "markers",
         "name": "1125351341323358208\tJED_SEASON\t(True, False)",
         "orientation": "v",
         "showlegend": true,
         "type": "scatter",
         "x": [
          3.2487733364105225
         ],
         "xaxis": "x",
         "y": [
          1.662298560142517
         ],
         "yaxis": "y"
        },
        {
         "hovertemplate": "color=975194850994851840\tkbsalsaud\t(True, False)<br>0=%{x}<br>1=%{y}<extra></extra>",
         "legendgroup": "975194850994851840\tkbsalsaud\t(True, False)",
         "marker": {
          "color": "#FFA15A",
          "symbol": "circle"
         },
         "mode": "markers",
         "name": "975194850994851840\tkbsalsaud\t(True, False)",
         "orientation": "v",
         "showlegend": true,
         "type": "scatter",
         "x": [
          3.026677131652832
         ],
         "xaxis": "x",
         "y": [
          2.0840671062469482
         ],
         "yaxis": "y"
        },
        {
         "hovertemplate": "color=919096027172474880\tALLAB_PSU\t(True, False)<br>0=%{x}<br>1=%{y}<extra></extra>",
         "legendgroup": "919096027172474880\tALLAB_PSU\t(True, False)",
         "marker": {
          "color": "#19d3f3",
          "symbol": "circle"
         },
         "mode": "markers",
         "name": "919096027172474880\tALLAB_PSU\t(True, False)",
         "orientation": "v",
         "showlegend": true,
         "type": "scatter",
         "x": [
          6.924224376678467
         ],
         "xaxis": "x",
         "y": [
          3.6839439868927
         ],
         "yaxis": "y"
        },
        {
         "hovertemplate": "color=761135173324902401\tMilitary_Indust\t(True, False)<br>0=%{x}<br>1=%{y}<extra></extra>",
         "legendgroup": "761135173324902401\tMilitary_Indust\t(True, False)",
         "marker": {
          "color": "#FF6692",
          "symbol": "circle"
         },
         "mode": "markers",
         "name": "761135173324902401\tMilitary_Indust\t(True, False)",
         "orientation": "v",
         "showlegend": true,
         "type": "scatter",
         "x": [
          6.614404678344727
         ],
         "xaxis": "x",
         "y": [
          3.4074554443359375
         ],
         "yaxis": "y"
        },
        {
         "hovertemplate": "color=1255924941364400129\tint_studies\t(True, False)<br>0=%{x}<br>1=%{y}<extra></extra>",
         "legendgroup": "1255924941364400129\tint_studies\t(True, False)",
         "marker": {
          "color": "#B6E880",
          "symbol": "circle"
         },
         "mode": "markers",
         "name": "1255924941364400129\tint_studies\t(True, False)",
         "orientation": "v",
         "showlegend": true,
         "type": "scatter",
         "x": [
          6.408581256866455
         ],
         "xaxis": "x",
         "y": [
          3.4435956478118896
         ],
         "yaxis": "y"
        },
        {
         "hovertemplate": "color=751187521887932417\tEzzatBaroudi\t(True, False)<br>0=%{x}<br>1=%{y}<extra></extra>",
         "legendgroup": "751187521887932417\tEzzatBaroudi\t(True, False)",
         "marker": {
          "color": "#FF97FF",
          "symbol": "circle"
         },
         "mode": "markers",
         "name": "751187521887932417\tEzzatBaroudi\t(True, False)",
         "orientation": "v",
         "showlegend": true,
         "type": "scatter",
         "x": [
          6.705844879150391
         ],
         "xaxis": "x",
         "y": [
          3.337324619293213
         ],
         "yaxis": "y"
        },
        {
         "hovertemplate": "color=1268165361624584192\tEng_alig\t(True, False)<br>0=%{x}<br>1=%{y}<extra></extra>",
         "legendgroup": "1268165361624584192\tEng_alig\t(True, False)",
         "marker": {
          "color": "#FECB52",
          "symbol": "circle"
         },
         "mode": "markers",
         "name": "1268165361624584192\tEng_alig\t(True, False)",
         "orientation": "v",
         "showlegend": true,
         "type": "scatter",
         "x": [
          6.621691703796387
         ],
         "xaxis": "x",
         "y": [
          3.201059579849243
         ],
         "yaxis": "y"
        },
        {
         "hovertemplate": "color=1051447511636955136\tHONEYinBAKU\t(True, False)<br>0=%{x}<br>1=%{y}<extra></extra>",
         "legendgroup": "1051447511636955136\tHONEYinBAKU\t(True, False)",
         "marker": {
          "color": "#636efa",
          "symbol": "circle"
         },
         "mode": "markers",
         "name": "1051447511636955136\tHONEYinBAKU\t(True, False)",
         "orientation": "v",
         "showlegend": true,
         "type": "scatter",
         "x": [
          5.312133312225342
         ],
         "xaxis": "x",
         "y": [
          1.3800184726715088
         ],
         "yaxis": "y"
        },
        {
         "hovertemplate": "color=1313730642182574082\tuj_dsa\t(True, False)<br>0=%{x}<br>1=%{y}<extra></extra>",
         "legendgroup": "1313730642182574082\tuj_dsa\t(True, False)",
         "marker": {
          "color": "#EF553B",
          "symbol": "circle"
         },
         "mode": "markers",
         "name": "1313730642182574082\tuj_dsa\t(True, False)",
         "orientation": "v",
         "showlegend": true,
         "type": "scatter",
         "x": [
          7.784468173980713
         ],
         "xaxis": "x",
         "y": [
          0.5650886297225952
         ],
         "yaxis": "y"
        },
        {
         "hovertemplate": "color=237192844\tyaassoo99\t(True, False)<br>0=%{x}<br>1=%{y}<extra></extra>",
         "legendgroup": "237192844\tyaassoo99\t(True, False)",
         "marker": {
          "color": "#00cc96",
          "symbol": "circle"
         },
         "mode": "markers",
         "name": "237192844\tyaassoo99\t(True, False)",
         "orientation": "v",
         "showlegend": true,
         "type": "scatter",
         "x": [
          6.306266784667969
         ],
         "xaxis": "x",
         "y": [
          2.6915831565856934
         ],
         "yaxis": "y"
        },
        {
         "hovertemplate": "color=3455582352\tsai7org\t(True, False)<br>0=%{x}<br>1=%{y}<extra></extra>",
         "legendgroup": "3455582352\tsai7org\t(True, False)",
         "marker": {
          "color": "#ab63fa",
          "symbol": "circle"
         },
         "mode": "markers",
         "name": "3455582352\tsai7org\t(True, False)",
         "orientation": "v",
         "showlegend": true,
         "type": "scatter",
         "x": [
          6.35347843170166
         ],
         "xaxis": "x",
         "y": [
          2.975550889968872
         ],
         "yaxis": "y"
        },
        {
         "hovertemplate": "color=541737616\tabunoura02\t(True, False)<br>0=%{x}<br>1=%{y}<extra></extra>",
         "legendgroup": "541737616\tabunoura02\t(True, False)",
         "marker": {
          "color": "#FFA15A",
          "symbol": "circle"
         },
         "mode": "markers",
         "name": "541737616\tabunoura02\t(True, False)",
         "orientation": "v",
         "showlegend": true,
         "type": "scatter",
         "x": [
          6.672344207763672
         ],
         "xaxis": "x",
         "y": [
          3.2235326766967773
         ],
         "yaxis": "y"
        },
        {
         "hovertemplate": "color=1387147921\tNews_Ejazah\t(True, False)<br>0=%{x}<br>1=%{y}<extra></extra>",
         "legendgroup": "1387147921\tNews_Ejazah\t(True, False)",
         "marker": {
          "color": "#19d3f3",
          "symbol": "circle"
         },
         "mode": "markers",
         "name": "1387147921\tNews_Ejazah\t(True, False)",
         "orientation": "v",
         "showlegend": true,
         "type": "scatter",
         "x": [
          5.584532737731934
         ],
         "xaxis": "x",
         "y": [
          -1.502448558807373
         ],
         "yaxis": "y"
        },
        {
         "hovertemplate": "color=1033613971\tDrShomrani\t(True, False)<br>0=%{x}<br>1=%{y}<extra></extra>",
         "legendgroup": "1033613971\tDrShomrani\t(True, False)",
         "marker": {
          "color": "#FF6692",
          "symbol": "circle"
         },
         "mode": "markers",
         "name": "1033613971\tDrShomrani\t(True, False)",
         "orientation": "v",
         "showlegend": true,
         "type": "scatter",
         "x": [
          5.443365097045898
         ],
         "xaxis": "x",
         "y": [
          1.8818625211715698
         ],
         "yaxis": "y"
        },
        {
         "hovertemplate": "color=302624914\ttwasulnews\t(True, False)<br>0=%{x}<br>1=%{y}<extra></extra>",
         "legendgroup": "302624914\ttwasulnews\t(True, False)",
         "marker": {
          "color": "#B6E880",
          "symbol": "circle"
         },
         "mode": "markers",
         "name": "302624914\ttwasulnews\t(True, False)",
         "orientation": "v",
         "showlegend": true,
         "type": "scatter",
         "x": [
          6.743431568145752
         ],
         "xaxis": "x",
         "y": [
          2.977673053741455
         ],
         "yaxis": "y"
        },
        {
         "hovertemplate": "color=117051544\tCambUP_LangLing\t(True, False)<br>0=%{x}<br>1=%{y}<extra></extra>",
         "legendgroup": "117051544\tCambUP_LangLing\t(True, False)",
         "marker": {
          "color": "#FF97FF",
          "symbol": "circle"
         },
         "mode": "markers",
         "name": "117051544\tCambUP_LangLing\t(True, False)",
         "orientation": "v",
         "showlegend": true,
         "type": "scatter",
         "x": [
          6.7138166427612305
         ],
         "xaxis": "x",
         "y": [
          3.593200922012329
         ],
         "yaxis": "y"
        },
        {
         "hovertemplate": "color=2876821657\tSultanooShafi\t(True, False)<br>0=%{x}<br>1=%{y}<extra></extra>",
         "legendgroup": "2876821657\tSultanooShafi\t(True, False)",
         "marker": {
          "color": "#FECB52",
          "symbol": "circle"
         },
         "mode": "markers",
         "name": "2876821657\tSultanooShafi\t(True, False)",
         "orientation": "v",
         "showlegend": true,
         "type": "scatter",
         "x": [
          6.837053298950195
         ],
         "xaxis": "x",
         "y": [
          3.4510862827301025
         ],
         "yaxis": "y"
        },
        {
         "hovertemplate": "color=452138139\tsnbalahli\t(True, False)<br>0=%{x}<br>1=%{y}<extra></extra>",
         "legendgroup": "452138139\tsnbalahli\t(True, False)",
         "marker": {
          "color": "#636efa",
          "symbol": "circle"
         },
         "mode": "markers",
         "name": "452138139\tsnbalahli\t(True, False)",
         "orientation": "v",
         "showlegend": true,
         "type": "scatter",
         "x": [
          3.2106428146362305
         ],
         "xaxis": "x",
         "y": [
          1.7368896007537842
         ],
         "yaxis": "y"
        },
        {
         "hovertemplate": "color=487499419\tbinealgh90\t(True, False)<br>0=%{x}<br>1=%{y}<extra></extra>",
         "legendgroup": "487499419\tbinealgh90\t(True, False)",
         "marker": {
          "color": "#EF553B",
          "symbol": "circle"
         },
         "mode": "markers",
         "name": "487499419\tbinealgh90\t(True, False)",
         "orientation": "v",
         "showlegend": true,
         "type": "scatter",
         "x": [
          5.595067977905273
         ],
         "xaxis": "x",
         "y": [
          2.191279888153076
         ],
         "yaxis": "y"
        },
        {
         "hovertemplate": "color=2819673757\tTmm24org\t(True, False)<br>0=%{x}<br>1=%{y}<extra></extra>",
         "legendgroup": "2819673757\tTmm24org\t(True, False)",
         "marker": {
          "color": "#00cc96",
          "symbol": "circle"
         },
         "mode": "markers",
         "name": "2819673757\tTmm24org\t(True, False)",
         "orientation": "v",
         "showlegend": true,
         "type": "scatter",
         "x": [
          6.673227787017822
         ],
         "xaxis": "x",
         "y": [
          2.965939998626709
         ],
         "yaxis": "y"
        },
        {
         "hovertemplate": "color=1339847350173351936\tLocati0ns\t(True, False)<br>0=%{x}<br>1=%{y}<extra></extra>",
         "legendgroup": "1339847350173351936\tLocati0ns\t(True, False)",
         "marker": {
          "color": "#ab63fa",
          "symbol": "circle"
         },
         "mode": "markers",
         "name": "1339847350173351936\tLocati0ns\t(True, False)",
         "orientation": "v",
         "showlegend": true,
         "type": "scatter",
         "x": [
          4.093414783477783
         ],
         "xaxis": "x",
         "y": [
          -0.1959725022315979
         ],
         "yaxis": "y"
        },
        {
         "hovertemplate": "color=1380592543977639938\tBiologistSaudi\t(True, False)<br>0=%{x}<br>1=%{y}<extra></extra>",
         "legendgroup": "1380592543977639938\tBiologistSaudi\t(True, False)",
         "marker": {
          "color": "#FFA15A",
          "symbol": "circle"
         },
         "mode": "markers",
         "name": "1380592543977639938\tBiologistSaudi\t(True, False)",
         "orientation": "v",
         "showlegend": true,
         "type": "scatter",
         "x": [
          2.5218780040740967
         ],
         "xaxis": "x",
         "y": [
          -0.15524832904338837
         ],
         "yaxis": "y"
        },
        {
         "hovertemplate": "color=1376540786175664129\tGi_Saudi\t(True, False)<br>0=%{x}<br>1=%{y}<extra></extra>",
         "legendgroup": "1376540786175664129\tGi_Saudi\t(True, False)",
         "marker": {
          "color": "#19d3f3",
          "symbol": "circle"
         },
         "mode": "markers",
         "name": "1376540786175664129\tGi_Saudi\t(True, False)",
         "orientation": "v",
         "showlegend": true,
         "type": "scatter",
         "x": [
          2.9730355739593506
         ],
         "xaxis": "x",
         "y": [
          -0.14147628843784332
         ],
         "yaxis": "y"
        },
        {
         "hovertemplate": "color=1210330637707698177\tscc_care\t(True, False)<br>0=%{x}<br>1=%{y}<extra></extra>",
         "legendgroup": "1210330637707698177\tscc_care\t(True, False)",
         "marker": {
          "color": "#FF6692",
          "symbol": "circle"
         },
         "mode": "markers",
         "name": "1210330637707698177\tscc_care\t(True, False)",
         "orientation": "v",
         "showlegend": true,
         "type": "scatter",
         "x": [
          3.2137503623962402
         ],
         "xaxis": "x",
         "y": [
          -0.5718921422958374
         ],
         "yaxis": "y"
        },
        {
         "hovertemplate": "color=1193246628792152071\tigene_sa\t(True, False)<br>0=%{x}<br>1=%{y}<extra></extra>",
         "legendgroup": "1193246628792152071\tigene_sa\t(True, False)",
         "marker": {
          "color": "#B6E880",
          "symbol": "circle"
         },
         "mode": "markers",
         "name": "1193246628792152071\tigene_sa\t(True, False)",
         "orientation": "v",
         "showlegend": true,
         "type": "scatter",
         "x": [
          2.3266875743865967
         ],
         "xaxis": "x",
         "y": [
          0.018717702478170395
         ],
         "yaxis": "y"
        },
        {
         "hovertemplate": "color=918819186532671495\twafaahalowaydhi\t(True, False)<br>0=%{x}<br>1=%{y}<extra></extra>",
         "legendgroup": "918819186532671495\twafaahalowaydhi\t(True, False)",
         "marker": {
          "color": "#FF97FF",
          "symbol": "circle"
         },
         "mode": "markers",
         "name": "918819186532671495\twafaahalowaydhi\t(True, False)",
         "orientation": "v",
         "showlegend": true,
         "type": "scatter",
         "x": [
          3.870849609375
         ],
         "xaxis": "x",
         "y": [
          0.029056347906589508
         ],
         "yaxis": "y"
        },
        {
         "hovertemplate": "color=1291548120254357505\tLabVanced\t(True, False)<br>0=%{x}<br>1=%{y}<extra></extra>",
         "legendgroup": "1291548120254357505\tLabVanced\t(True, False)",
         "marker": {
          "color": "#FECB52",
          "symbol": "circle"
         },
         "mode": "markers",
         "name": "1291548120254357505\tLabVanced\t(True, False)",
         "orientation": "v",
         "showlegend": true,
         "type": "scatter",
         "x": [
          3.9457035064697266
         ],
         "xaxis": "x",
         "y": [
          -0.07628518342971802
         ],
         "yaxis": "y"
        },
        {
         "hovertemplate": "color=1342065083183202305\tHAYYAK_DGS\t(True, False)<br>0=%{x}<br>1=%{y}<extra></extra>",
         "legendgroup": "1342065083183202305\tHAYYAK_DGS\t(True, False)",
         "marker": {
          "color": "#636efa",
          "symbol": "circle"
         },
         "mode": "markers",
         "name": "1342065083183202305\tHAYYAK_DGS\t(True, False)",
         "orientation": "v",
         "showlegend": true,
         "type": "scatter",
         "x": [
          4.873243808746338
         ],
         "xaxis": "x",
         "y": [
          0.036314383149147034
         ],
         "yaxis": "y"
        },
        {
         "hovertemplate": "color=1115321253085114373\tZaidBenjamin5\t(True, False)<br>0=%{x}<br>1=%{y}<extra></extra>",
         "legendgroup": "1115321253085114373\tZaidBenjamin5\t(True, False)",
         "marker": {
          "color": "#EF553B",
          "symbol": "circle"
         },
         "mode": "markers",
         "name": "1115321253085114373\tZaidBenjamin5\t(True, False)",
         "orientation": "v",
         "showlegend": true,
         "type": "scatter",
         "x": [
          3.5790350437164307
         ],
         "xaxis": "x",
         "y": [
          -0.21213389933109283
         ],
         "yaxis": "y"
        },
        {
         "hovertemplate": "color=1227161490060345345\tCYCLUB_UJ\t(True, False)<br>0=%{x}<br>1=%{y}<extra></extra>",
         "legendgroup": "1227161490060345345\tCYCLUB_UJ\t(True, False)",
         "marker": {
          "color": "#00cc96",
          "symbol": "circle"
         },
         "mode": "markers",
         "name": "1227161490060345345\tCYCLUB_UJ\t(True, False)",
         "orientation": "v",
         "showlegend": true,
         "type": "scatter",
         "x": [
          4.718838214874268
         ],
         "xaxis": "x",
         "y": [
          -0.1275668889284134
         ],
         "yaxis": "y"
        },
        {
         "hovertemplate": "color=1303737033031127046\tAnatomy_20\t(True, False)<br>0=%{x}<br>1=%{y}<extra></extra>",
         "legendgroup": "1303737033031127046\tAnatomy_20\t(True, False)",
         "marker": {
          "color": "#ab63fa",
          "symbol": "circle"
         },
         "mode": "markers",
         "name": "1303737033031127046\tAnatomy_20\t(True, False)",
         "orientation": "v",
         "showlegend": true,
         "type": "scatter",
         "x": [
          3.726602792739868
         ],
         "xaxis": "x",
         "y": [
          -0.3293510675430298
         ],
         "yaxis": "y"
        },
        {
         "hovertemplate": "color=758493553056243720\tproteoworker\t(True, False)<br>0=%{x}<br>1=%{y}<extra></extra>",
         "legendgroup": "758493553056243720\tproteoworker\t(True, False)",
         "marker": {
          "color": "#FFA15A",
          "symbol": "circle"
         },
         "mode": "markers",
         "name": "758493553056243720\tproteoworker\t(True, False)",
         "orientation": "v",
         "showlegend": true,
         "type": "scatter",
         "x": [
          3.340884208679199
         ],
         "xaxis": "x",
         "y": [
          -1.0876694917678833
         ],
         "yaxis": "y"
        },
        {
         "hovertemplate": "color=43307017\talasmari\t(True, False)<br>0=%{x}<br>1=%{y}<extra></extra>",
         "legendgroup": "43307017\talasmari\t(True, False)",
         "marker": {
          "color": "#19d3f3",
          "symbol": "circle"
         },
         "mode": "markers",
         "name": "43307017\talasmari\t(True, False)",
         "orientation": "v",
         "showlegend": true,
         "type": "scatter",
         "x": [
          5.042939186096191
         ],
         "xaxis": "x",
         "y": [
          0.8711234331130981
         ],
         "yaxis": "y"
        },
        {
         "hovertemplate": "color=844527637\trafanrefai\t(True, False)<br>0=%{x}<br>1=%{y}<extra></extra>",
         "legendgroup": "844527637\trafanrefai\t(True, False)",
         "marker": {
          "color": "#FF6692",
          "symbol": "circle"
         },
         "mode": "markers",
         "name": "844527637\trafanrefai\t(True, False)",
         "orientation": "v",
         "showlegend": true,
         "type": "scatter",
         "x": [
          4.119030952453613
         ],
         "xaxis": "x",
         "y": [
          -0.3204690217971802
         ],
         "yaxis": "y"
        },
        {
         "hovertemplate": "color=14256152\tFahad\t(True, False)<br>0=%{x}<br>1=%{y}<extra></extra>",
         "legendgroup": "14256152\tFahad\t(True, False)",
         "marker": {
          "color": "#B6E880",
          "symbol": "circle"
         },
         "mode": "markers",
         "name": "14256152\tFahad\t(True, False)",
         "orientation": "v",
         "showlegend": true,
         "type": "scatter",
         "x": [
          3.9305713176727295
         ],
         "xaxis": "x",
         "y": [
          0.09208989143371582
         ],
         "yaxis": "y"
        },
        {
         "hovertemplate": "color=317601818\tD_ALGHAMDI\t(True, False)<br>0=%{x}<br>1=%{y}<extra></extra>",
         "legendgroup": "317601818\tD_ALGHAMDI\t(True, False)",
         "marker": {
          "color": "#FF97FF",
          "symbol": "circle"
         },
         "mode": "markers",
         "name": "317601818\tD_ALGHAMDI\t(True, False)",
         "orientation": "v",
         "showlegend": true,
         "type": "scatter",
         "x": [
          4.846152305603027
         ],
         "xaxis": "x",
         "y": [
          1.5578529834747314
         ],
         "yaxis": "y"
        },
        {
         "hovertemplate": "color=167057437\tkadzuis\t(True, False)<br>0=%{x}<br>1=%{y}<extra></extra>",
         "legendgroup": "167057437\tkadzuis\t(True, False)",
         "marker": {
          "color": "#FECB52",
          "symbol": "circle"
         },
         "mode": "markers",
         "name": "167057437\tkadzuis\t(True, False)",
         "orientation": "v",
         "showlegend": true,
         "type": "scatter",
         "x": [
          3.5688729286193848
         ],
         "xaxis": "x",
         "y": [
          -0.9656986594200134
         ],
         "yaxis": "y"
        },
        {
         "hovertemplate": "color=793675806\tSaraAsafi\t(True, False)<br>0=%{x}<br>1=%{y}<extra></extra>",
         "legendgroup": "793675806\tSaraAsafi\t(True, False)",
         "marker": {
          "color": "#636efa",
          "symbol": "circle"
         },
         "mode": "markers",
         "name": "793675806\tSaraAsafi\t(True, False)",
         "orientation": "v",
         "showlegend": true,
         "type": "scatter",
         "x": [
          4.530241966247559
         ],
         "xaxis": "x",
         "y": [
          -0.6705619096755981
         ],
         "yaxis": "y"
        },
        {
         "hovertemplate": "color=153006116\tAhmedAlfares\t(True, False)<br>0=%{x}<br>1=%{y}<extra></extra>",
         "legendgroup": "153006116\tAhmedAlfares\t(True, False)",
         "marker": {
          "color": "#EF553B",
          "symbol": "circle"
         },
         "mode": "markers",
         "name": "153006116\tAhmedAlfares\t(True, False)",
         "orientation": "v",
         "showlegend": true,
         "type": "scatter",
         "x": [
          3.8671748638153076
         ],
         "xaxis": "x",
         "y": [
          -0.0025699890684336424
         ],
         "yaxis": "y"
        },
        {
         "hovertemplate": "color=361005092\tSouadALshammary\t(True, False)<br>0=%{x}<br>1=%{y}<extra></extra>",
         "legendgroup": "361005092\tSouadALshammary\t(True, False)",
         "marker": {
          "color": "#00cc96",
          "symbol": "circle"
         },
         "mode": "markers",
         "name": "361005092\tSouadALshammary\t(True, False)",
         "orientation": "v",
         "showlegend": true,
         "type": "scatter",
         "x": [
          3.890197992324829
         ],
         "xaxis": "x",
         "y": [
          -0.23627591133117676
         ],
         "yaxis": "y"
        },
        {
         "hovertemplate": "color=338939943\tAbo7ala50\t(True, False)<br>0=%{x}<br>1=%{y}<extra></extra>",
         "legendgroup": "338939943\tAbo7ala50\t(True, False)",
         "marker": {
          "color": "#ab63fa",
          "symbol": "circle"
         },
         "mode": "markers",
         "name": "338939943\tAbo7ala50\t(True, False)",
         "orientation": "v",
         "showlegend": true,
         "type": "scatter",
         "x": [
          4.639252185821533
         ],
         "xaxis": "x",
         "y": [
          0.9534831643104553
         ],
         "yaxis": "y"
        },
        {
         "hovertemplate": "color=633835559\tziyadfarahat\t(True, False)<br>0=%{x}<br>1=%{y}<extra></extra>",
         "legendgroup": "633835559\tziyadfarahat\t(True, False)",
         "marker": {
          "color": "#FFA15A",
          "symbol": "circle"
         },
         "mode": "markers",
         "name": "633835559\tziyadfarahat\t(True, False)",
         "orientation": "v",
         "showlegend": true,
         "type": "scatter",
         "x": [
          4.942711353302002
         ],
         "xaxis": "x",
         "y": [
          0.8449309468269348
         ],
         "yaxis": "y"
        },
        {
         "hovertemplate": "color=1879984172\tUWproteindesign\t(True, False)<br>0=%{x}<br>1=%{y}<extra></extra>",
         "legendgroup": "1879984172\tUWproteindesign\t(True, False)",
         "marker": {
          "color": "#19d3f3",
          "symbol": "circle"
         },
         "mode": "markers",
         "name": "1879984172\tUWproteindesign\t(True, False)",
         "orientation": "v",
         "showlegend": true,
         "type": "scatter",
         "x": [
          3.342414379119873
         ],
         "xaxis": "x",
         "y": [
          -0.6344918608665466
         ],
         "yaxis": "y"
        },
        {
         "hovertemplate": "color=132489263\tabumaan1\t(True, False)<br>0=%{x}<br>1=%{y}<extra></extra>",
         "legendgroup": "132489263\tabumaan1\t(True, False)",
         "marker": {
          "color": "#FF6692",
          "symbol": "circle"
         },
         "mode": "markers",
         "name": "132489263\tabumaan1\t(True, False)",
         "orientation": "v",
         "showlegend": true,
         "type": "scatter",
         "x": [
          4.8695969581604
         ],
         "xaxis": "x",
         "y": [
          0.5478362441062927
         ],
         "yaxis": "y"
        },
        {
         "hovertemplate": "color=32340023\tGoPro\t(True, False)<br>0=%{x}<br>1=%{y}<extra></extra>",
         "legendgroup": "32340023\tGoPro\t(True, False)",
         "marker": {
          "color": "#B6E880",
          "symbol": "circle"
         },
         "mode": "markers",
         "name": "32340023\tGoPro\t(True, False)",
         "orientation": "v",
         "showlegend": true,
         "type": "scatter",
         "x": [
          4.063457012176514
         ],
         "xaxis": "x",
         "y": [
          -0.7508814930915833
         ],
         "yaxis": "y"
        },
        {
         "hovertemplate": "color=398653503\tMal3thmani\t(True, False)<br>0=%{x}<br>1=%{y}<extra></extra>",
         "legendgroup": "398653503\tMal3thmani\t(True, False)",
         "marker": {
          "color": "#FF97FF",
          "symbol": "circle"
         },
         "mode": "markers",
         "name": "398653503\tMal3thmani\t(True, False)",
         "orientation": "v",
         "showlegend": true,
         "type": "scatter",
         "x": [
          3.2128500938415527
         ],
         "xaxis": "x",
         "y": [
          0.9088982343673706
         ],
         "yaxis": "y"
        },
        {
         "hovertemplate": "color=20328518\tyaserbakr\t(True, False)<br>0=%{x}<br>1=%{y}<extra></extra>",
         "legendgroup": "20328518\tyaserbakr\t(True, False)",
         "marker": {
          "color": "#FECB52",
          "symbol": "circle"
         },
         "mode": "markers",
         "name": "20328518\tyaserbakr\t(True, False)",
         "orientation": "v",
         "showlegend": true,
         "type": "scatter",
         "x": [
          4.249607563018799
         ],
         "xaxis": "x",
         "y": [
          0.04159026965498924
         ],
         "yaxis": "y"
        },
        {
         "hovertemplate": "color=353050706\tMusaed_Alzuhir\t(True, False)<br>0=%{x}<br>1=%{y}<extra></extra>",
         "legendgroup": "353050706\tMusaed_Alzuhir\t(True, False)",
         "marker": {
          "color": "#636efa",
          "symbol": "circle"
         },
         "mode": "markers",
         "name": "353050706\tMusaed_Alzuhir\t(True, False)",
         "orientation": "v",
         "showlegend": true,
         "type": "scatter",
         "x": [
          5.743927001953125
         ],
         "xaxis": "x",
         "y": [
          1.4699232578277588
         ],
         "yaxis": "y"
        },
        {
         "hovertemplate": "color=239564883\timuatazalsafi\t(True, False)<br>0=%{x}<br>1=%{y}<extra></extra>",
         "legendgroup": "239564883\timuatazalsafi\t(True, False)",
         "marker": {
          "color": "#EF553B",
          "symbol": "circle"
         },
         "mode": "markers",
         "name": "239564883\timuatazalsafi\t(True, False)",
         "orientation": "v",
         "showlegend": true,
         "type": "scatter",
         "x": [
          4.767789363861084
         ],
         "xaxis": "x",
         "y": [
          0.21569745242595673
         ],
         "yaxis": "y"
        },
        {
         "hovertemplate": "color=952471645\tSaudiCSI\t(True, False)<br>0=%{x}<br>1=%{y}<extra></extra>",
         "legendgroup": "952471645\tSaudiCSI\t(True, False)",
         "marker": {
          "color": "#00cc96",
          "symbol": "circle"
         },
         "mode": "markers",
         "name": "952471645\tSaudiCSI\t(True, False)",
         "orientation": "v",
         "showlegend": true,
         "type": "scatter",
         "x": [
          2.8559787273406982
         ],
         "xaxis": "x",
         "y": [
          0.4398564100265503
         ],
         "yaxis": "y"
        },
        {
         "hovertemplate": "color=589465697\tAlabsiAmro\t(True, False)<br>0=%{x}<br>1=%{y}<extra></extra>",
         "legendgroup": "589465697\tAlabsiAmro\t(True, False)",
         "marker": {
          "color": "#ab63fa",
          "symbol": "circle"
         },
         "mode": "markers",
         "name": "589465697\tAlabsiAmro\t(True, False)",
         "orientation": "v",
         "showlegend": true,
         "type": "scatter",
         "x": [
          4.97435188293457
         ],
         "xaxis": "x",
         "y": [
          0.9233204126358032
         ],
         "yaxis": "y"
        },
        {
         "hovertemplate": "color=429650020\tMEWA_KSA\t(True, False)<br>0=%{x}<br>1=%{y}<extra></extra>",
         "legendgroup": "429650020\tMEWA_KSA\t(True, False)",
         "marker": {
          "color": "#FFA15A",
          "symbol": "circle"
         },
         "mode": "markers",
         "name": "429650020\tMEWA_KSA\t(True, False)",
         "orientation": "v",
         "showlegend": true,
         "type": "scatter",
         "x": [
          3.470134735107422
         ],
         "xaxis": "x",
         "y": [
          0.9854223132133484
         ],
         "yaxis": "y"
        },
        {
         "hovertemplate": "color=357218427\tdinahajja\t(True, False)<br>0=%{x}<br>1=%{y}<extra></extra>",
         "legendgroup": "357218427\tdinahajja\t(True, False)",
         "marker": {
          "color": "#19d3f3",
          "symbol": "circle"
         },
         "mode": "markers",
         "name": "357218427\tdinahajja\t(True, False)",
         "orientation": "v",
         "showlegend": true,
         "type": "scatter",
         "x": [
          6.113449573516846
         ],
         "xaxis": "x",
         "y": [
          0.7224801778793335
         ],
         "yaxis": "y"
        },
        {
         "hovertemplate": "color=2546014335\tAmyRoko\t(True, False)<br>0=%{x}<br>1=%{y}<extra></extra>",
         "legendgroup": "2546014335\tAmyRoko\t(True, False)",
         "marker": {
          "color": "#FF6692",
          "symbol": "circle"
         },
         "mode": "markers",
         "name": "2546014335\tAmyRoko\t(True, False)",
         "orientation": "v",
         "showlegend": true,
         "type": "scatter",
         "x": [
          4.120209693908691
         ],
         "xaxis": "x",
         "y": [
          0.32611405849456787
         ],
         "yaxis": "y"
        },
        {
         "hovertemplate": "color=3022080128\tM3N7SN\t(True, False)<br>0=%{x}<br>1=%{y}<extra></extra>",
         "legendgroup": "3022080128\tM3N7SN\t(True, False)",
         "marker": {
          "color": "#B6E880",
          "symbol": "circle"
         },
         "mode": "markers",
         "name": "3022080128\tM3N7SN\t(True, False)",
         "orientation": "v",
         "showlegend": true,
         "type": "scatter",
         "x": [
          4.085752964019775
         ],
         "xaxis": "x",
         "y": [
          -0.5359814167022705
         ],
         "yaxis": "y"
        },
        {
         "hovertemplate": "color=740069944172417024\tAsciAlharbi\t(True, False)<br>0=%{x}<br>1=%{y}<extra></extra>",
         "legendgroup": "740069944172417024\tAsciAlharbi\t(True, False)",
         "marker": {
          "color": "#FF97FF",
          "symbol": "circle"
         },
         "mode": "markers",
         "name": "740069944172417024\tAsciAlharbi\t(True, False)",
         "orientation": "v",
         "showlegend": true,
         "type": "scatter",
         "x": [
          2.9805448055267334
         ],
         "xaxis": "x",
         "y": [
          0.04403480142354965
         ],
         "yaxis": "y"
        },
        {
         "hovertemplate": "color=744079647659462656\t1binkasem\t(True, False)<br>0=%{x}<br>1=%{y}<extra></extra>",
         "legendgroup": "744079647659462656\t1binkasem\t(True, False)",
         "marker": {
          "color": "#FECB52",
          "symbol": "circle"
         },
         "mode": "markers",
         "name": "744079647659462656\t1binkasem\t(True, False)",
         "orientation": "v",
         "showlegend": true,
         "type": "scatter",
         "x": [
          4.286244869232178
         ],
         "xaxis": "x",
         "y": [
          0.1311997026205063
         ],
         "yaxis": "y"
        },
        {
         "hovertemplate": "color=725825190677123072\tprof_alsafi\t(True, False)<br>0=%{x}<br>1=%{y}<extra></extra>",
         "legendgroup": "725825190677123072\tprof_alsafi\t(True, False)",
         "marker": {
          "color": "#636efa",
          "symbol": "circle"
         },
         "mode": "markers",
         "name": "725825190677123072\tprof_alsafi\t(True, False)",
         "orientation": "v",
         "showlegend": true,
         "type": "scatter",
         "x": [
          4.613608360290527
         ],
         "xaxis": "x",
         "y": [
          -0.41388633847236633
         ],
         "yaxis": "y"
        },
        {
         "hovertemplate": "color=797114726329225217\tmahootsha\t(True, False)<br>0=%{x}<br>1=%{y}<extra></extra>",
         "legendgroup": "797114726329225217\tmahootsha\t(True, False)",
         "marker": {
          "color": "#EF553B",
          "symbol": "circle"
         },
         "mode": "markers",
         "name": "797114726329225217\tmahootsha\t(True, False)",
         "orientation": "v",
         "showlegend": true,
         "type": "scatter",
         "x": [
          3.5800516605377197
         ],
         "xaxis": "x",
         "y": [
          -0.5629451870918274
         ],
         "yaxis": "y"
        },
        {
         "hovertemplate": "color=752199812\traed_albiheyri\t(True, False)<br>0=%{x}<br>1=%{y}<extra></extra>",
         "legendgroup": "752199812\traed_albiheyri\t(True, False)",
         "marker": {
          "color": "#00cc96",
          "symbol": "circle"
         },
         "mode": "markers",
         "name": "752199812\traed_albiheyri\t(True, False)",
         "orientation": "v",
         "showlegend": true,
         "type": "scatter",
         "x": [
          3.292407274246216
         ],
         "xaxis": "x",
         "y": [
          0.6576139330863953
         ],
         "yaxis": "y"
        },
        {
         "hovertemplate": "color=156334217\tFaris_ta\t(True, False)<br>0=%{x}<br>1=%{y}<extra></extra>",
         "legendgroup": "156334217\tFaris_ta\t(True, False)",
         "marker": {
          "color": "#ab63fa",
          "symbol": "circle"
         },
         "mode": "markers",
         "name": "156334217\tFaris_ta\t(True, False)",
         "orientation": "v",
         "showlegend": true,
         "type": "scatter",
         "x": [
          3.464343309402466
         ],
         "xaxis": "x",
         "y": [
          -0.0025269193574786186
         ],
         "yaxis": "y"
        },
        {
         "hovertemplate": "color=250714261\tDR_MOHDH1400\t(True, False)<br>0=%{x}<br>1=%{y}<extra></extra>",
         "legendgroup": "250714261\tDR_MOHDH1400\t(True, False)",
         "marker": {
          "color": "#FFA15A",
          "symbol": "circle"
         },
         "mode": "markers",
         "name": "250714261\tDR_MOHDH1400\t(True, False)",
         "orientation": "v",
         "showlegend": true,
         "type": "scatter",
         "x": [
          4.896986961364746
         ],
         "xaxis": "x",
         "y": [
          0.6109192371368408
         ],
         "yaxis": "y"
        },
        {
         "hovertemplate": "color=611596438\tbeebo_greeno\t(True, False)<br>0=%{x}<br>1=%{y}<extra></extra>",
         "legendgroup": "611596438\tbeebo_greeno\t(True, False)",
         "marker": {
          "color": "#19d3f3",
          "symbol": "circle"
         },
         "mode": "markers",
         "name": "611596438\tbeebo_greeno\t(True, False)",
         "orientation": "v",
         "showlegend": true,
         "type": "scatter",
         "x": [
          3.4376626014709473
         ],
         "xaxis": "x",
         "y": [
          0.529730498790741
         ],
         "yaxis": "y"
        },
        {
         "hovertemplate": "color=246921377\tqunaibet\t(True, False)<br>0=%{x}<br>1=%{y}<extra></extra>",
         "legendgroup": "246921377\tqunaibet\t(True, False)",
         "marker": {
          "color": "#FF6692",
          "symbol": "circle"
         },
         "mode": "markers",
         "name": "246921377\tqunaibet\t(True, False)",
         "orientation": "v",
         "showlegend": true,
         "type": "scatter",
         "x": [
          3.759777069091797
         ],
         "xaxis": "x",
         "y": [
          -0.3761557936668396
         ],
         "yaxis": "y"
        },
        {
         "hovertemplate": "color=18264226\tKACST\t(True, False)<br>0=%{x}<br>1=%{y}<extra></extra>",
         "legendgroup": "18264226\tKACST\t(True, False)",
         "marker": {
          "color": "#B6E880",
          "symbol": "circle"
         },
         "mode": "markers",
         "name": "18264226\tKACST\t(True, False)",
         "orientation": "v",
         "showlegend": true,
         "type": "scatter",
         "x": [
          2.3482882976531982
         ],
         "xaxis": "x",
         "y": [
          0.2692559063434601
         ],
         "yaxis": "y"
        },
        {
         "hovertemplate": "color=172382372\tplasmaprofiling\t(True, False)<br>0=%{x}<br>1=%{y}<extra></extra>",
         "legendgroup": "172382372\tplasmaprofiling\t(True, False)",
         "marker": {
          "color": "#FF97FF",
          "symbol": "circle"
         },
         "mode": "markers",
         "name": "172382372\tplasmaprofiling\t(True, False)",
         "orientation": "v",
         "showlegend": true,
         "type": "scatter",
         "x": [
          3.4012255668640137
         ],
         "xaxis": "x",
         "y": [
          -1.109070897102356
         ],
         "yaxis": "y"
        },
        {
         "hovertemplate": "color=292784297\tSaudi_FDA\t(True, False)<br>0=%{x}<br>1=%{y}<extra></extra>",
         "legendgroup": "292784297\tSaudi_FDA\t(True, False)",
         "marker": {
          "color": "#FECB52",
          "symbol": "circle"
         },
         "mode": "markers",
         "name": "292784297\tSaudi_FDA\t(True, False)",
         "orientation": "v",
         "showlegend": true,
         "type": "scatter",
         "x": [
          2.7178597450256348
         ],
         "xaxis": "x",
         "y": [
          1.4101513624191284
         ],
         "yaxis": "y"
        },
        {
         "hovertemplate": "color=319045802\tShosawi\t(True, False)<br>0=%{x}<br>1=%{y}<extra></extra>",
         "legendgroup": "319045802\tShosawi\t(True, False)",
         "marker": {
          "color": "#636efa",
          "symbol": "circle"
         },
         "mode": "markers",
         "name": "319045802\tShosawi\t(True, False)",
         "orientation": "v",
         "showlegend": true,
         "type": "scatter",
         "x": [
          3.1720943450927734
         ],
         "xaxis": "x",
         "y": [
          0.7722328305244446
         ],
         "yaxis": "y"
        },
        {
         "hovertemplate": "color=360634545\tsaedalsaleh1\t(True, False)<br>0=%{x}<br>1=%{y}<extra></extra>",
         "legendgroup": "360634545\tsaedalsaleh1\t(True, False)",
         "marker": {
          "color": "#EF553B",
          "symbol": "circle"
         },
         "mode": "markers",
         "name": "360634545\tsaedalsaleh1\t(True, False)",
         "orientation": "v",
         "showlegend": true,
         "type": "scatter",
         "x": [
          4.580244541168213
         ],
         "xaxis": "x",
         "y": [
          0.4608626067638397
         ],
         "yaxis": "y"
        },
        {
         "hovertemplate": "color=2405679281\tBIOCclubKSU\t(True, False)<br>0=%{x}<br>1=%{y}<extra></extra>",
         "legendgroup": "2405679281\tBIOCclubKSU\t(True, False)",
         "marker": {
          "color": "#00cc96",
          "symbol": "circle"
         },
         "mode": "markers",
         "name": "2405679281\tBIOCclubKSU\t(True, False)",
         "orientation": "v",
         "showlegend": true,
         "type": "scatter",
         "x": [
          3.1486523151397705
         ],
         "xaxis": "x",
         "y": [
          0.2644821107387543
         ],
         "yaxis": "y"
        },
        {
         "hovertemplate": "color=604940472\tLAlsafi\t(True, False)<br>0=%{x}<br>1=%{y}<extra></extra>",
         "legendgroup": "604940472\tLAlsafi\t(True, False)",
         "marker": {
          "color": "#ab63fa",
          "symbol": "circle"
         },
         "mode": "markers",
         "name": "604940472\tLAlsafi\t(True, False)",
         "orientation": "v",
         "showlegend": true,
         "type": "scatter",
         "x": [
          4.466338634490967
         ],
         "xaxis": "x",
         "y": [
          -0.5744264721870422
         ],
         "yaxis": "y"
        },
        {
         "hovertemplate": "color=58427580\tJeddahAmanah\t(True, False)<br>0=%{x}<br>1=%{y}<extra></extra>",
         "legendgroup": "58427580\tJeddahAmanah\t(True, False)",
         "marker": {
          "color": "#FFA15A",
          "symbol": "circle"
         },
         "mode": "markers",
         "name": "58427580\tJeddahAmanah\t(True, False)",
         "orientation": "v",
         "showlegend": true,
         "type": "scatter",
         "x": [
          2.84547758102417
         ],
         "xaxis": "x",
         "y": [
          1.474682331085205
         ],
         "yaxis": "y"
        },
        {
         "hovertemplate": "color=594753742\tlipidmaps\t(True, False)<br>0=%{x}<br>1=%{y}<extra></extra>",
         "legendgroup": "594753742\tlipidmaps\t(True, False)",
         "marker": {
          "color": "#19d3f3",
          "symbol": "circle"
         },
         "mode": "markers",
         "name": "594753742\tlipidmaps\t(True, False)",
         "orientation": "v",
         "showlegend": true,
         "type": "scatter",
         "x": [
          3.389289379119873
         ],
         "xaxis": "x",
         "y": [
          -1.004061222076416
         ],
         "yaxis": "y"
        },
        {
         "hovertemplate": "color=402665693\tFHIDAN4\t(True, False)<br>0=%{x}<br>1=%{y}<extra></extra>",
         "legendgroup": "402665693\tFHIDAN4\t(True, False)",
         "marker": {
          "color": "#FF6692",
          "symbol": "circle"
         },
         "mode": "markers",
         "name": "402665693\tFHIDAN4\t(True, False)",
         "orientation": "v",
         "showlegend": true,
         "type": "scatter",
         "x": [
          3.2773680686950684
         ],
         "xaxis": "x",
         "y": [
          0.5841065645217896
         ],
         "yaxis": "y"
        },
        {
         "hovertemplate": "color=737399022\tgh_alrefaei\t(True, False)<br>0=%{x}<br>1=%{y}<extra></extra>",
         "legendgroup": "737399022\tgh_alrefaei\t(True, False)",
         "marker": {
          "color": "#B6E880",
          "symbol": "circle"
         },
         "mode": "markers",
         "name": "737399022\tgh_alrefaei\t(True, False)",
         "orientation": "v",
         "showlegend": true,
         "type": "scatter",
         "x": [
          6.623687267303467
         ],
         "xaxis": "x",
         "y": [
          1.0979079008102417
         ],
         "yaxis": "y"
        },
        {
         "hovertemplate": "color=223090933\talshref_fa\t(True, False)<br>0=%{x}<br>1=%{y}<extra></extra>",
         "legendgroup": "223090933\talshref_fa\t(True, False)",
         "marker": {
          "color": "#FF97FF",
          "symbol": "circle"
         },
         "mode": "markers",
         "name": "223090933\talshref_fa\t(True, False)",
         "orientation": "v",
         "showlegend": true,
         "type": "scatter",
         "x": [
          2.8412036895751953
         ],
         "xaxis": "x",
         "y": [
          -0.2674960196018219
         ],
         "yaxis": "y"
        },
        {
         "hovertemplate": "color=257102078\tAziza32\t(True, False)<br>0=%{x}<br>1=%{y}<extra></extra>",
         "legendgroup": "257102078\tAziza32\t(True, False)",
         "marker": {
          "color": "#FECB52",
          "symbol": "circle"
         },
         "mode": "markers",
         "name": "257102078\tAziza32\t(True, False)",
         "orientation": "v",
         "showlegend": true,
         "type": "scatter",
         "x": [
          3.4890060424804688
         ],
         "xaxis": "x",
         "y": [
          -0.4379958212375641
         ],
         "yaxis": "y"
        },
        {
         "hovertemplate": "color=815722835192717312\tnajwaotb2\t(True, False)<br>0=%{x}<br>1=%{y}<extra></extra>",
         "legendgroup": "815722835192717312\tnajwaotb2\t(True, False)",
         "marker": {
          "color": "#636efa",
          "symbol": "circle"
         },
         "mode": "markers",
         "name": "815722835192717312\tnajwaotb2\t(True, False)",
         "orientation": "v",
         "showlegend": true,
         "type": "scatter",
         "x": [
          3.832805633544922
         ],
         "xaxis": "x",
         "y": [
          4.133232593536377
         ],
         "yaxis": "y"
        },
        {
         "hovertemplate": "color=1198039298\tMiskKSA\t(True, False)<br>0=%{x}<br>1=%{y}<extra></extra>",
         "legendgroup": "1198039298\tMiskKSA\t(True, False)",
         "marker": {
          "color": "#EF553B",
          "symbol": "circle"
         },
         "mode": "markers",
         "name": "1198039298\tMiskKSA\t(True, False)",
         "orientation": "v",
         "showlegend": true,
         "type": "scatter",
         "x": [
          3.048687696456909
         ],
         "xaxis": "x",
         "y": [
          1.7446404695510864
         ],
         "yaxis": "y"
        },
        {
         "hovertemplate": "color=702175198087421952\tSISA_media\t(True, False)<br>0=%{x}<br>1=%{y}<extra></extra>",
         "legendgroup": "702175198087421952\tSISA_media\t(True, False)",
         "marker": {
          "color": "#00cc96",
          "symbol": "circle"
         },
         "mode": "markers",
         "name": "702175198087421952\tSISA_media\t(True, False)",
         "orientation": "v",
         "showlegend": true,
         "type": "scatter",
         "x": [
          4.2226643562316895
         ],
         "xaxis": "x",
         "y": [
          0.05338858813047409
         ],
         "yaxis": "y"
        },
        {
         "hovertemplate": "color=57989379\tNejer\t(True, False)<br>0=%{x}<br>1=%{y}<extra></extra>",
         "legendgroup": "57989379\tNejer\t(True, False)",
         "marker": {
          "color": "#ab63fa",
          "symbol": "circle"
         },
         "mode": "markers",
         "name": "57989379\tNejer\t(True, False)",
         "orientation": "v",
         "showlegend": true,
         "type": "scatter",
         "x": [
          3.715350866317749
         ],
         "xaxis": "x",
         "y": [
          0.14595265686511993
         ],
         "yaxis": "y"
        },
        {
         "hovertemplate": "color=2378416391\td_alsubahi\t(True, False)<br>0=%{x}<br>1=%{y}<extra></extra>",
         "legendgroup": "2378416391\td_alsubahi\t(True, False)",
         "marker": {
          "color": "#FFA15A",
          "symbol": "circle"
         },
         "mode": "markers",
         "name": "2378416391\td_alsubahi\t(True, False)",
         "orientation": "v",
         "showlegend": true,
         "type": "scatter",
         "x": [
          6.421270847320557
         ],
         "xaxis": "x",
         "y": [
          0.697600781917572
         ],
         "yaxis": "y"
        },
        {
         "hovertemplate": "color=1875054860\tsecurity_gov\t(True, False)<br>0=%{x}<br>1=%{y}<extra></extra>",
         "legendgroup": "1875054860\tsecurity_gov\t(True, False)",
         "marker": {
          "color": "#19d3f3",
          "symbol": "circle"
         },
         "mode": "markers",
         "name": "1875054860\tsecurity_gov\t(True, False)",
         "orientation": "v",
         "showlegend": true,
         "type": "scatter",
         "x": [
          2.680751085281372
         ],
         "xaxis": "x",
         "y": [
          1.906949520111084
         ],
         "yaxis": "y"
        },
        {
         "hovertemplate": "color=4871860497\tHAYYAK_DSA\t(True, False)<br>0=%{x}<br>1=%{y}<extra></extra>",
         "legendgroup": "4871860497\tHAYYAK_DSA\t(True, False)",
         "marker": {
          "color": "#FF6692",
          "symbol": "circle"
         },
         "mode": "markers",
         "name": "4871860497\tHAYYAK_DSA\t(True, False)",
         "orientation": "v",
         "showlegend": true,
         "type": "scatter",
         "x": [
          2.9899308681488037
         ],
         "xaxis": "x",
         "y": [
          -0.4111427068710327
         ],
         "yaxis": "y"
        },
        {
         "hovertemplate": "color=41931032\tNotabilityApp\t(True, False)<br>0=%{x}<br>1=%{y}<extra></extra>",
         "legendgroup": "41931032\tNotabilityApp\t(True, False)",
         "marker": {
          "color": "#B6E880",
          "symbol": "circle"
         },
         "mode": "markers",
         "name": "41931032\tNotabilityApp\t(True, False)",
         "orientation": "v",
         "showlegend": true,
         "type": "scatter",
         "x": [
          3.7845523357391357
         ],
         "xaxis": "x",
         "y": [
          -0.5708971619606018
         ],
         "yaxis": "y"
        },
        {
         "hovertemplate": "color=11348282\tNASA\t(True, False)<br>0=%{x}<br>1=%{y}<extra></extra>",
         "legendgroup": "11348282\tNASA\t(True, False)",
         "marker": {
          "color": "#FF97FF",
          "symbol": "circle"
         },
         "mode": "markers",
         "name": "11348282\tNASA\t(True, False)",
         "orientation": "v",
         "showlegend": true,
         "type": "scatter",
         "x": [
          3.671996593475342
         ],
         "xaxis": "x",
         "y": [
          -0.8894297480583191
         ],
         "yaxis": "y"
        },
        {
         "hovertemplate": "color=261290300\tFahad_Almsned\t(True, False)<br>0=%{x}<br>1=%{y}<extra></extra>",
         "legendgroup": "261290300\tFahad_Almsned\t(True, False)",
         "marker": {
          "color": "#FECB52",
          "symbol": "circle"
         },
         "mode": "markers",
         "name": "261290300\tFahad_Almsned\t(True, False)",
         "orientation": "v",
         "showlegend": true,
         "type": "scatter",
         "x": [
          2.536247730255127
         ],
         "xaxis": "x",
         "y": [
          -0.30441126227378845
         ],
         "yaxis": "y"
        },
        {
         "hovertemplate": "color=1078192482\tSciTalk2U\t(True, False)<br>0=%{x}<br>1=%{y}<extra></extra>",
         "legendgroup": "1078192482\tSciTalk2U\t(True, False)",
         "marker": {
          "color": "#636efa",
          "symbol": "circle"
         },
         "mode": "markers",
         "name": "1078192482\tSciTalk2U\t(True, False)",
         "orientation": "v",
         "showlegend": true,
         "type": "scatter",
         "x": [
          3.3220980167388916
         ],
         "xaxis": "x",
         "y": [
          0.10698188841342926
         ],
         "yaxis": "y"
        },
        {
         "hovertemplate": "color=379230570\tkhalidALNamlah\t(True, False)<br>0=%{x}<br>1=%{y}<extra></extra>",
         "legendgroup": "379230570\tkhalidALNamlah\t(True, False)",
         "marker": {
          "color": "#EF553B",
          "symbol": "circle"
         },
         "mode": "markers",
         "name": "379230570\tkhalidALNamlah\t(True, False)",
         "orientation": "v",
         "showlegend": true,
         "type": "scatter",
         "x": [
          4.318732261657715
         ],
         "xaxis": "x",
         "y": [
          0.34277409315109253
         ],
         "yaxis": "y"
        },
        {
         "hovertemplate": "color=2808891756\tmidwife_monaBuk\t(True, False)<br>0=%{x}<br>1=%{y}<extra></extra>",
         "legendgroup": "2808891756\tmidwife_monaBuk\t(True, False)",
         "marker": {
          "color": "#00cc96",
          "symbol": "circle"
         },
         "mode": "markers",
         "name": "2808891756\tmidwife_monaBuk\t(True, False)",
         "orientation": "v",
         "showlegend": true,
         "type": "scatter",
         "x": [
          5.3253865242004395
         ],
         "xaxis": "x",
         "y": [
          2.188967227935791
         ],
         "yaxis": "y"
        },
        {
         "hovertemplate": "color=248351103\tAHABIBULLAH\t(True, False)<br>0=%{x}<br>1=%{y}<extra></extra>",
         "legendgroup": "248351103\tAHABIBULLAH\t(True, False)",
         "marker": {
          "color": "#ab63fa",
          "symbol": "circle"
         },
         "mode": "markers",
         "name": "248351103\tAHABIBULLAH\t(True, False)",
         "orientation": "v",
         "showlegend": true,
         "type": "scatter",
         "x": [
          3.6240346431732178
         ],
         "xaxis": "x",
         "y": [
          -0.27590665221214294
         ],
         "yaxis": "y"
        },
        {
         "hovertemplate": "color=767749589931667456\tLange_Lab\t(True, False)<br>0=%{x}<br>1=%{y}<extra></extra>",
         "legendgroup": "767749589931667456\tLange_Lab\t(True, False)",
         "marker": {
          "color": "#FFA15A",
          "symbol": "circle"
         },
         "mode": "markers",
         "name": "767749589931667456\tLange_Lab\t(True, False)",
         "orientation": "v",
         "showlegend": true,
         "type": "scatter",
         "x": [
          3.404336929321289
         ],
         "xaxis": "x",
         "y": [
          -1.072415828704834
         ],
         "yaxis": "y"
        },
        {
         "hovertemplate": "color=445153669\tsaudi_dr\t(True, False)<br>0=%{x}<br>1=%{y}<extra></extra>",
         "legendgroup": "445153669\tsaudi_dr\t(True, False)",
         "marker": {
          "color": "#19d3f3",
          "symbol": "circle"
         },
         "mode": "markers",
         "name": "445153669\tsaudi_dr\t(True, False)",
         "orientation": "v",
         "showlegend": true,
         "type": "scatter",
         "x": [
          3.8576815128326416
         ],
         "xaxis": "x",
         "y": [
          4.2067341804504395
         ],
         "yaxis": "y"
        },
        {
         "hovertemplate": "color=1350168378678390785\tjezanyat\t(True, False)<br>0=%{x}<br>1=%{y}<extra></extra>",
         "legendgroup": "1350168378678390785\tjezanyat\t(True, False)",
         "marker": {
          "color": "#FF6692",
          "symbol": "circle"
         },
         "mode": "markers",
         "name": "1350168378678390785\tjezanyat\t(True, False)",
         "orientation": "v",
         "showlegend": true,
         "type": "scatter",
         "x": [
          3.52937650680542
         ],
         "xaxis": "x",
         "y": [
          -0.34057021141052246
         ],
         "yaxis": "y"
        },
        {
         "hovertemplate": "color=397097374\tmohammad_s_arab\t(True, False)<br>0=%{x}<br>1=%{y}<extra></extra>",
         "legendgroup": "397097374\tmohammad_s_arab\t(True, False)",
         "marker": {
          "color": "#B6E880",
          "symbol": "circle"
         },
         "mode": "markers",
         "name": "397097374\tmohammad_s_arab\t(True, False)",
         "orientation": "v",
         "showlegend": true,
         "type": "scatter",
         "x": [
          2.6074612140655518
         ],
         "xaxis": "x",
         "y": [
          0.30971649289131165
         ],
         "yaxis": "y"
        },
        {
         "hovertemplate": "color=748853665\tmohammad_alsafi\t(True, False)<br>0=%{x}<br>1=%{y}<extra></extra>",
         "legendgroup": "748853665\tmohammad_alsafi\t(True, False)",
         "marker": {
          "color": "#FF97FF",
          "symbol": "circle"
         },
         "mode": "markers",
         "name": "748853665\tmohammad_alsafi\t(True, False)",
         "orientation": "v",
         "showlegend": true,
         "type": "scatter",
         "x": [
          4.6472907066345215
         ],
         "xaxis": "x",
         "y": [
          -0.6614459156990051
         ],
         "yaxis": "y"
        },
        {
         "hovertemplate": "color=3242072481\tCell_Metabolism\t(True, False)<br>0=%{x}<br>1=%{y}<extra></extra>",
         "legendgroup": "3242072481\tCell_Metabolism\t(True, False)",
         "marker": {
          "color": "#FECB52",
          "symbol": "circle"
         },
         "mode": "markers",
         "name": "3242072481\tCell_Metabolism\t(True, False)",
         "orientation": "v",
         "showlegend": true,
         "type": "scatter",
         "x": [
          3.447103500366211
         ],
         "xaxis": "x",
         "y": [
          -1.1162689924240112
         ],
         "yaxis": "y"
        },
        {
         "hovertemplate": "color=243220903\tdoooooors\t(True, False)<br>0=%{x}<br>1=%{y}<extra></extra>",
         "legendgroup": "243220903\tdoooooors\t(True, False)",
         "marker": {
          "color": "#636efa",
          "symbol": "circle"
         },
         "mode": "markers",
         "name": "243220903\tdoooooors\t(True, False)",
         "orientation": "v",
         "showlegend": true,
         "type": "scatter",
         "x": [
          2.6482880115509033
         ],
         "xaxis": "x",
         "y": [
          0.09800560772418976
         ],
         "yaxis": "y"
        },
        {
         "hovertemplate": "color=419008945\tWesamAArab\t(True, False)<br>0=%{x}<br>1=%{y}<extra></extra>",
         "legendgroup": "419008945\tWesamAArab\t(True, False)",
         "marker": {
          "color": "#EF553B",
          "symbol": "circle"
         },
         "mode": "markers",
         "name": "419008945\tWesamAArab\t(True, False)",
         "orientation": "v",
         "showlegend": true,
         "type": "scatter",
         "x": [
          3.4411535263061523
         ],
         "xaxis": "x",
         "y": [
          0.6711755394935608
         ],
         "yaxis": "y"
        },
        {
         "hovertemplate": "color=224367026\tmontanastate\t(True, False)<br>0=%{x}<br>1=%{y}<extra></extra>",
         "legendgroup": "224367026\tmontanastate\t(True, False)",
         "marker": {
          "color": "#00cc96",
          "symbol": "circle"
         },
         "mode": "markers",
         "name": "224367026\tmontanastate\t(True, False)",
         "orientation": "v",
         "showlegend": true,
         "type": "scatter",
         "x": [
          3.5478696823120117
         ],
         "xaxis": "x",
         "y": [
          -0.020857835188508034
         ],
         "yaxis": "y"
        },
        {
         "hovertemplate": "color=930044378\tcaptenmd2001\t(True, False)<br>0=%{x}<br>1=%{y}<extra></extra>",
         "legendgroup": "930044378\tcaptenmd2001\t(True, False)",
         "marker": {
          "color": "#ab63fa",
          "symbol": "circle"
         },
         "mode": "markers",
         "name": "930044378\tcaptenmd2001\t(True, False)",
         "orientation": "v",
         "showlegend": true,
         "type": "scatter",
         "x": [
          4.99133825302124
         ],
         "xaxis": "x",
         "y": [
          1.1738687753677368
         ],
         "yaxis": "y"
        },
        {
         "hovertemplate": "color=447119835\tmamh2020\t(True, False)<br>0=%{x}<br>1=%{y}<extra></extra>",
         "legendgroup": "447119835\tmamh2020\t(True, False)",
         "marker": {
          "color": "#FFA15A",
          "symbol": "circle"
         },
         "mode": "markers",
         "name": "447119835\tmamh2020\t(True, False)",
         "orientation": "v",
         "showlegend": true,
         "type": "scatter",
         "x": [
          4.106864929199219
         ],
         "xaxis": "x",
         "y": [
          0.32209670543670654
         ],
         "yaxis": "y"
        },
        {
         "hovertemplate": "color=3165178346\tDalal_Alsaedi\t(True, False)<br>0=%{x}<br>1=%{y}<extra></extra>",
         "legendgroup": "3165178346\tDalal_Alsaedi\t(True, False)",
         "marker": {
          "color": "#19d3f3",
          "symbol": "circle"
         },
         "mode": "markers",
         "name": "3165178346\tDalal_Alsaedi\t(True, False)",
         "orientation": "v",
         "showlegend": true,
         "type": "scatter",
         "x": [
          2.941542625427246
         ],
         "xaxis": "x",
         "y": [
          0.09574110805988312
         ],
         "yaxis": "y"
        },
        {
         "hovertemplate": "color=17471979\tNatGeo\t(True, False)<br>0=%{x}<br>1=%{y}<extra></extra>",
         "legendgroup": "17471979\tNatGeo\t(True, False)",
         "marker": {
          "color": "#FF6692",
          "symbol": "circle"
         },
         "mode": "markers",
         "name": "17471979\tNatGeo\t(True, False)",
         "orientation": "v",
         "showlegend": true,
         "type": "scatter",
         "x": [
          3.593888998031616
         ],
         "xaxis": "x",
         "y": [
          -0.811699628829956
         ],
         "yaxis": "y"
        },
        {
         "hovertemplate": "color=246266348\tBrdesee\t(True, False)<br>0=%{x}<br>1=%{y}<extra></extra>",
         "legendgroup": "246266348\tBrdesee\t(True, False)",
         "marker": {
          "color": "#B6E880",
          "symbol": "circle"
         },
         "mode": "markers",
         "name": "246266348\tBrdesee\t(True, False)",
         "orientation": "v",
         "showlegend": true,
         "type": "scatter",
         "x": [
          5.614676475524902
         ],
         "xaxis": "x",
         "y": [
          0.9827747941017151
         ],
         "yaxis": "y"
        },
        {
         "hovertemplate": "color=594579950\tjdyousef\t(True, False)<br>0=%{x}<br>1=%{y}<extra></extra>",
         "legendgroup": "594579950\tjdyousef\t(True, False)",
         "marker": {
          "color": "#FF97FF",
          "symbol": "circle"
         },
         "mode": "markers",
         "name": "594579950\tjdyousef\t(True, False)",
         "orientation": "v",
         "showlegend": true,
         "type": "scatter",
         "x": [
          6.3575663566589355
         ],
         "xaxis": "x",
         "y": [
          0.9592761397361755
         ],
         "yaxis": "y"
        },
        {
         "hovertemplate": "color=722898417555488768\tFahadMuhayya\t(True, False)<br>0=%{x}<br>1=%{y}<extra></extra>",
         "legendgroup": "722898417555488768\tFahadMuhayya\t(True, False)",
         "marker": {
          "color": "#FECB52",
          "symbol": "circle"
         },
         "mode": "markers",
         "name": "722898417555488768\tFahadMuhayya\t(True, False)",
         "orientation": "v",
         "showlegend": true,
         "type": "scatter",
         "x": [
          5.85287618637085
         ],
         "xaxis": "x",
         "y": [
          0.8358483910560608
         ],
         "yaxis": "y"
        },
        {
         "hovertemplate": "color=808331051974148096\tlabthology\t(True, False)<br>0=%{x}<br>1=%{y}<extra></extra>",
         "legendgroup": "808331051974148096\tlabthology\t(True, False)",
         "marker": {
          "color": "#636efa",
          "symbol": "circle"
         },
         "mode": "markers",
         "name": "808331051974148096\tlabthology\t(True, False)",
         "orientation": "v",
         "showlegend": true,
         "type": "scatter",
         "x": [
          2.2944459915161133
         ],
         "xaxis": "x",
         "y": [
          0.18251308798789978
         ],
         "yaxis": "y"
        },
        {
         "hovertemplate": "color=1513652738\teMoroor\t(True, False)<br>0=%{x}<br>1=%{y}<extra></extra>",
         "legendgroup": "1513652738\teMoroor\t(True, False)",
         "marker": {
          "color": "#EF553B",
          "symbol": "circle"
         },
         "mode": "markers",
         "name": "1513652738\teMoroor\t(True, False)",
         "orientation": "v",
         "showlegend": true,
         "type": "scatter",
         "x": [
          2.7313852310180664
         ],
         "xaxis": "x",
         "y": [
          1.6826155185699463
         ],
         "yaxis": "y"
        },
        {
         "hovertemplate": "color=1083267652800430081\tHsad_KAU\t(True, False)<br>0=%{x}<br>1=%{y}<extra></extra>",
         "legendgroup": "1083267652800430081\tHsad_KAU\t(True, False)",
         "marker": {
          "color": "#00cc96",
          "symbol": "circle"
         },
         "mode": "markers",
         "name": "1083267652800430081\tHsad_KAU\t(True, False)",
         "orientation": "v",
         "showlegend": true,
         "type": "scatter",
         "x": [
          3.438995838165283
         ],
         "xaxis": "x",
         "y": [
          -0.03746117651462555
         ],
         "yaxis": "y"
        },
        {
         "hovertemplate": "color=1072447470947483649\tLab_Diagnostics\t(True, False)<br>0=%{x}<br>1=%{y}<extra></extra>",
         "legendgroup": "1072447470947483649\tLab_Diagnostics\t(True, False)",
         "marker": {
          "color": "#ab63fa",
          "symbol": "circle"
         },
         "mode": "markers",
         "name": "1072447470947483649\tLab_Diagnostics\t(True, False)",
         "orientation": "v",
         "showlegend": true,
         "type": "scatter",
         "x": [
          2.9175162315368652
         ],
         "xaxis": "x",
         "y": [
          0.19204483926296234
         ],
         "yaxis": "y"
        },
        {
         "hovertemplate": "color=279396878\tAbuamrh\t(True, False)<br>0=%{x}<br>1=%{y}<extra></extra>",
         "legendgroup": "279396878\tAbuamrh\t(True, False)",
         "marker": {
          "color": "#FFA15A",
          "symbol": "circle"
         },
         "mode": "markers",
         "name": "279396878\tAbuamrh\t(True, False)",
         "orientation": "v",
         "showlegend": true,
         "type": "scatter",
         "x": [
          4.010526657104492
         ],
         "xaxis": "x",
         "y": [
          0.17539343237876892
         ],
         "yaxis": "y"
        },
        {
         "hovertemplate": "color=714770972\tdod7_M\t(True, False)<br>0=%{x}<br>1=%{y}<extra></extra>",
         "legendgroup": "714770972\tdod7_M\t(True, False)",
         "marker": {
          "color": "#19d3f3",
          "symbol": "circle"
         },
         "mode": "markers",
         "name": "714770972\tdod7_M\t(True, False)",
         "orientation": "v",
         "showlegend": true,
         "type": "scatter",
         "x": [
          4.188991546630859
         ],
         "xaxis": "x",
         "y": [
          -0.40647175908088684
         ],
         "yaxis": "y"
        },
        {
         "hovertemplate": "color=86626845\tEricTopol\t(True, False)<br>0=%{x}<br>1=%{y}<extra></extra>",
         "legendgroup": "86626845\tEricTopol\t(True, False)",
         "marker": {
          "color": "#FF6692",
          "symbol": "circle"
         },
         "mode": "markers",
         "name": "86626845\tEricTopol\t(True, False)",
         "orientation": "v",
         "showlegend": true,
         "type": "scatter",
         "x": [
          3.414611339569092
         ],
         "xaxis": "x",
         "y": [
          -1.016835331916809
         ],
         "yaxis": "y"
        },
        {
         "hovertemplate": "color=3145124384\tzezokalantan\t(True, False)<br>0=%{x}<br>1=%{y}<extra></extra>",
         "legendgroup": "3145124384\tzezokalantan\t(True, False)",
         "marker": {
          "color": "#B6E880",
          "symbol": "circle"
         },
         "mode": "markers",
         "name": "3145124384\tzezokalantan\t(True, False)",
         "orientation": "v",
         "showlegend": true,
         "type": "scatter",
         "x": [
          2.6965465545654297
         ],
         "xaxis": "x",
         "y": [
          0.41142597794532776
         ],
         "yaxis": "y"
        },
        {
         "hovertemplate": "color=1723896360\tRSAGT\t(True, False)<br>0=%{x}<br>1=%{y}<extra></extra>",
         "legendgroup": "1723896360\tRSAGT\t(True, False)",
         "marker": {
          "color": "#FF97FF",
          "symbol": "circle"
         },
         "mode": "markers",
         "name": "1723896360\tRSAGT\t(True, False)",
         "orientation": "v",
         "showlegend": true,
         "type": "scatter",
         "x": [
          2.957104206085205
         ],
         "xaxis": "x",
         "y": [
          -0.426740437746048
         ],
         "yaxis": "y"
        },
        {
         "hovertemplate": "color=25807403\tmetabolomics\t(True, False)<br>0=%{x}<br>1=%{y}<extra></extra>",
         "legendgroup": "25807403\tmetabolomics\t(True, False)",
         "marker": {
          "color": "#FECB52",
          "symbol": "circle"
         },
         "mode": "markers",
         "name": "25807403\tmetabolomics\t(True, False)",
         "orientation": "v",
         "showlegend": true,
         "type": "scatter",
         "x": [
          3.5317747592926025
         ],
         "xaxis": "x",
         "y": [
          -0.9009599685668945
         ],
         "yaxis": "y"
        },
        {
         "hovertemplate": "color=44196397\telonmusk\t(True, False)<br>0=%{x}<br>1=%{y}<extra></extra>",
         "legendgroup": "44196397\telonmusk\t(True, False)",
         "marker": {
          "color": "#636efa",
          "symbol": "circle"
         },
         "mode": "markers",
         "name": "44196397\telonmusk\t(True, False)",
         "orientation": "v",
         "showlegend": true,
         "type": "scatter",
         "x": [
          3.996415615081787
         ],
         "xaxis": "x",
         "y": [
          -0.7167519927024841
         ],
         "yaxis": "y"
        },
        {
         "hovertemplate": "color=380477997\tamrrefai\t(True, False)<br>0=%{x}<br>1=%{y}<extra></extra>",
         "legendgroup": "380477997\tamrrefai\t(True, False)",
         "marker": {
          "color": "#EF553B",
          "symbol": "circle"
         },
         "mode": "markers",
         "name": "380477997\tamrrefai\t(True, False)",
         "orientation": "v",
         "showlegend": true,
         "type": "scatter",
         "x": [
          4.481049537658691
         ],
         "xaxis": "x",
         "y": [
          -0.5880274176597595
         ],
         "yaxis": "y"
        },
        {
         "hovertemplate": "color=52245050\tFoldit\t(True, False)<br>0=%{x}<br>1=%{y}<extra></extra>",
         "legendgroup": "52245050\tFoldit\t(True, False)",
         "marker": {
          "color": "#00cc96",
          "symbol": "circle"
         },
         "mode": "markers",
         "name": "52245050\tFoldit\t(True, False)",
         "orientation": "v",
         "showlegend": true,
         "type": "scatter",
         "x": [
          3.441633701324463
         ],
         "xaxis": "x",
         "y": [
          -0.6498064398765564
         ],
         "yaxis": "y"
        },
        {
         "hovertemplate": "color=446020162\tTopSaudiNews2\t(True, False)<br>0=%{x}<br>1=%{y}<extra></extra>",
         "legendgroup": "446020162\tTopSaudiNews2\t(True, False)",
         "marker": {
          "color": "#ab63fa",
          "symbol": "circle"
         },
         "mode": "markers",
         "name": "446020162\tTopSaudiNews2\t(True, False)",
         "orientation": "v",
         "showlegend": true,
         "type": "scatter",
         "x": [
          3.0184574127197266
         ],
         "xaxis": "x",
         "y": [
          1.0799028873443604
         ],
         "yaxis": "y"
        },
        {
         "hovertemplate": "color=815129156\tAfrahBawazeer\t(True, False)<br>0=%{x}<br>1=%{y}<extra></extra>",
         "legendgroup": "815129156\tAfrahBawazeer\t(True, False)",
         "marker": {
          "color": "#FFA15A",
          "symbol": "circle"
         },
         "mode": "markers",
         "name": "815129156\tAfrahBawazeer\t(True, False)",
         "orientation": "v",
         "showlegend": true,
         "type": "scatter",
         "x": [
          2.272451639175415
         ],
         "xaxis": "x",
         "y": [
          -0.015602122992277145
         ],
         "yaxis": "y"
        },
        {
         "hovertemplate": "color=134138441\tabumalih\t(True, False)<br>0=%{x}<br>1=%{y}<extra></extra>",
         "legendgroup": "134138441\tabumalih\t(True, False)",
         "marker": {
          "color": "#19d3f3",
          "symbol": "circle"
         },
         "mode": "markers",
         "name": "134138441\tabumalih\t(True, False)",
         "orientation": "v",
         "showlegend": true,
         "type": "scatter",
         "x": [
          4.0976362228393555
         ],
         "xaxis": "x",
         "y": [
          0.2345530390739441
         ],
         "yaxis": "y"
        },
        {
         "hovertemplate": "color=431741513\tiSciencesi\t(True, False)<br>0=%{x}<br>1=%{y}<extra></extra>",
         "legendgroup": "431741513\tiSciencesi\t(True, False)",
         "marker": {
          "color": "#FF6692",
          "symbol": "circle"
         },
         "mode": "markers",
         "name": "431741513\tiSciencesi\t(True, False)",
         "orientation": "v",
         "showlegend": true,
         "type": "scatter",
         "x": [
          3.1600804328918457
         ],
         "xaxis": "x",
         "y": [
          -0.06577024608850479
         ],
         "yaxis": "y"
        },
        {
         "hovertemplate": "color=857348701\tTurkistaniSafaa\t(True, False)<br>0=%{x}<br>1=%{y}<extra></extra>",
         "legendgroup": "857348701\tTurkistaniSafaa\t(True, False)",
         "marker": {
          "color": "#B6E880",
          "symbol": "circle"
         },
         "mode": "markers",
         "name": "857348701\tTurkistaniSafaa\t(True, False)",
         "orientation": "v",
         "showlegend": true,
         "type": "scatter",
         "x": [
          4.933887481689453
         ],
         "xaxis": "x",
         "y": [
          1.1138659715652466
         ],
         "yaxis": "y"
        },
        {
         "hovertemplate": "color=51241574\tAP\t(True, False)<br>0=%{x}<br>1=%{y}<extra></extra>",
         "legendgroup": "51241574\tAP\t(True, False)",
         "marker": {
          "color": "#FF97FF",
          "symbol": "circle"
         },
         "mode": "markers",
         "name": "51241574\tAP\t(True, False)",
         "orientation": "v",
         "showlegend": true,
         "type": "scatter",
         "x": [
          3.7553868293762207
         ],
         "xaxis": "x",
         "y": [
          -0.7536433935165405
         ],
         "yaxis": "y"
        },
        {
         "hovertemplate": "color=1449417325\tRehabTariqq\t(True, False)<br>0=%{x}<br>1=%{y}<extra></extra>",
         "legendgroup": "1449417325\tRehabTariqq\t(True, False)",
         "marker": {
          "color": "#FECB52",
          "symbol": "circle"
         },
         "mode": "markers",
         "name": "1449417325\tRehabTariqq\t(True, False)",
         "orientation": "v",
         "showlegend": true,
         "type": "scatter",
         "x": [
          4.088407039642334
         ],
         "xaxis": "x",
         "y": [
          -0.4847296178340912
         ],
         "yaxis": "y"
        },
        {
         "hovertemplate": "color=975383150\tAcad_Hash\t(True, False)<br>0=%{x}<br>1=%{y}<extra></extra>",
         "legendgroup": "975383150\tAcad_Hash\t(True, False)",
         "marker": {
          "color": "#636efa",
          "symbol": "circle"
         },
         "mode": "markers",
         "name": "975383150\tAcad_Hash\t(True, False)",
         "orientation": "v",
         "showlegend": true,
         "type": "scatter",
         "x": [
          3.8822360038757324
         ],
         "xaxis": "x",
         "y": [
          4.173430919647217
         ],
         "yaxis": "y"
        },
        {
         "hovertemplate": "color=36346494\tMendeleySupport\t(True, False)<br>0=%{x}<br>1=%{y}<extra></extra>",
         "legendgroup": "36346494\tMendeleySupport\t(True, False)",
         "marker": {
          "color": "#EF553B",
          "symbol": "circle"
         },
         "mode": "markers",
         "name": "36346494\tMendeleySupport\t(True, False)",
         "orientation": "v",
         "showlegend": true,
         "type": "scatter",
         "x": [
          3.3572967052459717
         ],
         "xaxis": "x",
         "y": [
          -0.4783141016960144
         ],
         "yaxis": "y"
        },
        {
         "hovertemplate": "color=880125978567200768\tDataCommunitySA\t(True, False)<br>0=%{x}<br>1=%{y}<extra></extra>",
         "legendgroup": "880125978567200768\tDataCommunitySA\t(True, False)",
         "marker": {
          "color": "#00cc96",
          "symbol": "circle"
         },
         "mode": "markers",
         "name": "880125978567200768\tDataCommunitySA\t(True, False)",
         "orientation": "v",
         "showlegend": true,
         "type": "scatter",
         "x": [
          3.728677988052368
         ],
         "xaxis": "x",
         "y": [
          -0.5755995512008667
         ],
         "yaxis": "y"
        },
        {
         "hovertemplate": "color=940219092350488576\tSaudiGenome\t(True, False)<br>0=%{x}<br>1=%{y}<extra></extra>",
         "legendgroup": "940219092350488576\tSaudiGenome\t(True, False)",
         "marker": {
          "color": "#ab63fa",
          "symbol": "circle"
         },
         "mode": "markers",
         "name": "940219092350488576\tSaudiGenome\t(True, False)",
         "orientation": "v",
         "showlegend": true,
         "type": "scatter",
         "x": [
          2.571640968322754
         ],
         "xaxis": "x",
         "y": [
          -0.19113928079605103
         ],
         "yaxis": "y"
        },
        {
         "hovertemplate": "color=914147090015670272\tKSAmofaEN\t(True, False)<br>0=%{x}<br>1=%{y}<extra></extra>",
         "legendgroup": "914147090015670272\tKSAmofaEN\t(True, False)",
         "marker": {
          "color": "#FFA15A",
          "symbol": "circle"
         },
         "mode": "markers",
         "name": "914147090015670272\tKSAmofaEN\t(True, False)",
         "orientation": "v",
         "showlegend": true,
         "type": "scatter",
         "x": [
          3.7060720920562744
         ],
         "xaxis": "x",
         "y": [
          -0.30448830127716064
         ],
         "yaxis": "y"
        },
        {
         "hovertemplate": "color=857274472109395968\tsofarajiz\t(True, False)<br>0=%{x}<br>1=%{y}<extra></extra>",
         "legendgroup": "857274472109395968\tsofarajiz\t(True, False)",
         "marker": {
          "color": "#19d3f3",
          "symbol": "circle"
         },
         "mode": "markers",
         "name": "857274472109395968\tsofarajiz\t(True, False)",
         "orientation": "v",
         "showlegend": true,
         "type": "scatter",
         "x": [
          3.7164835929870605
         ],
         "xaxis": "x",
         "y": [
          -0.27832069993019104
         ],
         "yaxis": "y"
        },
        {
         "hovertemplate": "color=954589648424226817\tSaudiData2030\t(True, False)<br>0=%{x}<br>1=%{y}<extra></extra>",
         "legendgroup": "954589648424226817\tSaudiData2030\t(True, False)",
         "marker": {
          "color": "#FF6692",
          "symbol": "circle"
         },
         "mode": "markers",
         "name": "954589648424226817\tSaudiData2030\t(True, False)",
         "orientation": "v",
         "showlegend": true,
         "type": "scatter",
         "x": [
          3.4994494915008545
         ],
         "xaxis": "x",
         "y": [
          -0.4111480712890625
         ],
         "yaxis": "y"
        },
        {
         "hovertemplate": "color=1165554830431178753\tMeshaalAlmalki3\t(True, False)<br>0=%{x}<br>1=%{y}<extra></extra>",
         "legendgroup": "1165554830431178753\tMeshaalAlmalki3\t(True, False)",
         "marker": {
          "color": "#B6E880",
          "symbol": "circle"
         },
         "mode": "markers",
         "name": "1165554830431178753\tMeshaalAlmalki3\t(True, False)",
         "orientation": "v",
         "showlegend": true,
         "type": "scatter",
         "x": [
          2.3572564125061035
         ],
         "xaxis": "x",
         "y": [
          0.09651479125022888
         ],
         "yaxis": "y"
        },
        {
         "hovertemplate": "color=857655296520572928\tKAU_Bioc\t(True, False)<br>0=%{x}<br>1=%{y}<extra></extra>",
         "legendgroup": "857655296520572928\tKAU_Bioc\t(True, False)",
         "marker": {
          "color": "#FF97FF",
          "symbol": "circle"
         },
         "mode": "markers",
         "name": "857655296520572928\tKAU_Bioc\t(True, False)",
         "orientation": "v",
         "showlegend": true,
         "type": "scatter",
         "x": [
          3.5211985111236572
         ],
         "xaxis": "x",
         "y": [
          1.1655447483062744
         ],
         "yaxis": "y"
        },
        {
         "hovertemplate": "color=1073880752918384641\tKesepedia\t(True, False)<br>0=%{x}<br>1=%{y}<extra></extra>",
         "legendgroup": "1073880752918384641\tKesepedia\t(True, False)",
         "marker": {
          "color": "#FECB52",
          "symbol": "circle"
         },
         "mode": "markers",
         "name": "1073880752918384641\tKesepedia\t(True, False)",
         "orientation": "v",
         "showlegend": true,
         "type": "scatter",
         "x": [
          3.1953234672546387
         ],
         "xaxis": "x",
         "y": [
          0.4505865275859833
         ],
         "yaxis": "y"
        },
        {
         "hovertemplate": "color=448369294\tAnanAljahdali\t(True, False)<br>0=%{x}<br>1=%{y}<extra></extra>",
         "legendgroup": "448369294\tAnanAljahdali\t(True, False)",
         "marker": {
          "color": "#636efa",
          "symbol": "circle"
         },
         "mode": "markers",
         "name": "448369294\tAnanAljahdali\t(True, False)",
         "orientation": "v",
         "showlegend": true,
         "type": "scatter",
         "x": [
          4.27658224105835
         ],
         "xaxis": "x",
         "y": [
          0.12649066746234894
         ],
         "yaxis": "y"
        },
        {
         "hovertemplate": "color=302058128\tFatmaMag\t(True, False)<br>0=%{x}<br>1=%{y}<extra></extra>",
         "legendgroup": "302058128\tFatmaMag\t(True, False)",
         "marker": {
          "color": "#EF553B",
          "symbol": "circle"
         },
         "mode": "markers",
         "name": "302058128\tFatmaMag\t(True, False)",
         "orientation": "v",
         "showlegend": true,
         "type": "scatter",
         "x": [
          2.9477474689483643
         ],
         "xaxis": "x",
         "y": [
          -0.061254628002643585
         ],
         "yaxis": "y"
        },
        {
         "hovertemplate": "color=405543573\tRewaaJalal\t(True, False)<br>0=%{x}<br>1=%{y}<extra></extra>",
         "legendgroup": "405543573\tRewaaJalal\t(True, False)",
         "marker": {
          "color": "#00cc96",
          "symbol": "circle"
         },
         "mode": "markers",
         "name": "405543573\tRewaaJalal\t(True, False)",
         "orientation": "v",
         "showlegend": true,
         "type": "scatter",
         "x": [
          6.075569152832031
         ],
         "xaxis": "x",
         "y": [
          0.695926308631897
         ],
         "yaxis": "y"
        },
        {
         "hovertemplate": "color=524372631\tamnasadeq\t(True, False)<br>0=%{x}<br>1=%{y}<extra></extra>",
         "legendgroup": "524372631\tamnasadeq\t(True, False)",
         "marker": {
          "color": "#ab63fa",
          "symbol": "circle"
         },
         "mode": "markers",
         "name": "524372631\tamnasadeq\t(True, False)",
         "orientation": "v",
         "showlegend": true,
         "type": "scatter",
         "x": [
          7.414830684661865
         ],
         "xaxis": "x",
         "y": [
          0.4317342936992645
         ],
         "yaxis": "y"
        },
        {
         "hovertemplate": "color=70425256\tAmradib\t(True, False)<br>0=%{x}<br>1=%{y}<extra></extra>",
         "legendgroup": "70425256\tAmradib\t(True, False)",
         "marker": {
          "color": "#FFA15A",
          "symbol": "circle"
         },
         "mode": "markers",
         "name": "70425256\tAmradib\t(True, False)",
         "orientation": "v",
         "showlegend": true,
         "type": "scatter",
         "x": [
          4.021665096282959
         ],
         "xaxis": "x",
         "y": [
          -0.3809066116809845
         ],
         "yaxis": "y"
        },
        {
         "hovertemplate": "color=2801466025\tJazanTourism\t(True, False)<br>0=%{x}<br>1=%{y}<extra></extra>",
         "legendgroup": "2801466025\tJazanTourism\t(True, False)",
         "marker": {
          "color": "#19d3f3",
          "symbol": "circle"
         },
         "mode": "markers",
         "name": "2801466025\tJazanTourism\t(True, False)",
         "orientation": "v",
         "showlegend": true,
         "type": "scatter",
         "x": [
          3.776902914047241
         ],
         "xaxis": "x",
         "y": [
          -0.38239264488220215
         ],
         "yaxis": "y"
        },
        {
         "hovertemplate": "color=486181546\tMatbouliA\t(True, False)<br>0=%{x}<br>1=%{y}<extra></extra>",
         "legendgroup": "486181546\tMatbouliA\t(True, False)",
         "marker": {
          "color": "#FF6692",
          "symbol": "circle"
         },
         "mode": "markers",
         "name": "486181546\tMatbouliA\t(True, False)",
         "orientation": "v",
         "showlegend": true,
         "type": "scatter",
         "x": [
          4.07763671875
         ],
         "xaxis": "x",
         "y": [
          0.2964162826538086
         ],
         "yaxis": "y"
        },
        {
         "hovertemplate": "color=4341809833\tAlhayyaniSultan\t(True, False)<br>0=%{x}<br>1=%{y}<extra></extra>",
         "legendgroup": "4341809833\tAlhayyaniSultan\t(True, False)",
         "marker": {
          "color": "#B6E880",
          "symbol": "circle"
         },
         "mode": "markers",
         "name": "4341809833\tAlhayyaniSultan\t(True, False)",
         "orientation": "v",
         "showlegend": true,
         "type": "scatter",
         "x": [
          4.795273780822754
         ],
         "xaxis": "x",
         "y": [
          1.260231852531433
         ],
         "yaxis": "y"
        },
        {
         "hovertemplate": "color=2761843375\tMOISaudiArabia\t(True, False)<br>0=%{x}<br>1=%{y}<extra></extra>",
         "legendgroup": "2761843375\tMOISaudiArabia\t(True, False)",
         "marker": {
          "color": "#FF97FF",
          "symbol": "circle"
         },
         "mode": "markers",
         "name": "2761843375\tMOISaudiArabia\t(True, False)",
         "orientation": "v",
         "showlegend": true,
         "type": "scatter",
         "x": [
          2.652449131011963
         ],
         "xaxis": "x",
         "y": [
          1.955513834953308
         ],
         "yaxis": "y"
        },
        {
         "hovertemplate": "color=1332263600\tTuliipluvv\t(True, False)<br>0=%{x}<br>1=%{y}<extra></extra>",
         "legendgroup": "1332263600\tTuliipluvv\t(True, False)",
         "marker": {
          "color": "#FECB52",
          "symbol": "circle"
         },
         "mode": "markers",
         "name": "1332263600\tTuliipluvv\t(True, False)",
         "orientation": "v",
         "showlegend": true,
         "type": "scatter",
         "x": [
          3.4318771362304688
         ],
         "xaxis": "x",
         "y": [
          -0.0777420699596405
         ],
         "yaxis": "y"
        },
        {
         "hovertemplate": "color=1103520433\tRubaNY12\t(True, False)<br>0=%{x}<br>1=%{y}<extra></extra>",
         "legendgroup": "1103520433\tRubaNY12\t(True, False)",
         "marker": {
          "color": "#636efa",
          "symbol": "circle"
         },
         "mode": "markers",
         "name": "1103520433\tRubaNY12\t(True, False)",
         "orientation": "v",
         "showlegend": true,
         "type": "scatter",
         "x": [
          4.626227855682373
         ],
         "xaxis": "x",
         "y": [
          0.6530651450157166
         ],
         "yaxis": "y"
        },
        {
         "hovertemplate": "color=607177394\tbenlazmah\t(True, False)<br>0=%{x}<br>1=%{y}<extra></extra>",
         "legendgroup": "607177394\tbenlazmah\t(True, False)",
         "marker": {
          "color": "#EF553B",
          "symbol": "circle"
         },
         "mode": "markers",
         "name": "607177394\tbenlazmah\t(True, False)",
         "orientation": "v",
         "showlegend": true,
         "type": "scatter",
         "x": [
          5.215381145477295
         ],
         "xaxis": "x",
         "y": [
          1.1929091215133667
         ],
         "yaxis": "y"
        },
        {
         "hovertemplate": "color=9556672\tnaifco\t(True, False)<br>0=%{x}<br>1=%{y}<extra></extra>",
         "legendgroup": "9556672\tnaifco\t(True, False)",
         "marker": {
          "color": "#00cc96",
          "symbol": "circle"
         },
         "mode": "markers",
         "name": "9556672\tnaifco\t(True, False)",
         "orientation": "v",
         "showlegend": true,
         "type": "scatter",
         "x": [
          4.241491794586182
         ],
         "xaxis": "x",
         "y": [
          0.07764314860105515
         ],
         "yaxis": "y"
        },
        {
         "hovertemplate": "color=378051265\talattasAM\t(True, False)<br>0=%{x}<br>1=%{y}<extra></extra>",
         "legendgroup": "378051265\talattasAM\t(True, False)",
         "marker": {
          "color": "#ab63fa",
          "symbol": "circle"
         },
         "mode": "markers",
         "name": "378051265\talattasAM\t(True, False)",
         "orientation": "v",
         "showlegend": true,
         "type": "scatter",
         "x": [
          4.177772045135498
         ],
         "xaxis": "x",
         "y": [
          -0.3727816343307495
         ],
         "yaxis": "y"
        },
        {
         "hovertemplate": "color=360319684\tAmerAlzaidi\t(True, False)<br>0=%{x}<br>1=%{y}<extra></extra>",
         "legendgroup": "360319684\tAmerAlzaidi\t(True, False)",
         "marker": {
          "color": "#FFA15A",
          "symbol": "circle"
         },
         "mode": "markers",
         "name": "360319684\tAmerAlzaidi\t(True, False)",
         "orientation": "v",
         "showlegend": true,
         "type": "scatter",
         "x": [
          7.151756763458252
         ],
         "xaxis": "x",
         "y": [
          0.5633504986763
         ],
         "yaxis": "y"
        },
        {
         "hovertemplate": "color=2268467913\tBadawoodAshraf\t(True, False)<br>0=%{x}<br>1=%{y}<extra></extra>",
         "legendgroup": "2268467913\tBadawoodAshraf\t(True, False)",
         "marker": {
          "color": "#19d3f3",
          "symbol": "circle"
         },
         "mode": "markers",
         "name": "2268467913\tBadawoodAshraf\t(True, False)",
         "orientation": "v",
         "showlegend": true,
         "type": "scatter",
         "x": [
          7.305820465087891
         ],
         "xaxis": "x",
         "y": [
          0.5359954237937927
         ],
         "yaxis": "y"
        },
        {
         "hovertemplate": "color=319797965\tM_lepure\t(True, False)<br>0=%{x}<br>1=%{y}<extra></extra>",
         "legendgroup": "319797965\tM_lepure\t(True, False)",
         "marker": {
          "color": "#FF6692",
          "symbol": "circle"
         },
         "mode": "markers",
         "name": "319797965\tM_lepure\t(True, False)",
         "orientation": "v",
         "showlegend": true,
         "type": "scatter",
         "x": [
          4.966517925262451
         ],
         "xaxis": "x",
         "y": [
          0.5304102301597595
         ],
         "yaxis": "y"
        },
        {
         "hovertemplate": "color=146612947\tbasimbyg2\t(True, False)<br>0=%{x}<br>1=%{y}<extra></extra>",
         "legendgroup": "146612947\tbasimbyg2\t(True, False)",
         "marker": {
          "color": "#B6E880",
          "symbol": "circle"
         },
         "mode": "markers",
         "name": "146612947\tbasimbyg2\t(True, False)",
         "orientation": "v",
         "showlegend": true,
         "type": "scatter",
         "x": [
          4.596902370452881
         ],
         "xaxis": "x",
         "y": [
          1.1979999542236328
         ],
         "yaxis": "y"
        },
        {
         "hovertemplate": "color=304456403\ttaha_alrefaei\t(True, False)<br>0=%{x}<br>1=%{y}<extra></extra>",
         "legendgroup": "304456403\ttaha_alrefaei\t(True, False)",
         "marker": {
          "color": "#FF97FF",
          "symbol": "circle"
         },
         "mode": "markers",
         "name": "304456403\ttaha_alrefaei\t(True, False)",
         "orientation": "v",
         "showlegend": true,
         "type": "scatter",
         "x": [
          4.6832146644592285
         ],
         "xaxis": "x",
         "y": [
          -0.5109637379646301
         ],
         "yaxis": "y"
        },
        {
         "hovertemplate": "color=22434517\tHillelNeuer\t(True, False)<br>0=%{x}<br>1=%{y}<extra></extra>",
         "legendgroup": "22434517\tHillelNeuer\t(True, False)",
         "marker": {
          "color": "#FECB52",
          "symbol": "circle"
         },
         "mode": "markers",
         "name": "22434517\tHillelNeuer\t(True, False)",
         "orientation": "v",
         "showlegend": true,
         "type": "scatter",
         "x": [
          3.8961424827575684
         ],
         "xaxis": "x",
         "y": [
          -0.4381527900695801
         ],
         "yaxis": "y"
        },
        {
         "hovertemplate": "color=1711139551\ttahaalsafi1234\t(True, False)<br>0=%{x}<br>1=%{y}<extra></extra>",
         "legendgroup": "1711139551\ttahaalsafi1234\t(True, False)",
         "marker": {
          "color": "#636efa",
          "symbol": "circle"
         },
         "mode": "markers",
         "name": "1711139551\ttahaalsafi1234\t(True, False)",
         "orientation": "v",
         "showlegend": true,
         "type": "scatter",
         "x": [
          4.49027156829834
         ],
         "xaxis": "x",
         "y": [
          -0.6073518395423889
         ],
         "yaxis": "y"
        },
        {
         "hovertemplate": "color=360170208\tbiokhd\t(True, False)<br>0=%{x}<br>1=%{y}<extra></extra>",
         "legendgroup": "360170208\tbiokhd\t(True, False)",
         "marker": {
          "color": "#EF553B",
          "symbol": "circle"
         },
         "mode": "markers",
         "name": "360170208\tbiokhd\t(True, False)",
         "orientation": "v",
         "showlegend": true,
         "type": "scatter",
         "x": [
          5.186365604400635
         ],
         "xaxis": "x",
         "y": [
          1.6488258838653564
         ],
         "yaxis": "y"
        },
        {
         "hovertemplate": "color=598446821\tab_wesam\t(True, False)<br>0=%{x}<br>1=%{y}<extra></extra>",
         "legendgroup": "598446821\tab_wesam\t(True, False)",
         "marker": {
          "color": "#00cc96",
          "symbol": "circle"
         },
         "mode": "markers",
         "name": "598446821\tab_wesam\t(True, False)",
         "orientation": "v",
         "showlegend": true,
         "type": "scatter",
         "x": [
          3.1205546855926514
         ],
         "xaxis": "x",
         "y": [
          0.7203957438468933
         ],
         "yaxis": "y"
        },
        {
         "hovertemplate": "color=154221292\tCasey\t(True, False)<br>0=%{x}<br>1=%{y}<extra></extra>",
         "legendgroup": "154221292\tCasey\t(True, False)",
         "marker": {
          "color": "#ab63fa",
          "symbol": "circle"
         },
         "mode": "markers",
         "name": "154221292\tCasey\t(True, False)",
         "orientation": "v",
         "showlegend": true,
         "type": "scatter",
         "x": [
          4.059146404266357
         ],
         "xaxis": "x",
         "y": [
          -0.3070562183856964
         ],
         "yaxis": "y"
        },
        {
         "hovertemplate": "color=400151277\tMetaboNews\t(True, False)<br>0=%{x}<br>1=%{y}<extra></extra>",
         "legendgroup": "400151277\tMetaboNews\t(True, False)",
         "marker": {
          "color": "#FFA15A",
          "symbol": "circle"
         },
         "mode": "markers",
         "name": "400151277\tMetaboNews\t(True, False)",
         "orientation": "v",
         "showlegend": true,
         "type": "scatter",
         "x": [
          3.368056535720825
         ],
         "xaxis": "x",
         "y": [
          -1.0420204401016235
         ],
         "yaxis": "y"
        },
        {
         "hovertemplate": "color=2809615095\tProteinAtlas\t(True, False)<br>0=%{x}<br>1=%{y}<extra></extra>",
         "legendgroup": "2809615095\tProteinAtlas\t(True, False)",
         "marker": {
          "color": "#19d3f3",
          "symbol": "circle"
         },
         "mode": "markers",
         "name": "2809615095\tProteinAtlas\t(True, False)",
         "orientation": "v",
         "showlegend": true,
         "type": "scatter",
         "x": [
          3.3977622985839844
         ],
         "xaxis": "x",
         "y": [
          -0.9618346095085144
         ],
         "yaxis": "y"
        },
        {
         "hovertemplate": "color=108669694\tyasersahl\t(True, False)<br>0=%{x}<br>1=%{y}<extra></extra>",
         "legendgroup": "108669694\tyasersahl\t(True, False)",
         "marker": {
          "color": "#FF6692",
          "symbol": "circle"
         },
         "mode": "markers",
         "name": "108669694\tyasersahl\t(True, False)",
         "orientation": "v",
         "showlegend": true,
         "type": "scatter",
         "x": [
          5.100511074066162
         ],
         "xaxis": "x",
         "y": [
          1.084937572479248
         ],
         "yaxis": "y"
        },
        {
         "hovertemplate": "color=862361593174253568\tLabTestKSA\t(True, False)<br>0=%{x}<br>1=%{y}<extra></extra>",
         "legendgroup": "862361593174253568\tLabTestKSA\t(True, False)",
         "marker": {
          "color": "#B6E880",
          "symbol": "circle"
         },
         "mode": "markers",
         "name": "862361593174253568\tLabTestKSA\t(True, False)",
         "orientation": "v",
         "showlegend": true,
         "type": "scatter",
         "x": [
          2.33754563331604
         ],
         "xaxis": "x",
         "y": [
          0.03482832759618759
         ],
         "yaxis": "y"
        },
        {
         "hovertemplate": "color=782516870394109952\tGEA_SA\t(True, False)<br>0=%{x}<br>1=%{y}<extra></extra>",
         "legendgroup": "782516870394109952\tGEA_SA\t(True, False)",
         "marker": {
          "color": "#FF97FF",
          "symbol": "circle"
         },
         "mode": "markers",
         "name": "782516870394109952\tGEA_SA\t(True, False)",
         "orientation": "v",
         "showlegend": true,
         "type": "scatter",
         "x": [
          3.0541348457336426
         ],
         "xaxis": "x",
         "y": [
          2.0955424308776855
         ],
         "yaxis": "y"
        },
        {
         "hovertemplate": "color=758685942823739392\tMaiAlmosaibih\t(True, False)<br>0=%{x}<br>1=%{y}<extra></extra>",
         "legendgroup": "758685942823739392\tMaiAlmosaibih\t(True, False)",
         "marker": {
          "color": "#FECB52",
          "symbol": "circle"
         },
         "mode": "markers",
         "name": "758685942823739392\tMaiAlmosaibih\t(True, False)",
         "orientation": "v",
         "showlegend": true,
         "type": "scatter",
         "x": [
          3.6870017051696777
         ],
         "xaxis": "x",
         "y": [
          -0.22721588611602783
         ],
         "yaxis": "y"
        },
        {
         "hovertemplate": "color=780335792052920320\tBiochemistryKsu\t(True, False)<br>0=%{x}<br>1=%{y}<extra></extra>",
         "legendgroup": "780335792052920320\tBiochemistryKsu\t(True, False)",
         "marker": {
          "color": "#636efa",
          "symbol": "circle"
         },
         "mode": "markers",
         "name": "780335792052920320\tBiochemistryKsu\t(True, False)",
         "orientation": "v",
         "showlegend": true,
         "type": "scatter",
         "x": [
          3.233715057373047
         ],
         "xaxis": "x",
         "y": [
          0.3357217013835907
         ],
         "yaxis": "y"
        },
        {
         "hovertemplate": "color=26280712\tBungie\t(True, False)<br>0=%{x}<br>1=%{y}<extra></extra>",
         "legendgroup": "26280712\tBungie\t(True, False)",
         "marker": {
          "color": "#EF553B",
          "symbol": "circle"
         },
         "mode": "markers",
         "name": "26280712\tBungie\t(True, False)",
         "orientation": "v",
         "showlegend": true,
         "type": "scatter",
         "x": [
          3.932568311691284
         ],
         "xaxis": "x",
         "y": [
          -0.3863186836242676
         ],
         "yaxis": "y"
        },
        {
         "hovertemplate": "color=109314848\tsciencekau\t(True, False)<br>0=%{x}<br>1=%{y}<extra></extra>",
         "legendgroup": "109314848\tsciencekau\t(True, False)",
         "marker": {
          "color": "#00cc96",
          "symbol": "circle"
         },
         "mode": "markers",
         "name": "109314848\tsciencekau\t(True, False)",
         "orientation": "v",
         "showlegend": true,
         "type": "scatter",
         "x": [
          3.476796865463257
         ],
         "xaxis": "x",
         "y": [
          1.0704803466796875
         ],
         "yaxis": "y"
        },
        {
         "hovertemplate": "color=2300564270\tbiocclubkau\t(True, False)<br>0=%{x}<br>1=%{y}<extra></extra>",
         "legendgroup": "2300564270\tbiocclubkau\t(True, False)",
         "marker": {
          "color": "#ab63fa",
          "symbol": "circle"
         },
         "mode": "markers",
         "name": "2300564270\tbiocclubkau\t(True, False)",
         "orientation": "v",
         "showlegend": true,
         "type": "scatter",
         "x": [
          3.6525380611419678
         ],
         "xaxis": "x",
         "y": [
          0.31527215242385864
         ],
         "yaxis": "y"
        },
        {
         "hovertemplate": "color=825439044\tRehamjalal3\t(True, False)<br>0=%{x}<br>1=%{y}<extra></extra>",
         "legendgroup": "825439044\tRehamjalal3\t(True, False)",
         "marker": {
          "color": "#FFA15A",
          "symbol": "circle"
         },
         "mode": "markers",
         "name": "825439044\tRehamjalal3\t(True, False)",
         "orientation": "v",
         "showlegend": true,
         "type": "scatter",
         "x": [
          2.610697031021118
         ],
         "xaxis": "x",
         "y": [
          0.2390572428703308
         ],
         "yaxis": "y"
        },
        {
         "hovertemplate": "color=1385642822\tamalattas9\t(True, False)<br>0=%{x}<br>1=%{y}<extra></extra>",
         "legendgroup": "1385642822\tamalattas9\t(True, False)",
         "marker": {
          "color": "#19d3f3",
          "symbol": "circle"
         },
         "mode": "markers",
         "name": "1385642822\tamalattas9\t(True, False)",
         "orientation": "v",
         "showlegend": true,
         "type": "scatter",
         "x": [
          5.184982776641846
         ],
         "xaxis": "x",
         "y": [
          1.049895167350769
         ],
         "yaxis": "y"
        },
        {
         "hovertemplate": "color=81855303\tbuildmodels\t(True, False)<br>0=%{x}<br>1=%{y}<extra></extra>",
         "legendgroup": "81855303\tbuildmodels\t(True, False)",
         "marker": {
          "color": "#FF6692",
          "symbol": "circle"
         },
         "mode": "markers",
         "name": "81855303\tbuildmodels\t(True, False)",
         "orientation": "v",
         "showlegend": true,
         "type": "scatter",
         "x": [
          3.238273859024048
         ],
         "xaxis": "x",
         "y": [
          -0.7107666730880737
         ],
         "yaxis": "y"
        },
        {
         "hovertemplate": "color=360430411\tluuudi_k\t(True, False)<br>0=%{x}<br>1=%{y}<extra></extra>",
         "legendgroup": "360430411\tluuudi_k\t(True, False)",
         "marker": {
          "color": "#B6E880",
          "symbol": "circle"
         },
         "mode": "markers",
         "name": "360430411\tluuudi_k\t(True, False)",
         "orientation": "v",
         "showlegend": true,
         "type": "scatter",
         "x": [
          3.1828768253326416
         ],
         "xaxis": "x",
         "y": [
          -0.13002324104309082
         ],
         "yaxis": "y"
        },
        {
         "hovertemplate": "color=700568400\tKFSHRC_Research\t(True, False)<br>0=%{x}<br>1=%{y}<extra></extra>",
         "legendgroup": "700568400\tKFSHRC_Research\t(True, False)",
         "marker": {
          "color": "#FF97FF",
          "symbol": "circle"
         },
         "mode": "markers",
         "name": "700568400\tKFSHRC_Research\t(True, False)",
         "orientation": "v",
         "showlegend": true,
         "type": "scatter",
         "x": [
          2.3457627296447754
         ],
         "xaxis": "x",
         "y": [
          0.4666626751422882
         ],
         "yaxis": "y"
        },
        {
         "hovertemplate": "color=201239379\tPDBeurope\t(True, False)<br>0=%{x}<br>1=%{y}<extra></extra>",
         "legendgroup": "201239379\tPDBeurope\t(True, False)",
         "marker": {
          "color": "#FECB52",
          "symbol": "circle"
         },
         "mode": "markers",
         "name": "201239379\tPDBeurope\t(True, False)",
         "orientation": "v",
         "showlegend": true,
         "type": "scatter",
         "x": [
          3.198052167892456
         ],
         "xaxis": "x",
         "y": [
          -0.6837907433509827
         ],
         "yaxis": "y"
        },
        {
         "hovertemplate": "color=349082474\th_jabarti\t(True, False)<br>0=%{x}<br>1=%{y}<extra></extra>",
         "legendgroup": "349082474\th_jabarti\t(True, False)",
         "marker": {
          "color": "#636efa",
          "symbol": "circle"
         },
         "mode": "markers",
         "name": "349082474\th_jabarti\t(True, False)",
         "orientation": "v",
         "showlegend": true,
         "type": "scatter",
         "x": [
          3.5265092849731445
         ],
         "xaxis": "x",
         "y": [
          0.5682476758956909
         ],
         "yaxis": "y"
        },
        {
         "hovertemplate": "color=320185200\tSara6saleh\t(True, False)<br>0=%{x}<br>1=%{y}<extra></extra>",
         "legendgroup": "320185200\tSara6saleh\t(True, False)",
         "marker": {
          "color": "#EF553B",
          "symbol": "circle"
         },
         "mode": "markers",
         "name": "320185200\tSara6saleh\t(True, False)",
         "orientation": "v",
         "showlegend": true,
         "type": "scatter",
         "x": [
          6.45932149887085
         ],
         "xaxis": "x",
         "y": [
          0.9665656685829163
         ],
         "yaxis": "y"
        },
        {
         "hovertemplate": "color=777444077071659008\tthmanyah\t(True, False)<br>0=%{x}<br>1=%{y}<extra></extra>",
         "legendgroup": "777444077071659008\tthmanyah\t(True, False)",
         "marker": {
          "color": "#00cc96",
          "symbol": "circle"
         },
         "mode": "markers",
         "name": "777444077071659008\tthmanyah\t(True, False)",
         "orientation": "v",
         "showlegend": true,
         "type": "scatter",
         "x": [
          3.743744373321533
         ],
         "xaxis": "x",
         "y": [
          -0.3547658324241638
         ],
         "yaxis": "y"
        },
        {
         "hovertemplate": "color=1071403741956501504\tJeddahData\t(True, False)<br>0=%{x}<br>1=%{y}<extra></extra>",
         "legendgroup": "1071403741956501504\tJeddahData\t(True, False)",
         "marker": {
          "color": "#ab63fa",
          "symbol": "circle"
         },
         "mode": "markers",
         "name": "1071403741956501504\tJeddahData\t(True, False)",
         "orientation": "v",
         "showlegend": true,
         "type": "scatter",
         "x": [
          3.763573169708252
         ],
         "xaxis": "x",
         "y": [
          -0.6762791275978088
         ],
         "yaxis": "y"
        },
        {
         "hovertemplate": "color=977511325151752192\tLaboZone\t(True, False)<br>0=%{x}<br>1=%{y}<extra></extra>",
         "legendgroup": "977511325151752192\tLaboZone\t(True, False)",
         "marker": {
          "color": "#FFA15A",
          "symbol": "circle"
         },
         "mode": "markers",
         "name": "977511325151752192\tLaboZone\t(True, False)",
         "orientation": "v",
         "showlegend": true,
         "type": "scatter",
         "x": [
          2.282376766204834
         ],
         "xaxis": "x",
         "y": [
          0.24906744062900543
         ],
         "yaxis": "y"
        },
        {
         "hovertemplate": "color=979248967149121536\tThird_____eye\t(True, False)<br>0=%{x}<br>1=%{y}<extra></extra>",
         "legendgroup": "979248967149121536\tThird_____eye\t(True, False)",
         "marker": {
          "color": "#19d3f3",
          "symbol": "circle"
         },
         "mode": "markers",
         "name": "979248967149121536\tThird_____eye\t(True, False)",
         "orientation": "v",
         "showlegend": true,
         "type": "scatter",
         "x": [
          4.336607933044434
         ],
         "xaxis": "x",
         "y": [
          0.23576298356056213
         ],
         "yaxis": "y"
        },
        {
         "hovertemplate": "color=951228406850613249\tMamdohAlgethami\t(True, False)<br>0=%{x}<br>1=%{y}<extra></extra>",
         "legendgroup": "951228406850613249\tMamdohAlgethami\t(True, False)",
         "marker": {
          "color": "#FF6692",
          "symbol": "circle"
         },
         "mode": "markers",
         "name": "951228406850613249\tMamdohAlgethami\t(True, False)",
         "orientation": "v",
         "showlegend": true,
         "type": "scatter",
         "x": [
          6.954456329345703
         ],
         "xaxis": "x",
         "y": [
          0.7407679557800293
         ],
         "yaxis": "y"
        },
        {
         "hovertemplate": "color=323758979\thadii99\t(True, False)<br>0=%{x}<br>1=%{y}<extra></extra>",
         "legendgroup": "323758979\thadii99\t(True, False)",
         "marker": {
          "color": "#B6E880",
          "symbol": "circle"
         },
         "mode": "markers",
         "name": "323758979\thadii99\t(True, False)",
         "orientation": "v",
         "showlegend": true,
         "type": "scatter",
         "x": [
          4.707746982574463
         ],
         "xaxis": "x",
         "y": [
          1.0005877017974854
         ],
         "yaxis": "y"
        },
        {
         "hovertemplate": "color=443929495\thawsawi55\t(True, False)<br>0=%{x}<br>1=%{y}<extra></extra>",
         "legendgroup": "443929495\thawsawi55\t(True, False)",
         "marker": {
          "color": "#FF97FF",
          "symbol": "circle"
         },
         "mode": "markers",
         "name": "443929495\thawsawi55\t(True, False)",
         "orientation": "v",
         "showlegend": true,
         "type": "scatter",
         "x": [
          2.5373475551605225
         ],
         "xaxis": "x",
         "y": [
          0.27351900935173035
         ],
         "yaxis": "y"
        },
        {
         "hovertemplate": "color=962592630466113542\tqaaac_uj\t(True, False)<br>0=%{x}<br>1=%{y}<extra></extra>",
         "legendgroup": "962592630466113542\tqaaac_uj\t(True, False)",
         "marker": {
          "color": "#FECB52",
          "symbol": "circle"
         },
         "mode": "markers",
         "name": "962592630466113542\tqaaac_uj\t(True, False)",
         "orientation": "v",
         "showlegend": true,
         "type": "scatter",
         "x": [
          5.925164222717285
         ],
         "xaxis": "x",
         "y": [
          0.7157268524169922
         ],
         "yaxis": "y"
        },
        {
         "hovertemplate": "color=245093285\tVet_Abdullah\t(False, False)<br>0=%{x}<br>1=%{y}<extra></extra>",
         "legendgroup": "245093285\tVet_Abdullah\t(False, False)",
         "marker": {
          "color": "#636efa",
          "symbol": "circle"
         },
         "mode": "markers",
         "name": "245093285\tVet_Abdullah\t(False, False)",
         "orientation": "v",
         "showlegend": true,
         "type": "scatter",
         "x": [
          3.616147041320801
         ],
         "xaxis": "x",
         "y": [
          -0.06724739074707031
         ],
         "yaxis": "y"
        },
        {
         "hovertemplate": "color=3030068137\tDrmazenalghamdi\t(False, False)<br>0=%{x}<br>1=%{y}<extra></extra>",
         "legendgroup": "3030068137\tDrmazenalghamdi\t(False, False)",
         "marker": {
          "color": "#EF553B",
          "symbol": "circle"
         },
         "mode": "markers",
         "name": "3030068137\tDrmazenalghamdi\t(False, False)",
         "orientation": "v",
         "showlegend": true,
         "type": "scatter",
         "x": [
          3.3687081336975098
         ],
         "xaxis": "x",
         "y": [
          -0.1044662669301033
         ],
         "yaxis": "y"
        },
        {
         "hovertemplate": "color=552741802\trbalsaud\t(False, False)<br>0=%{x}<br>1=%{y}<extra></extra>",
         "legendgroup": "552741802\trbalsaud\t(False, False)",
         "marker": {
          "color": "#00cc96",
          "symbol": "circle"
         },
         "mode": "markers",
         "name": "552741802\trbalsaud\t(False, False)",
         "orientation": "v",
         "showlegend": true,
         "type": "scatter",
         "x": [
          3.1221559047698975
         ],
         "xaxis": "x",
         "y": [
          1.8524879217147827
         ],
         "yaxis": "y"
        },
        {
         "hovertemplate": "color=760563334672322560\terin_rod_phd\t(False, False)<br>0=%{x}<br>1=%{y}<extra></extra>",
         "legendgroup": "760563334672322560\terin_rod_phd\t(False, False)",
         "marker": {
          "color": "#ab63fa",
          "symbol": "circle"
         },
         "mode": "markers",
         "name": "760563334672322560\terin_rod_phd\t(False, False)",
         "orientation": "v",
         "showlegend": true,
         "type": "scatter",
         "x": [
          3.381208658218384
         ],
         "xaxis": "x",
         "y": [
          -0.595119833946228
         ],
         "yaxis": "y"
        },
        {
         "hovertemplate": "color=246508469\tabu7atim\t(False, False)<br>0=%{x}<br>1=%{y}<extra></extra>",
         "legendgroup": "246508469\tabu7atim\t(False, False)",
         "marker": {
          "color": "#FFA15A",
          "symbol": "circle"
         },
         "mode": "markers",
         "name": "246508469\tabu7atim\t(False, False)",
         "orientation": "v",
         "showlegend": true,
         "type": "scatter",
         "x": [
          4.157270908355713
         ],
         "xaxis": "x",
         "y": [
          -0.5321195721626282
         ],
         "yaxis": "y"
        },
        {
         "hovertemplate": "color=14072761\tmqasem\t(False, False)<br>0=%{x}<br>1=%{y}<extra></extra>",
         "legendgroup": "14072761\tmqasem\t(False, False)",
         "marker": {
          "color": "#19d3f3",
          "symbol": "circle"
         },
         "mode": "markers",
         "name": "14072761\tmqasem\t(False, False)",
         "orientation": "v",
         "showlegend": true,
         "type": "scatter",
         "x": [
          3.674104928970337
         ],
         "xaxis": "x",
         "y": [
          -0.21818187832832336
         ],
         "yaxis": "y"
        },
        {
         "hovertemplate": "color=14861285\tMacRumors\t(False, False)<br>0=%{x}<br>1=%{y}<extra></extra>",
         "legendgroup": "14861285\tMacRumors\t(False, False)",
         "marker": {
          "color": "#FF6692",
          "symbol": "circle"
         },
         "mode": "markers",
         "name": "14861285\tMacRumors\t(False, False)",
         "orientation": "v",
         "showlegend": true,
         "type": "scatter",
         "x": [
          3.6454036235809326
         ],
         "xaxis": "x",
         "y": [
          -0.21219253540039062
         ],
         "yaxis": "y"
        },
        {
         "hovertemplate": "color=164991984\tDeeDalal\t(False, False)<br>0=%{x}<br>1=%{y}<extra></extra>",
         "legendgroup": "164991984\tDeeDalal\t(False, False)",
         "marker": {
          "color": "#B6E880",
          "symbol": "circle"
         },
         "mode": "markers",
         "name": "164991984\tDeeDalal\t(False, False)",
         "orientation": "v",
         "showlegend": true,
         "type": "scatter",
         "x": [
          3.7755672931671143
         ],
         "xaxis": "x",
         "y": [
          -0.4160688817501068
         ],
         "yaxis": "y"
        },
        {
         "hovertemplate": "color=255980529\tIsraa_Hakeem\t(False, False)<br>0=%{x}<br>1=%{y}<extra></extra>",
         "legendgroup": "255980529\tIsraa_Hakeem\t(False, False)",
         "marker": {
          "color": "#FF97FF",
          "symbol": "circle"
         },
         "mode": "markers",
         "name": "255980529\tIsraa_Hakeem\t(False, False)",
         "orientation": "v",
         "showlegend": true,
         "type": "scatter",
         "x": [
          2.521376371383667
         ],
         "xaxis": "x",
         "y": [
          0.13019055128097534
         ],
         "yaxis": "y"
        },
        {
         "hovertemplate": "color=191607804\tBo_Raslan\t(False, False)<br>0=%{x}<br>1=%{y}<extra></extra>",
         "legendgroup": "191607804\tBo_Raslan\t(False, False)",
         "marker": {
          "color": "#FECB52",
          "symbol": "circle"
         },
         "mode": "markers",
         "name": "191607804\tBo_Raslan\t(False, False)",
         "orientation": "v",
         "showlegend": true,
         "type": "scatter",
         "x": [
          3.6921210289001465
         ],
         "xaxis": "x",
         "y": [
          -0.09333854913711548
         ],
         "yaxis": "y"
        },
        {
         "hovertemplate": "color=1246005840970219520\tTawakkalnaApp\t(False, False)<br>0=%{x}<br>1=%{y}<extra></extra>",
         "legendgroup": "1246005840970219520\tTawakkalnaApp\t(False, False)",
         "marker": {
          "color": "#636efa",
          "symbol": "circle"
         },
         "mode": "markers",
         "name": "1246005840970219520\tTawakkalnaApp\t(False, False)",
         "orientation": "v",
         "showlegend": true,
         "type": "scatter",
         "x": [
          3.3951427936553955
         ],
         "xaxis": "x",
         "y": [
          0.025807688012719154
         ],
         "yaxis": "y"
        },
        {
         "hovertemplate": "color=1082132685651410944\tnesvilab\t(False, False)<br>0=%{x}<br>1=%{y}<extra></extra>",
         "legendgroup": "1082132685651410944\tnesvilab\t(False, False)",
         "marker": {
          "color": "#EF553B",
          "symbol": "circle"
         },
         "mode": "markers",
         "name": "1082132685651410944\tnesvilab\t(False, False)",
         "orientation": "v",
         "showlegend": true,
         "type": "scatter",
         "x": [
          3.319291353225708
         ],
         "xaxis": "x",
         "y": [
          -0.9334231615066528
         ],
         "yaxis": "y"
        },
        {
         "hovertemplate": "color=1247978453305098242\tnjeeld1\t(False, False)<br>0=%{x}<br>1=%{y}<extra></extra>",
         "legendgroup": "1247978453305098242\tnjeeld1\t(False, False)",
         "marker": {
          "color": "#00cc96",
          "symbol": "circle"
         },
         "mode": "markers",
         "name": "1247978453305098242\tnjeeld1\t(False, False)",
         "orientation": "v",
         "showlegend": true,
         "type": "scatter",
         "x": [
          3.5240066051483154
         ],
         "xaxis": "x",
         "y": [
          -0.12676343321800232
         ],
         "yaxis": "y"
        },
        {
         "hovertemplate": "color=522071052\tnazaha_gov_sa\t(False, False)<br>0=%{x}<br>1=%{y}<extra></extra>",
         "legendgroup": "522071052\tnazaha_gov_sa\t(False, False)",
         "marker": {
          "color": "#ab63fa",
          "symbol": "circle"
         },
         "mode": "markers",
         "name": "522071052\tnazaha_gov_sa\t(False, False)",
         "orientation": "v",
         "showlegend": true,
         "type": "scatter",
         "x": [
          2.62528657913208
         ],
         "xaxis": "x",
         "y": [
          1.8216971158981323
         ],
         "yaxis": "y"
        },
        {
         "hovertemplate": "color=495817741\tBajunaidOmar\t(False, False)<br>0=%{x}<br>1=%{y}<extra></extra>",
         "legendgroup": "495817741\tBajunaidOmar\t(False, False)",
         "marker": {
          "color": "#FFA15A",
          "symbol": "circle"
         },
         "mode": "markers",
         "name": "495817741\tBajunaidOmar\t(False, False)",
         "orientation": "v",
         "showlegend": true,
         "type": "scatter",
         "x": [
          2.8793985843658447
         ],
         "xaxis": "x",
         "y": [
          0.1406002938747406
         ],
         "yaxis": "y"
        },
        {
         "hovertemplate": "color=301612053\tProf_Moussa\t(False, False)<br>0=%{x}<br>1=%{y}<extra></extra>",
         "legendgroup": "301612053\tProf_Moussa\t(False, False)",
         "marker": {
          "color": "#19d3f3",
          "symbol": "circle"
         },
         "mode": "markers",
         "name": "301612053\tProf_Moussa\t(False, False)",
         "orientation": "v",
         "showlegend": true,
         "type": "scatter",
         "x": [
          2.827230453491211
         ],
         "xaxis": "x",
         "y": [
          -0.34044817090034485
         ],
         "yaxis": "y"
        },
        {
         "hovertemplate": "color=3060153367\tAhwalKSA\t(False, False)<br>0=%{x}<br>1=%{y}<extra></extra>",
         "legendgroup": "3060153367\tAhwalKSA\t(False, False)",
         "marker": {
          "color": "#FF6692",
          "symbol": "circle"
         },
         "mode": "markers",
         "name": "3060153367\tAhwalKSA\t(False, False)",
         "orientation": "v",
         "showlegend": true,
         "type": "scatter",
         "x": [
          2.773521900177002
         ],
         "xaxis": "x",
         "y": [
          1.5998023748397827
         ],
         "yaxis": "y"
        },
        {
         "hovertemplate": "color=40809500\tRameca\t(False, False)<br>0=%{x}<br>1=%{y}<extra></extra>",
         "legendgroup": "40809500\tRameca\t(False, False)",
         "marker": {
          "color": "#B6E880",
          "symbol": "circle"
         },
         "mode": "markers",
         "name": "40809500\tRameca\t(False, False)",
         "orientation": "v",
         "showlegend": true,
         "type": "scatter",
         "x": [
          2.9769372940063477
         ],
         "xaxis": "x",
         "y": [
          0.6458476781845093
         ],
         "yaxis": "y"
        },
        {
         "hovertemplate": "color=227591235\tnothmany\t(False, False)<br>0=%{x}<br>1=%{y}<extra></extra>",
         "legendgroup": "227591235\tnothmany\t(False, False)",
         "marker": {
          "color": "#FF97FF",
          "symbol": "circle"
         },
         "mode": "markers",
         "name": "227591235\tnothmany\t(False, False)",
         "orientation": "v",
         "showlegend": true,
         "type": "scatter",
         "x": [
          3.38208270072937
         ],
         "xaxis": "x",
         "y": [
          -0.2383769303560257
         ],
         "yaxis": "y"
        },
        {
         "hovertemplate": "color=245566534\tNarayanaganesh\t(False, False)<br>0=%{x}<br>1=%{y}<extra></extra>",
         "legendgroup": "245566534\tNarayanaganesh\t(False, False)",
         "marker": {
          "color": "#FECB52",
          "symbol": "circle"
         },
         "mode": "markers",
         "name": "245566534\tNarayanaganesh\t(False, False)",
         "orientation": "v",
         "showlegend": true,
         "type": "scatter",
         "x": [
          3.394176483154297
         ],
         "xaxis": "x",
         "y": [
          -0.9748653769493103
         ],
         "yaxis": "y"
        },
        {
         "hovertemplate": "color=197418054\tAkram_Aloqbi\t(False, False)<br>0=%{x}<br>1=%{y}<extra></extra>",
         "legendgroup": "197418054\tAkram_Aloqbi\t(False, False)",
         "marker": {
          "color": "#636efa",
          "symbol": "circle"
         },
         "mode": "markers",
         "name": "197418054\tAkram_Aloqbi\t(False, False)",
         "orientation": "v",
         "showlegend": true,
         "type": "scatter",
         "x": [
          3.2730937004089355
         ],
         "xaxis": "x",
         "y": [
          -0.21320998668670654
         ],
         "yaxis": "y"
        },
        {
         "hovertemplate": "color=2197308494\tmakkahnp\t(False, False)<br>0=%{x}<br>1=%{y}<extra></extra>",
         "legendgroup": "2197308494\tmakkahnp\t(False, False)",
         "marker": {
          "color": "#EF553B",
          "symbol": "circle"
         },
         "mode": "markers",
         "name": "2197308494\tmakkahnp\t(False, False)",
         "orientation": "v",
         "showlegend": true,
         "type": "scatter",
         "x": [
          3.360724449157715
         ],
         "xaxis": "x",
         "y": [
          1.2865290641784668
         ],
         "yaxis": "y"
        },
        {
         "hovertemplate": "color=538281041\tDr_MariamMatar\t(False, False)<br>0=%{x}<br>1=%{y}<extra></extra>",
         "legendgroup": "538281041\tDr_MariamMatar\t(False, False)",
         "marker": {
          "color": "#00cc96",
          "symbol": "circle"
         },
         "mode": "markers",
         "name": "538281041\tDr_MariamMatar\t(False, False)",
         "orientation": "v",
         "showlegend": true,
         "type": "scatter",
         "x": [
          2.7498018741607666
         ],
         "xaxis": "x",
         "y": [
          0.1940208226442337
         ],
         "yaxis": "y"
        },
        {
         "hovertemplate": "color=3621274708\tCatpsps\t(False, False)<br>0=%{x}<br>1=%{y}<extra></extra>",
         "legendgroup": "3621274708\tCatpsps\t(False, False)",
         "marker": {
          "color": "#ab63fa",
          "symbol": "circle"
         },
         "mode": "markers",
         "name": "3621274708\tCatpsps\t(False, False)",
         "orientation": "v",
         "showlegend": true,
         "type": "scatter",
         "x": [
          3.167881965637207
         ],
         "xaxis": "x",
         "y": [
          -0.36194509267807007
         ],
         "yaxis": "y"
        },
        {
         "hovertemplate": "color=44309594\tusembassyjlm\t(False, False)<br>0=%{x}<br>1=%{y}<extra></extra>",
         "legendgroup": "44309594\tusembassyjlm\t(False, False)",
         "marker": {
          "color": "#FFA15A",
          "symbol": "circle"
         },
         "mode": "markers",
         "name": "44309594\tusembassyjlm\t(False, False)",
         "orientation": "v",
         "showlegend": true,
         "type": "scatter",
         "x": [
          3.9133832454681396
         ],
         "xaxis": "x",
         "y": [
          -0.5797770023345947
         ],
         "yaxis": "y"
        },
        {
         "hovertemplate": "color=507952218\tNadonaBawazir\t(False, False)<br>0=%{x}<br>1=%{y}<extra></extra>",
         "legendgroup": "507952218\tNadonaBawazir\t(False, False)",
         "marker": {
          "color": "#19d3f3",
          "symbol": "circle"
         },
         "mode": "markers",
         "name": "507952218\tNadonaBawazir\t(False, False)",
         "orientation": "v",
         "showlegend": true,
         "type": "scatter",
         "x": [
          3.6567277908325195
         ],
         "xaxis": "x",
         "y": [
          -0.5391286015510559
         ],
         "yaxis": "y"
        },
        {
         "hovertemplate": "color=1373650016\tSmAlgarni\t(False, False)<br>0=%{x}<br>1=%{y}<extra></extra>",
         "legendgroup": "1373650016\tSmAlgarni\t(False, False)",
         "marker": {
          "color": "#FF6692",
          "symbol": "circle"
         },
         "mode": "markers",
         "name": "1373650016\tSmAlgarni\t(False, False)",
         "orientation": "v",
         "showlegend": true,
         "type": "scatter",
         "x": [
          2.4609720706939697
         ],
         "xaxis": "x",
         "y": [
          -0.026987280696630478
         ],
         "yaxis": "y"
        },
        {
         "hovertemplate": "color=1647793255\tdrInfinityRain\t(False, False)<br>0=%{x}<br>1=%{y}<extra></extra>",
         "legendgroup": "1647793255\tdrInfinityRain\t(False, False)",
         "marker": {
          "color": "#B6E880",
          "symbol": "circle"
         },
         "mode": "markers",
         "name": "1647793255\tdrInfinityRain\t(False, False)",
         "orientation": "v",
         "showlegend": true,
         "type": "scatter",
         "x": [
          2.7866082191467285
         ],
         "xaxis": "x",
         "y": [
          0.2610780596733093
         ],
         "yaxis": "y"
        },
        {
         "hovertemplate": "color=422947953\tjllmood\t(False, False)<br>0=%{x}<br>1=%{y}<extra></extra>",
         "legendgroup": "422947953\tjllmood\t(False, False)",
         "marker": {
          "color": "#FF97FF",
          "symbol": "circle"
         },
         "mode": "markers",
         "name": "422947953\tjllmood\t(False, False)",
         "orientation": "v",
         "showlegend": true,
         "type": "scatter",
         "x": [
          3.111802339553833
         ],
         "xaxis": "x",
         "y": [
          0.6242538094520569
         ],
         "yaxis": "y"
        },
        {
         "hovertemplate": "color=1144736463310983168\tProfWidad\t(False, False)<br>0=%{x}<br>1=%{y}<extra></extra>",
         "legendgroup": "1144736463310983168\tProfWidad\t(False, False)",
         "marker": {
          "color": "#FECB52",
          "symbol": "circle"
         },
         "mode": "markers",
         "name": "1144736463310983168\tProfWidad\t(False, False)",
         "orientation": "v",
         "showlegend": true,
         "type": "scatter",
         "x": [
          3.294048547744751
         ],
         "xaxis": "x",
         "y": [
          0.12342780083417892
         ],
         "yaxis": "y"
        },
        {
         "hovertemplate": "color=1121777641571389440\tKotob_Mo7ramah2\t(False, False)<br>0=%{x}<br>1=%{y}<extra></extra>",
         "legendgroup": "1121777641571389440\tKotob_Mo7ramah2\t(False, False)",
         "marker": {
          "color": "#636efa",
          "symbol": "circle"
         },
         "mode": "markers",
         "name": "1121777641571389440\tKotob_Mo7ramah2\t(False, False)",
         "orientation": "v",
         "showlegend": true,
         "type": "scatter",
         "x": [
          3.6373679637908936
         ],
         "xaxis": "x",
         "y": [
          -0.38909655809402466
         ],
         "yaxis": "y"
        },
        {
         "hovertemplate": "color=841291457579356160\tMPI_Biochem\t(False, False)<br>0=%{x}<br>1=%{y}<extra></extra>",
         "legendgroup": "841291457579356160\tMPI_Biochem\t(False, False)",
         "marker": {
          "color": "#EF553B",
          "symbol": "circle"
         },
         "mode": "markers",
         "name": "841291457579356160\tMPI_Biochem\t(False, False)",
         "orientation": "v",
         "showlegend": true,
         "type": "scatter",
         "x": [
          3.4780611991882324
         ],
         "xaxis": "x",
         "y": [
          -0.8924585580825806
         ],
         "yaxis": "y"
        },
        {
         "hovertemplate": "color=1131528376538337280\trattibha\t(False, False)<br>0=%{x}<br>1=%{y}<extra></extra>",
         "legendgroup": "1131528376538337280\trattibha\t(False, False)",
         "marker": {
          "color": "#00cc96",
          "symbol": "circle"
         },
         "mode": "markers",
         "name": "1131528376538337280\trattibha\t(False, False)",
         "orientation": "v",
         "showlegend": true,
         "type": "scatter",
         "x": [
          3.061824083328247
         ],
         "xaxis": "x",
         "y": [
          0.20143453776836395
         ],
         "yaxis": "y"
        }
       ],
       "layout": {
        "legend": {
         "title": {
          "text": "color"
         },
         "tracegroupgap": 0
        },
        "margin": {
         "t": 60
        },
        "template": {
         "data": {
          "bar": [
           {
            "error_x": {
             "color": "#2a3f5f"
            },
            "error_y": {
             "color": "#2a3f5f"
            },
            "marker": {
             "line": {
              "color": "#E5ECF6",
              "width": 0.5
             },
             "pattern": {
              "fillmode": "overlay",
              "size": 10,
              "solidity": 0.2
             }
            },
            "type": "bar"
           }
          ],
          "barpolar": [
           {
            "marker": {
             "line": {
              "color": "#E5ECF6",
              "width": 0.5
             },
             "pattern": {
              "fillmode": "overlay",
              "size": 10,
              "solidity": 0.2
             }
            },
            "type": "barpolar"
           }
          ],
          "carpet": [
           {
            "aaxis": {
             "endlinecolor": "#2a3f5f",
             "gridcolor": "white",
             "linecolor": "white",
             "minorgridcolor": "white",
             "startlinecolor": "#2a3f5f"
            },
            "baxis": {
             "endlinecolor": "#2a3f5f",
             "gridcolor": "white",
             "linecolor": "white",
             "minorgridcolor": "white",
             "startlinecolor": "#2a3f5f"
            },
            "type": "carpet"
           }
          ],
          "choropleth": [
           {
            "colorbar": {
             "outlinewidth": 0,
             "ticks": ""
            },
            "type": "choropleth"
           }
          ],
          "contour": [
           {
            "colorbar": {
             "outlinewidth": 0,
             "ticks": ""
            },
            "colorscale": [
             [
              0,
              "#0d0887"
             ],
             [
              0.1111111111111111,
              "#46039f"
             ],
             [
              0.2222222222222222,
              "#7201a8"
             ],
             [
              0.3333333333333333,
              "#9c179e"
             ],
             [
              0.4444444444444444,
              "#bd3786"
             ],
             [
              0.5555555555555556,
              "#d8576b"
             ],
             [
              0.6666666666666666,
              "#ed7953"
             ],
             [
              0.7777777777777778,
              "#fb9f3a"
             ],
             [
              0.8888888888888888,
              "#fdca26"
             ],
             [
              1,
              "#f0f921"
             ]
            ],
            "type": "contour"
           }
          ],
          "contourcarpet": [
           {
            "colorbar": {
             "outlinewidth": 0,
             "ticks": ""
            },
            "type": "contourcarpet"
           }
          ],
          "heatmap": [
           {
            "colorbar": {
             "outlinewidth": 0,
             "ticks": ""
            },
            "colorscale": [
             [
              0,
              "#0d0887"
             ],
             [
              0.1111111111111111,
              "#46039f"
             ],
             [
              0.2222222222222222,
              "#7201a8"
             ],
             [
              0.3333333333333333,
              "#9c179e"
             ],
             [
              0.4444444444444444,
              "#bd3786"
             ],
             [
              0.5555555555555556,
              "#d8576b"
             ],
             [
              0.6666666666666666,
              "#ed7953"
             ],
             [
              0.7777777777777778,
              "#fb9f3a"
             ],
             [
              0.8888888888888888,
              "#fdca26"
             ],
             [
              1,
              "#f0f921"
             ]
            ],
            "type": "heatmap"
           }
          ],
          "heatmapgl": [
           {
            "colorbar": {
             "outlinewidth": 0,
             "ticks": ""
            },
            "colorscale": [
             [
              0,
              "#0d0887"
             ],
             [
              0.1111111111111111,
              "#46039f"
             ],
             [
              0.2222222222222222,
              "#7201a8"
             ],
             [
              0.3333333333333333,
              "#9c179e"
             ],
             [
              0.4444444444444444,
              "#bd3786"
             ],
             [
              0.5555555555555556,
              "#d8576b"
             ],
             [
              0.6666666666666666,
              "#ed7953"
             ],
             [
              0.7777777777777778,
              "#fb9f3a"
             ],
             [
              0.8888888888888888,
              "#fdca26"
             ],
             [
              1,
              "#f0f921"
             ]
            ],
            "type": "heatmapgl"
           }
          ],
          "histogram": [
           {
            "marker": {
             "pattern": {
              "fillmode": "overlay",
              "size": 10,
              "solidity": 0.2
             }
            },
            "type": "histogram"
           }
          ],
          "histogram2d": [
           {
            "colorbar": {
             "outlinewidth": 0,
             "ticks": ""
            },
            "colorscale": [
             [
              0,
              "#0d0887"
             ],
             [
              0.1111111111111111,
              "#46039f"
             ],
             [
              0.2222222222222222,
              "#7201a8"
             ],
             [
              0.3333333333333333,
              "#9c179e"
             ],
             [
              0.4444444444444444,
              "#bd3786"
             ],
             [
              0.5555555555555556,
              "#d8576b"
             ],
             [
              0.6666666666666666,
              "#ed7953"
             ],
             [
              0.7777777777777778,
              "#fb9f3a"
             ],
             [
              0.8888888888888888,
              "#fdca26"
             ],
             [
              1,
              "#f0f921"
             ]
            ],
            "type": "histogram2d"
           }
          ],
          "histogram2dcontour": [
           {
            "colorbar": {
             "outlinewidth": 0,
             "ticks": ""
            },
            "colorscale": [
             [
              0,
              "#0d0887"
             ],
             [
              0.1111111111111111,
              "#46039f"
             ],
             [
              0.2222222222222222,
              "#7201a8"
             ],
             [
              0.3333333333333333,
              "#9c179e"
             ],
             [
              0.4444444444444444,
              "#bd3786"
             ],
             [
              0.5555555555555556,
              "#d8576b"
             ],
             [
              0.6666666666666666,
              "#ed7953"
             ],
             [
              0.7777777777777778,
              "#fb9f3a"
             ],
             [
              0.8888888888888888,
              "#fdca26"
             ],
             [
              1,
              "#f0f921"
             ]
            ],
            "type": "histogram2dcontour"
           }
          ],
          "mesh3d": [
           {
            "colorbar": {
             "outlinewidth": 0,
             "ticks": ""
            },
            "type": "mesh3d"
           }
          ],
          "parcoords": [
           {
            "line": {
             "colorbar": {
              "outlinewidth": 0,
              "ticks": ""
             }
            },
            "type": "parcoords"
           }
          ],
          "pie": [
           {
            "automargin": true,
            "type": "pie"
           }
          ],
          "scatter": [
           {
            "marker": {
             "colorbar": {
              "outlinewidth": 0,
              "ticks": ""
             }
            },
            "type": "scatter"
           }
          ],
          "scatter3d": [
           {
            "line": {
             "colorbar": {
              "outlinewidth": 0,
              "ticks": ""
             }
            },
            "marker": {
             "colorbar": {
              "outlinewidth": 0,
              "ticks": ""
             }
            },
            "type": "scatter3d"
           }
          ],
          "scattercarpet": [
           {
            "marker": {
             "colorbar": {
              "outlinewidth": 0,
              "ticks": ""
             }
            },
            "type": "scattercarpet"
           }
          ],
          "scattergeo": [
           {
            "marker": {
             "colorbar": {
              "outlinewidth": 0,
              "ticks": ""
             }
            },
            "type": "scattergeo"
           }
          ],
          "scattergl": [
           {
            "marker": {
             "colorbar": {
              "outlinewidth": 0,
              "ticks": ""
             }
            },
            "type": "scattergl"
           }
          ],
          "scattermapbox": [
           {
            "marker": {
             "colorbar": {
              "outlinewidth": 0,
              "ticks": ""
             }
            },
            "type": "scattermapbox"
           }
          ],
          "scatterpolar": [
           {
            "marker": {
             "colorbar": {
              "outlinewidth": 0,
              "ticks": ""
             }
            },
            "type": "scatterpolar"
           }
          ],
          "scatterpolargl": [
           {
            "marker": {
             "colorbar": {
              "outlinewidth": 0,
              "ticks": ""
             }
            },
            "type": "scatterpolargl"
           }
          ],
          "scatterternary": [
           {
            "marker": {
             "colorbar": {
              "outlinewidth": 0,
              "ticks": ""
             }
            },
            "type": "scatterternary"
           }
          ],
          "surface": [
           {
            "colorbar": {
             "outlinewidth": 0,
             "ticks": ""
            },
            "colorscale": [
             [
              0,
              "#0d0887"
             ],
             [
              0.1111111111111111,
              "#46039f"
             ],
             [
              0.2222222222222222,
              "#7201a8"
             ],
             [
              0.3333333333333333,
              "#9c179e"
             ],
             [
              0.4444444444444444,
              "#bd3786"
             ],
             [
              0.5555555555555556,
              "#d8576b"
             ],
             [
              0.6666666666666666,
              "#ed7953"
             ],
             [
              0.7777777777777778,
              "#fb9f3a"
             ],
             [
              0.8888888888888888,
              "#fdca26"
             ],
             [
              1,
              "#f0f921"
             ]
            ],
            "type": "surface"
           }
          ],
          "table": [
           {
            "cells": {
             "fill": {
              "color": "#EBF0F8"
             },
             "line": {
              "color": "white"
             }
            },
            "header": {
             "fill": {
              "color": "#C8D4E3"
             },
             "line": {
              "color": "white"
             }
            },
            "type": "table"
           }
          ]
         },
         "layout": {
          "annotationdefaults": {
           "arrowcolor": "#2a3f5f",
           "arrowhead": 0,
           "arrowwidth": 1
          },
          "autotypenumbers": "strict",
          "coloraxis": {
           "colorbar": {
            "outlinewidth": 0,
            "ticks": ""
           }
          },
          "colorscale": {
           "diverging": [
            [
             0,
             "#8e0152"
            ],
            [
             0.1,
             "#c51b7d"
            ],
            [
             0.2,
             "#de77ae"
            ],
            [
             0.3,
             "#f1b6da"
            ],
            [
             0.4,
             "#fde0ef"
            ],
            [
             0.5,
             "#f7f7f7"
            ],
            [
             0.6,
             "#e6f5d0"
            ],
            [
             0.7,
             "#b8e186"
            ],
            [
             0.8,
             "#7fbc41"
            ],
            [
             0.9,
             "#4d9221"
            ],
            [
             1,
             "#276419"
            ]
           ],
           "sequential": [
            [
             0,
             "#0d0887"
            ],
            [
             0.1111111111111111,
             "#46039f"
            ],
            [
             0.2222222222222222,
             "#7201a8"
            ],
            [
             0.3333333333333333,
             "#9c179e"
            ],
            [
             0.4444444444444444,
             "#bd3786"
            ],
            [
             0.5555555555555556,
             "#d8576b"
            ],
            [
             0.6666666666666666,
             "#ed7953"
            ],
            [
             0.7777777777777778,
             "#fb9f3a"
            ],
            [
             0.8888888888888888,
             "#fdca26"
            ],
            [
             1,
             "#f0f921"
            ]
           ],
           "sequentialminus": [
            [
             0,
             "#0d0887"
            ],
            [
             0.1111111111111111,
             "#46039f"
            ],
            [
             0.2222222222222222,
             "#7201a8"
            ],
            [
             0.3333333333333333,
             "#9c179e"
            ],
            [
             0.4444444444444444,
             "#bd3786"
            ],
            [
             0.5555555555555556,
             "#d8576b"
            ],
            [
             0.6666666666666666,
             "#ed7953"
            ],
            [
             0.7777777777777778,
             "#fb9f3a"
            ],
            [
             0.8888888888888888,
             "#fdca26"
            ],
            [
             1,
             "#f0f921"
            ]
           ]
          },
          "colorway": [
           "#636efa",
           "#EF553B",
           "#00cc96",
           "#ab63fa",
           "#FFA15A",
           "#19d3f3",
           "#FF6692",
           "#B6E880",
           "#FF97FF",
           "#FECB52"
          ],
          "font": {
           "color": "#2a3f5f"
          },
          "geo": {
           "bgcolor": "white",
           "lakecolor": "white",
           "landcolor": "#E5ECF6",
           "showlakes": true,
           "showland": true,
           "subunitcolor": "white"
          },
          "hoverlabel": {
           "align": "left"
          },
          "hovermode": "closest",
          "mapbox": {
           "style": "light"
          },
          "paper_bgcolor": "white",
          "plot_bgcolor": "#E5ECF6",
          "polar": {
           "angularaxis": {
            "gridcolor": "white",
            "linecolor": "white",
            "ticks": ""
           },
           "bgcolor": "#E5ECF6",
           "radialaxis": {
            "gridcolor": "white",
            "linecolor": "white",
            "ticks": ""
           }
          },
          "scene": {
           "xaxis": {
            "backgroundcolor": "#E5ECF6",
            "gridcolor": "white",
            "gridwidth": 2,
            "linecolor": "white",
            "showbackground": true,
            "ticks": "",
            "zerolinecolor": "white"
           },
           "yaxis": {
            "backgroundcolor": "#E5ECF6",
            "gridcolor": "white",
            "gridwidth": 2,
            "linecolor": "white",
            "showbackground": true,
            "ticks": "",
            "zerolinecolor": "white"
           },
           "zaxis": {
            "backgroundcolor": "#E5ECF6",
            "gridcolor": "white",
            "gridwidth": 2,
            "linecolor": "white",
            "showbackground": true,
            "ticks": "",
            "zerolinecolor": "white"
           }
          },
          "shapedefaults": {
           "line": {
            "color": "#2a3f5f"
           }
          },
          "ternary": {
           "aaxis": {
            "gridcolor": "white",
            "linecolor": "white",
            "ticks": ""
           },
           "baxis": {
            "gridcolor": "white",
            "linecolor": "white",
            "ticks": ""
           },
           "bgcolor": "#E5ECF6",
           "caxis": {
            "gridcolor": "white",
            "linecolor": "white",
            "ticks": ""
           }
          },
          "title": {
           "x": 0.05
          },
          "xaxis": {
           "automargin": true,
           "gridcolor": "white",
           "linecolor": "white",
           "ticks": "",
           "title": {
            "standoff": 15
           },
           "zerolinecolor": "white",
           "zerolinewidth": 2
          },
          "yaxis": {
           "automargin": true,
           "gridcolor": "white",
           "linecolor": "white",
           "ticks": "",
           "title": {
            "standoff": 15
           },
           "zerolinecolor": "white",
           "zerolinewidth": 2
          }
         }
        },
        "xaxis": {
         "anchor": "y",
         "domain": [
          0,
          1
         ],
         "title": {
          "text": "0"
         }
        },
        "yaxis": {
         "anchor": "x",
         "domain": [
          0,
          1
         ],
         "title": {
          "text": "1"
         }
        }
       }
      }
     },
     "metadata": {},
     "output_type": "display_data"
    }
   ],
   "source": [
    "trans = umap.UMAP().fit_transform(adj)\n",
    "px.scatter(trans, x=0, y=1, color=graph.nodes.values())"
   ]
  },
  {
   "cell_type": "code",
   "execution_count": 281,
   "metadata": {},
   "outputs": [],
   "source": [
    "adj = createAdjacency(graph.nodes)\n",
    "hdb = HDBSCAN(min_cluster_size=5)\n",
    "clustering = hdb.fit_predict(adj)"
   ]
  },
  {
   "cell_type": "code",
   "execution_count": 282,
   "metadata": {},
   "outputs": [],
   "source": [
    "clusters = np.unique(clustering).tolist()\n",
    "clusters.remove(-1)"
   ]
  },
  {
   "cell_type": "code",
   "execution_count": 283,
   "metadata": {},
   "outputs": [
    {
     "data": {
      "text/plain": [
       "[[False,\n",
       "  True,\n",
       "  True,\n",
       "  True,\n",
       "  True,\n",
       "  True,\n",
       "  True,\n",
       "  True,\n",
       "  True,\n",
       "  True,\n",
       "  True,\n",
       "  True,\n",
       "  True,\n",
       "  True,\n",
       "  True,\n",
       "  True,\n",
       "  True,\n",
       "  True,\n",
       "  True,\n",
       "  True,\n",
       "  True,\n",
       "  True,\n",
       "  True,\n",
       "  True,\n",
       "  True,\n",
       "  True,\n",
       "  True,\n",
       "  True,\n",
       "  True,\n",
       "  True,\n",
       "  True,\n",
       "  True,\n",
       "  True,\n",
       "  True,\n",
       "  True,\n",
       "  True],\n",
       " [True,\n",
       "  False,\n",
       "  True,\n",
       "  True,\n",
       "  True,\n",
       "  True,\n",
       "  True,\n",
       "  True,\n",
       "  True,\n",
       "  True,\n",
       "  True,\n",
       "  True,\n",
       "  True,\n",
       "  True,\n",
       "  True,\n",
       "  True,\n",
       "  True,\n",
       "  True,\n",
       "  True,\n",
       "  True,\n",
       "  True,\n",
       "  True,\n",
       "  True,\n",
       "  True,\n",
       "  True,\n",
       "  True,\n",
       "  True,\n",
       "  True,\n",
       "  True,\n",
       "  True,\n",
       "  True,\n",
       "  True,\n",
       "  True,\n",
       "  True,\n",
       "  True,\n",
       "  True],\n",
       " [True,\n",
       "  True,\n",
       "  False,\n",
       "  True,\n",
       "  True,\n",
       "  False,\n",
       "  False,\n",
       "  True,\n",
       "  True,\n",
       "  True,\n",
       "  True,\n",
       "  True,\n",
       "  True,\n",
       "  True,\n",
       "  True,\n",
       "  True,\n",
       "  True,\n",
       "  True,\n",
       "  True,\n",
       "  True,\n",
       "  True,\n",
       "  True,\n",
       "  True,\n",
       "  True,\n",
       "  True,\n",
       "  True,\n",
       "  True,\n",
       "  True,\n",
       "  True,\n",
       "  True,\n",
       "  True,\n",
       "  True,\n",
       "  True,\n",
       "  True,\n",
       "  True,\n",
       "  True],\n",
       " [True,\n",
       "  True,\n",
       "  True,\n",
       "  False,\n",
       "  False,\n",
       "  False,\n",
       "  False,\n",
       "  True,\n",
       "  False,\n",
       "  True,\n",
       "  True,\n",
       "  True,\n",
       "  True,\n",
       "  True,\n",
       "  True,\n",
       "  True,\n",
       "  True,\n",
       "  True,\n",
       "  True,\n",
       "  True,\n",
       "  True,\n",
       "  True,\n",
       "  True,\n",
       "  True,\n",
       "  True,\n",
       "  True,\n",
       "  True,\n",
       "  True,\n",
       "  True,\n",
       "  True,\n",
       "  True,\n",
       "  True,\n",
       "  True,\n",
       "  True,\n",
       "  True,\n",
       "  True],\n",
       " [True,\n",
       "  True,\n",
       "  True,\n",
       "  False,\n",
       "  False,\n",
       "  False,\n",
       "  False,\n",
       "  True,\n",
       "  False,\n",
       "  True,\n",
       "  True,\n",
       "  False,\n",
       "  True,\n",
       "  False,\n",
       "  False,\n",
       "  True,\n",
       "  True,\n",
       "  True,\n",
       "  True,\n",
       "  True,\n",
       "  False,\n",
       "  False,\n",
       "  False,\n",
       "  True,\n",
       "  False,\n",
       "  False,\n",
       "  False,\n",
       "  False,\n",
       "  False,\n",
       "  False,\n",
       "  False,\n",
       "  False,\n",
       "  False,\n",
       "  False,\n",
       "  False,\n",
       "  False],\n",
       " [True,\n",
       "  True,\n",
       "  False,\n",
       "  False,\n",
       "  False,\n",
       "  False,\n",
       "  False,\n",
       "  True,\n",
       "  False,\n",
       "  True,\n",
       "  True,\n",
       "  False,\n",
       "  True,\n",
       "  True,\n",
       "  True,\n",
       "  True,\n",
       "  True,\n",
       "  True,\n",
       "  True,\n",
       "  True,\n",
       "  True,\n",
       "  True,\n",
       "  True,\n",
       "  True,\n",
       "  True,\n",
       "  True,\n",
       "  True,\n",
       "  True,\n",
       "  True,\n",
       "  True,\n",
       "  True,\n",
       "  True,\n",
       "  True,\n",
       "  True,\n",
       "  True,\n",
       "  True],\n",
       " [True,\n",
       "  True,\n",
       "  False,\n",
       "  False,\n",
       "  False,\n",
       "  False,\n",
       "  False,\n",
       "  True,\n",
       "  False,\n",
       "  True,\n",
       "  False,\n",
       "  False,\n",
       "  True,\n",
       "  False,\n",
       "  True,\n",
       "  True,\n",
       "  True,\n",
       "  True,\n",
       "  True,\n",
       "  False,\n",
       "  False,\n",
       "  False,\n",
       "  False,\n",
       "  True,\n",
       "  False,\n",
       "  False,\n",
       "  False,\n",
       "  False,\n",
       "  False,\n",
       "  False,\n",
       "  False,\n",
       "  False,\n",
       "  False,\n",
       "  False,\n",
       "  False,\n",
       "  False],\n",
       " [True,\n",
       "  True,\n",
       "  True,\n",
       "  True,\n",
       "  True,\n",
       "  True,\n",
       "  True,\n",
       "  False,\n",
       "  False,\n",
       "  True,\n",
       "  False,\n",
       "  False,\n",
       "  True,\n",
       "  True,\n",
       "  True,\n",
       "  True,\n",
       "  True,\n",
       "  False,\n",
       "  False,\n",
       "  False,\n",
       "  False,\n",
       "  False,\n",
       "  False,\n",
       "  True,\n",
       "  False,\n",
       "  False,\n",
       "  False,\n",
       "  False,\n",
       "  False,\n",
       "  False,\n",
       "  False,\n",
       "  False,\n",
       "  False,\n",
       "  False,\n",
       "  False,\n",
       "  False],\n",
       " [True,\n",
       "  True,\n",
       "  True,\n",
       "  False,\n",
       "  False,\n",
       "  False,\n",
       "  False,\n",
       "  False,\n",
       "  False,\n",
       "  True,\n",
       "  False,\n",
       "  False,\n",
       "  True,\n",
       "  False,\n",
       "  False,\n",
       "  True,\n",
       "  True,\n",
       "  False,\n",
       "  False,\n",
       "  False,\n",
       "  False,\n",
       "  False,\n",
       "  False,\n",
       "  True,\n",
       "  False,\n",
       "  False,\n",
       "  False,\n",
       "  False,\n",
       "  False,\n",
       "  False,\n",
       "  False,\n",
       "  False,\n",
       "  False,\n",
       "  False,\n",
       "  False,\n",
       "  False],\n",
       " [True,\n",
       "  True,\n",
       "  True,\n",
       "  True,\n",
       "  True,\n",
       "  True,\n",
       "  True,\n",
       "  True,\n",
       "  True,\n",
       "  False,\n",
       "  True,\n",
       "  False,\n",
       "  True,\n",
       "  False,\n",
       "  False,\n",
       "  True,\n",
       "  False,\n",
       "  False,\n",
       "  False,\n",
       "  False,\n",
       "  False,\n",
       "  False,\n",
       "  False,\n",
       "  False,\n",
       "  False,\n",
       "  False,\n",
       "  False,\n",
       "  False,\n",
       "  False,\n",
       "  False,\n",
       "  False,\n",
       "  False,\n",
       "  False,\n",
       "  False,\n",
       "  False,\n",
       "  False],\n",
       " [True,\n",
       "  True,\n",
       "  True,\n",
       "  True,\n",
       "  True,\n",
       "  True,\n",
       "  False,\n",
       "  False,\n",
       "  False,\n",
       "  True,\n",
       "  False,\n",
       "  False,\n",
       "  True,\n",
       "  False,\n",
       "  False,\n",
       "  True,\n",
       "  True,\n",
       "  False,\n",
       "  False,\n",
       "  False,\n",
       "  False,\n",
       "  False,\n",
       "  False,\n",
       "  False,\n",
       "  False,\n",
       "  False,\n",
       "  False,\n",
       "  False,\n",
       "  False,\n",
       "  False,\n",
       "  False,\n",
       "  False,\n",
       "  False,\n",
       "  False,\n",
       "  False,\n",
       "  False],\n",
       " [True,\n",
       "  True,\n",
       "  True,\n",
       "  True,\n",
       "  False,\n",
       "  False,\n",
       "  False,\n",
       "  False,\n",
       "  False,\n",
       "  False,\n",
       "  False,\n",
       "  False,\n",
       "  True,\n",
       "  False,\n",
       "  False,\n",
       "  True,\n",
       "  False,\n",
       "  False,\n",
       "  False,\n",
       "  False,\n",
       "  False,\n",
       "  False,\n",
       "  False,\n",
       "  False,\n",
       "  False,\n",
       "  False,\n",
       "  False,\n",
       "  False,\n",
       "  False,\n",
       "  False,\n",
       "  False,\n",
       "  False,\n",
       "  False,\n",
       "  False,\n",
       "  False,\n",
       "  False],\n",
       " [True,\n",
       "  True,\n",
       "  True,\n",
       "  True,\n",
       "  True,\n",
       "  True,\n",
       "  True,\n",
       "  True,\n",
       "  True,\n",
       "  True,\n",
       "  True,\n",
       "  True,\n",
       "  False,\n",
       "  True,\n",
       "  True,\n",
       "  True,\n",
       "  True,\n",
       "  True,\n",
       "  True,\n",
       "  True,\n",
       "  True,\n",
       "  False,\n",
       "  False,\n",
       "  True,\n",
       "  False,\n",
       "  False,\n",
       "  False,\n",
       "  False,\n",
       "  False,\n",
       "  False,\n",
       "  False,\n",
       "  False,\n",
       "  False,\n",
       "  False,\n",
       "  False,\n",
       "  False],\n",
       " [True,\n",
       "  True,\n",
       "  True,\n",
       "  True,\n",
       "  False,\n",
       "  True,\n",
       "  False,\n",
       "  True,\n",
       "  False,\n",
       "  False,\n",
       "  False,\n",
       "  False,\n",
       "  True,\n",
       "  False,\n",
       "  False,\n",
       "  True,\n",
       "  True,\n",
       "  False,\n",
       "  False,\n",
       "  False,\n",
       "  False,\n",
       "  False,\n",
       "  False,\n",
       "  False,\n",
       "  False,\n",
       "  False,\n",
       "  False,\n",
       "  False,\n",
       "  False,\n",
       "  False,\n",
       "  False,\n",
       "  False,\n",
       "  False,\n",
       "  False,\n",
       "  False,\n",
       "  False],\n",
       " [True,\n",
       "  True,\n",
       "  True,\n",
       "  True,\n",
       "  False,\n",
       "  True,\n",
       "  True,\n",
       "  True,\n",
       "  False,\n",
       "  False,\n",
       "  False,\n",
       "  False,\n",
       "  True,\n",
       "  False,\n",
       "  False,\n",
       "  True,\n",
       "  True,\n",
       "  False,\n",
       "  False,\n",
       "  False,\n",
       "  False,\n",
       "  False,\n",
       "  False,\n",
       "  False,\n",
       "  False,\n",
       "  False,\n",
       "  False,\n",
       "  False,\n",
       "  False,\n",
       "  False,\n",
       "  False,\n",
       "  False,\n",
       "  False,\n",
       "  False,\n",
       "  False,\n",
       "  False],\n",
       " [True,\n",
       "  True,\n",
       "  True,\n",
       "  True,\n",
       "  True,\n",
       "  True,\n",
       "  True,\n",
       "  True,\n",
       "  True,\n",
       "  True,\n",
       "  True,\n",
       "  True,\n",
       "  True,\n",
       "  True,\n",
       "  True,\n",
       "  False,\n",
       "  False,\n",
       "  True,\n",
       "  True,\n",
       "  True,\n",
       "  True,\n",
       "  True,\n",
       "  True,\n",
       "  True,\n",
       "  True,\n",
       "  True,\n",
       "  True,\n",
       "  True,\n",
       "  True,\n",
       "  True,\n",
       "  True,\n",
       "  True,\n",
       "  True,\n",
       "  True,\n",
       "  True,\n",
       "  True],\n",
       " [True,\n",
       "  True,\n",
       "  True,\n",
       "  True,\n",
       "  True,\n",
       "  True,\n",
       "  True,\n",
       "  True,\n",
       "  True,\n",
       "  False,\n",
       "  True,\n",
       "  False,\n",
       "  True,\n",
       "  True,\n",
       "  True,\n",
       "  False,\n",
       "  False,\n",
       "  True,\n",
       "  False,\n",
       "  False,\n",
       "  False,\n",
       "  False,\n",
       "  False,\n",
       "  False,\n",
       "  False,\n",
       "  False,\n",
       "  False,\n",
       "  False,\n",
       "  False,\n",
       "  False,\n",
       "  False,\n",
       "  False,\n",
       "  False,\n",
       "  False,\n",
       "  False,\n",
       "  False],\n",
       " [True,\n",
       "  True,\n",
       "  True,\n",
       "  True,\n",
       "  True,\n",
       "  True,\n",
       "  True,\n",
       "  False,\n",
       "  False,\n",
       "  False,\n",
       "  False,\n",
       "  False,\n",
       "  True,\n",
       "  False,\n",
       "  False,\n",
       "  True,\n",
       "  True,\n",
       "  False,\n",
       "  False,\n",
       "  False,\n",
       "  False,\n",
       "  False,\n",
       "  False,\n",
       "  False,\n",
       "  False,\n",
       "  False,\n",
       "  False,\n",
       "  False,\n",
       "  False,\n",
       "  False,\n",
       "  False,\n",
       "  False,\n",
       "  False,\n",
       "  False,\n",
       "  False,\n",
       "  False],\n",
       " [True,\n",
       "  True,\n",
       "  True,\n",
       "  True,\n",
       "  True,\n",
       "  True,\n",
       "  True,\n",
       "  False,\n",
       "  False,\n",
       "  False,\n",
       "  False,\n",
       "  False,\n",
       "  True,\n",
       "  False,\n",
       "  False,\n",
       "  True,\n",
       "  False,\n",
       "  False,\n",
       "  False,\n",
       "  False,\n",
       "  False,\n",
       "  False,\n",
       "  False,\n",
       "  False,\n",
       "  False,\n",
       "  False,\n",
       "  False,\n",
       "  False,\n",
       "  False,\n",
       "  False,\n",
       "  False,\n",
       "  False,\n",
       "  False,\n",
       "  False,\n",
       "  False,\n",
       "  False],\n",
       " [True,\n",
       "  True,\n",
       "  True,\n",
       "  True,\n",
       "  True,\n",
       "  True,\n",
       "  False,\n",
       "  False,\n",
       "  False,\n",
       "  False,\n",
       "  False,\n",
       "  False,\n",
       "  True,\n",
       "  False,\n",
       "  False,\n",
       "  True,\n",
       "  False,\n",
       "  False,\n",
       "  False,\n",
       "  False,\n",
       "  False,\n",
       "  False,\n",
       "  False,\n",
       "  False,\n",
       "  False,\n",
       "  False,\n",
       "  False,\n",
       "  False,\n",
       "  False,\n",
       "  False,\n",
       "  False,\n",
       "  False,\n",
       "  False,\n",
       "  False,\n",
       "  False,\n",
       "  False],\n",
       " [True,\n",
       "  True,\n",
       "  True,\n",
       "  True,\n",
       "  False,\n",
       "  True,\n",
       "  False,\n",
       "  False,\n",
       "  False,\n",
       "  False,\n",
       "  False,\n",
       "  False,\n",
       "  True,\n",
       "  False,\n",
       "  False,\n",
       "  True,\n",
       "  False,\n",
       "  False,\n",
       "  False,\n",
       "  False,\n",
       "  False,\n",
       "  False,\n",
       "  False,\n",
       "  False,\n",
       "  False,\n",
       "  False,\n",
       "  False,\n",
       "  False,\n",
       "  False,\n",
       "  False,\n",
       "  False,\n",
       "  False,\n",
       "  False,\n",
       "  False,\n",
       "  False,\n",
       "  False],\n",
       " [True,\n",
       "  True,\n",
       "  True,\n",
       "  True,\n",
       "  False,\n",
       "  True,\n",
       "  False,\n",
       "  False,\n",
       "  False,\n",
       "  False,\n",
       "  False,\n",
       "  False,\n",
       "  False,\n",
       "  False,\n",
       "  False,\n",
       "  True,\n",
       "  False,\n",
       "  False,\n",
       "  False,\n",
       "  False,\n",
       "  False,\n",
       "  False,\n",
       "  False,\n",
       "  False,\n",
       "  False,\n",
       "  False,\n",
       "  False,\n",
       "  False,\n",
       "  False,\n",
       "  False,\n",
       "  False,\n",
       "  False,\n",
       "  False,\n",
       "  False,\n",
       "  False,\n",
       "  False],\n",
       " [True,\n",
       "  True,\n",
       "  True,\n",
       "  True,\n",
       "  False,\n",
       "  True,\n",
       "  False,\n",
       "  False,\n",
       "  False,\n",
       "  False,\n",
       "  False,\n",
       "  False,\n",
       "  False,\n",
       "  False,\n",
       "  False,\n",
       "  True,\n",
       "  False,\n",
       "  False,\n",
       "  False,\n",
       "  False,\n",
       "  False,\n",
       "  False,\n",
       "  False,\n",
       "  False,\n",
       "  False,\n",
       "  False,\n",
       "  False,\n",
       "  False,\n",
       "  False,\n",
       "  False,\n",
       "  False,\n",
       "  False,\n",
       "  False,\n",
       "  False,\n",
       "  False,\n",
       "  False],\n",
       " [True,\n",
       "  True,\n",
       "  True,\n",
       "  True,\n",
       "  True,\n",
       "  True,\n",
       "  True,\n",
       "  True,\n",
       "  True,\n",
       "  False,\n",
       "  False,\n",
       "  False,\n",
       "  True,\n",
       "  False,\n",
       "  False,\n",
       "  True,\n",
       "  False,\n",
       "  False,\n",
       "  False,\n",
       "  False,\n",
       "  False,\n",
       "  False,\n",
       "  False,\n",
       "  False,\n",
       "  False,\n",
       "  False,\n",
       "  False,\n",
       "  False,\n",
       "  False,\n",
       "  False,\n",
       "  False,\n",
       "  False,\n",
       "  False,\n",
       "  False,\n",
       "  False,\n",
       "  False],\n",
       " [True,\n",
       "  True,\n",
       "  True,\n",
       "  True,\n",
       "  False,\n",
       "  True,\n",
       "  False,\n",
       "  False,\n",
       "  False,\n",
       "  False,\n",
       "  False,\n",
       "  False,\n",
       "  False,\n",
       "  False,\n",
       "  False,\n",
       "  True,\n",
       "  False,\n",
       "  False,\n",
       "  False,\n",
       "  False,\n",
       "  False,\n",
       "  False,\n",
       "  False,\n",
       "  False,\n",
       "  False,\n",
       "  False,\n",
       "  False,\n",
       "  False,\n",
       "  False,\n",
       "  False,\n",
       "  False,\n",
       "  False,\n",
       "  False,\n",
       "  False,\n",
       "  False,\n",
       "  False],\n",
       " [True,\n",
       "  True,\n",
       "  True,\n",
       "  True,\n",
       "  False,\n",
       "  True,\n",
       "  False,\n",
       "  False,\n",
       "  False,\n",
       "  False,\n",
       "  False,\n",
       "  False,\n",
       "  False,\n",
       "  False,\n",
       "  False,\n",
       "  True,\n",
       "  False,\n",
       "  False,\n",
       "  False,\n",
       "  False,\n",
       "  False,\n",
       "  False,\n",
       "  False,\n",
       "  False,\n",
       "  False,\n",
       "  False,\n",
       "  False,\n",
       "  False,\n",
       "  False,\n",
       "  False,\n",
       "  False,\n",
       "  False,\n",
       "  False,\n",
       "  False,\n",
       "  False,\n",
       "  False],\n",
       " [True,\n",
       "  True,\n",
       "  True,\n",
       "  True,\n",
       "  False,\n",
       "  True,\n",
       "  False,\n",
       "  False,\n",
       "  False,\n",
       "  False,\n",
       "  False,\n",
       "  False,\n",
       "  False,\n",
       "  False,\n",
       "  False,\n",
       "  True,\n",
       "  False,\n",
       "  False,\n",
       "  False,\n",
       "  False,\n",
       "  False,\n",
       "  False,\n",
       "  False,\n",
       "  False,\n",
       "  False,\n",
       "  False,\n",
       "  False,\n",
       "  False,\n",
       "  False,\n",
       "  False,\n",
       "  False,\n",
       "  False,\n",
       "  False,\n",
       "  False,\n",
       "  False,\n",
       "  False],\n",
       " [True,\n",
       "  True,\n",
       "  True,\n",
       "  True,\n",
       "  False,\n",
       "  True,\n",
       "  False,\n",
       "  False,\n",
       "  False,\n",
       "  False,\n",
       "  False,\n",
       "  False,\n",
       "  False,\n",
       "  False,\n",
       "  False,\n",
       "  True,\n",
       "  False,\n",
       "  False,\n",
       "  False,\n",
       "  False,\n",
       "  False,\n",
       "  False,\n",
       "  False,\n",
       "  False,\n",
       "  False,\n",
       "  False,\n",
       "  False,\n",
       "  False,\n",
       "  False,\n",
       "  False,\n",
       "  False,\n",
       "  False,\n",
       "  False,\n",
       "  False,\n",
       "  False,\n",
       "  False],\n",
       " [True,\n",
       "  True,\n",
       "  True,\n",
       "  True,\n",
       "  False,\n",
       "  True,\n",
       "  False,\n",
       "  False,\n",
       "  False,\n",
       "  False,\n",
       "  False,\n",
       "  False,\n",
       "  False,\n",
       "  False,\n",
       "  False,\n",
       "  True,\n",
       "  False,\n",
       "  False,\n",
       "  False,\n",
       "  False,\n",
       "  False,\n",
       "  False,\n",
       "  False,\n",
       "  False,\n",
       "  False,\n",
       "  False,\n",
       "  False,\n",
       "  False,\n",
       "  False,\n",
       "  False,\n",
       "  False,\n",
       "  False,\n",
       "  False,\n",
       "  False,\n",
       "  False,\n",
       "  False],\n",
       " [True,\n",
       "  True,\n",
       "  True,\n",
       "  True,\n",
       "  False,\n",
       "  True,\n",
       "  False,\n",
       "  False,\n",
       "  False,\n",
       "  False,\n",
       "  False,\n",
       "  False,\n",
       "  False,\n",
       "  False,\n",
       "  False,\n",
       "  True,\n",
       "  False,\n",
       "  False,\n",
       "  False,\n",
       "  False,\n",
       "  False,\n",
       "  False,\n",
       "  False,\n",
       "  False,\n",
       "  False,\n",
       "  False,\n",
       "  False,\n",
       "  False,\n",
       "  False,\n",
       "  False,\n",
       "  False,\n",
       "  False,\n",
       "  False,\n",
       "  False,\n",
       "  False,\n",
       "  False],\n",
       " [True,\n",
       "  True,\n",
       "  True,\n",
       "  True,\n",
       "  False,\n",
       "  True,\n",
       "  False,\n",
       "  False,\n",
       "  False,\n",
       "  False,\n",
       "  False,\n",
       "  False,\n",
       "  False,\n",
       "  False,\n",
       "  False,\n",
       "  True,\n",
       "  False,\n",
       "  False,\n",
       "  False,\n",
       "  False,\n",
       "  False,\n",
       "  False,\n",
       "  False,\n",
       "  False,\n",
       "  False,\n",
       "  False,\n",
       "  False,\n",
       "  False,\n",
       "  False,\n",
       "  False,\n",
       "  False,\n",
       "  False,\n",
       "  False,\n",
       "  False,\n",
       "  False,\n",
       "  False],\n",
       " [True,\n",
       "  True,\n",
       "  True,\n",
       "  True,\n",
       "  False,\n",
       "  True,\n",
       "  False,\n",
       "  False,\n",
       "  False,\n",
       "  False,\n",
       "  False,\n",
       "  False,\n",
       "  False,\n",
       "  False,\n",
       "  False,\n",
       "  True,\n",
       "  False,\n",
       "  False,\n",
       "  False,\n",
       "  False,\n",
       "  False,\n",
       "  False,\n",
       "  False,\n",
       "  False,\n",
       "  False,\n",
       "  False,\n",
       "  False,\n",
       "  False,\n",
       "  False,\n",
       "  False,\n",
       "  False,\n",
       "  False,\n",
       "  False,\n",
       "  False,\n",
       "  False,\n",
       "  False],\n",
       " [True,\n",
       "  True,\n",
       "  True,\n",
       "  True,\n",
       "  False,\n",
       "  True,\n",
       "  False,\n",
       "  False,\n",
       "  False,\n",
       "  False,\n",
       "  False,\n",
       "  False,\n",
       "  False,\n",
       "  False,\n",
       "  False,\n",
       "  True,\n",
       "  False,\n",
       "  False,\n",
       "  False,\n",
       "  False,\n",
       "  False,\n",
       "  False,\n",
       "  False,\n",
       "  False,\n",
       "  False,\n",
       "  False,\n",
       "  False,\n",
       "  False,\n",
       "  False,\n",
       "  False,\n",
       "  False,\n",
       "  False,\n",
       "  False,\n",
       "  False,\n",
       "  False,\n",
       "  False],\n",
       " [True,\n",
       "  True,\n",
       "  True,\n",
       "  True,\n",
       "  False,\n",
       "  True,\n",
       "  False,\n",
       "  False,\n",
       "  False,\n",
       "  False,\n",
       "  False,\n",
       "  False,\n",
       "  False,\n",
       "  False,\n",
       "  False,\n",
       "  True,\n",
       "  False,\n",
       "  False,\n",
       "  False,\n",
       "  False,\n",
       "  False,\n",
       "  False,\n",
       "  False,\n",
       "  False,\n",
       "  False,\n",
       "  False,\n",
       "  False,\n",
       "  False,\n",
       "  False,\n",
       "  False,\n",
       "  False,\n",
       "  False,\n",
       "  False,\n",
       "  False,\n",
       "  False,\n",
       "  False],\n",
       " [True,\n",
       "  True,\n",
       "  True,\n",
       "  True,\n",
       "  False,\n",
       "  True,\n",
       "  False,\n",
       "  False,\n",
       "  False,\n",
       "  False,\n",
       "  False,\n",
       "  False,\n",
       "  False,\n",
       "  False,\n",
       "  False,\n",
       "  True,\n",
       "  False,\n",
       "  False,\n",
       "  False,\n",
       "  False,\n",
       "  False,\n",
       "  False,\n",
       "  False,\n",
       "  False,\n",
       "  False,\n",
       "  False,\n",
       "  False,\n",
       "  False,\n",
       "  False,\n",
       "  False,\n",
       "  False,\n",
       "  False,\n",
       "  False,\n",
       "  False,\n",
       "  False,\n",
       "  False],\n",
       " [True,\n",
       "  True,\n",
       "  True,\n",
       "  True,\n",
       "  False,\n",
       "  True,\n",
       "  False,\n",
       "  False,\n",
       "  False,\n",
       "  False,\n",
       "  False,\n",
       "  False,\n",
       "  False,\n",
       "  False,\n",
       "  False,\n",
       "  True,\n",
       "  False,\n",
       "  False,\n",
       "  False,\n",
       "  False,\n",
       "  False,\n",
       "  False,\n",
       "  False,\n",
       "  False,\n",
       "  False,\n",
       "  False,\n",
       "  False,\n",
       "  False,\n",
       "  False,\n",
       "  False,\n",
       "  False,\n",
       "  False,\n",
       "  False,\n",
       "  False,\n",
       "  False,\n",
       "  False]]"
      ]
     },
     "execution_count": 283,
     "metadata": {},
     "output_type": "execute_result"
    }
   ],
   "source": [
    "distances = [[abs(hdb.weighted_cluster_centroid(i) - hdb.weighted_cluster_centroid(j)).mean() for j in clusters] for i in clusters]\n",
    "pd.DataFrame(distances).applymap(lambda x: x > 0.05).values.tolist()"
   ]
  },
  {
   "cell_type": "code",
   "execution_count": 284,
   "metadata": {},
   "outputs": [
    {
     "data": {
      "text/plain": [
       "array([-1, -1, -1, -1, -1, -1, -1, -1, -1, -1, -1, -1, -1, -1, -1, -1, -1,\n",
       "       -1, -1, -1, -1, 12, 12,  6, -1, -1,  7, -1, 12, -1, -1, -1, -1, -1,\n",
       "       -1, -1, -1, -1, -1, -1, -1, -1, -1, -1, -1, -1, -1, -1, -1, -1, 21,\n",
       "       -1, -1, -1, -1, -1, 21,  4, -1, -1, -1, -1, -1,  0, -1, -1, -1, -1,\n",
       "       21, -1, -1, -1, -1, -1, -1, -1, 20, -1, -1, 14, -1, -1, -1, 13, -1,\n",
       "       13, -1, -1, -1, -1, 18, 18, -1, 18, -1, -1, -1, -1, -1, 18, -1, -1,\n",
       "       -1,  9, 13, 21, -1, 13, 22, -1, 27,  8, -1, -1, -1, 32, 25, 18, -1,\n",
       "       32, -1, 14, -1,  9, -1, 23, 23, 23, 23, -1, 24, 23, 23, 18, 13, 19,\n",
       "       -1, 32, 27, 32, 32, 13, -1,  1, -1, -1, -1, 12, 27, 25, -1, -1, 24,\n",
       "       -1, 21, 24, 21, -1, -1, 19, 21,  0, 18,  9, 21, 25, 30, 21, -1, -1,\n",
       "       -1,  5,  8, 22, -1, 25, -1, 24, 14, 22, -1, -1, -1,  5,  8, -1, -1,\n",
       "       -1, 19, -1, 14, -1, -1, -1, 22, -1, 17, 30, -1, 21, -1, 21,  7, -1,\n",
       "       -1, -1, -1, 21,  7, -1, -1, -1,  9, -1,  0, -1, 20, 24, -1, -1, 15,\n",
       "       -1,  3, 13, 22, -1, -1, -1, 25, -1, 32, 27, 33, -1, 25, 19, 24, 30,\n",
       "       30, -1, -1, 30, 18, -1,  5, 27, -1, 21,  2, 30, -1, -1, -1,  4, 30,\n",
       "        6,  8, 14, 13, 13, 18, 13,  3, -1, -1, 17,  3,  5,  2,  6, 13, -1,\n",
       "       -1,  5,  1, -1,  3, 28, -1,  1,  0,  3, 12,  8, -1, -1, 20, -1,  4,\n",
       "       -1, -1, -1,  6, 25, 13, 15,  9, 15, 15, 16, 16, 15, -1, 15, 15, 15,\n",
       "       15, 16, 16, 15, 15, 15, 15, 15, 15, 15, 18, 15, 15, 15, 22, 29, 16,\n",
       "       15, 11, 15, 15, 15, 15, 15, 15, 25, 29, -1, 25, 19, 17, 30, -1, 21,\n",
       "       28, 22, 28, -1, -1, 24, 11, -1,  6, -1, 11, -1, 11,  4, -1,  8, -1,\n",
       "       22, 17, -1, -1, 18, -1, -1, 19, -1, -1, -1, -1, 28, 21, -1, 33, 30,\n",
       "       -1,  2, 30, 33, -1, 30, 33, 30, 33, 27, 21, 28, 33, -1, 27, 29, 13,\n",
       "       18, 13, 22, -1, -1, -1,  9, 21, -1, -1, -1, 26, 33, 33, -1, 16, 29,\n",
       "       33, 26, 28, -1, 13, 24, 20, 30, 21, -1, -1,  6,  3, 24,  9, 11, -1,\n",
       "       20, 26, 17, -1, 33, 16, -1, 19,  6, -1, -1, -1, 14, 26, 22, 14, 19,\n",
       "       28, 31, 28, -1, 20, 19, 24, 35, 26, 20, 21, 26, 22, -1, 31,  6, -1,\n",
       "       22, 10, -1, 26, -1, -1, 30, -1, 28, 30,  5, -1, -1, 22, -1, -1, -1,\n",
       "       22, 29, 19,  2, 10, 22, 14, 35, -1, 16, 11, -1, 30, -1, -1, -1, 20,\n",
       "       -1, -1, 26, 29, -1, 10, 24, -1, -1, 10, 13,  4,  1, 29, 30, 10, 11,\n",
       "        7,  7, -1,  9, 28, -1, 24, -1, 18, 29,  3, -1, 30, -1,  2,  4, -1,\n",
       "       -1, -1, 10, 20, -1, 13,  2, -1, 25, 20, 26, -1, 30, -1, 24, 31,  3,\n",
       "       -1,  4,  7, -1, -1, 20, -1, 34, 26, 21, 10, 26, 18, -1, 11, 30, -1,\n",
       "       11, -1, -1,  2, 20,  9,  0, -1, 35,  1, -1, -1, 11, -1, -1, -1, -1,\n",
       "       18, 35, -1, -1,  4, 29, 25, 25, -1, -1, -1, -1, 22, 35, 16,  5, 26,\n",
       "       -1, 29, -1,  8, 22, 14, -1,  7, 31, 18, 21, -1, -1, -1, 10, 34, 21,\n",
       "       -1, 35, 25, -1, 30, 34, -1, 35, 11, 29, 25, -1, 35, 35,  4, 21, 14,\n",
       "       35, -1,  8, 21, 35, 31, 34, -1, 31, 30, 35, 34, 31, -1],\n",
       "      dtype=int64)"
      ]
     },
     "execution_count": 284,
     "metadata": {},
     "output_type": "execute_result"
    }
   ],
   "source": [
    "clustering"
   ]
  },
  {
   "cell_type": "code",
   "execution_count": 285,
   "metadata": {},
   "outputs": [],
   "source": [
    "import json"
   ]
  },
  {
   "cell_type": "code",
   "execution_count": 286,
   "metadata": {},
   "outputs": [],
   "source": [
    "with open(\"deleteme.txt\", \"w\") as file:\n",
    "    json.dump({\"edges\": cluster_edges.tolist()}, file)"
   ]
  },
  {
   "cell_type": "code",
   "execution_count": 289,
   "metadata": {},
   "outputs": [],
   "source": [
    "api = loadAPI()"
   ]
  },
  {
   "cell_type": "code",
   "execution_count": 320,
   "metadata": {},
   "outputs": [],
   "source": [
    "res = api.search(q=\"#الرياض\", count=40)"
   ]
  },
  {
   "cell_type": "code",
   "execution_count": 321,
   "metadata": {},
   "outputs": [],
   "source": [
    "limits = api.rate_limit_status()"
   ]
  },
  {
   "cell_type": "code",
   "execution_count": 322,
   "metadata": {},
   "outputs": [
    {
     "data": {
      "text/plain": [
       "['__class__',\n",
       " '__delattr__',\n",
       " '__dict__',\n",
       " '__dir__',\n",
       " '__doc__',\n",
       " '__eq__',\n",
       " '__format__',\n",
       " '__ge__',\n",
       " '__getattribute__',\n",
       " '__getstate__',\n",
       " '__gt__',\n",
       " '__hash__',\n",
       " '__init__',\n",
       " '__init_subclass__',\n",
       " '__le__',\n",
       " '__lt__',\n",
       " '__module__',\n",
       " '__ne__',\n",
       " '__new__',\n",
       " '__reduce__',\n",
       " '__reduce_ex__',\n",
       " '__repr__',\n",
       " '__setattr__',\n",
       " '__sizeof__',\n",
       " '__str__',\n",
       " '__subclasshook__',\n",
       " '__weakref__',\n",
       " '_api',\n",
       " '_json',\n",
       " 'author',\n",
       " 'contributors',\n",
       " 'coordinates',\n",
       " 'created_at',\n",
       " 'destroy',\n",
       " 'entities',\n",
       " 'favorite',\n",
       " 'favorite_count',\n",
       " 'favorited',\n",
       " 'geo',\n",
       " 'id',\n",
       " 'id_str',\n",
       " 'in_reply_to_screen_name',\n",
       " 'in_reply_to_status_id',\n",
       " 'in_reply_to_status_id_str',\n",
       " 'in_reply_to_user_id',\n",
       " 'in_reply_to_user_id_str',\n",
       " 'is_quote_status',\n",
       " 'lang',\n",
       " 'metadata',\n",
       " 'parse',\n",
       " 'parse_list',\n",
       " 'place',\n",
       " 'retweet',\n",
       " 'retweet_count',\n",
       " 'retweeted',\n",
       " 'retweeted_status',\n",
       " 'retweets',\n",
       " 'source',\n",
       " 'source_url',\n",
       " 'text',\n",
       " 'truncated',\n",
       " 'user']"
      ]
     },
     "execution_count": 322,
     "metadata": {},
     "output_type": "execute_result"
    }
   ],
   "source": [
    "dir(res[0])"
   ]
  },
  {
   "cell_type": "code",
   "execution_count": 351,
   "metadata": {},
   "outputs": [
    {
     "data": {
      "text/plain": [
       "{'created_at': 'Mon Jan 24 14:23:37 +0000 2022',\n",
       " 'id': 1485619300505427970,\n",
       " 'id_str': '1485619300505427970',\n",
       " 'text': 'RT @sweet_homes2: ❣️النُـزل الجميلة❣️\\nشقق فاخرة ، إيجار يومي ، شهري \\nموقع مميز في #حي_غرناطة شمال شرق #الرياض \\nبالقرب من جميع الخدمات👌🏻\\n🎈يت…',\n",
       " 'truncated': False,\n",
       " 'entities': {'hashtags': [{'text': 'حي_غرناطة', 'indices': [82, 92]},\n",
       "   {'text': 'الرياض', 'indices': [102, 109]}],\n",
       "  'symbols': [],\n",
       "  'user_mentions': [{'screen_name': 'sweet_homes2',\n",
       "    'name': 'النُـزل الجميلة',\n",
       "    'id': 768056004764397568,\n",
       "    'id_str': '768056004764397568',\n",
       "    'indices': [3, 16]}],\n",
       "  'urls': []},\n",
       " 'metadata': {'iso_language_code': 'ar', 'result_type': 'recent'},\n",
       " 'source': '<a href=\"http://twitter.com/download/android\" rel=\"nofollow\">Twitter for Android</a>',\n",
       " 'in_reply_to_status_id': None,\n",
       " 'in_reply_to_status_id_str': None,\n",
       " 'in_reply_to_user_id': None,\n",
       " 'in_reply_to_user_id_str': None,\n",
       " 'in_reply_to_screen_name': None,\n",
       " 'user': {'id': 860818171258961921,\n",
       "  'id_str': '860818171258961921',\n",
       "  'name': 'عبارات ملهمه',\n",
       "  'screen_name': 'Lata7zan_',\n",
       "  'location': '',\n",
       "  'description': 'ابتسم فلن يتغير العالم بحزنك.للإعلانات خاص',\n",
       "  'url': None,\n",
       "  'entities': {'description': {'urls': []}},\n",
       "  'protected': False,\n",
       "  'followers_count': 219777,\n",
       "  'friends_count': 22,\n",
       "  'listed_count': 194,\n",
       "  'created_at': 'Sat May 06 11:27:00 +0000 2017',\n",
       "  'favourites_count': 4,\n",
       "  'utc_offset': None,\n",
       "  'time_zone': None,\n",
       "  'geo_enabled': True,\n",
       "  'verified': False,\n",
       "  'statuses_count': 682,\n",
       "  'lang': None,\n",
       "  'contributors_enabled': False,\n",
       "  'is_translator': False,\n",
       "  'is_translation_enabled': False,\n",
       "  'profile_background_color': 'F5F8FA',\n",
       "  'profile_background_image_url': None,\n",
       "  'profile_background_image_url_https': None,\n",
       "  'profile_background_tile': False,\n",
       "  'profile_image_url': 'http://pbs.twimg.com/profile_images/1281646434912276481/y_Yn8npR_normal.jpg',\n",
       "  'profile_image_url_https': 'https://pbs.twimg.com/profile_images/1281646434912276481/y_Yn8npR_normal.jpg',\n",
       "  'profile_banner_url': 'https://pbs.twimg.com/profile_banners/860818171258961921/1554383927',\n",
       "  'profile_link_color': '1DA1F2',\n",
       "  'profile_sidebar_border_color': 'C0DEED',\n",
       "  'profile_sidebar_fill_color': 'DDEEF6',\n",
       "  'profile_text_color': '333333',\n",
       "  'profile_use_background_image': True,\n",
       "  'has_extended_profile': False,\n",
       "  'default_profile': True,\n",
       "  'default_profile_image': False,\n",
       "  'following': False,\n",
       "  'follow_request_sent': False,\n",
       "  'notifications': False,\n",
       "  'translator_type': 'none',\n",
       "  'withheld_in_countries': []},\n",
       " 'geo': None,\n",
       " 'coordinates': None,\n",
       " 'place': None,\n",
       " 'contributors': None,\n",
       " 'retweeted_status': {'created_at': 'Mon Jan 24 09:05:13 +0000 2022',\n",
       "  'id': 1485539174958747656,\n",
       "  'id_str': '1485539174958747656',\n",
       "  'text': '❣️النُـزل الجميلة❣️\\nشقق فاخرة ، إيجار يومي ، شهري \\nموقع مميز في #حي_غرناطة شمال شرق #الرياض \\nبالقرب من جميع الخدمات… https://t.co/eTel6rYHf4',\n",
       "  'truncated': True,\n",
       "  'entities': {'hashtags': [{'text': 'حي_غرناطة', 'indices': [64, 74]},\n",
       "    {'text': 'الرياض', 'indices': [84, 91]}],\n",
       "   'symbols': [],\n",
       "   'user_mentions': [],\n",
       "   'urls': [{'url': 'https://t.co/eTel6rYHf4',\n",
       "     'expanded_url': 'https://twitter.com/i/web/status/1485539174958747656',\n",
       "     'display_url': 'twitter.com/i/web/status/1…',\n",
       "     'indices': [117, 140]}]},\n",
       "  'metadata': {'iso_language_code': 'ar', 'result_type': 'recent'},\n",
       "  'source': '<a href=\"http://twitter.com/download/iphone\" rel=\"nofollow\">Twitter for iPhone</a>',\n",
       "  'in_reply_to_status_id': None,\n",
       "  'in_reply_to_status_id_str': None,\n",
       "  'in_reply_to_user_id': None,\n",
       "  'in_reply_to_user_id_str': None,\n",
       "  'in_reply_to_screen_name': None,\n",
       "  'user': {'id': 768056004764397568,\n",
       "   'id_str': '768056004764397568',\n",
       "   'name': 'النُـزل الجميلة',\n",
       "   'screen_name': 'sweet_homes2',\n",
       "   'location': 'الرياض. حي غرناطة ',\n",
       "   'description': 'خدمات فندقية فريدة بأسعار مميزة ،، آجار يومي، شهري ، متواجدون 24 ساعه لخدمتكم ونسعد بخدمتكم . الهاتف الأرضي 0114000038 جوال : 0500694343',\n",
       "   'url': 'https://t.co/AnZbhvMRTw',\n",
       "   'entities': {'url': {'urls': [{'url': 'https://t.co/AnZbhvMRTw',\n",
       "       'expanded_url': 'https://goo.gl/maps/vptc8WbQoaU2',\n",
       "       'display_url': 'goo.gl/maps/vptc8WbQo…',\n",
       "       'indices': [0, 23]}]},\n",
       "    'description': {'urls': []}},\n",
       "   'protected': False,\n",
       "   'followers_count': 10455,\n",
       "   'friends_count': 1,\n",
       "   'listed_count': 12,\n",
       "   'created_at': 'Tue Aug 23 12:03:16 +0000 2016',\n",
       "   'favourites_count': 69,\n",
       "   'utc_offset': None,\n",
       "   'time_zone': None,\n",
       "   'geo_enabled': False,\n",
       "   'verified': False,\n",
       "   'statuses_count': 960,\n",
       "   'lang': None,\n",
       "   'contributors_enabled': False,\n",
       "   'is_translator': False,\n",
       "   'is_translation_enabled': False,\n",
       "   'profile_background_color': 'F5F8FA',\n",
       "   'profile_background_image_url': None,\n",
       "   'profile_background_image_url_https': None,\n",
       "   'profile_background_tile': False,\n",
       "   'profile_image_url': 'http://pbs.twimg.com/profile_images/1043039510496505856/N514mfaN_normal.jpg',\n",
       "   'profile_image_url_https': 'https://pbs.twimg.com/profile_images/1043039510496505856/N514mfaN_normal.jpg',\n",
       "   'profile_banner_url': 'https://pbs.twimg.com/profile_banners/768056004764397568/1537514975',\n",
       "   'profile_link_color': '1DA1F2',\n",
       "   'profile_sidebar_border_color': 'C0DEED',\n",
       "   'profile_sidebar_fill_color': 'DDEEF6',\n",
       "   'profile_text_color': '333333',\n",
       "   'profile_use_background_image': True,\n",
       "   'has_extended_profile': False,\n",
       "   'default_profile': True,\n",
       "   'default_profile_image': False,\n",
       "   'following': False,\n",
       "   'follow_request_sent': False,\n",
       "   'notifications': False,\n",
       "   'translator_type': 'none',\n",
       "   'withheld_in_countries': []},\n",
       "  'geo': None,\n",
       "  'coordinates': None,\n",
       "  'place': None,\n",
       "  'contributors': None,\n",
       "  'is_quote_status': False,\n",
       "  'retweet_count': 18,\n",
       "  'favorite_count': 5,\n",
       "  'favorited': False,\n",
       "  'retweeted': False,\n",
       "  'possibly_sensitive': False,\n",
       "  'lang': 'ar'},\n",
       " 'is_quote_status': False,\n",
       " 'retweet_count': 18,\n",
       " 'favorite_count': 0,\n",
       " 'favorited': False,\n",
       " 'retweeted': False,\n",
       " 'lang': 'ar'}"
      ]
     },
     "execution_count": 351,
     "metadata": {},
     "output_type": "execute_result"
    }
   ],
   "source": [
    "res[7].text\n",
    "res[7].lang\n",
    "res[7].favorite_count\n",
    "res[7].author\n",
    "res[7].coordinates\n",
    "res[7].created_at\n",
    "res[7].entities\n",
    "res[7].user\n",
    "res[7]._json"
   ]
  },
  {
   "cell_type": "code",
   "execution_count": null,
   "metadata": {},
   "outputs": [],
   "source": []
  }
 ],
 "metadata": {
  "interpreter": {
   "hash": "c2deab0c0d56e72ca5db1d97fb88fe0c0ab6b5e910fcaec703ad36be267b2091"
  },
  "kernelspec": {
   "display_name": "Python 3.8.8 64-bit ('base': conda)",
   "name": "python3"
  },
  "language_info": {
   "codemirror_mode": {
    "name": "ipython",
    "version": 3
   },
   "file_extension": ".py",
   "mimetype": "text/x-python",
   "name": "python",
   "nbconvert_exporter": "python",
   "pygments_lexer": "ipython3",
   "version": "3.8.8"
  },
  "orig_nbformat": 4
 },
 "nbformat": 4,
 "nbformat_minor": 2
}
