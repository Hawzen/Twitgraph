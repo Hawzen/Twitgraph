{
 "cells": [
  {
   "cell_type": "markdown",
   "metadata": {},
   "source": [
    "## Import stuff"
   ]
  },
  {
   "cell_type": "code",
   "execution_count": null,
   "metadata": {},
   "outputs": [],
   "source": [
    "import tweepy\n",
    "import shelve\n",
    "import json\n",
    "from api_funcs import *\n",
    "\n",
    "with open('twitterkeys.txt', 'r') as file:\n",
    "    lines = file.read().split('\\n')\n",
    "apiKey = lines[0]\n",
    "apiSecretKey = lines[1]\n",
    "accessToken = lines[2]\n",
    "accessTokenSecret = lines[3]\n",
    "username = lines[4]\n",
    "\n",
    "auth = tweepy.OAuthHandler(apiKey, apiSecretKey)\n",
    "auth.set_access_token(accessToken, accessTokenSecret)\n",
    "api = tweepy.API(auth)\n",
    "\n",
    "# Keep track of object target\n",
    "try:\n",
    "    with shelve.open(\"shelve/graph_shelve\") as sh:\n",
    "        graph = sh['graph']\n",
    "        JSON = sh[\"JSON\"]\n",
    "except KeyError:\n",
    "    graph = Graph()\n",
    "    graph.setOrigin(api, username)\n",
    "    graph.nodes.update(graph.origin.listSearch(api))\n",
    "    JSON = {}\n",
    "    "
   ]
  },
  {
   "cell_type": "markdown",
   "metadata": {},
   "source": [
    "## Save Graph"
   ]
  },
  {
   "cell_type": "code",
   "execution_count": null,
   "metadata": {},
   "outputs": [],
   "source": [
    "with shelve.open(\"shelve/target_shelve\") as sh:\n",
    "    saveJSON(JSON, graph)\n",
    "    sh['JSON'] = JSON\n",
    "    sh['graph'] = graph"
   ]
  },
  {
   "cell_type": "markdown",
   "metadata": {},
   "source": [
    "## Save to data JSON"
   ]
  },
  {
   "cell_type": "code",
   "execution_count": 60,
   "metadata": {
    "collapsed": true,
    "jupyter": {
     "outputs_hidden": true
    }
   },
   "outputs": [
    {
     "name": "stdin",
     "output_type": "stream",
     "text": [
      "Save data? (y/n)  y\n"
     ]
    }
   ],
   "source": [
    "if input(\"Save data? (y/n) \") == \"y\":\n",
    "    with open(\"../data/data.json\", \"w\") as data:\n",
    "        data.write(\"data = \")\n",
    "        json.dump(JSON, data, indent=8)"
   ]
  }
 ],
 "metadata": {
  "kernelspec": {
   "display_name": "Python 3",
   "language": "python",
   "name": "python3"
  },
  "language_info": {
   "codemirror_mode": {
    "name": "ipython",
    "version": 3
   },
   "file_extension": ".py",
   "mimetype": "text/x-python",
   "name": "python",
   "nbconvert_exporter": "python",
   "pygments_lexer": "ipython3",
   "version": "3.6.0"
  }
 },
 "nbformat": 4,
 "nbformat_minor": 4
}
